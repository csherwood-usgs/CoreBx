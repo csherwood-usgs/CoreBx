{
 "cells": [
  {
   "cell_type": "code",
   "execution_count": 16,
   "metadata": {},
   "outputs": [
    {
     "name": "stdout",
     "output_type": "stream",
     "text": [
      "sigma_rs = 0.000077\n",
      "sigma_sc = 0.000000\n",
      "sigma_sys = 0.060000\n",
      "fractional uncertainty = 0.060000\n"
     ]
    }
   ],
   "source": [
    "### Uncertainty calculations\n",
    "import numpy as np\n",
    "import matplotlib.pyplot as plt\n",
    "\n",
    "%matplotlib inline\n",
    "\n",
    "\n",
    "# Uncorrelated random error\n",
    "L2 = 34000.*200. # approximate area\n",
    "n = L2 # 1-m grid\n",
    "sigma_rms = 0.2\n",
    "sigma_rs = sigma_rms/np.sqrt(n)\n",
    "\n",
    "\n",
    "# spatially correlated data\n",
    "sigma_sill= 0.19\n",
    "r = 100\n",
    "sigma_sc = (sigma_sill/np.sqrt(n)) * np.sqrt(np.pi*r/(5*L2))\n",
    "\n",
    "\n",
    "# systematic error\n",
    "sigma_sys = 0.06\n",
    "\n",
    "\n",
    "# total error\n",
    "sigma_tot = np.sqrt( sigma_rs**2. + sigma_sc**2. + sigma_sys**2.)\n",
    "\n",
    "# average elevation change\n",
    "delz = 1.\n",
    "\n",
    "# fractional volume change\n",
    "delv = n*L2*delz\n",
    "sigma_vtot = n*L2*sigma_tot\n",
    "frac = sigma_vtot/delv\n",
    "\n",
    "print(\"sigma_rs = {:02f}\".format(sigma_rs))\n",
    "print(\"sigma_sc = {:02f}\".format(sigma_sc))\n",
    "print(\"sigma_sys = {:02f}\".format(sigma_sys))\n",
    "print(\"fractional uncertainty = {:02f}\".format(frac))"
   ]
  }
 ],
 "metadata": {
  "kernelspec": {
   "display_name": "Python 3",
   "language": "python",
   "name": "python3"
  },
  "language_info": {
   "codemirror_mode": {
    "name": "ipython",
    "version": 3
   },
   "file_extension": ".py",
   "mimetype": "text/x-python",
   "name": "python",
   "nbconvert_exporter": "python",
   "pygments_lexer": "ipython3",
   "version": "3.7.6"
  }
 },
 "nbformat": 4,
 "nbformat_minor": 4
}
