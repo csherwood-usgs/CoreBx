{
 "cells": [
  {
   "cell_type": "code",
   "execution_count": 1,
   "metadata": {},
   "outputs": [
    {
     "name": "stdout",
     "output_type": "stream",
     "text": [
      "[0.0, 0.125, 0.3125, 0.5625, 0.6875, 0.875, 1.0]\n",
      "[[0.10980392156862745, 0.4235294117647059, 0.07450980392156863, 1.0], [0.37254901960784315, 0.6941176470588235, 0.15294117647058825, 1.0], [1.0, 1.0, 0.8235294117647058, 1.0], [1.0, 0.7686274509803922, 0.5333333333333333, 1.0], [0.592156862745098, 0.0, 0.592156862745098, 1.0], [0.7529411764705882, 0.7529411764705882, 0.7529411764705882, 1.0], [1.0, 1.0, 1.0, 1.0]]\n"
     ]
    }
   ],
   "source": [
    "# Try to convert a Surfer .clr to a Matplotlib colormap\n",
    "\n",
    "# https://matplotlib.org/tutorials/colors/colormap-manipulation.html\n",
    "\n",
    "import numpy as np\n",
    "import matplotlib.pyplot as plt\n",
    "from matplotlib import cm\n",
    "from matplotlib.colors import ListedColormap, LinearSegmentedColormap\n",
    "\n",
    "# Contents of NorthCore_ElevationShader_v2.clr:\n",
    "# ColorMap 1 1\n",
    "# -1.000000 28 108 19\n",
    "# 0.000000 95 177 39\n",
    "# 1.500000 255 255 210\n",
    "# 3.000000 255 196 136\n",
    "# 4.500000 151 0 151\n",
    "# 6.000000 192 192 192\n",
    "# 7.000000 255 255 255\n",
    "\n",
    "nodes = [-1., 0., 1.5, 3.5, 4.5, 6., 7.]\n",
    "nodes = ((np.array(nodes) + 1. )/8.)\n",
    "nodes = nodes.tolist()\n",
    "colors = [  [ 28., 108.,  19., 255.], \\\n",
    "            [ 95., 177.,  39., 255.], \\\n",
    "            [255., 255., 210., 255.], \\\n",
    "            [255., 196., 136., 255.], \\\n",
    "            [151.,   0., 151., 255.], \\\n",
    "            [192., 192., 192., 255.], \\\n",
    "            [255., 255., 255., 255.]]\n",
    "colors = np.array(colors)/255.\n",
    "colors = colors.tolist()\n",
    "print(nodes)\n",
    "print(colors)\n",
    "cmap_ncb = LinearSegmentedColormap.from_list(\"mycmap\", list(zip(nodes, colors)))"
   ]
  },
  {
   "cell_type": "code",
   "execution_count": 2,
   "metadata": {},
   "outputs": [],
   "source": [
    "def plot_examples(colormaps):\n",
    "    \"\"\"\n",
    "    Helper function to plot data with associated colormap.\n",
    "    \"\"\"\n",
    "    np.random.seed(19680801)\n",
    "    data = (np.random.randn(30, 30)+2.)*1.2\n",
    "    n = len(colormaps)\n",
    "    fig, axs = plt.subplots(1, n, figsize=(n * 2 + 2, 3),\n",
    "                            constrained_layout=True, squeeze=False)\n",
    "    for [ax, cmap] in zip(axs.flat, colormaps):\n",
    "        psm = ax.pcolormesh(data, cmap=cmap, rasterized=True, vmin=-1, vmax=7)\n",
    "        fig.colorbar(psm, ax=ax)\n",
    "    plt.show()"
   ]
  },
  {
   "cell_type": "code",
   "execution_count": 3,
   "metadata": {},
   "outputs": [
    {
     "data": {
      "image/png": "[encoded data removed]",
      "text/plain": [
       "<Figure size 288x216 with 2 Axes>"
      ]
     },
     "metadata": {
      "needs_background": "light"
     },
     "output_type": "display_data"
    }
   ],
   "source": [
    "plot_examples([cmap_ncb])"
   ]
  },
  {
   "cell_type": "code",
   "execution_count": 5,
   "metadata": {},
   "outputs": [],
   "source": [
    "import pickle\n",
    "fp = open('cmap_ncb.pkl', 'wb')\n",
    "pickle.dump(cmap_ncb, fp)\n",
    "fp.close()\n",
    "\n",
    "# to read this back in:\n",
    "# import pickle\n",
    "# fp = open('cmap_ncb.pkl', 'rb')\n",
    "# cmap_ncb = pickle.load(fp)\n",
    "# fp.close()"
   ]
  }
 ],
 "metadata": {
  "kernelspec": {
   "display_name": "Python 3",
   "language": "python",
   "name": "python3"
  },
  "language_info": {
   "codemirror_mode": {
    "name": "ipython",
    "version": 3
   },
   "file_extension": ".py",
   "mimetype": "text/x-python",
   "name": "python",
   "nbconvert_exporter": "python",
   "pygments_lexer": "ipython3",
   "version": "3.7.6"
  }
 },
 "nbformat": 4,
 "nbformat_minor": 4
}
