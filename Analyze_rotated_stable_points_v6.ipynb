{
 "cells": [
  {
   "cell_type": "markdown",
   "metadata": {},
   "source": [
    "### Analyze_rotated_stable_points - evaluate bias in rotated DEMs using selected unchanged points\n",
    "\n",
    "These points were picked on hopefully stable points in mostly flat places: docks, lawns, bare spots in middens. Also, the yurt roofs. Typically, 3 to 5 points were picked on most features. "
   ]
  },
  {
   "cell_type": "code",
   "execution_count": 1,
   "metadata": {},
   "outputs": [],
   "source": [
    "import pandas as pd\n",
    "import numpy as np\n",
    "import xarray as xr\n",
    "\n",
    "from CoreBx_funcs import *\n",
    "\n",
    "import matplotlib.pyplot as plt\n",
    "%matplotlib inline"
   ]
  },
  {
   "cell_type": "code",
   "execution_count": 2,
   "metadata": {},
   "outputs": [],
   "source": [
    "# define some functions\n",
    "def pcoord(x, y):\n",
    "    \"\"\"\n",
    "    Convert x, y to polar coordinates r, az (geographic convention)\n",
    "    r,az = pcoord(x, y)\n",
    "    \"\"\"\n",
    "    r  = np.sqrt( x**2 + y**2 )\n",
    "    az=np.degrees( np.arctan2(x, y) )\n",
    "    # az[where(az<0.)[0]] += 360.\n",
    "    az = (az+360.)%360.\n",
    "    return r, az\n",
    "\n",
    "def xycoord(r, az):\n",
    "    \"\"\"\n",
    "    Convert r, az [degrees, geographic convention] to rectangular coordinates\n",
    "    x,y = xycoord(r, az)\n",
    "    \"\"\"\n",
    "    x = r * np.sin(np.radians(az))\n",
    "    y = r * np.cos(np.radians(az))\n",
    "    return x, y\n",
    "\n",
    "def box2UTMh(x, y, x0, y0, theta):\n",
    "    '''\n",
    "    2D rotation and translation of x, y\n",
    "    Input:\n",
    "        x, y - row vectors of original coordinates (must be same size)\n",
    "        x0, y0 - Offset (location of x, y = (0,0) in new coordinate system)\n",
    "        theta - Angle of rotation (degrees, CCW from x-axis == Cartesian coorinates)\n",
    "    Returns:\n",
    "        xr, yr - rotated, offset coordinates\n",
    "    '''\n",
    "    thetar = np.radians(theta)\n",
    "    c, s = np.cos(thetar), np.sin(thetar)\n",
    "\n",
    "    # homogenous rotation matrix\n",
    "    Rh = np.array(((c, -s,  0.),\\\n",
    "                   (s,  c,  0.),\\\n",
    "                   (0., 0., 1.)))\n",
    "    # homogenous translation matrix\n",
    "    Th = np.array(((1., 0., x0),\\\n",
    "                   (0., 1., y0),\\\n",
    "                   (0., 0., 1.)))\n",
    "\n",
    "    # homogenous input x,y\n",
    "    xyh = np.vstack((x,y,np.ones_like(x)))\n",
    "\n",
    "    # perform rotation and translation\n",
    "    xyrh=np.matmul(np.matmul(Th,Rh),xyh)\n",
    "    xr = xyrh[0,:]\n",
    "    yr = xyrh[1,:]\n",
    "    return xr, yr"
   ]
  },
  {
   "cell_type": "code",
   "execution_count": 16,
   "metadata": {},
   "outputs": [
    {
     "name": "stdout",
     "output_type": "stream",
     "text": [
      "[378489.457] [3855740.501]\n",
      "[2861266.46086384] [2612114.72183892]\n",
      "[array([0.])] [array([0.])]\n"
     ]
    }
   ],
   "source": [
    "# coordinates for the whole-island box.\n",
    "\n",
    "r={'name': 'ncorebx_refac', 'e0': 378490., 'n0': 3855740., 'xlen': 36500.0, 'ylen': 1500.0, 'dxdy': 1.0, 'theta': 42.0}\n",
    "\n",
    "# Convert origin to UTM\n",
    "xu,yu = box2UTMh(0.,0.,r['e0'],r['n0'],r['theta'])\n",
    "print(xu,yu)\n",
    "\n",
    "# reverse the calc to find the origin (UTM =0,0) in box coordinates.\n",
    "# First, just do the rotation to see where Box = 0,0 falls\n",
    "xb0,yb0 = box2UTMh(xu,yu,0.,0.,-r['theta'])\n",
    "print(xb0,yb0)\n",
    "# Then put in negative values for the offset\n",
    "xb,yb = box2UTMh(xu,yu,-xb0,-yb0,-r['theta'])\n",
    "print(xb,yb)"
   ]
  },
  {
   "cell_type": "code",
   "execution_count": 17,
   "metadata": {},
   "outputs": [],
   "source": [
    "# Read in the list of stable points. Elevations were picked from the DEMs with Global Mapper. Elevations for Sep are from\n",
    "# the old _crop version of the DEM.... .nc version read in below is from the newer _v3 version.\n",
    "df=pd.read_csv(\"C:\\\\crs\\\\proj\\\\2019_DorianOBX\\\\Santa_Cruz_Products\\\\stable_points\\\\All_points.csv\",header = 0)\n",
    "\n",
    "# convert UTM X, Y to rotated coords xrl, yrl\n",
    "X = df[\"X\"].values\n",
    "Y = df[\"Y\"].values\n",
    "#TODO: why does this return a list of arrays?\n",
    "xrl,yrl = box2UTMh(X,Y,-xb0,-yb0,-r['theta'])\n",
    "# this fixes it...probably should fix box2UTMh\n",
    "xrot = np.concatenate(xrl).ravel()\n",
    "yrot = np.concatenate(yrl).ravel()\n",
    "\n",
    "df[\"xr\"] = xrot\n",
    "df[\"yr\"] = yrot"
   ]
  },
  {
   "cell_type": "code",
   "execution_count": 18,
   "metadata": {},
   "outputs": [
    {
     "name": "stdout",
     "output_type": "stream",
     "text": [
      "nmaps, ncross, nalong:  9 1500 36650\n"
     ]
    }
   ],
   "source": [
    "# read in the multi-map .nc file\n",
    "\n",
    "# Dates for DEMs\n",
    "dates = ([\\\n",
    "         \"2018-08-30\",\\\n",
    "         \"2019-09-12\",\\\n",
    "         \"2019-10-11\",\\\n",
    "         \"2019-11-26\",\\\n",
    "         \"2020-02-09\",\\\n",
    "         \"2020-04-09\",\\\n",
    "         \"2020-08-05\",\\\n",
    "         \"2020-08-09\",\\\n",
    "         \"2020-09-28\",\\\n",
    "         \"2021-05-30\"])\n",
    "titles = ([\\\n",
    "#         \"Oct 6 2018 post-Florence\"\\\n",
    "         \"Aug 30 2019 pre-Dorian\",\\\n",
    "         \"Sep 12-13 2019 post-Dorian\",\\\n",
    "         \"Oct 11 2019 lidar merge\",\\\n",
    "         \"Nov 26 2019 post-Nor'easter\",\\\n",
    "         \"Feb 8-9 2020\",\\\n",
    "         \"May 8-9 2020\",\\\n",
    "         \"Aug 2 2020 pre-Isaias\",\\\n",
    "         \"Aug 5-9 2020 post-Isaias\",\\\n",
    "         \"Sep 28 2020 post-Teddy\",\\\n",
    "         \"May 30 2021\"])\n",
    "\n",
    "\n",
    "\n",
    "# ALERT - change this line to offset final results or not\n",
    "#offset = np.array([-0.022233, 0.002373, 0.004543, 0.015317])\n",
    "offset = np.array([0., 0., 0., 0., 0., 0., 0., 0., 0])\n",
    "\n",
    "fn = r['name']+'.nc'\n",
    "dsa = xr.open_dataset(fn)\n",
    "dsaa = np.squeeze(dsa.to_array())\n",
    "nmaps,ncross,nalong=np.shape(dsaa)\n",
    "print('nmaps, ncross, nalong: ',nmaps,ncross,nalong)\n",
    "\n",
    "# Correct for uniform offsets\n",
    "for i in range(0,nmaps):\n",
    "    dsaa[i,:,:] = dsaa[i,:,:] + offset[i]    "
   ]
  },
  {
   "cell_type": "code",
   "execution_count": 25,
   "metadata": {},
   "outputs": [],
   "source": [
    "# Use rotated coordinates as indices into the maps to get elevations.\n",
    "ix = df[\"xr\"].values.astype(np.int64)\n",
    "iy = df[\"yr\"].values.astype(np.int64)\n",
    "nx = len(ix)\n",
    "zr = np.ones((nx,nmaps))\n",
    "for j in range(0, nmaps):\n",
    "    for i in range(0, nx):\n",
    "        zr[i,j] = dsaa[j,iy[i],ix[i]].values\n"
   ]
  },
  {
   "cell_type": "code",
   "execution_count": 46,
   "metadata": {},
   "outputs": [],
   "source": [
    "zr[np.abs(zr)>10]=np.nan"
   ]
  },
  {
   "cell_type": "code",
   "execution_count": 47,
   "metadata": {},
   "outputs": [],
   "source": [
    "anom = np.nan*np.ones_like(zr)\n",
    "for i in range(0,nx):\n",
    "    anom[i,:]=zr[i,:]-np.mean(zr[i,:])"
   ]
  },
  {
   "cell_type": "code",
   "execution_count": 71,
   "metadata": {},
   "outputs": [
    {
     "name": "stdout",
     "output_type": "stream",
     "text": [
      "(44, 9)\n"
     ]
    }
   ],
   "source": [
    "anom = anom[np.where(~np.isnan(anom))].reshape((nx-9,9))\n",
    "print(np.shape(anom))"
   ]
  },
  {
   "cell_type": "code",
   "execution_count": 72,
   "metadata": {},
   "outputs": [
    {
     "data": {
      "text/plain": [
       "array([ 0.11614345,  0.09069495,  0.06901188,  0.07387553, -0.12387822,\n",
       "       -0.11202377, -0.00808444, -0.07805204, -0.02768733])"
      ]
     },
     "execution_count": 72,
     "metadata": {},
     "output_type": "execute_result"
    }
   ],
   "source": [
    "mean_anom = np.mean(anom,0)\n",
    "std_anom = np.std(anom,0)\n",
    "mean_anom"
   ]
  },
  {
   "cell_type": "code",
   "execution_count": 59,
   "metadata": {},
   "outputs": [
    {
     "data": {
      "image/png": "[encoded data removed]",
      "text/plain": [
       "<Figure size 432x288 with 1 Axes>"
      ]
     },
     "metadata": {
      "needs_background": "light"
     },
     "output_type": "display_data"
    }
   ],
   "source": [
    "ixa = np.tile(ix,(nmaps,1)).T\n",
    "for i in range(0,nx):\n",
    "    plt.scatter(ixa[i,:],anom[i,:],s=18,c=['#1f77b4', '#ff7f0e', '#2ca02c', '#d62728', '#9467bd', '#8c564b', '#e377c2', '#7f7f7f', '#bcbd22'])\n"
   ]
  },
  {
   "cell_type": "code",
   "execution_count": 66,
   "metadata": {},
   "outputs": [
    {
     "data": {
      "text/plain": [
       "array([9, 9, 9, 9, 9, 9, 9, 9, 9])"
      ]
     },
     "execution_count": 66,
     "metadata": {},
     "output_type": "execute_result"
    }
   ],
   "source": [
    "sum(np.isnan(anom))"
   ]
  },
  {
   "cell_type": "code",
   "execution_count": 67,
   "metadata": {},
   "outputs": [
    {
     "data": {
      "text/plain": [
       "array([[ 2.61139599e-02,  2.50149418e-02,  3.14014228e-02,\n",
       "         7.47233007e-02, -3.99061544e-02, -1.12279782e-01,\n",
       "         4.54215581e-02, -5.76024315e-02,  7.11318447e-03],\n",
       "       [ 6.73258115e-02,  1.02211405e-02,  2.26573661e-02,\n",
       "         1.24664849e-01, -4.03304236e-02, -1.15419005e-01,\n",
       "         2.30199273e-03, -6.53209285e-02, -6.10080221e-03],\n",
       "       [ 3.92350855e-02,  2.19343296e-02,  4.58599082e-02,\n",
       "         1.26931582e-01, -9.11582218e-02, -1.40083094e-01,\n",
       "         1.87073780e-02, -4.02008281e-02,  1.87738604e-02],\n",
       "       [ 2.90285366e-02,  3.21590273e-02,  7.43730949e-02,\n",
       "         1.03259130e-01, -4.83854418e-02, -1.58018774e-01,\n",
       "         1.24455688e-02, -4.50036455e-02,  1.42503541e-04],\n",
       "       [ 4.07426942e-02,  9.46448104e-03,  5.12034981e-02,\n",
       "         1.31985676e-01, -9.84958577e-02, -1.52224724e-01,\n",
       "         2.15606877e-02, -1.70491646e-02,  1.28127094e-02],\n",
       "       [ 3.50413317e-02, -3.60299166e-02,  5.54777244e-02,\n",
       "         1.04688029e-01, -4.67771957e-03, -1.51350554e-01,\n",
       "         3.63925441e-02, -4.67232012e-02,  7.18176202e-03],\n",
       "       [ 4.41356195e-02, -2.62099411e-02,  4.14226674e-02,\n",
       "         9.75393984e-02, -6.90861764e-03, -1.77409559e-01,\n",
       "         5.15518815e-02, -2.16318402e-02, -2.48960860e-03],\n",
       "       [ 3.50413317e-02, -3.60299166e-02,  5.54777244e-02,\n",
       "         1.04688029e-01, -4.67771957e-03, -1.51350554e-01,\n",
       "         3.63925441e-02, -4.67232012e-02,  7.18176202e-03],\n",
       "       [            nan,             nan,             nan,\n",
       "                    nan,             nan,             nan,\n",
       "                    nan,             nan,             nan],\n",
       "       [            nan,             nan,             nan,\n",
       "                    nan,             nan,             nan,\n",
       "                    nan,             nan,             nan],\n",
       "       [            nan,             nan,             nan,\n",
       "                    nan,             nan,             nan,\n",
       "                    nan,             nan,             nan],\n",
       "       [            nan,             nan,             nan,\n",
       "                    nan,             nan,             nan,\n",
       "                    nan,             nan,             nan],\n",
       "       [            nan,             nan,             nan,\n",
       "                    nan,             nan,             nan,\n",
       "                    nan,             nan,             nan],\n",
       "       [            nan,             nan,             nan,\n",
       "                    nan,             nan,             nan,\n",
       "                    nan,             nan,             nan],\n",
       "       [            nan,             nan,             nan,\n",
       "                    nan,             nan,             nan,\n",
       "                    nan,             nan,             nan],\n",
       "       [ 4.47623868e-03,  3.93565370e-02,  5.69018155e-02,\n",
       "         2.79760054e-01, -1.27393297e-01, -1.49134013e-01,\n",
       "        -3.21982803e-02, -4.98194355e-02, -2.19496185e-02],\n",
       "       [ 8.54478629e-02,  2.79314578e-02,  2.88572024e-02,\n",
       "         3.23793361e-01, -1.72240327e-01, -1.39152683e-01,\n",
       "        -3.78876870e-02, -1.03234749e-01, -1.35144382e-02],\n",
       "       [ 1.17553578e-01,  3.53238492e-02,  1.22235863e-01,\n",
       "         7.62304954e-02, -2.93041645e-01, -4.52950807e-02,\n",
       "         9.78715307e-03, -2.89312910e-02,  6.13707801e-03],\n",
       "       [ 1.45361956e-01,  8.62823165e-02,  7.92994317e-02,\n",
       "         1.00731925e-01, -3.24196423e-01, -1.10615666e-01,\n",
       "         3.62639604e-02, -3.88195275e-02,  2.56920276e-02],\n",
       "       [ 1.60247258e-01,  7.01627771e-02,  1.11900353e-01,\n",
       "         6.66133410e-02, -2.93292312e-01, -1.19976840e-01,\n",
       "         3.22085325e-02, -3.18688147e-02,  4.00570536e-03],\n",
       "       [ 2.13086511e-01,  6.41643601e-02,  4.02084997e-02,\n",
       "         8.41468313e-02, -2.62348979e-01, -1.01260459e-01,\n",
       "         2.43776609e-02, -6.58304759e-02,  3.45605091e-03],\n",
       "       [ 2.24149181e-01,  1.54306953e-01, -3.97510091e-02,\n",
       "        -3.79979031e-02, -8.21899148e-02, -1.35132872e-01,\n",
       "         3.03019800e-03, -2.68584078e-02, -5.95562245e-02],\n",
       "       [ 2.24149181e-01,  1.54306953e-01, -3.97510091e-02,\n",
       "        -3.79979031e-02, -8.21899148e-02, -1.35132872e-01,\n",
       "         3.03019800e-03, -2.68584078e-02, -5.95562245e-02],\n",
       "       [ 1.42634918e-01,  1.14772617e-01, -4.07297201e-03,\n",
       "        -4.43839074e-02, -8.86322071e-02, -1.40979827e-01,\n",
       "         1.76129592e-02, -4.85736225e-04,  3.53415517e-03],\n",
       "       [ 1.15443540e-01,  1.40170079e-01,  4.07352958e-02,\n",
       "         3.96615580e-02, -1.89833037e-01, -4.66259005e-03,\n",
       "        -2.22446083e-02, -6.40412920e-02, -5.52289457e-02],\n",
       "       [ 1.69920146e-01,  1.97172944e-01,  1.40120377e-02,\n",
       "         3.54107245e-02, -2.01109742e-01, -2.55585555e-02,\n",
       "        -1.60769903e-02, -1.13474648e-01, -6.02959166e-02],\n",
       "       [ 1.49428988e-01,  1.53422166e-01,  3.12514679e-02,\n",
       "         9.99481441e-02, -1.79494994e-01, -1.77257345e-01,\n",
       "         3.32791358e-02, -9.09888731e-02, -1.95886900e-02],\n",
       "       [ 1.40545749e-01,  1.31624667e-01,  3.33270686e-02,\n",
       "         6.07345753e-02, -7.69876277e-02, -1.61058442e-01,\n",
       "         1.22523678e-02, -1.15152517e-01, -2.52858419e-02],\n",
       "       [ 1.53980024e-01,  1.45622870e-01,  3.49319858e-02,\n",
       "         9.93306144e-03, -1.54862656e-01, -1.32480631e-01,\n",
       "         5.56179232e-02, -1.10430489e-01, -2.31208925e-03],\n",
       "       [ 2.06970635e-01,  9.48983837e-02,  4.18087329e-02,\n",
       "        -3.21100837e-03, -8.90084865e-02, -1.39475559e-01,\n",
       "        -7.21711939e-03, -9.88778056e-02, -5.88777292e-03],\n",
       "       [ 3.05127582e-01,  4.49056334e-02,  8.06255416e-02,\n",
       "         1.41391352e-01, -1.27558115e-01, -9.27060133e-02,\n",
       "        -8.96513683e-02, -1.94663074e-01, -6.74715376e-02],\n",
       "       [ 1.69585212e-01,  4.11850080e-02,  9.85708669e-02,\n",
       "         6.35463624e-02, -8.03358462e-02, -2.48151080e-02,\n",
       "        -4.37237944e-02, -1.40197492e-01, -8.38152092e-02],\n",
       "       [ 1.34009379e-01,  4.93629965e-02,  8.76945835e-02,\n",
       "         8.80067874e-02, -1.34750389e-01, -3.67049889e-02,\n",
       "        -5.04607289e-02, -7.19337335e-02, -6.52239061e-02],\n",
       "       [ 7.90613727e-02,  1.77679255e-01,  8.62135400e-02,\n",
       "        -5.38176945e-02, -3.46325451e-02, -8.07394516e-02,\n",
       "         1.62160877e-02, -1.56330479e-01, -3.36500848e-02],\n",
       "       [ 1.32976458e-01,  1.79500259e-01,  6.39398128e-02,\n",
       "        -8.02204577e-03, -1.27726060e-01, -7.18082784e-02,\n",
       "         8.24044203e-03, -1.26319157e-01, -5.07814309e-02],\n",
       "       [ 1.05262560e-01,  8.58932165e-02,  1.09463958e-01,\n",
       "         7.87076250e-02, -6.78443483e-02, -7.80123752e-02,\n",
       "         1.25282238e-02, -1.75914524e-01, -7.00843363e-02],\n",
       "       [ 1.03907976e-01,  1.54455197e-01,  2.78130138e-02,\n",
       "         5.40280606e-02, -8.17137014e-02, -7.83071090e-02,\n",
       "        -1.30888006e-02, -1.04780235e-01, -6.23144014e-02],\n",
       "       [ 9.85408165e-03,  1.37416837e-01,  6.77427830e-02,\n",
       "         5.12904862e-02, -1.04663141e-01, -2.06949947e-02,\n",
       "         9.24126800e-03, -1.05125327e-01, -4.50619936e-02],\n",
       "       [ 1.75208540e-01,  1.04503924e-01,  8.49175795e-02,\n",
       "         7.43481463e-03, -7.72951039e-02, -1.57657861e-01,\n",
       "        -3.98910487e-02, -1.80406573e-01,  8.31857293e-02],\n",
       "       [ 1.44607733e-01,  1.34375540e-01,  1.10389391e-01,\n",
       "         2.53140778e-02, -2.25836334e-01, -1.00351338e-01,\n",
       "        -1.49009155e-02, -1.64122111e-01,  9.05239572e-02],\n",
       "       [ 1.65233847e-01,  1.44386810e-01,  1.30045565e-01,\n",
       "         2.88870335e-02, -2.84322137e-01, -1.17408482e-01,\n",
       "         1.28617608e-02, -1.45503387e-01,  6.58189887e-02],\n",
       "       [            nan,             nan,             nan,\n",
       "                    nan,             nan,             nan,\n",
       "                    nan,             nan,             nan],\n",
       "       [ 1.55179738e-01,  2.33079107e-01,  9.35928966e-02,\n",
       "         1.09971210e-01, -1.00981878e-01, -1.17435274e-01,\n",
       "        -8.31831633e-02, -1.02804793e-01, -1.87417844e-01],\n",
       "       [            nan,             nan,             nan,\n",
       "                    nan,             nan,             nan,\n",
       "                    nan,             nan,             nan],\n",
       "       [ 1.52094947e-02, -1.78055089e-02,  4.25979380e-02,\n",
       "         3.93508531e-02,  4.87186395e-02,  7.26085518e-04,\n",
       "        -1.76894098e-02,  1.71376320e-02, -1.28245724e-01],\n",
       "       [ 1.09274187e-01,  1.26451869e-01,  1.90903901e-01,\n",
       "         1.81947424e-01, -1.78588278e-01, -1.61466695e-01,\n",
       "        -6.28536062e-02, -1.56345507e-01, -4.93232952e-02],\n",
       "       [ 7.01698682e-02,  1.34055102e-01,  1.25398710e-01,\n",
       "         1.57510006e-01, -2.18444310e-01, -1.19792432e-01,\n",
       "        -2.23168076e-02, -9.62305216e-02, -3.03496159e-02],\n",
       "       [ 9.51216929e-02,  4.09806623e-02,  1.81326842e-01,\n",
       "         1.86147306e-01, -2.07554312e-01, -6.08035519e-02,\n",
       "        -9.68885686e-02, -5.29723085e-03, -1.33032840e-01],\n",
       "       [ 9.88905085e-02,  8.88695692e-02,  8.79325711e-02,\n",
       "         6.40482179e-02, -1.35635254e-01, -1.19578824e-01,\n",
       "        -1.19064839e-02,  1.01395782e-02, -8.27598826e-02],\n",
       "       [ 9.77415515e-02,  7.59813088e-02,  1.21350938e-01,\n",
       "         6.00175786e-02, -1.16780054e-01, -1.29067210e-01,\n",
       "        -3.53207291e-02, -5.47816703e-02, -1.91417132e-02],\n",
       "       [ 1.15438272e-01,  2.32645987e-01,  1.09182645e-01,\n",
       "         1.50269781e-02, -2.32255624e-02, -2.02416069e-01,\n",
       "        -9.46782207e-02, -1.11228649e-01, -4.07453800e-02],\n",
       "       [ 1.51149791e-01,  8.24968013e-02,  1.44916221e-01,\n",
       "         2.37315603e-02, -1.04329539e-01, -1.19717039e-01,\n",
       "        -6.50451299e-02, -5.74361236e-02, -5.57665423e-02],\n",
       "       [ 1.07241628e-01,  1.30115163e-01,  6.21353802e-02,\n",
       "         1.41517843e-02, -1.15781823e-01, -1.64979481e-01,\n",
       "        -9.81394992e-03, -6.21872824e-03, -1.68499740e-02]])"
      ]
     },
     "execution_count": 67,
     "metadata": {},
     "output_type": "execute_result"
    }
   ],
   "source": [
    "anom"
   ]
  },
  {
   "cell_type": "code",
   "execution_count": 9,
   "metadata": {},
   "outputs": [],
   "source": [
    "# looks like three points are outside the domain. Drop them from the dataframe\n",
    "dfc = df[df['zr Sep']>-10.].reset_index(drop=True)\n",
    "\n",
    "# Calculate the average for each row for the four maps (don't average in the lidar)\n",
    "col = dfc.loc[: , \"zr Aug\":\"zr Nov\"]\n",
    "dfc['mean']=col.mean(axis=1)\n",
    "\n",
    "# Calculate the anomoly for each point\n",
    "dfc['gnd50 anom']=dfc['lidar_gnd50']-dfc['mean']\n",
    "dfc['all90 anom']=dfc['lidar all90']-dfc['mean']\n",
    "dfc['first50 anom']=dfc['lidar_first50']-dfc['mean']\n",
    "dfc['Aug anom']=dfc['zr Aug']-dfc['mean']\n",
    "dfc['Sep anom']=dfc['zr Sep']-dfc['mean']\n",
    "dfc['Oct anom']=dfc['zr Oct']-dfc['mean']\n",
    "dfc['Nov anom']=dfc['zr Nov']-dfc['mean']"
   ]
  },
  {
   "cell_type": "code",
   "execution_count": 11,
   "metadata": {},
   "outputs": [],
   "source": [
    "df_anom = dfc.loc[:,\"gnd50 anom\":\"Nov anom\"].copy()"
   ]
  },
  {
   "cell_type": "code",
   "execution_count": 12,
   "metadata": {},
   "outputs": [
    {
     "name": "stdout",
     "output_type": "stream",
     "text": [
      "gnd50 anom     -1.279436e-01\n",
      "all90 anom     -4.996364e-02\n",
      "first50 anom    1.387476e+00\n",
      "Aug anom        1.636533e-07\n",
      "Sep anom        4.703386e-08\n",
      "Oct anom        2.423299e-07\n",
      "Nov anom       -4.530171e-07\n",
      "dtype: float64\n",
      "gnd50 anom     -0.118025\n",
      "all90 anom     -0.064360\n",
      "first50 anom    1.371008\n",
      "Aug anom       -0.011187\n",
      "Sep anom       -0.009510\n",
      "Oct anom       -0.006209\n",
      "Nov anom       -0.005499\n",
      "dtype: float64\n",
      "gnd50 anom      0.066254\n",
      "all90 anom      0.140018\n",
      "first50 anom    0.662200\n",
      "Aug anom        0.052332\n",
      "Sep anom        0.059450\n",
      "Oct anom        0.050611\n",
      "Nov anom        0.069708\n",
      "dtype: float64\n",
      "n      = 50.000\n",
      "nnan   = 0.000\n",
      "mean   = 0.000\n",
      "std    = 0.052\n",
      "min    = -0.109\n",
      "max    = 0.123\n",
      "d5     = -0.068\n",
      "d25    = -0.035\n",
      "d50    = -0.011\n",
      "d75    = 0.029\n",
      "d95    = 0.103\n",
      "n      = 50.000\n",
      "nnan   = 0.000\n",
      "mean   = 0.000\n",
      "std    = 0.059\n",
      "min    = -0.111\n",
      "max    = 0.166\n",
      "d5     = -0.074\n",
      "d25    = -0.042\n",
      "d50    = -0.010\n",
      "d75    = 0.045\n",
      "d95    = 0.093\n",
      "n      = 50.000\n",
      "nnan   = 0.000\n",
      "mean   = 0.000\n",
      "std    = 0.050\n",
      "min    = -0.087\n",
      "max    = 0.164\n",
      "d5     = -0.073\n",
      "d25    = -0.024\n",
      "d50    = -0.006\n",
      "d75    = 0.020\n",
      "d95    = 0.102\n",
      "n      = 50.000\n",
      "nnan   = 0.000\n",
      "mean   = -0.000\n",
      "std    = 0.069\n",
      "min    = -0.117\n",
      "max    = 0.216\n",
      "d5     = -0.098\n",
      "d25    = -0.051\n",
      "d50    = -0.005\n",
      "d75    = 0.032\n",
      "d95    = 0.086\n"
     ]
    },
    {
     "data": {
      "text/plain": [
       "{'n': 50,\n",
       " 'nnan': 0,\n",
       " 'mean': -4.5301705128508727e-07,\n",
       " 'std': 0.06900702379004166,\n",
       " 'min': -0.1173504128314653,\n",
       " 'max': 0.2164959765147385,\n",
       " 'd5': -0.0983888535995352,\n",
       " 'd25': -0.05121664919455793,\n",
       " 'd50': -0.005499113679110046,\n",
       " 'd75': 0.03224896785031678,\n",
       " 'd95': 0.08559765719414776}"
      ]
     },
     "execution_count": 12,
     "metadata": {},
     "output_type": "execute_result"
    }
   ],
   "source": [
    "%run -i CoreBx_funcs\n",
    "print(df_anom.mean())\n",
    "print(df_anom.median())\n",
    "print(df_anom.std())\n",
    "\n",
    "stat_summary(df_anom['Aug anom'].values,iprint=True)\n",
    "stat_summary(df_anom['Sep anom'].values,iprint=True)\n",
    "stat_summary(df_anom['Oct anom'].values,iprint=True)\n",
    "stat_summary(df_anom['Nov anom'].values,iprint=True)"
   ]
  },
  {
   "cell_type": "code",
   "execution_count": 13,
   "metadata": {},
   "outputs": [
    {
     "data": {
      "image/png": "[encoded data removed]",
      "text/plain": [
       "<Figure size 360x216 with 1 Axes>"
      ]
     },
     "metadata": {
      "needs_background": "light"
     },
     "output_type": "display_data"
    }
   ],
   "source": [
    "plt.figure(figsize=(5,3))\n",
    "plt.plot(dfc['xr'],dfc['Aug anom'],'o',alpha=.5,label='Aug')\n",
    "plt.plot(dfc['xr'],dfc['Sep anom'],'o',alpha=.5,label='Sep')\n",
    "plt.plot(dfc['xr'],dfc['Oct anom'],'o',alpha=.5,label='Oct')\n",
    "plt.plot(dfc['xr'],dfc['Nov anom'],'o',alpha=.5,label='Nov')\n",
    "plt.legend()\n",
    "plt.ylabel('Anomaly (m)')\n",
    "plt.xlabel('Alongshore Distance (m)')\n",
    "plt.savefig('unchanged_pts_along_anom_adjusted_dems.png',dpi=200,bbox_inches = 'tight')"
   ]
  },
  {
   "cell_type": "code",
   "execution_count": 14,
   "metadata": {},
   "outputs": [
    {
     "data": {
      "image/png": "[encoded data removed]",
      "text/plain": [
       "<Figure size 216x216 with 1 Axes>"
      ]
     },
     "metadata": {
      "needs_background": "light"
     },
     "output_type": "display_data"
    }
   ],
   "source": [
    "plt.figure(figsize=(3,3))\n",
    "plt.plot(dfc['Aug'],dfc['Aug anom'],'o',alpha=.5,label='Aug')\n",
    "plt.plot(dfc['Sep'],dfc['Sep anom'],'o',alpha=.5,label='Sep')\n",
    "plt.plot(dfc['Oct'],dfc['Oct anom'],'o',alpha=.5,label='Oct')\n",
    "plt.plot(dfc['Nov'],dfc['Nov anom'],'o',alpha=.5,label='Nov')\n",
    "plt.legend()\n",
    "plt.ylabel('Anomaly (m)')\n",
    "plt.xlabel('Elevation (m NAVD88)')\n",
    "plt.savefig('unchanged_pts_elev_anom_adjusted_dems.png',bbox_inches = 'tight',dpi=200)"
   ]
  },
  {
   "cell_type": "code",
   "execution_count": 16,
   "metadata": {},
   "outputs": [
    {
     "data": {
      "image/png": "[encoded data removed]",
      "text/plain": [
       "<Figure size 360x288 with 1 Axes>"
      ]
     },
     "metadata": {
      "needs_background": "light"
     },
     "output_type": "display_data"
    }
   ],
   "source": [
    "# boxplot of anomolies\n",
    "fig, ax =plt.subplots(figsize=(5,4))\n",
    "boxprops = dict(linestyle='-', linewidth=3, color='k')\n",
    "medianprops = dict(linestyle='-', linewidth=3, color='k')\n",
    "bp=df_anom.boxplot(figsize=(6,5),grid=True,boxprops=boxprops, medianprops=medianprops)\n",
    "plt.ylabel('Difference from Four-Map Mean (m)')\n",
    "plt.ylim((-0.5,1.5))\n",
    "plt.ylabel('Anomaly (m)')\n",
    "ax.set_xticklabels([\"Gnd50\",\"All90\",\"First50\",\"Aug\",\"Sep\",\"Oct\",\"Nov\"])\n",
    "plt.xlabel('Map')\n",
    "plt.savefig('unchanged_pts_boxplot_adjusted_dems.png',dpi=200,bbox_inches = 'tight')\n",
    "#plt.savefig('offset_corrected_pts_boxplot_adjusted_dems.png',dpi=200,bbox_inches = 'tight')"
   ]
  },
  {
   "cell_type": "code",
   "execution_count": null,
   "metadata": {},
   "outputs": [],
   "source": []
  }
 ],
 "metadata": {
  "kernelspec": {
   "display_name": "Python 3 (ipykernel)",
   "language": "python",
   "name": "python3"
  },
  "language_info": {
   "codemirror_mode": {
    "name": "ipython",
    "version": 3
   },
   "file_extension": ".py",
   "mimetype": "text/x-python",
   "name": "python",
   "nbconvert_exporter": "python",
   "pygments_lexer": "ipython3",
   "version": "3.9.7"
  }
 },
 "nbformat": 4,
 "nbformat_minor": 4
}
