{
 "cells": [
  {
   "cell_type": "markdown",
   "metadata": {},
   "source": [
    "### Tif_read_write - script to check ability to read and save a tif\n",
    "\n",
    "Bottom line: no way to use xarray to write a geotiff. This describes how to process a raster and get it back into a DataArray."
   ]
  },
  {
   "cell_type": "code",
   "execution_count": 1,
   "metadata": {},
   "outputs": [],
   "source": [
    "import numpy as np\n",
    "import matplotlib.pyplot as plt\n",
    "import xarray as xr\n",
    "#from dask.distributed import LocalCluster\n",
    "from scipy import interpolate, signal\n",
    "%matplotlib inline"
   ]
  },
  {
   "cell_type": "code",
   "execution_count": 2,
   "metadata": {},
   "outputs": [],
   "source": [
    "fdir = \"C:/crs/proj/2019_DorianOBX/WayneWright_flights/\"\n",
    "fname = (\"2019-08-30_1m_DEM_v1_crop.tif\")"
   ]
  },
  {
   "cell_type": "code",
   "execution_count": 3,
   "metadata": {},
   "outputs": [
    {
     "name": "stdout",
     "output_type": "stream",
     "text": [
      "C:/crs/proj/2019_DorianOBX/WayneWright_flights/2019-08-30_1m_DEM_v1_crop.tif\n"
     ]
    },
    {
     "data": {
      "text/html": [
       "<pre>&lt;xarray.DataArray (band: 1, y: 22393, x: 25165)&gt;\n",
       "[563519845 values with dtype=float32]\n",
       "Coordinates:\n",
       "  * band     (band) int32 1\n",
       "  * y        (y) float64 3.88e+06 3.88e+06 3.88e+06 ... 3.858e+06 3.858e+06\n",
       "  * x        (x) float64 3.801e+05 3.801e+05 3.801e+05 ... 4.052e+05 4.052e+05\n",
       "Attributes:\n",
       "    transform:      (1.0, 0.0, 380059.3422399781, 0.0, -1.0, 3880457.7811244014)\n",
       "    crs:            +init=epsg:3725\n",
       "    res:            (1.0, 1.0)\n",
       "    is_tiled:       0\n",
       "    nodatavals:     (-32767.0,)\n",
       "    scales:         (1.0,)\n",
       "    offsets:        (0.0,)\n",
       "    units:          (&#x27;metre&#x27;,)\n",
       "    AREA_OR_POINT:  Point</pre>"
      ],
      "text/plain": [
       "<xarray.DataArray (band: 1, y: 22393, x: 25165)>\n",
       "[563519845 values with dtype=float32]\n",
       "Coordinates:\n",
       "  * band     (band) int32 1\n",
       "  * y        (y) float64 3.88e+06 3.88e+06 3.88e+06 ... 3.858e+06 3.858e+06\n",
       "  * x        (x) float64 3.801e+05 3.801e+05 3.801e+05 ... 4.052e+05 4.052e+05\n",
       "Attributes:\n",
       "    transform:      (1.0, 0.0, 380059.3422399781, 0.0, -1.0, 3880457.7811244014)\n",
       "    crs:            +init=epsg:3725\n",
       "    res:            (1.0, 1.0)\n",
       "    is_tiled:       0\n",
       "    nodatavals:     (-32767.0,)\n",
       "    scales:         (1.0,)\n",
       "    offsets:        (0.0,)\n",
       "    units:          ('metre',)\n",
       "    AREA_OR_POINT:  Point"
      ]
     },
     "execution_count": 3,
     "metadata": {},
     "output_type": "execute_result"
    }
   ],
   "source": [
    "fn = fdir+fname\n",
    "print(fn)\n",
    "\n",
    "# open the tif with XArray as a DataArray\n",
    "da = xr.open_rasterio(fn)\n",
    "da"
   ]
  },
  {
   "cell_type": "code",
   "execution_count": 4,
   "metadata": {},
   "outputs": [
    {
     "data": {
      "text/plain": [
       "(1, 22393, 25165)"
      ]
     },
     "execution_count": 4,
     "metadata": {},
     "output_type": "execute_result"
    }
   ],
   "source": [
    "# The dataArray has a singleton value\n",
    "np.shape(da.values)"
   ]
  },
  {
   "cell_type": "code",
   "execution_count": 5,
   "metadata": {},
   "outputs": [
    {
     "name": "stdout",
     "output_type": "stream",
     "text": [
      "Wall time: 1min 13s\n"
     ]
    }
   ],
   "source": [
    "%%time\n",
    "# smooth with 2D running median\n",
    "zs = signal.medfilt2d(np.squeeze(da.values), kernel_size=11)"
   ]
  },
  {
   "cell_type": "code",
   "execution_count": 6,
   "metadata": {},
   "outputs": [
    {
     "data": {
      "text/html": [
       "<pre>&lt;xarray.DataArray (band: 1, y: 22393, x: 25165)&gt;\n",
       "array([[[-32767., -32767., -32767., ..., -32767., -32767., -32767.],\n",
       "        [-32767., -32767., -32767., ..., -32767., -32767., -32767.],\n",
       "        [-32767., -32767., -32767., ..., -32767., -32767., -32767.],\n",
       "        ...,\n",
       "        [-32767., -32767., -32767., ..., -32767., -32767., -32767.],\n",
       "        [-32767., -32767., -32767., ..., -32767., -32767., -32767.],\n",
       "        [-32767., -32767., -32767., ..., -32767., -32767., -32767.]]],\n",
       "      dtype=float32)\n",
       "Coordinates:\n",
       "  * band     (band) int32 1\n",
       "  * y        (y) float64 3.88e+06 3.88e+06 3.88e+06 ... 3.858e+06 3.858e+06\n",
       "  * x        (x) float64 3.801e+05 3.801e+05 3.801e+05 ... 4.052e+05 4.052e+05\n",
       "Attributes:\n",
       "    transform:      (1.0, 0.0, 380059.3422399781, 0.0, -1.0, 3880457.7811244014)\n",
       "    crs:            +init=epsg:3725\n",
       "    res:            (1.0, 1.0)\n",
       "    is_tiled:       0\n",
       "    nodatavals:     (-32767.0,)\n",
       "    scales:         (1.0,)\n",
       "    offsets:        (0.0,)\n",
       "    units:          (&#x27;metre&#x27;,)\n",
       "    AREA_OR_POINT:  Point</pre>"
      ],
      "text/plain": [
       "<xarray.DataArray (band: 1, y: 22393, x: 25165)>\n",
       "array([[[-32767., -32767., -32767., ..., -32767., -32767., -32767.],\n",
       "        [-32767., -32767., -32767., ..., -32767., -32767., -32767.],\n",
       "        [-32767., -32767., -32767., ..., -32767., -32767., -32767.],\n",
       "        ...,\n",
       "        [-32767., -32767., -32767., ..., -32767., -32767., -32767.],\n",
       "        [-32767., -32767., -32767., ..., -32767., -32767., -32767.],\n",
       "        [-32767., -32767., -32767., ..., -32767., -32767., -32767.]]],\n",
       "      dtype=float32)\n",
       "Coordinates:\n",
       "  * band     (band) int32 1\n",
       "  * y        (y) float64 3.88e+06 3.88e+06 3.88e+06 ... 3.858e+06 3.858e+06\n",
       "  * x        (x) float64 3.801e+05 3.801e+05 3.801e+05 ... 4.052e+05 4.052e+05\n",
       "Attributes:\n",
       "    transform:      (1.0, 0.0, 380059.3422399781, 0.0, -1.0, 3880457.7811244014)\n",
       "    crs:            +init=epsg:3725\n",
       "    res:            (1.0, 1.0)\n",
       "    is_tiled:       0\n",
       "    nodatavals:     (-32767.0,)\n",
       "    scales:         (1.0,)\n",
       "    offsets:        (0.0,)\n",
       "    units:          ('metre',)\n",
       "    AREA_OR_POINT:  Point"
      ]
     },
     "execution_count": 6,
     "metadata": {},
     "output_type": "execute_result"
    }
   ],
   "source": [
    "# Simplest way to build new dataArray is to copy the one we loaded\n",
    "da2=da.copy()\n",
    "da2"
   ]
  },
  {
   "cell_type": "code",
   "execution_count": 7,
   "metadata": {},
   "outputs": [],
   "source": [
    "# Have to add the singleton dimension when replaceing the data\n",
    "da2.values[0,:,:]=zs"
   ]
  },
  {
   "cell_type": "code",
   "execution_count": null,
   "metadata": {},
   "outputs": [],
   "source": []
  }
 ],
 "metadata": {
  "kernelspec": {
   "display_name": "Python 3",
   "language": "python",
   "name": "python3"
  },
  "language_info": {
   "codemirror_mode": {
    "name": "ipython",
    "version": 3
   },
   "file_extension": ".py",
   "mimetype": "text/x-python",
   "name": "python",
   "nbconvert_exporter": "python",
   "pygments_lexer": "ipython3",
   "version": "3.7.6"
  }
 },
 "nbformat": 4,
 "nbformat_minor": 2
}
