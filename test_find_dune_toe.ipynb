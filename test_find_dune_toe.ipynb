{
 "cells": [
  {
   "cell_type": "code",
   "execution_count": 1,
   "id": "a933829a",
   "metadata": {},
   "outputs": [],
   "source": [
    "# test_find_dune_toe\n",
    "import pandas as pd\n",
    "import matplotlib.pyplot as plt\n",
    "import numpy as np"
   ]
  },
  {
   "cell_type": "code",
   "execution_count": 17,
   "id": "256d766a",
   "metadata": {},
   "outputs": [],
   "source": [
    "def find_toe(dist,z,s=0.2,ztoe=2.4,izero='offshore',iplot=True):\n",
    "    \"\"\"\n",
    "    Find the toe of the dune using three algorithms:\n",
    "      * Most offshore occurrence of z>=ztoe\n",
    "      * Maximum inflection point\n",
    "      * Longest chord from reference slope to elevations\n",
    "      \n",
    "    Input:\n",
    "      dist = distance along profile (m; no origin necessary)\n",
    "      z = elevation profile (m)\n",
    "      s = slope of reference line (m/m)\n",
    "      ztoe = elevation of fixed dune toe (m)\n",
    "      izero = 'offshore' or 'onshore' - origin of profile\n",
    "      \n",
    "    Returns:\n",
    "      izz - index of toe using fixed elevation method (same as input value; m)\n",
    "      iztoe - index of toe using distance from reference line (m)\n",
    "      izi - index of toe using inflection point (m)\n",
    "      zz - elevation of toe using fixed elevation method (same as input value; m)\n",
    "      ztoe - elevation of toe using distance from reference line (m)\n",
    "      zi - elevation of toe using inflection point (m)\n",
    "      \n",
    "    Note: assumes maximum z == foredune crest. If not, then pass a shortened transect that only include dune and beach\n",
    "    \"\"\"\n",
    "    # initialize return values to NaN\n",
    "    izz = np.nan\n",
    "    iztoe = np.nan\n",
    "    izi = np.nan\n",
    "    zz = np.nan\n",
    "    ztoe = np.nan\n",
    "    zi = np.nan\n",
    "    \n",
    "    # find highest point\n",
    "    izmax = np.argmax(z)\n",
    "    zmax = z[izmax]\n",
    "    dmax = dist[izmax]\n",
    "\n",
    "    # make dist, z, and dz/ddist arrays from that point\n",
    "    db = dist[izmax:-1]-dmax\n",
    "    zb = z[izmax:-1]\n",
    "    dzb = np.array([0])\n",
    "    dzb = np.append(dzb,np.diff(zb)/np.diff(db))\n",
    "\n",
    "    # make a reference line\n",
    "    zr = zmax - s*db\n",
    "    # find greatest vertical diff between ref line and topography\n",
    "    zd = zr-zb\n",
    "    # indices to those points\n",
    "    iztoe = np.argmax(zd)\n",
    "    izi = np.argmin(dzb)\n",
    "\n",
    "    if iplot == True:\n",
    "        fig,ax = plt.subplots(2,1)\n",
    "        ax[0].plot(db,zb)\n",
    "        ax[0].plot(db,zr)\n",
    "        ax[0].plot(db[iztoe],zb[iztoe],'or')\n",
    "        ax[0].plot(db[izi],zb[izi],'ob')\n",
    "        ax[1].plot(db,dzb)\n",
    "        ax[1].plot(db[iztoe],dzb[iztoe],'or')\n",
    "        ax[1].plot(db[izi],dzb[izi],'ob')\n",
    "        \n",
    "    if izero == 'offshore': #transect goes from offshore to onshore\n",
    "        print(izmax,iztoe)\n",
    "        izz = izmax+izz\n",
    "        iztoe = izmax+iztoe\n",
    "        izi = izmax+izi\n",
    "    \n",
    "    else: # transect from onshore to offshore\n",
    "        print(izmax,iztoe)\n",
    "        izz = izmax+izz\n",
    "        iztoe = izmax+iztoe\n",
    "        izi = izmax+izi\n",
    "    \n",
    "    print(dmax,zmax)\n",
    "    \n",
    "    return izz,iztoe,izi,zz,ztoe,zi"
   ]
  },
  {
   "cell_type": "code",
   "execution_count": 22,
   "id": "f5ea9565",
   "metadata": {},
   "outputs": [
    {
     "name": "stdout",
     "output_type": "stream",
     "text": [
      "489 65\n",
      "46.839 4.909\n"
     ]
    },
    {
     "data": {
      "text/plain": [
       "[<matplotlib.lines.Line2D at 0x1e93181e670>]"
      ]
     },
     "execution_count": 22,
     "metadata": {},
     "output_type": "execute_result"
    },
    {
     "data": {
      "image/png": "[encoded data removed]",
      "text/plain": [
       "<Figure size 432x288 with 2 Axes>"
      ]
     },
     "metadata": {
      "needs_background": "light"
     },
     "output_type": "display_data"
    },
    {
     "data": {
      "image/png": "[encoded data removed]",
      "text/plain": [
       "<Figure size 432x288 with 1 Axes>"
      ]
     },
     "metadata": {
      "needs_background": "light"
     },
     "output_type": "display_data"
    }
   ],
   "source": [
    "df = pd.read_csv('test_profile4.csv')\n",
    "\n",
    "dist = df['Distance (Total)'].values\n",
    "z = df['Elevation'].values\n",
    "\n",
    "izz,iztoe,izi,zz,ztoe,zi = find_toe(dist,z,s=0.2,ztoe=2.4,izero='onshore')\n",
    "\n",
    "fig, ax = plt.subplots(1,1)\n",
    "plt.plot(dist,z)\n",
    "plt.plot(dist[iztoe],z[iztoe],'or')\n",
    "plt.plot(dist[izi],z[izi],'ob')"
   ]
  }
 ],
 "metadata": {
  "kernelspec": {
   "display_name": "Python 3 (ipykernel)",
   "language": "python",
   "name": "python3"
  },
  "language_info": {
   "codemirror_mode": {
    "name": "ipython",
    "version": 3
   },
   "file_extension": ".py",
   "mimetype": "text/x-python",
   "name": "python",
   "nbconvert_exporter": "python",
   "pygments_lexer": "ipython3",
   "version": "3.9.7"
  }
 },
 "nbformat": 4,
 "nbformat_minor": 5
}
