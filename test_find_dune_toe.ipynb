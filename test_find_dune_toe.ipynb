{
 "cells": [
  {
   "cell_type": "code",
   "execution_count": 1,
   "id": "b107d102",
   "metadata": {},
   "outputs": [],
   "source": [
    "# test_find_dune_toe\n",
    "import pandas as pd\n",
    "import matplotlib.pyplot as plt\n",
    "import numpy as np\n",
    "import pickle\n",
    "from pybeach.beach import Profile\n",
    "from pybeach.support import data_support as ds\n",
    "from pybeach.support import classifier_support as cs"
   ]
  },
  {
   "cell_type": "code",
   "execution_count": 2,
   "id": "f3c073c4",
   "metadata": {},
   "outputs": [],
   "source": [
    "def find_toe(dist,z,s=0.2,zz=2.4,izero='offshore',iplot=True):\n",
    "    \"\"\"\n",
    "    Find the toe of the dune using three algorithms:\n",
    "      * Most offshore occurrence of z>=ztoe\n",
    "      * Maximum inflection point\n",
    "      * Longest chord from reference slope to elevations\n",
    "      \n",
    "    Input:\n",
    "      dist = distance along profile (m; no origin necessary)\n",
    "      z = elevation profile (m)\n",
    "      s = slope of reference line (m/m)\n",
    "      zz = elevation of fixed dune toe (m)\n",
    "      izero = 'offshore' or 'onshore' - origin of profile: offshore indicates profile distances increase shoreward\n",
    "      \n",
    "    Returns:\n",
    "      izz - index of toe using fixed elevation method (same as input value; m)\n",
    "      izc - index of toe using chord method (distance from reference line) (m)\n",
    "      izip - index of toe using inflection point (m)\n",
    "      zz - elevation of toe using fixed elevation method (same as input value; m)\n",
    "      ztoe - elevation of toe using distance from reference line (m)\n",
    "      zipt - elevation of toe using inflection point (m)\n",
    "      \n",
    "    Note: assumes maximum z == foredune crest. If not, then pass a shortened transect that only include dune and beach\n",
    "    \"\"\"\n",
    "    # initialize return values\n",
    "    izz = np.nan\n",
    "    izc = np.nan\n",
    "    izp = np.nan\n",
    "    zz = zz\n",
    "    ztoe = np.nan\n",
    "    zipt = np.nan\n",
    "        \n",
    "    if izero == 'offshore': #transect goes from offshore to onshore\n",
    "        # highest point for offset starting point in offshore segment\n",
    "        izmax = np.argmax(z)\n",
    "        zb = z[izmax:-1]\n",
    "        db = dist[izmax:-1]-dist[izmax]\n",
    "        \n",
    "        # chord method: make a sloping reference line\n",
    "        zr = z[izmax] - s*db\n",
    "        # find greatest vertical diff between ref line and topography\n",
    "        zd = zr-zb\n",
    "        izc = np.argmax(zd)\n",
    "        zc = zb[izc]\n",
    "        \n",
    "        # inflection point method: find minimum in dz/dx\n",
    "        dzb = np.array([0])\n",
    "        dzb = np.append(dzb,np.diff(zb)/np.diff(db))\n",
    "        # inflection point at (first) minimum dz/dx\n",
    "        izip = np.argmin(dzb)\n",
    "        zipt = zb[izip]\n",
    "\n",
    "        # fixed elevation method: find values greater than zz\n",
    "        iztall = np.squeeze(np.where(zb>=zz))\n",
    "        # chose last one headed offshore\n",
    "        izz = iztall[-1]\n",
    "        \n",
    "        # add back in offset\n",
    "        izip = izip+izmax\n",
    "        izc = izc+izmax\n",
    "        izz = izz+izmax\n",
    "    \n",
    "    else: # transect from onshore to offshore\n",
    "        # highest point for starting point in offshore segment\n",
    "        izmax = np.argmax(z)\n",
    "        zb = z[0:izmax]\n",
    "        db = dist[0:izmax]\n",
    "        \n",
    "        # chord method: make a sloping reference line\n",
    "        zr = z[izmax] - s*np.flip(db)\n",
    "        # find greatest vertical diff between ref line and topography\n",
    "        zd = zr-zb\n",
    "        izc = np.argmax(zd)\n",
    "        zc = zb[izc]\n",
    "        \n",
    "        # inflection point method: find minimum in dz/dx\n",
    "        dzb = np.array([0])\n",
    "        dzb = -np.append(dzb,np.diff(zb)/np.diff(db))\n",
    "        # inflection point at (first) minimum dz/dx\n",
    "        izip = np.argmin(dzb)\n",
    "        zipt = zb[izip]\n",
    "\n",
    "        # fixed elevation method: find values greater than zz\n",
    "        iztall = np.squeeze(np.where(zb>=zz))\n",
    "        # chose last one headed offshore\n",
    "        izz = iztall[0]\n",
    "    \n",
    "    return izz,izc,izip,zz,zc,zipt"
   ]
  },
  {
   "cell_type": "code",
   "execution_count": 3,
   "id": "16279059",
   "metadata": {},
   "outputs": [
    {
     "data": {
      "image/png": "[encoded data removed]",
      "text/plain": [
       "<Figure size 432x288 with 1 Axes>"
      ]
     },
     "metadata": {
      "needs_background": "light"
     },
     "output_type": "display_data"
    }
   ],
   "source": [
    "# Load some test data of 200 profiles\n",
    "with open('C:/crs/src/pybeach/example/test_profiles.pkl', 'rb') as f:\n",
    "    data = pickle.load(f)\n",
    "x, za, toe = data['x'], data['z'], data['toe']\n",
    "i=0\n",
    "z=za[i]\n",
    "plt.plot(x,z)\n",
    "zz=1.8"
   ]
  },
  {
   "cell_type": "code",
   "execution_count": 4,
   "id": "b34f6c2e",
   "metadata": {},
   "outputs": [
    {
     "data": {
      "image/png": "[encoded data removed]",
      "text/plain": [
       "<Figure size 432x288 with 1 Axes>"
      ]
     },
     "metadata": {
      "needs_background": "light"
     },
     "output_type": "display_data"
    }
   ],
   "source": [
    "# Load one of my profiles\n",
    "z=za[i,:]\n",
    "\n",
    "df = pd.read_csv('test_profile7.csv')\n",
    "x = df['Distance (Total)'].values\n",
    "z = df['Elevation'].values\n",
    "plt.plot(x,z)\n",
    "zz=2.4"
   ]
  },
  {
   "cell_type": "code",
   "execution_count": 5,
   "id": "fbb1769c",
   "metadata": {},
   "outputs": [
    {
     "name": "stdout",
     "output_type": "stream",
     "text": [
      "620 2.4\n",
      "621 2.379\n",
      "610 3.289\n"
     ]
    },
    {
     "name": "stderr",
     "output_type": "stream",
     "text": [
      "C:\\Users\\csherwood\\Anaconda3\\envs\\CRS\\lib\\site-packages\\sklearn\\base.py:329: UserWarning: Trying to unpickle estimator DecisionTreeClassifier from version 0.24.2 when using version 1.0.2. This might lead to breaking code or invalid results. Use at your own risk. For more info please refer to:\n",
      "https://scikit-learn.org/stable/modules/model_persistence.html#security-maintainability-limitations\n",
      "  warnings.warn(\n",
      "C:\\Users\\csherwood\\Anaconda3\\envs\\CRS\\lib\\site-packages\\sklearn\\base.py:329: UserWarning: Trying to unpickle estimator RandomForestClassifier from version 0.24.2 when using version 1.0.2. This might lead to breaking code or invalid results. Use at your own risk. For more info please refer to:\n",
      "https://scikit-learn.org/stable/modules/model_persistence.html#security-maintainability-limitations\n",
      "  warnings.warn(\n",
      "C:\\Users\\csherwood\\Anaconda3\\envs\\CRS\\lib\\site-packages\\sklearn\\utils\\deprecation.py:103: FutureWarning: Attribute `n_features_` was deprecated in version 1.0 and will be removed in 1.2. Use `n_features_in_` instead.\n",
      "  warnings.warn(msg, category=FutureWarning)\n"
     ]
    },
    {
     "data": {
      "image/png": "[encoded data removed]",
      "text/plain": [
       "<Figure size 432x288 with 1 Axes>"
      ]
     },
     "metadata": {
      "needs_background": "light"
     },
     "output_type": "display_data"
    }
   ],
   "source": [
    "izz,iztoe,izip,zz,ztoe,zipt = find_toe(x,z,zz=zz,s=0.2,izero='offshore')\n",
    "print(izz,zz)\n",
    "print(iztoe,ztoe)\n",
    "print(izip,zipt)\n",
    "\n",
    "# Instantiate Profile class\n",
    "p = Profile(x, z)\n",
    "# Make predictions of dune toe\n",
    "window_size=21\n",
    "threshold = .97\n",
    "water_level = 0.\n",
    "toe_ml, prob_ml = p.predict_dunetoe_ml('barrier_island_clf', dune_crest='rr', window_size=window_size, threshold=threshold)\n",
    "toe_mc = p.predict_dunetoe_mc(dune_crest='rr', window_size=window_size, threshold=threshold)\n",
    "toe_rr = p.predict_dunetoe_rr(dune_crest='rr', window_size=window_size, threshold=threshold, toe_threshold=0.2, water_level=water_level,verbose=False)\n",
    "toe_pd = p.predict_dunetoe_pd(dune_crest='rr', window_size=window_size, threshold=threshold, water_level=water_level)\n",
    "# Predict dune crest\n",
    "crest = p.predict_dunecrest()\n",
    "# Predict shoreline\n",
    "shoreline = p.predict_shoreline()\n",
    "\n",
    "fig, ax = plt.subplots(1,1)\n",
    "plt.plot(x,z)\n",
    "plt.plot(x[crest],z[crest],'^r',label='Crest')\n",
    "plt.plot(x[shoreline],z[shoreline],'sb',label='Shoreline')\n",
    "           \n",
    "plt.plot(x[iztoe],z[iztoe],'or',label='Chord')\n",
    "plt.plot(x[izz],z[izz],'ob',label='Fixed')\n",
    "plt.plot(x[izip],z[izip],'om',label='Inflection')\n",
    "plt.plot(x[toe_ml],z[toe_ml],'xr',label='ML')\n",
    "plt.plot(x[toe_mc],z[toe_mc],'xm',label='MC')\n",
    "plt.plot(x[toe_rr],z[toe_rr],'xc',label='RR')\n",
    "plt.plot(x[toe_pd],z[toe_pd],'xr',label='PD')\n",
    "_=plt.legend()"
   ]
  },
  {
   "cell_type": "code",
   "execution_count": 6,
   "id": "ac1f9725",
   "metadata": {},
   "outputs": [
    {
     "name": "stdout",
     "output_type": "stream",
     "text": [
      "z: (1024,)\n",
      "toe: (200,)\n",
      "(200, 1)\n"
     ]
    },
    {
     "ename": "IndexError",
     "evalue": "too many indices for array: array is 1-dimensional, but 2 were indexed",
     "output_type": "error",
     "traceback": [
      "\u001b[1;31m---------------------------------------------------------------------------\u001b[0m",
      "\u001b[1;31mIndexError\u001b[0m                                Traceback (most recent call last)",
      "\u001b[1;32m~\\AppData\\Local\\Temp\\1\\ipykernel_17984\\54264418.py\u001b[0m in \u001b[0;36m<module>\u001b[1;34m\u001b[0m\n\u001b[0;32m      4\u001b[0m \u001b[0mprint\u001b[0m\u001b[1;33m(\u001b[0m\u001b[0mnp\u001b[0m\u001b[1;33m.\u001b[0m\u001b[0mshape\u001b[0m\u001b[1;33m(\u001b[0m\u001b[0mth\u001b[0m\u001b[1;33m)\u001b[0m\u001b[1;33m)\u001b[0m\u001b[1;33m\u001b[0m\u001b[1;33m\u001b[0m\u001b[0m\n\u001b[0;32m      5\u001b[0m \u001b[1;32mfor\u001b[0m \u001b[0mk\u001b[0m\u001b[1;33m,\u001b[0m \u001b[0miz\u001b[0m \u001b[1;32min\u001b[0m \u001b[0menumerate\u001b[0m\u001b[1;33m(\u001b[0m\u001b[0mtoe\u001b[0m\u001b[1;33m)\u001b[0m\u001b[1;33m:\u001b[0m\u001b[1;33m\u001b[0m\u001b[1;33m\u001b[0m\u001b[0m\n\u001b[1;32m----> 6\u001b[1;33m     \u001b[0mth\u001b[0m\u001b[1;33m[\u001b[0m\u001b[0mk\u001b[0m\u001b[1;33m]\u001b[0m\u001b[1;33m=\u001b[0m\u001b[0mz\u001b[0m\u001b[1;33m[\u001b[0m\u001b[0mk\u001b[0m\u001b[1;33m,\u001b[0m\u001b[0miz\u001b[0m\u001b[1;33m]\u001b[0m\u001b[1;33m\u001b[0m\u001b[1;33m\u001b[0m\u001b[0m\n\u001b[0m\u001b[0;32m      7\u001b[0m \u001b[1;33m\u001b[0m\u001b[0m\n\u001b[0;32m      8\u001b[0m \u001b[0mplt\u001b[0m\u001b[1;33m.\u001b[0m\u001b[0mhist\u001b[0m\u001b[1;33m(\u001b[0m\u001b[0mth\u001b[0m\u001b[1;33m)\u001b[0m\u001b[1;33m\u001b[0m\u001b[1;33m\u001b[0m\u001b[0m\n",
      "\u001b[1;31mIndexError\u001b[0m: too many indices for array: array is 1-dimensional, but 2 were indexed"
     ]
    }
   ],
   "source": [
    "print('z:',np.shape(z))\n",
    "print('toe:',np.shape(toe))\n",
    "th = np.zeros((200,1))\n",
    "print(np.shape(th))\n",
    "for k, iz in enumerate(toe):\n",
    "    th[k]=z[k,iz]\n",
    "\n",
    "plt.hist(th)"
   ]
  },
  {
   "cell_type": "code",
   "execution_count": null,
   "id": "b56c5189",
   "metadata": {},
   "outputs": [],
   "source": [
    "\n",
    "\n",
    "# Instantiate Profile class\n",
    "p = Profile(x, z[i])\n",
    "# Make predictions of dune toe\n",
    "toe_ml, prob_ml = p.predict_dunetoe_ml('barrier_island_clf', dune_crest='rr', window_size=101, threshold=0.97)\n",
    "toe_mc = p.predict_dunetoe_mc(dune_crest='rr', window_size=101, threshold=0.97)\n",
    "toe_rr = p.predict_dunetoe_rr(dune_crest='rr', window_size=101, threshold=0.97, toe_threshold=0.2, verbose=False)\n",
    "toe_pd = p.predict_dunetoe_pd(dune_crest='rr', window_size=101, threshold=0.97)\n",
    "# Predict dune crest\n",
    "crest = p.predict_dunecrest()\n",
    "# Predict shoreline\n",
    "shoreline = p.predict_shoreline()"
   ]
  },
  {
   "cell_type": "code",
   "execution_count": null,
   "id": "1db9f445",
   "metadata": {},
   "outputs": [],
   "source": [
    "print(toe_mc)"
   ]
  }
 ],
 "metadata": {
  "kernelspec": {
   "display_name": "Python 3 (ipykernel)",
   "language": "python",
   "name": "python3"
  },
  "language_info": {
   "codemirror_mode": {
    "name": "ipython",
    "version": 3
   },
   "file_extension": ".py",
   "mimetype": "text/x-python",
   "name": "python",
   "nbconvert_exporter": "python",
   "pygments_lexer": "ipython3",
   "version": "3.9.7"
  }
 },
 "nbformat": 4,
 "nbformat_minor": 5
}
