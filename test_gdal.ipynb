{
 "cells": [
  {
   "cell_type": "markdown",
   "id": "7c028f0f",
   "metadata": {},
   "source": [
    "### test_gdal\n",
    "Examples of gdal running both with Python wrapper and as a subprocess."
   ]
  },
  {
   "cell_type": "code",
   "execution_count": 1,
   "id": "9bbec9d9",
   "metadata": {},
   "outputs": [],
   "source": [
    "from osgeo import gdal\n",
    "import numpy as np\n",
    "import pandas as pd\n",
    "import subprocess\n",
    "\n",
    "# this is one of the std err files Andy made that has too big a bounding box for my rotated island grid\n",
    "f = 'C:/crs/proj/2021_FloSupp_Release/clipfest/std_err/20190830_Ocracoke_Inlet_to_Ophelia_Inlet_NAD83UTM18_NAVD88_1m_SErr_cog.tif'"
   ]
  },
  {
   "cell_type": "markdown",
   "id": "c526a17d",
   "metadata": {},
   "source": [
    "#### Test simple versions of subprocess.run()\n",
    "To see output that would go to stderr and stdout, you need `capture_output=True`  \n",
    "and to print that in a more readable format, use .decode() to convert from a byte string to character string.\n",
    "(Uncomment the print statements to see the output)."
   ]
  },
  {
   "cell_type": "code",
   "execution_count": 2,
   "id": "ba03e955",
   "metadata": {},
   "outputs": [
    {
     "name": "stdout",
     "output_type": "stream",
     "text": [
      "b'/c/crs/src/CoreBx\\n'\n"
     ]
    }
   ],
   "source": [
    "p = subprocess.run(['pwd'],capture_output=True)\n",
    "print(p.stdout)\n",
    "p=subprocess.run(['ls','-la'],capture_output=True)\n",
    "#print(p.stdout.decode())"
   ]
  },
  {
   "cell_type": "markdown",
   "id": "80f27f59",
   "metadata": {},
   "source": [
    "#### Test simple gdal command as subprocess"
   ]
  },
  {
   "cell_type": "code",
   "execution_count": 3,
   "id": "7370a7eb",
   "metadata": {},
   "outputs": [
    {
     "name": "stdout",
     "output_type": "stream",
     "text": [
      "Driver: GTiff/GeoTIFF\r\n",
      "Files: C:/crs/proj/2021_FloSupp_Release/clipfest/std_err/20190830_Ocracoke_Inlet_to_Ophelia_Inlet_NAD83UTM18_NAVD88_1m_SErr_cog.tif\r\n",
      "       C:/crs/proj/2021_FloSupp_Release/clipfest/std_err/20190830_Ocracoke_Inlet_to_Ophelia_Inlet_NAD83UTM18_NAVD88_1m_SErr_cog.tif.aux.xml\r\n",
      "Size is 27617, 24245\r\n",
      "Coordinate System is:\r\n",
      "PROJCRS[\"NAD83(2011) / UTM zone 18N\",\r\n",
      "    BASEGEOGCRS[\"NAD83(2011)\",\r\n",
      "        DATUM[\"NAD83 (National Spatial Reference System 2011)\",\r\n",
      "            ELLIPSOID[\"GRS 1980\",6378137,298.257222101,\r\n",
      "                LENGTHUNIT[\"metre\",1]]],\r\n",
      "        PRIMEM[\"Greenwich\",0,\r\n",
      "            ANGLEUNIT[\"degree\",0.0174532925199433]],\r\n",
      "        ID[\"EPSG\",6318]],\r\n",
      "    CONVERSION[\"UTM zone 18N\",\r\n",
      "        METHOD[\"Transverse Mercator\",\r\n",
      "            ID[\"EPSG\",9807]],\r\n",
      "        PARAMETER[\"Latitude of natural origin\",0,\r\n",
      "            ANGLEUNIT[\"degree\",0.0174532925199433],\r\n",
      "            ID[\"EPSG\",8801]],\r\n",
      "        PARAMETER[\"Longitude of natural origin\",-75,\r\n",
      "            ANGLEUNIT[\"degree\",0.0174532925199433],\r\n",
      "            ID[\"EPSG\",8802]],\r\n",
      "        PARAMETER[\"Scale factor at natural origin\",0.9996,\r\n",
      "            SCALEUNIT[\"unity\",1],\r\n",
      "            ID[\"EPSG\",8805]],\r\n",
      "        PARAMETER[\"False easting\",500000,\r\n",
      "            LENGTHUNIT[\"metre\",1],\r\n",
      "            ID[\"EPSG\",8806]],\r\n",
      "        PARAMETER[\"False northing\",0,\r\n",
      "            LENGTHUNIT[\"metre\",1],\r\n",
      "            ID[\"EPSG\",8807]]],\r\n",
      "    CS[Cartesian,2],\r\n",
      "        AXIS[\"(E)\",east,\r\n",
      "            ORDER[1],\r\n",
      "            LENGTHUNIT[\"metre\",1]],\r\n",
      "        AXIS[\"(N)\",north,\r\n",
      "            ORDER[2],\r\n",
      "            LENGTHUNIT[\"metre\",1]],\r\n",
      "    USAGE[\r\n",
      "        SCOPE[\"Engineering survey, topographic mapping.\"],\r\n",
      "        AREA[\"United States (USA) - between 78°W and 72°W onshore and offshore - Connecticut; Delaware; Maryland; Massachusetts; New Hampshire; New Jersey; New York; North Carolina; Pennsylvania; Virginia; Vermont.\"],\r\n",
      "        BBOX[28.28,-78,45.03,-72]],\r\n",
      "    ID[\"EPSG\",6347]]\r\n",
      "Data axis to CRS axis mapping: 1,2\r\n",
      "Origin = (377702.000000000000000,3880461.000000000000000)\r\n",
      "Pixel Size = (1.000000000000000,-1.000000000000000)\r\n",
      "Metadata:\r\n",
      "  AREA_OR_POINT=Area\r\n",
      "Image Structure Metadata:\r\n",
      "  COMPRESSION=DEFLATE\r\n",
      "  INTERLEAVE=BAND\r\n",
      "  LAYOUT=COG\r\n",
      "  PREDICTOR=3\r\n",
      "Corner Coordinates:\r\n",
      "Upper Left  (  377702.000, 3880461.000) ( 76d20'28.16\"W, 35d 3'34.11\"N)\r\n",
      "Lower Left  (  377702.000, 3856216.000) ( 76d20'15.36\"W, 34d50'27.26\"N)\r\n",
      "Upper Right (  405319.000, 3880461.000) ( 76d 2'18.06\"W, 35d 3'44.81\"N)\r\n",
      "Lower Right (  405319.000, 3856216.000) ( 76d 2' 8.15\"W, 34d50'37.87\"N)\r\n",
      "Center      (  391510.500, 3868338.500) ( 76d11'17.44\"W, 34d57' 6.35\"N)\r\n",
      "Band 1 Block=256x256 Type=Float32, ColorInterp=Gray\r\n",
      "  Min=0.000 Max=6.033 \r\n",
      "  Minimum=0.000, Maximum=6.033, Mean=0.007, StdDev=0.015\r\n",
      "  NoData Value=3.4028234663852886e+38\r\n",
      "  Overviews: 13808x12122, 6904x6061, 3452x3030, 1726x1515, 863x757, 431x378, 215x189\r\n",
      "  Metadata:\r\n",
      "    STATISTICS_MAXIMUM=6.0330348014832\r\n",
      "    STATISTICS_MEAN=0.0067403789983763\r\n",
      "    STATISTICS_MINIMUM=0\r\n",
      "    STATISTICS_STDDEV=0.01487116226836\r\n",
      "    STATISTICS_VALID_PERCENT=3.496\r\n",
      "\n"
     ]
    }
   ],
   "source": [
    "p = subprocess.run(['gdalInfo',f],capture_output=True)\n",
    "print(p.stdout.decode())"
   ]
  },
  {
   "cell_type": "markdown",
   "id": "43c0306b",
   "metadata": {},
   "source": [
    "#### Same thing using Python interface"
   ]
  },
  {
   "cell_type": "code",
   "execution_count": 4,
   "id": "db0858f5",
   "metadata": {},
   "outputs": [],
   "source": [
    "ds = gdal.Open(f)\n",
    "projection = ds.GetProjectionRef()\n",
    "#print(projection)\n",
    "info =gdal.Info(ds)\n",
    "#print(info)"
   ]
  },
  {
   "cell_type": "markdown",
   "id": "4a930670",
   "metadata": {},
   "source": [
    "#### Need some coordinates for the clipping operation"
   ]
  },
  {
   "cell_type": "code",
   "execution_count": 5,
   "id": "01790840",
   "metadata": {},
   "outputs": [
    {
     "name": "stdout",
     "output_type": "stream",
     "text": [
      "[[ 405614.07999221 3880163.30413921]\n",
      " [ 404611.05321328 3881277.2782326 ]\n",
      " [ 377487.01022818 3856854.68023111]\n",
      " [ 378490.03700711 3855740.70613772]]\n",
      "(4, 2)\n",
      "ulx, uly 377485.00, 3881280.00\n",
      "lrx, lry 405617.00, 3855738.00\n",
      "width, height 28132.00, 25542.00\n"
     ]
    }
   ],
   "source": [
    "# This .csv file contains the corners of the rotated island grid\n",
    "# It was created by running make_grid(**r), where r is the dict read in as r = yaml2dict('island_box.yml')\n",
    "boxfn = 'ncorebx_refac.csv'\n",
    "\n",
    "box = pd.read_csv(boxfn).values\n",
    "print(box)\n",
    "print(np.shape(box))\n",
    "ulx = np.floor( box[2,0] )-2.\n",
    "uly = np.ceil( box[1,1] )+2.\n",
    "lrx = np.ceil( box[0,0] )+2.\n",
    "lry = np.floor( box[3,1] )-2.\n",
    "width = lrx-ulx\n",
    "height = uly - lry\n",
    "print('ulx, uly {:.2f}, {:.2f}'.format(ulx,uly))\n",
    "print('lrx, lry {:.2f}, {:.2f}'.format(lrx,lry))\n",
    "print('width, height {:.2f}, {:.2f}'.format(width, height))"
   ]
  },
  {
   "cell_type": "markdown",
   "id": "5ba38d67",
   "metadata": {},
   "source": [
    "#### Andy Richie says:\n",
    "This is what I use for all DEMs and orthos now:\n",
    " \n",
    "`for %i in (.\\*.tif) do gdal_translate %i .\\cog\\%~ni_cog.tif -of COG -stats -co BLOCKSIZE=256 -co COMPRESS=DEFLATE -co PREDICTOR=YES -co NUM_THREADS=ALL_CPUS -co BIGTIFF=YES`\n",
    "\n",
    "I found that on my 6-cpu (12-thread) Win64 laptop with 32GB, and timing for NUM_THREADS = '1', '4', and  'ALL_CPUS' was 46.5, 23.1, and 22.9 s.\n",
    "\n",
    "#### Using the subprocess.run() function, the arguments need to be broken down to pieces:"
   ]
  },
  {
   "cell_type": "code",
   "execution_count": 9,
   "id": "a61e83ec",
   "metadata": {},
   "outputs": [
    {
     "name": "stdout",
     "output_type": "stream",
     "text": [
      "\n",
      "GDAL 3.4.0, released 2021/11/04\n",
      "\n",
      "\n",
      "Input file size is 27617, 24245\n",
      "0...10...20...30...40...50...60...70...80...90...100 - done.\n",
      "\n",
      "Wall time: 22.9 s\n"
     ]
    }
   ],
   "source": [
    "%%time\n",
    "src_file = f\n",
    "dest_file = 'clippedCOG2.tif'\n",
    "p = subprocess.run(['gdal_translate','--version'],capture_output=True)\n",
    "print(p.stderr.decode())\n",
    "print(p.stdout.decode())\n",
    "\n",
    "ulxs = '{:.1f}'.format(ulx)\n",
    "ulys = '{:.1f}'.format(uly)\n",
    "lrxs = '{:.1f}'.format(lrx)\n",
    "lrys = '{:.1f}'.format(lry)\n",
    "\n",
    "p = subprocess.run(['gdal_translate',\\\n",
    "                    '-projwin',ulxs,ulys,lrxs,lrys,\\\n",
    "                    '-of','COG',\\\n",
    "                    '-co','COMPRESS=DEFLATE',\\\n",
    "                    '-co','BIGTIFF=YES',\\\n",
    "                    '-co','PREDICTOR=YES',\\\n",
    "                    '-co','BLOCKSIZE=256',\\\n",
    "                    '-co','NUM_THREADS=ALL_CPUS',\\\n",
    "                    '-stats','-strict',\\\n",
    "                    src_file,\\\n",
    "                    dest_file],\\\n",
    "                   capture_output=True)\n",
    "print(p.stderr.decode())\n",
    "print(p.stdout.decode())"
   ]
  },
  {
   "cell_type": "code",
   "execution_count": 7,
   "id": "9ee852ef",
   "metadata": {},
   "outputs": [
    {
     "name": "stdout",
     "output_type": "stream",
     "text": [
      "Driver: GTiff/GeoTIFF\n",
      "Files: C:/crs/proj/2021_FloSupp_Release/clipfest/std_err/20190830_Ocracoke_Inlet_to_Ophelia_Inlet_NAD83UTM18_NAVD88_1m_SErr_cog.tif\n",
      "       C:/crs/proj/2021_FloSupp_Release/clipfest/std_err/20190830_Ocracoke_Inlet_to_Ophelia_Inlet_NAD83UTM18_NAVD88_1m_SErr_cog.tif.aux.xml\n",
      "Size is 27617, 24245\n",
      "Coordinate System is:\n",
      "PROJCRS[\"NAD83(2011) / UTM zone 18N\",\n",
      "    BASEGEOGCRS[\"NAD83(2011)\",\n",
      "        DATUM[\"NAD83 (National Spatial Reference System 2011)\",\n",
      "            ELLIPSOID[\"GRS 1980\",6378137,298.257222101,\n",
      "                LENGTHUNIT[\"metre\",1]]],\n",
      "        PRIMEM[\"Greenwich\",0,\n",
      "            ANGLEUNIT[\"degree\",0.0174532925199433]],\n",
      "        ID[\"EPSG\",6318]],\n",
      "    CONVERSION[\"UTM zone 18N\",\n",
      "        METHOD[\"Transverse Mercator\",\n",
      "            ID[\"EPSG\",9807]],\n",
      "        PARAMETER[\"Latitude of natural origin\",0,\n",
      "            ANGLEUNIT[\"degree\",0.0174532925199433],\n",
      "            ID[\"EPSG\",8801]],\n",
      "        PARAMETER[\"Longitude of natural origin\",-75,\n",
      "            ANGLEUNIT[\"degree\",0.0174532925199433],\n",
      "            ID[\"EPSG\",8802]],\n",
      "        PARAMETER[\"Scale factor at natural origin\",0.9996,\n",
      "            SCALEUNIT[\"unity\",1],\n",
      "            ID[\"EPSG\",8805]],\n",
      "        PARAMETER[\"False easting\",500000,\n",
      "            LENGTHUNIT[\"metre\",1],\n",
      "            ID[\"EPSG\",8806]],\n",
      "        PARAMETER[\"False northing\",0,\n",
      "            LENGTHUNIT[\"metre\",1],\n",
      "            ID[\"EPSG\",8807]]],\n",
      "    CS[Cartesian,2],\n",
      "        AXIS[\"(E)\",east,\n",
      "            ORDER[1],\n",
      "            LENGTHUNIT[\"metre\",1]],\n",
      "        AXIS[\"(N)\",north,\n",
      "            ORDER[2],\n",
      "            LENGTHUNIT[\"metre\",1]],\n",
      "    USAGE[\n",
      "        SCOPE[\"Engineering survey, topographic mapping.\"],\n",
      "        AREA[\"United States (USA) - between 78°W and 72°W onshore and offshore - Connecticut; Delaware; Maryland; Massachusetts; New Hampshire; New Jersey; New York; North Carolina; Pennsylvania; Virginia; Vermont.\"],\n",
      "        BBOX[28.28,-78,45.03,-72]],\n",
      "    ID[\"EPSG\",6347]]\n",
      "Data axis to CRS axis mapping: 1,2\n",
      "Origin = (377702.000000000000000,3880461.000000000000000)\n",
      "Pixel Size = (1.000000000000000,-1.000000000000000)\n",
      "Metadata:\n",
      "  AREA_OR_POINT=Area\n",
      "Image Structure Metadata:\n",
      "  COMPRESSION=DEFLATE\n",
      "  INTERLEAVE=BAND\n",
      "  LAYOUT=COG\n",
      "  PREDICTOR=3\n",
      "Corner Coordinates:\n",
      "Upper Left  (  377702.000, 3880461.000) ( 76d20'28.16\"W, 35d 3'34.11\"N)\n",
      "Lower Left  (  377702.000, 3856216.000) ( 76d20'15.36\"W, 34d50'27.26\"N)\n",
      "Upper Right (  405319.000, 3880461.000) ( 76d 2'18.06\"W, 35d 3'44.81\"N)\n",
      "Lower Right (  405319.000, 3856216.000) ( 76d 2' 8.15\"W, 34d50'37.87\"N)\n",
      "Center      (  391510.500, 3868338.500) ( 76d11'17.44\"W, 34d57' 6.35\"N)\n",
      "Band 1 Block=256x256 Type=Float32, ColorInterp=Gray\n",
      "  Min=0.000 Max=6.033 \n",
      "  Minimum=0.000, Maximum=6.033, Mean=0.007, StdDev=0.015\n",
      "  NoData Value=3.4028234663852886e+38\n",
      "  Overviews: 13808x12122, 6904x6061, 3452x3030, 1726x1515, 863x757, 431x378, 215x189\n",
      "  Metadata:\n",
      "    STATISTICS_MAXIMUM=6.0330348014832\n",
      "    STATISTICS_MEAN=0.0067403789983763\n",
      "    STATISTICS_MINIMUM=0\n",
      "    STATISTICS_STDDEV=0.01487116226836\n",
      "    STATISTICS_VALID_PERCENT=3.496\n",
      "\n",
      "Driver: GTiff/GeoTIFF\n",
      "Files: clippedCOG2.tif\n",
      "Size is 28132, 25542\n",
      "Coordinate System is:\n",
      "PROJCRS[\"NAD83(2011) / UTM zone 18N\",\n",
      "    BASEGEOGCRS[\"NAD83(2011)\",\n",
      "        DATUM[\"NAD83 (National Spatial Reference System 2011)\",\n",
      "            ELLIPSOID[\"GRS 1980\",6378137,298.257222101,\n",
      "                LENGTHUNIT[\"metre\",1]]],\n",
      "        PRIMEM[\"Greenwich\",0,\n",
      "            ANGLEUNIT[\"degree\",0.0174532925199433]],\n",
      "        ID[\"EPSG\",6318]],\n",
      "    CONVERSION[\"UTM zone 18N\",\n",
      "        METHOD[\"Transverse Mercator\",\n",
      "            ID[\"EPSG\",9807]],\n",
      "        PARAMETER[\"Latitude of natural origin\",0,\n",
      "            ANGLEUNIT[\"degree\",0.0174532925199433],\n",
      "            ID[\"EPSG\",8801]],\n",
      "        PARAMETER[\"Longitude of natural origin\",-75,\n",
      "            ANGLEUNIT[\"degree\",0.0174532925199433],\n",
      "            ID[\"EPSG\",8802]],\n",
      "        PARAMETER[\"Scale factor at natural origin\",0.9996,\n",
      "            SCALEUNIT[\"unity\",1],\n",
      "            ID[\"EPSG\",8805]],\n",
      "        PARAMETER[\"False easting\",500000,\n",
      "            LENGTHUNIT[\"metre\",1],\n",
      "            ID[\"EPSG\",8806]],\n",
      "        PARAMETER[\"False northing\",0,\n",
      "            LENGTHUNIT[\"metre\",1],\n",
      "            ID[\"EPSG\",8807]]],\n",
      "    CS[Cartesian,2],\n",
      "        AXIS[\"(E)\",east,\n",
      "            ORDER[1],\n",
      "            LENGTHUNIT[\"metre\",1]],\n",
      "        AXIS[\"(N)\",north,\n",
      "            ORDER[2],\n",
      "            LENGTHUNIT[\"metre\",1]],\n",
      "    USAGE[\n",
      "        SCOPE[\"Engineering survey, topographic mapping.\"],\n",
      "        AREA[\"United States (USA) - between 78°W and 72°W onshore and offshore - Connecticut; Delaware; Maryland; Massachusetts; New Hampshire; New Jersey; New York; North Carolina; Pennsylvania; Virginia; Vermont.\"],\n",
      "        BBOX[28.28,-78,45.03,-72]],\n",
      "    ID[\"EPSG\",6347]]\n",
      "Data axis to CRS axis mapping: 1,2\n",
      "Origin = (377485.000000000000000,3881280.000000000000000)\n",
      "Pixel Size = (1.000000000000000,-1.000000000000000)\n",
      "Metadata:\n",
      "  AREA_OR_POINT=Area\n",
      "Image Structure Metadata:\n",
      "  COMPRESSION=DEFLATE\n",
      "  INTERLEAVE=BAND\n",
      "  LAYOUT=COG\n",
      "  PREDICTOR=3\n",
      "Corner Coordinates:\n",
      "Upper Left  (  377485.000, 3881280.000) ( 76d20'37.17\"W, 35d 4' 0.60\"N)\n",
      "Lower Left  (  377485.000, 3855738.000) ( 76d20'23.66\"W, 34d50'11.65\"N)\n",
      "Upper Right (  405617.000, 3881280.000) ( 76d 2' 6.64\"W, 35d 4'11.49\"N)\n",
      "Lower Right (  405617.000, 3855738.000) ( 76d 1'56.23\"W, 34d50'22.45\"N)\n",
      "Center      (  391551.000, 3868509.000) ( 76d11'15.92\"W, 34d57'11.90\"N)\n",
      "Band 1 Block=256x256 Type=Float32, ColorInterp=Gray\n",
      "  NoData Value=3.4028234663852886e+38\n",
      "  Overviews: 14065x12770, 7033x6385, 3516x3192, 1758x1596, 879x797, 439x398, 219x199\n",
      "\n"
     ]
    }
   ],
   "source": [
    "info = gdal.Info(f)\n",
    "print(info)\n",
    "info = gdal.Info('clippedCOG2.tif')\n",
    "print(info)"
   ]
  }
 ],
 "metadata": {
  "kernelspec": {
   "display_name": "Python 3 (ipykernel)",
   "language": "python",
   "name": "python3"
  },
  "language_info": {
   "codemirror_mode": {
    "name": "ipython",
    "version": 3
   },
   "file_extension": ".py",
   "mimetype": "text/x-python",
   "name": "python",
   "nbconvert_exporter": "python",
   "pygments_lexer": "ipython3",
   "version": "3.9.7"
  }
 },
 "nbformat": 4,
 "nbformat_minor": 5
}
