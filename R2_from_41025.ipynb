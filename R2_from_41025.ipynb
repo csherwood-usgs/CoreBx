{
 "cells": [
  {
   "cell_type": "code",
   "execution_count": 1,
   "metadata": {},
   "outputs": [],
   "source": [
    "import numpy as np\n",
    "import pandas as pd\n",
    "import matplotlib.pyplot as plt\n",
    "from CoreBx_funcs import calcR2, stat_summary\n",
    "from scipy.stats import percentileofscore\n",
    "%matplotlib inline"
   ]
  },
  {
   "cell_type": "code",
   "execution_count": 2,
   "metadata": {},
   "outputs": [],
   "source": [
    "### Read NDBC met/wave file"
   ]
  },
  {
   "cell_type": "code",
   "execution_count": 3,
   "metadata": {},
   "outputs": [
    {
     "data": {
      "text/html": [
       "<div>\n",
       "<style scoped>\n",
       "    .dataframe tbody tr th:only-of-type {\n",
       "        vertical-align: middle;\n",
       "    }\n",
       "\n",
       "    .dataframe tbody tr th {\n",
       "        vertical-align: top;\n",
       "    }\n",
       "\n",
       "    .dataframe thead th {\n",
       "        text-align: right;\n",
       "    }\n",
       "</style>\n",
       "<table border=\"1\" class=\"dataframe\">\n",
       "  <thead>\n",
       "    <tr style=\"text-align: right;\">\n",
       "      <th></th>\n",
       "      <th>dt</th>\n",
       "      <th>#YY</th>\n",
       "      <th>MM</th>\n",
       "      <th>DD</th>\n",
       "      <th>hh</th>\n",
       "      <th>mm</th>\n",
       "      <th>WDIR</th>\n",
       "      <th>WSPD</th>\n",
       "      <th>GST</th>\n",
       "      <th>WVHT</th>\n",
       "      <th>DPD</th>\n",
       "      <th>APD</th>\n",
       "      <th>MWD</th>\n",
       "      <th>PRES</th>\n",
       "      <th>ATMP</th>\n",
       "      <th>WTMP</th>\n",
       "      <th>DEWP</th>\n",
       "      <th>VIS</th>\n",
       "      <th>TIDE</th>\n",
       "    </tr>\n",
       "  </thead>\n",
       "  <tbody>\n",
       "    <tr>\n",
       "      <th>0</th>\n",
       "      <td>2019 06 01 00 00</td>\n",
       "      <td>2019</td>\n",
       "      <td>06</td>\n",
       "      <td>01</td>\n",
       "      <td>00</td>\n",
       "      <td>00</td>\n",
       "      <td>999.0</td>\n",
       "      <td>1.8</td>\n",
       "      <td>2.7</td>\n",
       "      <td>99.00</td>\n",
       "      <td>99.00</td>\n",
       "      <td>99.00</td>\n",
       "      <td>999.0</td>\n",
       "      <td>1025.6</td>\n",
       "      <td>999.0</td>\n",
       "      <td>22.5</td>\n",
       "      <td>999.0</td>\n",
       "      <td>99.0</td>\n",
       "      <td>99.0</td>\n",
       "    </tr>\n",
       "    <tr>\n",
       "      <th>1</th>\n",
       "      <td>2019 06 01 00 10</td>\n",
       "      <td>2019</td>\n",
       "      <td>06</td>\n",
       "      <td>01</td>\n",
       "      <td>00</td>\n",
       "      <td>10</td>\n",
       "      <td>999.0</td>\n",
       "      <td>1.7</td>\n",
       "      <td>2.5</td>\n",
       "      <td>99.00</td>\n",
       "      <td>99.00</td>\n",
       "      <td>99.00</td>\n",
       "      <td>999.0</td>\n",
       "      <td>1025.6</td>\n",
       "      <td>999.0</td>\n",
       "      <td>22.5</td>\n",
       "      <td>999.0</td>\n",
       "      <td>99.0</td>\n",
       "      <td>99.0</td>\n",
       "    </tr>\n",
       "    <tr>\n",
       "      <th>2</th>\n",
       "      <td>2019 06 01 00 20</td>\n",
       "      <td>2019</td>\n",
       "      <td>06</td>\n",
       "      <td>01</td>\n",
       "      <td>00</td>\n",
       "      <td>20</td>\n",
       "      <td>999.0</td>\n",
       "      <td>1.7</td>\n",
       "      <td>2.6</td>\n",
       "      <td>99.00</td>\n",
       "      <td>99.00</td>\n",
       "      <td>99.00</td>\n",
       "      <td>999.0</td>\n",
       "      <td>1025.7</td>\n",
       "      <td>999.0</td>\n",
       "      <td>22.5</td>\n",
       "      <td>999.0</td>\n",
       "      <td>99.0</td>\n",
       "      <td>99.0</td>\n",
       "    </tr>\n",
       "    <tr>\n",
       "      <th>3</th>\n",
       "      <td>2019 06 01 00 30</td>\n",
       "      <td>2019</td>\n",
       "      <td>06</td>\n",
       "      <td>01</td>\n",
       "      <td>00</td>\n",
       "      <td>30</td>\n",
       "      <td>999.0</td>\n",
       "      <td>1.2</td>\n",
       "      <td>2.0</td>\n",
       "      <td>99.00</td>\n",
       "      <td>99.00</td>\n",
       "      <td>99.00</td>\n",
       "      <td>999.0</td>\n",
       "      <td>1025.6</td>\n",
       "      <td>999.0</td>\n",
       "      <td>22.5</td>\n",
       "      <td>999.0</td>\n",
       "      <td>99.0</td>\n",
       "      <td>99.0</td>\n",
       "    </tr>\n",
       "    <tr>\n",
       "      <th>4</th>\n",
       "      <td>2019 06 01 00 40</td>\n",
       "      <td>2019</td>\n",
       "      <td>06</td>\n",
       "      <td>01</td>\n",
       "      <td>00</td>\n",
       "      <td>40</td>\n",
       "      <td>999.0</td>\n",
       "      <td>1.4</td>\n",
       "      <td>2.0</td>\n",
       "      <td>0.95</td>\n",
       "      <td>7.69</td>\n",
       "      <td>6.06</td>\n",
       "      <td>301.0</td>\n",
       "      <td>1025.6</td>\n",
       "      <td>999.0</td>\n",
       "      <td>22.5</td>\n",
       "      <td>999.0</td>\n",
       "      <td>99.0</td>\n",
       "      <td>99.0</td>\n",
       "    </tr>\n",
       "    <tr>\n",
       "      <th>...</th>\n",
       "      <td>...</td>\n",
       "      <td>...</td>\n",
       "      <td>...</td>\n",
       "      <td>...</td>\n",
       "      <td>...</td>\n",
       "      <td>...</td>\n",
       "      <td>...</td>\n",
       "      <td>...</td>\n",
       "      <td>...</td>\n",
       "      <td>...</td>\n",
       "      <td>...</td>\n",
       "      <td>...</td>\n",
       "      <td>...</td>\n",
       "      <td>...</td>\n",
       "      <td>...</td>\n",
       "      <td>...</td>\n",
       "      <td>...</td>\n",
       "      <td>...</td>\n",
       "      <td>...</td>\n",
       "    </tr>\n",
       "    <tr>\n",
       "      <th>82717</th>\n",
       "      <td>2020 12 31 23 10</td>\n",
       "      <td>2020</td>\n",
       "      <td>12</td>\n",
       "      <td>31</td>\n",
       "      <td>23</td>\n",
       "      <td>10</td>\n",
       "      <td>204.0</td>\n",
       "      <td>12.2</td>\n",
       "      <td>15.0</td>\n",
       "      <td>99.00</td>\n",
       "      <td>99.00</td>\n",
       "      <td>99.00</td>\n",
       "      <td>999.0</td>\n",
       "      <td>9999.0</td>\n",
       "      <td>22.5</td>\n",
       "      <td>22.2</td>\n",
       "      <td>17.7</td>\n",
       "      <td>99.0</td>\n",
       "      <td>99.0</td>\n",
       "    </tr>\n",
       "    <tr>\n",
       "      <th>82718</th>\n",
       "      <td>2020 12 31 23 20</td>\n",
       "      <td>2020</td>\n",
       "      <td>12</td>\n",
       "      <td>31</td>\n",
       "      <td>23</td>\n",
       "      <td>20</td>\n",
       "      <td>205.0</td>\n",
       "      <td>13.0</td>\n",
       "      <td>15.9</td>\n",
       "      <td>99.00</td>\n",
       "      <td>99.00</td>\n",
       "      <td>99.00</td>\n",
       "      <td>999.0</td>\n",
       "      <td>9999.0</td>\n",
       "      <td>22.5</td>\n",
       "      <td>22.2</td>\n",
       "      <td>17.5</td>\n",
       "      <td>99.0</td>\n",
       "      <td>99.0</td>\n",
       "    </tr>\n",
       "    <tr>\n",
       "      <th>82719</th>\n",
       "      <td>2020 12 31 23 30</td>\n",
       "      <td>2020</td>\n",
       "      <td>12</td>\n",
       "      <td>31</td>\n",
       "      <td>23</td>\n",
       "      <td>30</td>\n",
       "      <td>208.0</td>\n",
       "      <td>12.8</td>\n",
       "      <td>15.5</td>\n",
       "      <td>99.00</td>\n",
       "      <td>99.00</td>\n",
       "      <td>99.00</td>\n",
       "      <td>999.0</td>\n",
       "      <td>9999.0</td>\n",
       "      <td>22.5</td>\n",
       "      <td>22.2</td>\n",
       "      <td>17.6</td>\n",
       "      <td>99.0</td>\n",
       "      <td>99.0</td>\n",
       "    </tr>\n",
       "    <tr>\n",
       "      <th>82720</th>\n",
       "      <td>2020 12 31 23 40</td>\n",
       "      <td>2020</td>\n",
       "      <td>12</td>\n",
       "      <td>31</td>\n",
       "      <td>23</td>\n",
       "      <td>40</td>\n",
       "      <td>209.0</td>\n",
       "      <td>12.7</td>\n",
       "      <td>15.3</td>\n",
       "      <td>2.20</td>\n",
       "      <td>6.25</td>\n",
       "      <td>5.06</td>\n",
       "      <td>198.0</td>\n",
       "      <td>9999.0</td>\n",
       "      <td>22.5</td>\n",
       "      <td>22.2</td>\n",
       "      <td>17.3</td>\n",
       "      <td>99.0</td>\n",
       "      <td>99.0</td>\n",
       "    </tr>\n",
       "    <tr>\n",
       "      <th>82721</th>\n",
       "      <td>2020 12 31 23 50</td>\n",
       "      <td>2020</td>\n",
       "      <td>12</td>\n",
       "      <td>31</td>\n",
       "      <td>23</td>\n",
       "      <td>50</td>\n",
       "      <td>210.0</td>\n",
       "      <td>12.8</td>\n",
       "      <td>16.2</td>\n",
       "      <td>99.00</td>\n",
       "      <td>99.00</td>\n",
       "      <td>99.00</td>\n",
       "      <td>999.0</td>\n",
       "      <td>9999.0</td>\n",
       "      <td>22.5</td>\n",
       "      <td>22.1</td>\n",
       "      <td>17.3</td>\n",
       "      <td>99.0</td>\n",
       "      <td>99.0</td>\n",
       "    </tr>\n",
       "  </tbody>\n",
       "</table>\n",
       "<p>82722 rows × 19 columns</p>\n",
       "</div>"
      ],
      "text/plain": [
       "                     dt   #YY  MM  DD  hh  mm   WDIR  WSPD   GST   WVHT  \\\n",
       "0      2019 06 01 00 00  2019  06  01  00  00  999.0   1.8   2.7  99.00   \n",
       "1      2019 06 01 00 10  2019  06  01  00  10  999.0   1.7   2.5  99.00   \n",
       "2      2019 06 01 00 20  2019  06  01  00  20  999.0   1.7   2.6  99.00   \n",
       "3      2019 06 01 00 30  2019  06  01  00  30  999.0   1.2   2.0  99.00   \n",
       "4      2019 06 01 00 40  2019  06  01  00  40  999.0   1.4   2.0   0.95   \n",
       "...                 ...   ...  ..  ..  ..  ..    ...   ...   ...    ...   \n",
       "82717  2020 12 31 23 10  2020  12  31  23  10  204.0  12.2  15.0  99.00   \n",
       "82718  2020 12 31 23 20  2020  12  31  23  20  205.0  13.0  15.9  99.00   \n",
       "82719  2020 12 31 23 30  2020  12  31  23  30  208.0  12.8  15.5  99.00   \n",
       "82720  2020 12 31 23 40  2020  12  31  23  40  209.0  12.7  15.3   2.20   \n",
       "82721  2020 12 31 23 50  2020  12  31  23  50  210.0  12.8  16.2  99.00   \n",
       "\n",
       "         DPD    APD    MWD    PRES   ATMP  WTMP   DEWP   VIS  TIDE  \n",
       "0      99.00  99.00  999.0  1025.6  999.0  22.5  999.0  99.0  99.0  \n",
       "1      99.00  99.00  999.0  1025.6  999.0  22.5  999.0  99.0  99.0  \n",
       "2      99.00  99.00  999.0  1025.7  999.0  22.5  999.0  99.0  99.0  \n",
       "3      99.00  99.00  999.0  1025.6  999.0  22.5  999.0  99.0  99.0  \n",
       "4       7.69   6.06  301.0  1025.6  999.0  22.5  999.0  99.0  99.0  \n",
       "...      ...    ...    ...     ...    ...   ...    ...   ...   ...  \n",
       "82717  99.00  99.00  999.0  9999.0   22.5  22.2   17.7  99.0  99.0  \n",
       "82718  99.00  99.00  999.0  9999.0   22.5  22.2   17.5  99.0  99.0  \n",
       "82719  99.00  99.00  999.0  9999.0   22.5  22.2   17.6  99.0  99.0  \n",
       "82720   6.25   5.06  198.0  9999.0   22.5  22.2   17.3  99.0  99.0  \n",
       "82721  99.00  99.00  999.0  9999.0   22.5  22.1   17.3  99.0  99.0  \n",
       "\n",
       "[82722 rows x 19 columns]"
      ]
     },
     "execution_count": 3,
     "metadata": {},
     "output_type": "execute_result"
    }
   ],
   "source": [
    "metfn = r\"C:\\crs\\proj\\2019_DorianOBX\\41025\\41025_2019-2020.txt\"\n",
    "# have to force WDIR and MWD to be floats, otherwise integers are returned\n",
    "df = pd.read_csv(metfn,skiprows=range(1, 2),delim_whitespace=True,dtype={'WDIR': np.float64, 'MWD': np.float64}, \\\n",
    "                parse_dates={'dt':[0,1,2,3,4]},keep_date_col=True)\n",
    "df"
   ]
  },
  {
   "cell_type": "code",
   "execution_count": 4,
   "metadata": {},
   "outputs": [],
   "source": [
    "### Remove NaNs"
   ]
  },
  {
   "cell_type": "code",
   "execution_count": 5,
   "metadata": {},
   "outputs": [],
   "source": [
    "WVHT = df['WVHT'].values\n",
    "WVHT[WVHT>=99.]=np.nan\n",
    "DPD = df['DPD'].values\n",
    "DPD[DPD>=99.]=np.nan\n",
    "MWD = df['MWD'].values\n",
    "MWD[MWD>=999.]=np.nan"
   ]
  },
  {
   "cell_type": "code",
   "execution_count": 6,
   "metadata": {},
   "outputs": [],
   "source": [
    "# Calculate R2"
   ]
  },
  {
   "cell_type": "code",
   "execution_count": 7,
   "metadata": {},
   "outputs": [],
   "source": [
    "slopes = [0.02, 0.03, 0.04, 0.05]\n",
    "# these are the berm crests associated with those slopes\n",
    "crests = [1.50422101, 1.77857358, 2.05292616, 2.32727874]\n",
    "nt=len(WVHT)\n",
    "R2a = np.nan*np.ones((nt,4))\n",
    "\n",
    "for j in range(4):\n",
    "    for i in range(nt):\n",
    "\n",
    "        R2, _, _, _, _, _, _, = calcR2(WVHT[i],DPD[i],slopes[j])\n",
    "        R2a[i,j]=R2"
   ]
  },
  {
   "cell_type": "code",
   "execution_count": null,
   "metadata": {},
   "outputs": [],
   "source": []
  },
  {
   "cell_type": "code",
   "execution_count": 8,
   "metadata": {},
   "outputs": [
    {
     "name": "stderr",
     "output_type": "stream",
     "text": [
      "C:\\Users\\csherwood\\AppData\\Local\\Continuum\\miniconda3\\envs\\CRS\\lib\\site-packages\\ipykernel_launcher.py:3: RuntimeWarning: invalid value encountered in greater_equal\n",
      "  This is separate from the ipykernel package so we can avoid doing imports until\n"
     ]
    }
   ],
   "source": [
    "# full weight unless waves are offshore\n",
    "dirfac = np.zeros((nt,1))\n",
    "dirfac[MWD+58.>=180.]=1."
   ]
  },
  {
   "cell_type": "code",
   "execution_count": 9,
   "metadata": {},
   "outputs": [
    {
     "data": {
      "text/plain": [
       "[<matplotlib.lines.Line2D at 0x2c9c4f71f48>]"
      ]
     },
     "execution_count": 9,
     "metadata": {},
     "output_type": "execute_result"
    },
    {
     "data": {
      "image/png": "[encoded data removed]",
      "text/plain": [
       "<Figure size 432x288 with 1 Axes>"
      ]
     },
     "metadata": {
      "needs_background": "light"
     },
     "output_type": "display_data"
    }
   ],
   "source": [
    "ax = plt.subplot(4,1,1)\n",
    "plt.plot(R2a[:,0],'.')"
   ]
  },
  {
   "cell_type": "code",
   "execution_count": 10,
   "metadata": {},
   "outputs": [
    {
     "name": "stdout",
     "output_type": "stream",
     "text": [
      "threshold:  0.50422101\n",
      "pct:  53.28456474030724\n"
     ]
    },
    {
     "data": {
      "text/plain": [
       "{'n': 13670,\n",
       " 'nnan': 0,\n",
       " 'nvalid': 13670,\n",
       " 'mean': 0.5385467353276876,\n",
       " 'std': 0.24018616932952716,\n",
       " 'min': 0.13093388293210756,\n",
       " 'max': 2.177984974322216,\n",
       " 'd5': 0.2605190817087014,\n",
       " 'd25': 0.37587339317922625,\n",
       " 'd50': 0.48866874570209595,\n",
       " 'd75': 0.6362626370222361,\n",
       " 'd95': 0.9928404687662431}"
      ]
     },
     "execution_count": 10,
     "metadata": {},
     "output_type": "execute_result"
    }
   ],
   "source": [
    "#R2a[R2a<=.01]=np.nan\n",
    "t = crests[0]-1.\n",
    "print(\"threshold: \",t)\n",
    "x = R2a[~np.isnan(R2a[:,0]),0]\n",
    "pct=percentileofscore(x,t)\n",
    "print(\"pct: \",pct)\n",
    "stat_summary(x)"
   ]
  },
  {
   "cell_type": "code",
   "execution_count": 11,
   "metadata": {},
   "outputs": [
    {
     "name": "stdout",
     "output_type": "stream",
     "text": [
      "threshold:  0.77857358\n",
      "pct:  80.51938551572788\n"
     ]
    },
    {
     "data": {
      "text/plain": [
       "{'n': 13670,\n",
       " 'nnan': 0,\n",
       " 'nvalid': 13670,\n",
       " 'mean': 0.6041085665407939,\n",
       " 'std': 0.2694260552304666,\n",
       " 'min': 0.14687356758667744,\n",
       " 'max': 2.443129434225608,\n",
       " 'd5': 0.2922342643332635,\n",
       " 'd25': 0.4216316279703434,\n",
       " 'd50': 0.5481585090284804,\n",
       " 'd75': 0.7137202481806731,\n",
       " 'd95': 1.1137073034620042}"
      ]
     },
     "execution_count": 11,
     "metadata": {},
     "output_type": "execute_result"
    }
   ],
   "source": [
    "t = crests[1]-1.\n",
    "print(\"threshold: \",t)\n",
    "x = R2a[~np.isnan(R2a[:,1]),1]\n",
    "pct=percentileofscore(x,t)\n",
    "print(\"pct: \",pct)\n",
    "stat_summary(x)"
   ]
  },
  {
   "cell_type": "code",
   "execution_count": 12,
   "metadata": {},
   "outputs": [
    {
     "name": "stdout",
     "output_type": "stream",
     "text": [
      "threshold:  1.0529261600000002\n",
      "pct:  90.0512070226774\n"
     ]
    },
    {
     "data": {
      "text/plain": [
       "{'n': 13670,\n",
       " 'nnan': 0,\n",
       " 'nvalid': 13670,\n",
       " 'mean': 0.6751275918681627,\n",
       " 'std': 0.3010997922043214,\n",
       " 'min': 0.16414002960043023,\n",
       " 'max': 2.730343820475488,\n",
       " 'd5': 0.32658933520910005,\n",
       " 'd25': 0.4711986576800993,\n",
       " 'd50': 0.6126000435344765,\n",
       " 'd75': 0.7976252268378107,\n",
       " 'd95': 1.244634775066569}"
      ]
     },
     "execution_count": 12,
     "metadata": {},
     "output_type": "execute_result"
    }
   ],
   "source": [
    "t = crests[2]-1.\n",
    "print(\"threshold: \",t)\n",
    "x = R2a[~np.isnan(R2a[:,2]),2]\n",
    "pct=percentileofscore(x,t)\n",
    "print(\"pct: \",pct)\n",
    "stat_summary(x)"
   ]
  },
  {
   "cell_type": "code",
   "execution_count": 13,
   "metadata": {},
   "outputs": [
    {
     "name": "stdout",
     "output_type": "stream",
     "text": [
      "threshold:  1.3272787400000001\n",
      "pct:  94.02340892465253\n"
     ]
    },
    {
     "data": {
      "text/plain": [
       "{'n': 13670,\n",
       " 'nnan': 0,\n",
       " 'nvalid': 13670,\n",
       " 'mean': 0.7509096717725808,\n",
       " 'std': 0.33489780133159086,\n",
       " 'min': 0.18256450667486507,\n",
       " 'max': 3.036820901344392,\n",
       " 'd5': 0.36324850807487136,\n",
       " 'd25': 0.5240900144506887,\n",
       " 'd50': 0.6813634980395996,\n",
       " 'd75': 0.8871574862241316,\n",
       " 'd95': 1.3843431992400115}"
      ]
     },
     "execution_count": 13,
     "metadata": {},
     "output_type": "execute_result"
    }
   ],
   "source": [
    "t = crests[3]-1.\n",
    "print(\"threshold: \",t)\n",
    "x = R2a[~np.isnan(R2a[:,3]),3]\n",
    "pct=percentileofscore(x,t)\n",
    "print(\"pct: \",pct)\n",
    "stat_summary(x)"
   ]
  },
  {
   "cell_type": "code",
   "execution_count": 14,
   "metadata": {},
   "outputs": [
    {
     "name": "stdout",
     "output_type": "stream",
     "text": [
      "0.006364301389904901\n"
     ]
    },
    {
     "name": "stderr",
     "output_type": "stream",
     "text": [
      "C:\\Users\\csherwood\\AppData\\Local\\Continuum\\miniconda3\\envs\\CRS\\lib\\site-packages\\ipykernel_launcher.py:1: RuntimeWarning: invalid value encountered in greater\n",
      "  \"\"\"Entry point for launching an IPython kernel.\n"
     ]
    }
   ],
   "source": [
    "big = R2a[R2a>2.2]\n",
    "print(len(big)/13670)"
   ]
  }
 ],
 "metadata": {
  "kernelspec": {
   "display_name": "Python 3",
   "language": "python",
   "name": "python3"
  },
  "language_info": {
   "codemirror_mode": {
    "name": "ipython",
    "version": 3
   },
   "file_extension": ".py",
   "mimetype": "text/x-python",
   "name": "python",
   "nbconvert_exporter": "python",
   "pygments_lexer": "ipython3",
   "version": "3.7.6"
  }
 },
 "nbformat": 4,
 "nbformat_minor": 4
}
