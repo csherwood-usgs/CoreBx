{
 "cells": [
  {
   "cell_type": "markdown",
   "metadata": {},
   "source": [
    "### Process_CoreBx_multi_v3\n",
    "\n",
    "Read the interpolated DEMs and do volume calcs.\n",
    "This version was modifed in Santa Cruz to make new figure, and on the return to Woods Hole to process newest DEMs.\n",
    "v3 now uses EBK surface for filling, and offers choice of \"extend\" or \"clip\" for profiles. Also includes and option to plot profiles.\n",
    "\n",
    "None of the v3 stuff has actually been implemented yet.\n",
    "\n",
    "This reads the .nc files created by `CoreBx_multi`\n",
    "\n",
    "TODO:\n",
    "* Correct aspect ratio on maps?\n",
    "* Equal axes for all line plots?\n",
    "* Add labels to colorbars\n",
    "* Add a), b), ...\n",
    "* Remove titles?\n",
    "* If the x, y labeling changes in CoreBx_multi, then correct here too."
   ]
  },
  {
   "cell_type": "code",
   "execution_count": 1,
   "metadata": {},
   "outputs": [
    {
     "name": "stderr",
     "output_type": "stream",
     "text": [
      "C:\\Users\\csherwood\\AppData\\Local\\Continuum\\miniconda3\\envs\\IOOS\\lib\\site-packages\\xarray\\core\\merge.py:17: FutureWarning: The Panel class is removed from pandas. Accessing it from the top-level namespace will also be removed in the next version\n",
      "  PANDAS_TYPES = (pd.Series, pd.DataFrame, pd.Panel)\n"
     ]
    }
   ],
   "source": [
    "import numpy as np\n",
    "import matplotlib.pyplot as plt\n",
    "from datetime import datetime\n",
    "import xarray as xr\n",
    "# from dask.distributed import LocalCluster\n",
    "from scipy import interpolate, signal\n",
    "%matplotlib inline\n",
    "\n",
    "# These commands choose fonts that are editable in svg format\n",
    "plt.rcParams['pdf.fonttype'] = 42\n",
    "plt.rcParams['ps.fonttype'] = 42\n",
    "\n",
    "# colors\n",
    "dblue = '#1f77b4'\n",
    "# profiles colors\n",
    "cols=['#feedde','#fdbe85','#fd8d3c','#e6550d','#a63603']\n"
   ]
  },
  {
   "cell_type": "code",
   "execution_count": 2,
   "metadata": {},
   "outputs": [],
   "source": [
    "# Dates for DEMs\n",
    "dates = ([\\\n",
    "         \"30 Aug 2019\",\\\n",
    "         \"13 Sep 2019\",\\\n",
    "         \"11 Oct 2019\",\\\n",
    "         \"26 Nov 2019\"])\n",
    "\n",
    "pnames=['28-Aug','13-Sep','11-Oct','26-Nov']\n",
    "\n",
    "datum = 0.4 #elevation for volume calcs\n",
    "\n",
    "# Make an array of dicts, where analysis region is defined by:\n",
    "#  name\n",
    "#  e0 - UTM Easting of origin [m]\n",
    "#  n0 - UTM Northing of origin [m]\n",
    "#  xlen - Length of alongshore axis [m]\n",
    "#  ylen - Length of cross-shore axis [m]\n",
    "#  dxdy - grid size (must be isotropic right now) [m]\n",
    "#  theta - rotation CCW from x-axis [deg]\n",
    "#  xs_end - number of grid cells to approximate limit of overwash terrace\n",
    "#  d_end - number of grid cells to \n",
    "\n",
    "# This block is copied from CoreBx_multi, with addition of xs_end and d_end:\n",
    "# (region_1 adjusted to fit in DEMS)\n",
    "# (xs_end adjusted 1/24/2020)\n",
    "regions = [{'name':\"region_1\",\"e0\": 380500.,\"n0\": 3858240.,\"xlen\": 3400.,\"ylen\": 600.,\"dxdy\": 1.,\"theta\": 42.,'xs_end':400,'d_end':300},\n",
    "           {'name':\"region_2\",\"e0\": 383440.,\"n0\": 3860830.,\"xlen\": 3990.,\"ylen\": 700.,\"dxdy\": 1.,\"theta\": 41.,'xs_end':300,'d_end':200},\n",
    "           {'name':\"region_3\",\"e0\": 386485.,\"n0\": 3863430.,\"xlen\": 1200.,\"ylen\": 700.,\"dxdy\": 1.,\"theta\": 44.,'xs_end':350,'d_end':200},\n",
    "           {'name':\"region_4\",\"e0\": 387330.,\"n0\": 3864280.,\"xlen\": 4000.,\"ylen\": 700.,\"dxdy\": 1.,\"theta\": 45.,'xs_end':350,'d_end':200},\n",
    "           {'name':\"region_5\",\"e0\": 390140.,\"n0\": 3867115.,\"xlen\": 3400.,\"ylen\": 700.,\"dxdy\": 1.,\"theta\": 43.75,'xs_end':300,'d_end':200},\n",
    "           {'name':\"region_6\",\"e0\": 392600.,\"n0\": 3869450.,\"xlen\": 2440.,\"ylen\": 700.,\"dxdy\": 1.,\"theta\": 42.,'xs_end':400,'d_end':200},\n",
    "           {'name':\"region_7\",\"e0\": 394430.,\"n0\": 3871065.,\"xlen\": 3220.,\"ylen\": 700.,\"dxdy\": 1.,\"theta\": 42.,'xs_end':400,'d_end':200},\n",
    "           {'name':\"region_8\",\"e0\": 396800.,\"n0\": 3873240.,\"xlen\": 3500.,\"ylen\": 700.,\"dxdy\": 1.,\"theta\": 42.,'xs_end':500,'d_end':250},\n",
    "           {'name':\"region_9\",\"e0\": 399400.,\"n0\": 3875580.,\"xlen\": 3300.,\"ylen\": 700.,\"dxdy\": 1.,\"theta\": 40.,'xs_end':450,'d_end':250}]\n",
    "\n",
    "# Single region for debugging\n",
    "#regions = [{'name':\"region_3\",\"e0\": 386485.,\"n0\": 3863430.,\"xlen\": 1200.,\"ylen\": 700.,\"dxdy\": 1.,\"theta\": 44.,'xs_end':350,'d_end':200}]"
   ]
  },
  {
   "cell_type": "code",
   "execution_count": 11,
   "metadata": {},
   "outputs": [
    {
     "name": "stdout",
     "output_type": "stream",
     "text": [
      "clip\n",
      "nmaps, ncross, nalong:  4 600 3400\n",
      "ncrossf, nalongf:  600 3400\n"
     ]
    },
    {
     "name": "stderr",
     "output_type": "stream",
     "text": [
      "CoreBx_funcs.py:69: RuntimeWarning: All-NaN axis encountered\n",
      "  profs[:,0:imx]=0.\n",
      "CoreBx_funcs.py:128: RuntimeWarning: Mean of empty slice\n",
      "  c, s = np.cos(thetar), np.sin(thetar)\n",
      "CoreBx_funcs.py:129: RuntimeWarning: invalid value encountered in double_scalars\n",
      "  \n"
     ]
    },
    {
     "name": "stdout",
     "output_type": "stream",
     "text": [
      "Done with volume calcs.\n"
     ]
    },
    {
     "name": "stderr",
     "output_type": "stream",
     "text": [
      "CoreBx_funcs.py:119: RuntimeWarning: Mean of empty slice\n",
      "  2D rotation and translation of x, y\n",
      "CoreBx_funcs.py:120: RuntimeWarning: Mean of empty slice\n",
      "  Input:\n"
     ]
    },
    {
     "name": "stdout",
     "output_type": "stream",
     "text": [
      "nmaps, ncross, nalong:  4 700 3990\n",
      "ncrossf, nalongf:  700 3990\n"
     ]
    },
    {
     "name": "stderr",
     "output_type": "stream",
     "text": [
      "CoreBx_funcs.py:128: RuntimeWarning: Mean of empty slice\n",
      "  c, s = np.cos(thetar), np.sin(thetar)\n",
      "CoreBx_funcs.py:129: RuntimeWarning: invalid value encountered in double_scalars\n",
      "  \n"
     ]
    },
    {
     "name": "stdout",
     "output_type": "stream",
     "text": [
      "Done with volume calcs.\n",
      "nmaps, ncross, nalong:  4 700 1200\n",
      "ncrossf, nalongf:  700 1200\n",
      "Done with volume calcs.\n",
      "nmaps, ncross, nalong:  4 700 4000\n",
      "ncrossf, nalongf:  700 4000\n",
      "Done with volume calcs.\n",
      "nmaps, ncross, nalong:  4 700 3400\n",
      "ncrossf, nalongf:  700 3400\n",
      "Done with volume calcs.\n",
      "nmaps, ncross, nalong:  4 700 2440\n",
      "ncrossf, nalongf:  700 2440\n"
     ]
    },
    {
     "name": "stderr",
     "output_type": "stream",
     "text": [
      "CoreBx_funcs.py:69: RuntimeWarning: All-NaN axis encountered\n",
      "  profs[:,0:imx]=0.\n"
     ]
    },
    {
     "name": "stdout",
     "output_type": "stream",
     "text": [
      "Done with volume calcs.\n",
      "nmaps, ncross, nalong:  4 700 3220\n",
      "ncrossf, nalongf:  700 3220\n"
     ]
    },
    {
     "name": "stderr",
     "output_type": "stream",
     "text": [
      "CoreBx_funcs.py:69: RuntimeWarning: All-NaN axis encountered\n",
      "  profs[:,0:imx]=0.\n"
     ]
    },
    {
     "name": "stdout",
     "output_type": "stream",
     "text": [
      "Done with volume calcs.\n",
      "nmaps, ncross, nalong:  4 700 3500\n",
      "ncrossf, nalongf:  700 3500\n"
     ]
    },
    {
     "name": "stderr",
     "output_type": "stream",
     "text": [
      "CoreBx_funcs.py:69: RuntimeWarning: All-NaN axis encountered\n",
      "  profs[:,0:imx]=0.\n",
      "CoreBx_funcs.py:128: RuntimeWarning: Mean of empty slice\n",
      "  c, s = np.cos(thetar), np.sin(thetar)\n",
      "CoreBx_funcs.py:129: RuntimeWarning: invalid value encountered in double_scalars\n",
      "  \n"
     ]
    },
    {
     "name": "stdout",
     "output_type": "stream",
     "text": [
      "Done with volume calcs.\n"
     ]
    },
    {
     "name": "stderr",
     "output_type": "stream",
     "text": [
      "CoreBx_funcs.py:119: RuntimeWarning: Mean of empty slice\n",
      "  2D rotation and translation of x, y\n"
     ]
    },
    {
     "name": "stdout",
     "output_type": "stream",
     "text": [
      "nmaps, ncross, nalong:  4 700 3300\n",
      "ncrossf, nalongf:  700 3300\n"
     ]
    },
    {
     "name": "stderr",
     "output_type": "stream",
     "text": [
      "CoreBx_funcs.py:69: RuntimeWarning: All-NaN axis encountered\n",
      "  profs[:,0:imx]=0.\n",
      "CoreBx_funcs.py:128: RuntimeWarning: Mean of empty slice\n",
      "  c, s = np.cos(thetar), np.sin(thetar)\n",
      "CoreBx_funcs.py:129: RuntimeWarning: invalid value encountered in double_scalars\n",
      "  \n",
      "CoreBx_funcs.py:119: RuntimeWarning: Mean of empty slice\n",
      "  2D rotation and translation of x, y\n"
     ]
    },
    {
     "name": "stdout",
     "output_type": "stream",
     "text": [
      "Done with volume calcs.\n",
      "extend\n",
      "nmaps, ncross, nalong:  4 600 3400\n",
      "ncrossf, nalongf:  600 3400\n"
     ]
    },
    {
     "name": "stderr",
     "output_type": "stream",
     "text": [
      "CoreBx_funcs.py:69: RuntimeWarning: All-NaN axis encountered\n",
      "  profs[:,0:imx]=0.\n",
      "CoreBx_funcs.py:89: RankWarning: Polyfit may be poorly conditioned\n",
      "  if iplot:\n",
      "CoreBx_funcs.py:128: RuntimeWarning: Mean of empty slice\n",
      "  c, s = np.cos(thetar), np.sin(thetar)\n",
      "CoreBx_funcs.py:129: RuntimeWarning: invalid value encountered in double_scalars\n",
      "  \n"
     ]
    },
    {
     "name": "stdout",
     "output_type": "stream",
     "text": [
      "Done with volume calcs.\n"
     ]
    },
    {
     "name": "stderr",
     "output_type": "stream",
     "text": [
      "CoreBx_funcs.py:119: RuntimeWarning: Mean of empty slice\n",
      "  2D rotation and translation of x, y\n",
      "CoreBx_funcs.py:120: RuntimeWarning: Mean of empty slice\n",
      "  Input:\n"
     ]
    },
    {
     "name": "stdout",
     "output_type": "stream",
     "text": [
      "nmaps, ncross, nalong:  4 700 3990\n",
      "ncrossf, nalongf:  700 3990\n"
     ]
    },
    {
     "name": "stderr",
     "output_type": "stream",
     "text": [
      "CoreBx_funcs.py:128: RuntimeWarning: Mean of empty slice\n",
      "  c, s = np.cos(thetar), np.sin(thetar)\n",
      "CoreBx_funcs.py:129: RuntimeWarning: invalid value encountered in double_scalars\n",
      "  \n"
     ]
    },
    {
     "name": "stdout",
     "output_type": "stream",
     "text": [
      "Done with volume calcs.\n",
      "nmaps, ncross, nalong:  4 700 1200\n",
      "ncrossf, nalongf:  700 1200\n",
      "Done with volume calcs.\n",
      "nmaps, ncross, nalong:  4 700 4000\n",
      "ncrossf, nalongf:  700 4000\n",
      "Done with volume calcs.\n",
      "nmaps, ncross, nalong:  4 700 3400\n",
      "ncrossf, nalongf:  700 3400\n",
      "Done with volume calcs.\n",
      "nmaps, ncross, nalong:  4 700 2440\n",
      "ncrossf, nalongf:  700 2440\n"
     ]
    },
    {
     "name": "stderr",
     "output_type": "stream",
     "text": [
      "CoreBx_funcs.py:69: RuntimeWarning: All-NaN axis encountered\n",
      "  profs[:,0:imx]=0.\n"
     ]
    },
    {
     "name": "stdout",
     "output_type": "stream",
     "text": [
      "Done with volume calcs.\n",
      "nmaps, ncross, nalong:  4 700 3220\n",
      "ncrossf, nalongf:  700 3220\n"
     ]
    },
    {
     "name": "stderr",
     "output_type": "stream",
     "text": [
      "CoreBx_funcs.py:69: RuntimeWarning: All-NaN axis encountered\n",
      "  profs[:,0:imx]=0.\n"
     ]
    },
    {
     "name": "stdout",
     "output_type": "stream",
     "text": [
      "Done with volume calcs.\n",
      "nmaps, ncross, nalong:  4 700 3500\n",
      "ncrossf, nalongf:  700 3500\n"
     ]
    },
    {
     "name": "stderr",
     "output_type": "stream",
     "text": [
      "CoreBx_funcs.py:69: RuntimeWarning: All-NaN axis encountered\n",
      "  profs[:,0:imx]=0.\n",
      "CoreBx_funcs.py:128: RuntimeWarning: Mean of empty slice\n",
      "  c, s = np.cos(thetar), np.sin(thetar)\n",
      "CoreBx_funcs.py:129: RuntimeWarning: invalid value encountered in double_scalars\n",
      "  \n",
      "CoreBx_funcs.py:89: RankWarning: Polyfit may be poorly conditioned\n",
      "  if iplot:\n"
     ]
    },
    {
     "name": "stdout",
     "output_type": "stream",
     "text": [
      "cant calculate slope\n",
      "dist, profs [] []\n",
      "cant calculate slope\n",
      "dist, profs [] []\n",
      "Done with volume calcs.\n"
     ]
    },
    {
     "name": "stderr",
     "output_type": "stream",
     "text": [
      "CoreBx_funcs.py:119: RuntimeWarning: Mean of empty slice\n",
      "  2D rotation and translation of x, y\n"
     ]
    },
    {
     "name": "stdout",
     "output_type": "stream",
     "text": [
      "nmaps, ncross, nalong:  4 700 3300\n",
      "ncrossf, nalongf:  700 3300\n"
     ]
    },
    {
     "name": "stderr",
     "output_type": "stream",
     "text": [
      "CoreBx_funcs.py:69: RuntimeWarning: All-NaN axis encountered\n",
      "  profs[:,0:imx]=0.\n",
      "CoreBx_funcs.py:128: RuntimeWarning: Mean of empty slice\n",
      "  c, s = np.cos(thetar), np.sin(thetar)\n",
      "CoreBx_funcs.py:129: RuntimeWarning: invalid value encountered in double_scalars\n",
      "  \n"
     ]
    },
    {
     "name": "stdout",
     "output_type": "stream",
     "text": [
      "Done with volume calcs.\n"
     ]
    },
    {
     "name": "stderr",
     "output_type": "stream",
     "text": [
      "CoreBx_funcs.py:119: RuntimeWarning: Mean of empty slice\n",
      "  2D rotation and translation of x, y\n"
     ]
    },
    {
     "data": {
      "text/plain": [
       "<Figure size 432x288 with 0 Axes>"
      ]
     },
     "metadata": {},
     "output_type": "display_data"
    },
    {
     "data": {
      "image/png": "[encoded data removed]",
      "text/plain": [
       "<Figure size 432x288 with 1 Axes>"
      ]
     },
     "metadata": {
      "needs_background": "light"
     },
     "output_type": "display_data"
    },
    {
     "data": {
      "image/png": "[encoded data removed]",
      "text/plain": [
       "<Figure size 432x288 with 1 Axes>"
      ]
     },
     "metadata": {
      "needs_background": "light"
     },
     "output_type": "display_data"
    }
   ],
   "source": [
    "# define all of the functions by runnng this python file\n",
    "%run -i CoreBx_funcs\n",
    "\n",
    "# Volume calcs are made wrt this datum:\n",
    "datum = 0.4 #MHW\n",
    "\n",
    "# transect end options (holes is misleading...holes are filled with Sep_fill or zeros)\n",
    "holes = ([\"clip\",\"extend\"])\n",
    "ihole_list = [0,1]\n",
    "\n",
    "for ihole in ihole_list:\n",
    "    print(holes[ihole])\n",
    "\n",
    "    nmaps = len(dates)\n",
    "    vsum = np.zeros((nmaps))\n",
    "    vsumall = np.zeros((nmaps))\n",
    "    vchange = np.zeros((nmaps-1))\n",
    "    vchangeall = np.zeros((nmaps-1))\n",
    "\n",
    "    island_length=0.\n",
    "    statsfn = \"stats_{}.txt\".format(holes[ihole])\n",
    "    sfile = open(statsfn, \"w\")\n",
    "\n",
    "    for r in regions:\n",
    "        print(\"\",file=sfile)\n",
    "        print(r['name'],file=sfile)\n",
    "        \n",
    "        # read in the multi-map .nc file\n",
    "        fn = r['name']+'.nc'\n",
    "        dsa = xr.open_dataset(fn)\n",
    "        dsaa = np.squeeze(dsa.to_array())\n",
    "        nmaps,ncross,nalong=np.shape(dsaa)\n",
    "        print('nmaps, ncross, nalong: ',nmaps,ncross,nalong)\n",
    "        # NaNs below -1 m\n",
    "        dsaa = dsaa.where(dsaa>=-1.)\n",
    "        \n",
    "        # read in the fill map\n",
    "        fnf = r['name']+'_Sep_fill.nc'                \n",
    "        dsf = xr.open_dataset(fnf)\n",
    "        dsfa = np.squeeze(dsf.to_array())\n",
    "        ncrossf,nalongf=np.shape(dsfa)\n",
    "        print('ncrossf, nalongf: ',ncrossf,nalongf)\n",
    "        # NaNs below -1 m\n",
    "        dsfa = dsfa.where(dsfa>=-1.)       \n",
    "\n",
    "        map_stats(dsaa,sfile)      \n",
    "        diffmap = np.squeeze(np.diff(dsaa,axis=0))\n",
    "        diffmap_tot = np.squeeze( dsaa[-1,:,:]-dsaa[0,:,:])\n",
    "        print(np.shape(diffmap),file=sfile)\n",
    "        print(\"Stats for diffmap:\",file=sfile)\n",
    "        for i in range(0,nmaps-1):\n",
    "            print(\"2d stats for diffmap {} minus {}\".format(dates[i+1],dates[i]),file=sfile)\n",
    "            map_stats2d(np.squeeze(diffmap[i,:,:]),sfile)\n",
    "        print(\"Stats for last minus first:\",file=sfile)\n",
    "        map_stats2d(diffmap_tot, sfile)\n",
    "\n",
    "        v = np.zeros((nmaps,nalong))\n",
    "        vall = v.copy()\n",
    "        c = np.zeros((nmaps,nalong,2))\n",
    "        call = c.copy()\n",
    "        \n",
    "        xs_start = 0\n",
    "        xs_end = r['xs_end']\n",
    "        dxdy = r['dxdy']\n",
    "        xs_len = (xs_end-xs_start)\n",
    "        print('xs_len = ',xs_len,' cross-shore length: ',ncross*dxdy,file=sfile)\n",
    "\n",
    "        # calculate dhi\n",
    "        dhi = np.nanmax( dsaa[:,0:r['d_end'],:],axis=1)\n",
    "        print(\"Shape of dhi: \",np.shape(dhi),file=sfile)\n",
    "\n",
    "        mean_dhi = np.nanmean(dhi,1)\n",
    "        std_dhi = np.nanstd(dhi,1)\n",
    "\n",
    "#         # calculate volumes    \n",
    "#         # volumes for each transect in beach and overwash terrace (nmaps, nalong)\n",
    "#         v = np.squeeze(np.nansum(dsaa[:,xs_start:xs_end,:]-datum,axis=1))\n",
    "\n",
    "#         # volumes for each transect across entire cell (nmaps, nalong)\n",
    "#         vall = np.squeeze(np.nansum(dsaa[:,:,:]-datum,axis=1))\n",
    "\n",
    "        dist = np.arange(0,ncross)\n",
    "        #iprof = 120\n",
    "        for iprof in range(0,nalong):\n",
    "            proff = np.squeeze(np.array((dsaa[:,:,iprof])))\n",
    "            pfill = np.squeeze(np.array((dsfa[:,iprof])))\n",
    "            title_str = '{0}_Profile_{1}'.format(r['name'].capitalize(),iprof)\n",
    "            v[:,iprof], c[:,iprof,:]       = pvol(dist[xs_start:xs_end],proff[:,xs_start:xs_end],pfill[xs_start:xs_end],\\\n",
    "                                                  title_str,pnames,imethod=holes[ihole],datum=datum,iverbose=False,iplot=False,iprint=False)\n",
    "            vall[:,iprof], call[:,iprof,:] = pvol(dist,proff,pfill,\\\n",
    "                                                  title_str,pnames,imethod=holes[ihole],datum=datum,iverbose=False,iplot=False,iprint=False)\n",
    "\n",
    "        print('Done with volume calcs.')\n",
    "        print('Done with volume calcs.',file=sfile)\n",
    "\n",
    "        # respective volume differences (nmaps-1, nalong)\n",
    "        vdiff = np.squeeze(np.diff(v,axis=0))\n",
    "        vdiffall = np.squeeze(np.diff(vall,axis=0))\n",
    "\n",
    "        print('Shape of v: ',np.shape(v),file=sfile)\n",
    "        print('Shape of vdiff: ',np.shape(vdiff),file=sfile)\n",
    "\n",
    "        # average transect volume for overwash terrace (nmaps)\n",
    "        m = np.mean(v,1)\n",
    "        # average volume change for overwash terrace (nmaps-1)\n",
    "        mean_dv = np.sum(vdiff,1)/(ncross*dxdy)\n",
    "        print(\"m: \",m,file=sfile)\n",
    "        print(\"mean_dv\",mean_dv,file=sfile)\n",
    "\n",
    "        # update sum over entire island\n",
    "        vsum = vsum+np.nansum(v,1)\n",
    "        vsumall = vsumall+np.nansum(vall,1)\n",
    "        vchange = vchange+np.sum(vdiff,1)\n",
    "        vchangeall = vchangeall+np.sum(vdiffall,1)\n",
    "\n",
    "        island_length = island_length+r['xlen']\n",
    "\n",
    "        # calculate elevations\n",
    "        mean_elev_xs_len = np.nanmean(np.nanmean(dsaa[:,0:r['xs_end'],:],1),1)\n",
    "        mean_elev_all = np.nanmean(np.nanmean(dsaa,1),1)\n",
    "        print(\"Mean elevation in overwash terrace (m):\",mean_elev_xs_len,file=sfile )\n",
    "        print(\"Mean elevation in across entire island (m):\",mean_elev_all,file=sfile )\n",
    "\n",
    "        pc = 100*np.nanmean(vdiff)/np.mean(v)\n",
    "        pcall = 100*np.nanmean(vdiffall)/np.mean(vall)\n",
    "\n",
    "        print(\"Pct volume change in overwash terrace m:\",pc,\"%\",file=sfile)\n",
    "        print(\"Pct volume change in across entire island m:\",pcall,\"%\",file=sfile)\n",
    "        \n",
    "#         if(False):\n",
    "#             #% run -i plot_map_vols.py\n",
    "        \n",
    "    print('Vsum',vsum,' m3',file=sfile)\n",
    "    print('Volume change:',vchange, ' m3',file=sfile)\n",
    "    print('Volume change %',100*vchange/vsum[0], file=sfile)\n",
    "    print('Vsumall',vsumall,' m3',file=sfile)\n",
    "    print('Volume change all:',vchangeall, ' m3',file=sfile)\n",
    "    print('Volume change all %',100*vchangeall/vsumall[0],file=sfile)\n",
    "    print('Island length:',island_length,' m',file=sfile)\n",
    "    print('Mean volume change: ',vchange/island_length,' m3/m',file=sfile)\n",
    "\n",
    "    sfile.close()\n",
    "\n",
    "    # Plot total volumes\n",
    "    dtl = []\n",
    "    for date in dates:\n",
    "        dtl.append(datetime.strptime(date, \"%d %b %Y\"))\n",
    "    dt = np.array(dtl)\n",
    "\n",
    "    fig, ax = plt.subplots(1)\n",
    "    fig.autofmt_xdate()\n",
    "    plt.plot(dt,vsumall/1e6,label=\"Entire island\")\n",
    "    plt.plot(dt,vsum/1e6,label=\"Beach and overwash\")\n",
    "    plt.ylabel('Million m$^3$')\n",
    "    plt.xticks(dt)\n",
    "    plt.grid()\n",
    "    plt.legend()\n",
    "    plt.title('Island Volume')\n",
    "    fig_name = 'island_volume_{}.svg'.format(holes[ihole])\n",
    "    plt.savefig(fig_name,bbox_inches='tight', format='svg')"
   ]
  },
  {
   "cell_type": "code",
   "execution_count": 8,
   "metadata": {},
   "outputs": [
    {
     "data": {
      "text/plain": [
       "(4, 3300)"
      ]
     },
     "execution_count": 8,
     "metadata": {},
     "output_type": "execute_result"
    }
   ],
   "source": [
    "vsum"
   ]
  }
 ],
 "metadata": {
  "kernelspec": {
   "display_name": "Python 3",
   "language": "python",
   "name": "python3"
  },
  "language_info": {
   "codemirror_mode": {
    "name": "ipython",
    "version": 3
   },
   "file_extension": ".py",
   "mimetype": "text/x-python",
   "name": "python",
   "nbconvert_exporter": "python",
   "pygments_lexer": "ipython3",
   "version": "3.7.3"
  }
 },
 "nbformat": 4,
 "nbformat_minor": 2
}
