{
 "cells": [
  {
   "cell_type": "markdown",
   "id": "1cd7a90c",
   "metadata": {},
   "source": [
    "### Make a file to draw the bounding box for a Global Mapper image\n",
    "This is unnecessary now that I have found the bbox function in GM."
   ]
  },
  {
   "cell_type": "code",
   "execution_count": 1,
   "id": "68c3d351",
   "metadata": {},
   "outputs": [],
   "source": [
    "import numpy as np\n",
    "import matplotlib.pyplot as plt\n",
    "\n"
   ]
  },
  {
   "cell_type": "markdown",
   "id": "79ad3343",
   "metadata": {},
   "source": [
    "### Copy the metadata from the clipboard and edit to get:"
   ]
  },
  {
   "cell_type": "code",
   "execution_count": 2,
   "id": "713f5f63",
   "metadata": {},
   "outputs": [],
   "source": [
    "ulx=377829.500\n",
    "uly=3878276.500\n",
    "lrx=401813.500\n",
    "lry=3856218.500"
   ]
  },
  {
   "cell_type": "code",
   "execution_count": 3,
   "id": "c59cb1e2",
   "metadata": {},
   "outputs": [
    {
     "name": "stdout",
     "output_type": "stream",
     "text": [
      "Wrote gm_bbox_corners.csv\n"
     ]
    }
   ],
   "source": [
    "boxx = lrx-ulx\n",
    "boxy = uly-lry\n",
    "urx=ulx+boxx\n",
    "llx=ulx\n",
    "\n",
    "ury=uly\n",
    "lly=lry\n",
    "\n",
    "# write corners of the box into a .csv file\n",
    "corners_file = 'gm_bbox_corners.csv'\n",
    "f = open(corners_file, 'w')\n",
    "f.write('{:.1f},{:.1f}\\n'.format(ulx,ury))\n",
    "f.write('{:.1f},{:.1f}\\n'.format(urx,ury))\n",
    "f.write('{:.1f},{:.1f}\\n'.format(lrx,lry))\n",
    "f.write('{:.1f},{:.1f}\\n'.format(llx,lly))\n",
    "f.write('{:.1f},{:.1f}\\n'.format(ulx,ury))\n",
    "f.close()\n",
    "print('Wrote', corners_file)"
   ]
  }
 ],
 "metadata": {
  "kernelspec": {
   "display_name": "Python 3 (ipykernel)",
   "language": "python",
   "name": "python3"
  },
  "language_info": {
   "codemirror_mode": {
    "name": "ipython",
    "version": 3
   },
   "file_extension": ".py",
   "mimetype": "text/x-python",
   "name": "python",
   "nbconvert_exporter": "python",
   "pygments_lexer": "ipython3",
   "version": "3.10.4"
  }
 },
 "nbformat": 4,
 "nbformat_minor": 5
}
