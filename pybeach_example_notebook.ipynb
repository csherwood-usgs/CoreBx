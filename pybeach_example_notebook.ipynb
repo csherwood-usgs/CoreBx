{
 "cells": [
  {
   "cell_type": "markdown",
   "metadata": {},
   "source": [
    "### pybeach_example_notebook\n",
    "This notebook implements the example notebook in the pybeach repo\n",
    "https://github.com/TomasBeuzen/pybeach/blob/master/example/example.ipynb"
   ]
  },
  {
   "cell_type": "code",
   "execution_count": 1,
   "metadata": {},
   "outputs": [
    {
     "ename": "ModuleNotFoundError",
     "evalue": "No module named 'pybeach'",
     "output_type": "error",
     "traceback": [
      "\u001b[1;31m---------------------------------------------------------------------------\u001b[0m",
      "\u001b[1;31mModuleNotFoundError\u001b[0m                       Traceback (most recent call last)",
      "\u001b[1;32m<ipython-input-1-efb464eaff60>\u001b[0m in \u001b[0;36m<module>\u001b[1;34m\u001b[0m\n\u001b[0;32m      5\u001b[0m \u001b[1;32mimport\u001b[0m \u001b[0mpandas\u001b[0m \u001b[1;32mas\u001b[0m \u001b[0mpd\u001b[0m\u001b[1;33m\u001b[0m\u001b[1;33m\u001b[0m\u001b[0m\n\u001b[0;32m      6\u001b[0m \u001b[1;32mimport\u001b[0m \u001b[0mmatplotlib\u001b[0m\u001b[1;33m.\u001b[0m\u001b[0mpyplot\u001b[0m \u001b[1;32mas\u001b[0m \u001b[0mplt\u001b[0m\u001b[1;33m\u001b[0m\u001b[1;33m\u001b[0m\u001b[0m\n\u001b[1;32m----> 7\u001b[1;33m \u001b[1;32mfrom\u001b[0m \u001b[0mpybeach\u001b[0m\u001b[1;33m.\u001b[0m\u001b[0mbeach\u001b[0m \u001b[1;32mimport\u001b[0m \u001b[0mProfile\u001b[0m\u001b[1;33m\u001b[0m\u001b[1;33m\u001b[0m\u001b[0m\n\u001b[0m\u001b[0;32m      8\u001b[0m \u001b[1;32mfrom\u001b[0m \u001b[0mpybeach\u001b[0m\u001b[1;33m.\u001b[0m\u001b[0msupport\u001b[0m \u001b[1;32mimport\u001b[0m \u001b[0mdata_support\u001b[0m \u001b[1;32mas\u001b[0m \u001b[0mds\u001b[0m\u001b[1;33m\u001b[0m\u001b[1;33m\u001b[0m\u001b[0m\n\u001b[0;32m      9\u001b[0m \u001b[1;32mfrom\u001b[0m \u001b[0mpybeach\u001b[0m\u001b[1;33m.\u001b[0m\u001b[0msupport\u001b[0m \u001b[1;32mimport\u001b[0m \u001b[0mclassifier_support\u001b[0m \u001b[1;32mas\u001b[0m \u001b[0mcs\u001b[0m\u001b[1;33m\u001b[0m\u001b[1;33m\u001b[0m\u001b[0m\n",
      "\u001b[1;31mModuleNotFoundError\u001b[0m: No module named 'pybeach'"
     ]
    }
   ],
   "source": [
    "import os\n",
    "import pickle\n",
    "import joblib\n",
    "import numpy as np\n",
    "import pandas as pd\n",
    "import matplotlib.pyplot as plt\n",
    "from pybeach.beach import Profile\n",
    "from pybeach.support import data_support as ds\n",
    "from pybeach.support import classifier_support as cs\n",
    "%matplotlib inline"
   ]
  },
  {
   "cell_type": "code",
   "execution_count": null,
   "metadata": {},
   "outputs": [],
   "source": [
    "# Load some test data of 200 profiles\n",
    "with open('test_profiles.pkl', 'rb') as f:\n",
    "    data = pickle.load(f)\n",
    "x, z, toe = data['x'], data['z'], data['toe']"
   ]
  },
  {
   "cell_type": "code",
   "execution_count": null,
   "metadata": {},
   "outputs": [],
   "source": [
    "# Create classifier\n",
    "clf = cs.create_classifier(x, z, toe, window=40, min_buffer=40, max_buffer=200)"
   ]
  },
  {
   "cell_type": "code",
   "execution_count": null,
   "metadata": {},
   "outputs": [],
   "source": [
    "# Instantiate Profile class\n",
    "p = Profile(x, z)\n",
    "# Make predictions of dune toe\n",
    "toe_ml, prob_ml = p.predict_dunetoe_ml('barrier_island_clf', dune_crest='rr', window_size=101, threshold=0.97)\n",
    "toe_mc = p.predict_dunetoe_mc(dune_crest='rr', window_size=101, threshold=0.97)\n",
    "toe_rr = p.predict_dunetoe_rr(dune_crest='rr', window_size=101, threshold=0.97, toe_threshold=0.2, verbose=False)\n",
    "toe_pd = p.predict_dunetoe_pd(dune_crest='rr', window_size=101, threshold=0.97)\n",
    "# Predict dune crest\n",
    "crest = p.predict_dunecrest()\n",
    "# Predict shoreline\n",
    "shoreline = p.predict_shoreline()"
   ]
  },
  {
   "cell_type": "code",
   "execution_count": null,
   "metadata": {},
   "outputs": [],
   "source": [
    "# Plotting Paramaters\n",
    "params = {'legend.fontsize': 12,\n",
    "           'axes.labelsize': 14,\n",
    "           'axes.labelweight': 'bold',\n",
    "           'axes.titlesize': 14,\n",
    "           'axes.titleweight': 'bold',\n",
    "           'xtick.labelsize': 14,\n",
    "           'ytick.labelsize': 14,\n",
    "           'mathtext.default':'regular'}\n",
    "plt.rcParams.update(params)"
   ]
  },
  {
   "cell_type": "code",
   "execution_count": null,
   "metadata": {},
   "outputs": [],
   "source": [
    "# Specify profile to plot\n",
    "n = 199\n",
    "# Figure metadata\n",
    "fig, axes = plt.subplots(1, 1, figsize=(7, 5))\n",
    "toes = [toe[n], toe_ml[n], toe_mc[n], toe_rr[n], toe_pd[n]]\n",
    "labels = ['True toe', 'Machine learning', 'Maximum curvature', 'Relative relief', 'Perpendicular distance']\n",
    "colors = ['k', 'tomato', 'cornflowerblue', 'gold', 'limegreen']\n",
    "# Generate figure\n",
    "axes.plot(x, z[n], '-k')\n",
    "axes.fill_between([70, 100], [0, 0], y2=-1, color='lightskyblue', alpha=0.5)\n",
    "axes.fill_between(x, z[n], y2=-1, color='cornsilk', alpha=1)\n",
    "axes.axvspan(-10, -9, color='tomato', alpha = 0.6, label='ML Toe probability') # legend placeholder\n",
    "for i, itoe in enumerate(toes): \n",
    "    axes.plot(x[itoe], z[n, itoe],\n",
    "              'o', color=colors[i], ms=12, mec='k', label=labels[i])\n",
    "axes.plot(x[crest[n]], z[n, crest[n]], 'v', color='k', ms=12, mec='k', label='Crest')\n",
    "axes.plot(x[shoreline[n]], z[n, shoreline[n]], '^', color='k', ms=12, mec='k', label='Shoreline')\n",
    "axes.set_xlim(200, 400)\n",
    "axes.set_ylim(0, 6)\n",
    "axes.set_title('Example profile')\n",
    "axes.set_xlabel('Cross-shore distance (m)')\n",
    "axes.set_ylabel('Elevation (m)')\n",
    "axes.grid()\n",
    "axes.legend(framealpha=1)\n",
    "# Plot dune toe ML probability\n",
    "axes2 = axes.twinx() \n",
    "axes2.fill_between(x, prob_ml[n], color='tomato', alpha=0.5)\n",
    "axes2.set_ylim(0, 6)\n",
    "axes2.set_yticks([0, 1])\n",
    "axes2.tick_params(axis='y', labelcolor='tomato')\n",
    "axes2.yaxis.set_label_coords(1.1, 0.1)\n",
    "axes2.set_ylabel('Toe probability', color='tomato', rotation=270);"
   ]
  }
 ],
 "metadata": {
  "kernelspec": {
   "display_name": "Python 3",
   "language": "python",
   "name": "python3"
  },
  "language_info": {
   "codemirror_mode": {
    "name": "ipython",
    "version": 3
   },
   "file_extension": ".py",
   "mimetype": "text/x-python",
   "name": "python",
   "nbconvert_exporter": "python",
   "pygments_lexer": "ipython3",
   "version": "3.7.6"
  }
 },
 "nbformat": 4,
 "nbformat_minor": 2
}
