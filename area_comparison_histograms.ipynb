{
 "cells": [
  {
   "cell_type": "markdown",
   "id": "5c2edb7d",
   "metadata": {},
   "source": [
    "### area_comparison_histograms - Analyze distribution of outwash and overwash metrics "
   ]
  },
  {
   "cell_type": "code",
   "execution_count": 1,
   "id": "30f4f27a",
   "metadata": {},
   "outputs": [],
   "source": [
    "import pandas as pd\n",
    "import matplotlib.pyplot as plt\n",
    "import numpy as np\n",
    "import statsmodels.api as sm\n",
    "\n",
    "from scipy import stats\n",
    "from CoreBx_funcs import UTM2Island"
   ]
  },
  {
   "cell_type": "code",
   "execution_count": 2,
   "id": "366f9ba7",
   "metadata": {},
   "outputs": [],
   "source": [
    "outdir = 'C:/crs/proj/2019_DorianOBX/Dorian_paper_analyses/figs/'"
   ]
  },
  {
   "cell_type": "markdown",
   "id": "fe31b1f6",
   "metadata": {},
   "source": [
    "#### Import Jin-Si's washover/washout statistics for Dorian  \n",
    "Calculate the statistics"
   ]
  },
  {
   "cell_type": "code",
   "execution_count": 3,
   "id": "f8bd7eb3",
   "metadata": {},
   "outputs": [
    {
     "data": {
      "text/html": [
       "<div>\n",
       "<style scoped>\n",
       "    .dataframe tbody tr th:only-of-type {\n",
       "        vertical-align: middle;\n",
       "    }\n",
       "\n",
       "    .dataframe tbody tr th {\n",
       "        vertical-align: top;\n",
       "    }\n",
       "\n",
       "    .dataframe thead th {\n",
       "        text-align: right;\n",
       "    }\n",
       "</style>\n",
       "<table border=\"1\" class=\"dataframe\">\n",
       "  <thead>\n",
       "    <tr style=\"text-align: right;\">\n",
       "      <th></th>\n",
       "      <th>Dorian ID</th>\n",
       "      <th>Shape_Area</th>\n",
       "      <th>Perimeter_m</th>\n",
       "      <th>MIN_elev</th>\n",
       "      <th>MAX_elev</th>\n",
       "      <th>RANGE_elev</th>\n",
       "      <th>MEAN_elev</th>\n",
       "      <th>STD_elev</th>\n",
       "      <th>Volume_m3</th>\n",
       "      <th>CENTROID_X</th>\n",
       "      <th>...</th>\n",
       "      <th>Throat_m</th>\n",
       "      <th>Connected to Backbarrier [0 = yes]</th>\n",
       "      <th>Type</th>\n",
       "      <th>Convex_Hull_Area</th>\n",
       "      <th>Convex_Hull_perimeter_m</th>\n",
       "      <th>Polygon_area_outside_overwash_m2</th>\n",
       "      <th>%outwash in overwash</th>\n",
       "      <th>w_over_l</th>\n",
       "      <th>R1</th>\n",
       "      <th>R2</th>\n",
       "    </tr>\n",
       "  </thead>\n",
       "  <tbody>\n",
       "    <tr>\n",
       "      <th>count</th>\n",
       "      <td>83.000000</td>\n",
       "      <td>83.000000</td>\n",
       "      <td>83.000000</td>\n",
       "      <td>83.000000</td>\n",
       "      <td>83.000000</td>\n",
       "      <td>83.000000</td>\n",
       "      <td>83.000000</td>\n",
       "      <td>83.000000</td>\n",
       "      <td>83.000000</td>\n",
       "      <td>83.000000</td>\n",
       "      <td>...</td>\n",
       "      <td>83.000000</td>\n",
       "      <td>83.000000</td>\n",
       "      <td>83.000000</td>\n",
       "      <td>83.000000</td>\n",
       "      <td>83.000000</td>\n",
       "      <td>83.000000</td>\n",
       "      <td>83.000000</td>\n",
       "      <td>83.000000</td>\n",
       "      <td>83.000000</td>\n",
       "      <td>83.000000</td>\n",
       "    </tr>\n",
       "    <tr>\n",
       "      <th>mean</th>\n",
       "      <td>50.168675</td>\n",
       "      <td>13357.244786</td>\n",
       "      <td>1720.486859</td>\n",
       "      <td>-3.470172</td>\n",
       "      <td>0.351663</td>\n",
       "      <td>3.821835</td>\n",
       "      <td>-1.100236</td>\n",
       "      <td>0.613746</td>\n",
       "      <td>-17530.628328</td>\n",
       "      <td>392330.831751</td>\n",
       "      <td>...</td>\n",
       "      <td>64.133614</td>\n",
       "      <td>0.951807</td>\n",
       "      <td>1.771084</td>\n",
       "      <td>20974.742418</td>\n",
       "      <td>477.022081</td>\n",
       "      <td>6409.451807</td>\n",
       "      <td>64.329398</td>\n",
       "      <td>0.613155</td>\n",
       "      <td>0.083084</td>\n",
       "      <td>0.602176</td>\n",
       "    </tr>\n",
       "    <tr>\n",
       "      <th>std</th>\n",
       "      <td>24.349998</td>\n",
       "      <td>16971.915496</td>\n",
       "      <td>1586.776354</td>\n",
       "      <td>1.349506</td>\n",
       "      <td>1.940630</td>\n",
       "      <td>2.437991</td>\n",
       "      <td>0.318790</td>\n",
       "      <td>0.201362</td>\n",
       "      <td>22576.012524</td>\n",
       "      <td>4696.150438</td>\n",
       "      <td>...</td>\n",
       "      <td>68.057895</td>\n",
       "      <td>0.215475</td>\n",
       "      <td>0.887931</td>\n",
       "      <td>24247.659837</td>\n",
       "      <td>317.529910</td>\n",
       "      <td>8820.152373</td>\n",
       "      <td>22.101518</td>\n",
       "      <td>0.162062</td>\n",
       "      <td>0.079704</td>\n",
       "      <td>0.115664</td>\n",
       "    </tr>\n",
       "    <tr>\n",
       "      <th>min</th>\n",
       "      <td>9.000000</td>\n",
       "      <td>45.170473</td>\n",
       "      <td>36.527037</td>\n",
       "      <td>-6.367895</td>\n",
       "      <td>-0.187000</td>\n",
       "      <td>0.517050</td>\n",
       "      <td>-1.620925</td>\n",
       "      <td>0.097495</td>\n",
       "      <td>-104763.000700</td>\n",
       "      <td>383981.399700</td>\n",
       "      <td>...</td>\n",
       "      <td>6.780000</td>\n",
       "      <td>0.000000</td>\n",
       "      <td>1.000000</td>\n",
       "      <td>53.871173</td>\n",
       "      <td>28.741685</td>\n",
       "      <td>0.000000</td>\n",
       "      <td>19.060000</td>\n",
       "      <td>0.255422</td>\n",
       "      <td>0.012837</td>\n",
       "      <td>0.381996</td>\n",
       "    </tr>\n",
       "    <tr>\n",
       "      <th>25%</th>\n",
       "      <td>29.500000</td>\n",
       "      <td>1309.232949</td>\n",
       "      <td>399.729079</td>\n",
       "      <td>-4.577519</td>\n",
       "      <td>0.012000</td>\n",
       "      <td>2.528500</td>\n",
       "      <td>-1.347768</td>\n",
       "      <td>0.496177</td>\n",
       "      <td>-23602.502290</td>\n",
       "      <td>388246.370450</td>\n",
       "      <td>...</td>\n",
       "      <td>20.600000</td>\n",
       "      <td>1.000000</td>\n",
       "      <td>1.000000</td>\n",
       "      <td>2580.625425</td>\n",
       "      <td>205.174807</td>\n",
       "      <td>133.650000</td>\n",
       "      <td>45.655000</td>\n",
       "      <td>0.486736</td>\n",
       "      <td>0.036557</td>\n",
       "      <td>0.517498</td>\n",
       "    </tr>\n",
       "    <tr>\n",
       "      <th>50%</th>\n",
       "      <td>50.000000</td>\n",
       "      <td>7192.257659</td>\n",
       "      <td>1335.763816</td>\n",
       "      <td>-3.555000</td>\n",
       "      <td>0.078000</td>\n",
       "      <td>3.701071</td>\n",
       "      <td>-1.175950</td>\n",
       "      <td>0.657948</td>\n",
       "      <td>-8017.533042</td>\n",
       "      <td>392907.803600</td>\n",
       "      <td>...</td>\n",
       "      <td>48.800000</td>\n",
       "      <td>1.000000</td>\n",
       "      <td>2.000000</td>\n",
       "      <td>13812.626360</td>\n",
       "      <td>459.433534</td>\n",
       "      <td>2870.500000</td>\n",
       "      <td>65.770000</td>\n",
       "      <td>0.640233</td>\n",
       "      <td>0.055660</td>\n",
       "      <td>0.597392</td>\n",
       "    </tr>\n",
       "    <tr>\n",
       "      <th>75%</th>\n",
       "      <td>70.500000</td>\n",
       "      <td>18258.678585</td>\n",
       "      <td>2352.407206</td>\n",
       "      <td>-2.488837</td>\n",
       "      <td>0.185500</td>\n",
       "      <td>4.839880</td>\n",
       "      <td>-0.889854</td>\n",
       "      <td>0.778154</td>\n",
       "      <td>-973.725797</td>\n",
       "      <td>396416.720250</td>\n",
       "      <td>...</td>\n",
       "      <td>72.550000</td>\n",
       "      <td>1.000000</td>\n",
       "      <td>2.000000</td>\n",
       "      <td>28888.340255</td>\n",
       "      <td>679.038933</td>\n",
       "      <td>9474.150000</td>\n",
       "      <td>83.590000</td>\n",
       "      <td>0.734440</td>\n",
       "      <td>0.103506</td>\n",
       "      <td>0.683845</td>\n",
       "    </tr>\n",
       "    <tr>\n",
       "      <th>max</th>\n",
       "      <td>92.000000</td>\n",
       "      <td>88995.590510</td>\n",
       "      <td>6901.773506</td>\n",
       "      <td>-0.621050</td>\n",
       "      <td>17.687000</td>\n",
       "      <td>21.242000</td>\n",
       "      <td>-0.301134</td>\n",
       "      <td>0.962666</td>\n",
       "      <td>-26.074226</td>\n",
       "      <td>400258.308500</td>\n",
       "      <td>...</td>\n",
       "      <td>446.000000</td>\n",
       "      <td>1.000000</td>\n",
       "      <td>5.000000</td>\n",
       "      <td>107869.518900</td>\n",
       "      <td>1349.089879</td>\n",
       "      <td>34979.900000</td>\n",
       "      <td>100.000000</td>\n",
       "      <td>0.924252</td>\n",
       "      <td>0.425437</td>\n",
       "      <td>0.855975</td>\n",
       "    </tr>\n",
       "  </tbody>\n",
       "</table>\n",
       "<p>8 rows × 23 columns</p>\n",
       "</div>"
      ],
      "text/plain": [
       "       Dorian ID    Shape_Area  Perimeter_m   MIN_elev   MAX_elev  RANGE_elev  \\\n",
       "count  83.000000     83.000000    83.000000  83.000000  83.000000   83.000000   \n",
       "mean   50.168675  13357.244786  1720.486859  -3.470172   0.351663    3.821835   \n",
       "std    24.349998  16971.915496  1586.776354   1.349506   1.940630    2.437991   \n",
       "min     9.000000     45.170473    36.527037  -6.367895  -0.187000    0.517050   \n",
       "25%    29.500000   1309.232949   399.729079  -4.577519   0.012000    2.528500   \n",
       "50%    50.000000   7192.257659  1335.763816  -3.555000   0.078000    3.701071   \n",
       "75%    70.500000  18258.678585  2352.407206  -2.488837   0.185500    4.839880   \n",
       "max    92.000000  88995.590510  6901.773506  -0.621050  17.687000   21.242000   \n",
       "\n",
       "       MEAN_elev   STD_elev      Volume_m3     CENTROID_X  ...    Throat_m  \\\n",
       "count  83.000000  83.000000      83.000000      83.000000  ...   83.000000   \n",
       "mean   -1.100236   0.613746  -17530.628328  392330.831751  ...   64.133614   \n",
       "std     0.318790   0.201362   22576.012524    4696.150438  ...   68.057895   \n",
       "min    -1.620925   0.097495 -104763.000700  383981.399700  ...    6.780000   \n",
       "25%    -1.347768   0.496177  -23602.502290  388246.370450  ...   20.600000   \n",
       "50%    -1.175950   0.657948   -8017.533042  392907.803600  ...   48.800000   \n",
       "75%    -0.889854   0.778154    -973.725797  396416.720250  ...   72.550000   \n",
       "max    -0.301134   0.962666     -26.074226  400258.308500  ...  446.000000   \n",
       "\n",
       "       Connected to Backbarrier [0 = yes]       Type  Convex_Hull_Area  \\\n",
       "count                           83.000000  83.000000         83.000000   \n",
       "mean                             0.951807   1.771084      20974.742418   \n",
       "std                              0.215475   0.887931      24247.659837   \n",
       "min                              0.000000   1.000000         53.871173   \n",
       "25%                              1.000000   1.000000       2580.625425   \n",
       "50%                              1.000000   2.000000      13812.626360   \n",
       "75%                              1.000000   2.000000      28888.340255   \n",
       "max                              1.000000   5.000000     107869.518900   \n",
       "\n",
       "       Convex_Hull_perimeter_m  Polygon_area_outside_overwash_m2  \\\n",
       "count                83.000000                         83.000000   \n",
       "mean                477.022081                       6409.451807   \n",
       "std                 317.529910                       8820.152373   \n",
       "min                  28.741685                          0.000000   \n",
       "25%                 205.174807                        133.650000   \n",
       "50%                 459.433534                       2870.500000   \n",
       "75%                 679.038933                       9474.150000   \n",
       "max                1349.089879                      34979.900000   \n",
       "\n",
       "       %outwash in overwash   w_over_l         R1         R2  \n",
       "count             83.000000  83.000000  83.000000  83.000000  \n",
       "mean              64.329398   0.613155   0.083084   0.602176  \n",
       "std               22.101518   0.162062   0.079704   0.115664  \n",
       "min               19.060000   0.255422   0.012837   0.381996  \n",
       "25%               45.655000   0.486736   0.036557   0.517498  \n",
       "50%               65.770000   0.640233   0.055660   0.597392  \n",
       "75%               83.590000   0.734440   0.103506   0.683845  \n",
       "max              100.000000   0.924252   0.425437   0.855975  \n",
       "\n",
       "[8 rows x 23 columns]"
      ]
     },
     "execution_count": 3,
     "metadata": {},
     "output_type": "execute_result"
    }
   ],
   "source": [
    "dbd = pd.read_csv('C:/crs/proj/2019_DorianOBX/Dorian_paper_analyses/Washover_Washout_NCB_Statistics_Dorian.csv')\n",
    "dbd['w_over_l']=dbd['Width_m']/dbd['Length_m']\n",
    "# dbd['a_over_p2']=dbd['Shape_Area']/dbd['Perimeter_m']**2\n",
    "# dbd['a_over_p2_norm']=dbd['Shape_Area']/dbd['Perimeter_m']**2*(4*np.pi)\n",
    "dbd['R1']=4*np.pi*dbd['Shape_Area']/dbd['Perimeter_m']**2\n",
    "dbd['R2']=dbd['Shape_Area']/dbd['Convex_Hull_Area']\n",
    "dbds=dbd.describe()\n",
    "dbds"
   ]
  },
  {
   "cell_type": "code",
   "execution_count": 4,
   "id": "c055ecf2",
   "metadata": {
    "scrolled": true
   },
   "outputs": [
    {
     "name": "stdout",
     "output_type": "stream",
     "text": [
      "Total connected to backbarrier: 4\n",
      "Total with area beyond overwash:  79\n",
      "0.9518072289156626\n"
     ]
    }
   ],
   "source": [
    "print('Total connected to backbarrier:',83-np.sum(dbd['Connected to Backbarrier [0 = yes]']))\n",
    "print('Total with area beyond overwash: ',np.sum(dbd['Polygon_area_outside_overwash_m2']>0))\n",
    "print(79/83)"
   ]
  },
  {
   "cell_type": "markdown",
   "id": "febc33f4",
   "metadata": {},
   "source": [
    "#### Import Jin-Si's washover/washout statistics for Dorian  \n",
    "Calculate the statistics"
   ]
  },
  {
   "cell_type": "code",
   "execution_count": 5,
   "id": "5de30958",
   "metadata": {},
   "outputs": [
    {
     "data": {
      "text/html": [
       "<div>\n",
       "<style scoped>\n",
       "    .dataframe tbody tr th:only-of-type {\n",
       "        vertical-align: middle;\n",
       "    }\n",
       "\n",
       "    .dataframe tbody tr th {\n",
       "        vertical-align: top;\n",
       "    }\n",
       "\n",
       "    .dataframe thead th {\n",
       "        text-align: right;\n",
       "    }\n",
       "</style>\n",
       "<table border=\"1\" class=\"dataframe\">\n",
       "  <thead>\n",
       "    <tr style=\"text-align: right;\">\n",
       "      <th></th>\n",
       "      <th>Florence Overwash ID</th>\n",
       "      <th>Dorian_binary</th>\n",
       "      <th>Centroid_X</th>\n",
       "      <th>Centroid_Y</th>\n",
       "      <th>Shape_perimeter_m</th>\n",
       "      <th>Shape_Area_m</th>\n",
       "      <th>MBG_Width</th>\n",
       "      <th>MBG_Length</th>\n",
       "      <th>Throat_m</th>\n",
       "      <th>Convex Hull_perimeter_m</th>\n",
       "      <th>Convex_Hull_Area_m2</th>\n",
       "      <th>w_over_l</th>\n",
       "      <th>R1</th>\n",
       "      <th>R2</th>\n",
       "    </tr>\n",
       "  </thead>\n",
       "  <tbody>\n",
       "    <tr>\n",
       "      <th>count</th>\n",
       "      <td>111.000000</td>\n",
       "      <td>111.000000</td>\n",
       "      <td>111.000000</td>\n",
       "      <td>1.110000e+02</td>\n",
       "      <td>111.000000</td>\n",
       "      <td>111.000000</td>\n",
       "      <td>111.000000</td>\n",
       "      <td>111.000000</td>\n",
       "      <td>111.000000</td>\n",
       "      <td>111.000000</td>\n",
       "      <td>111.000000</td>\n",
       "      <td>111.000000</td>\n",
       "      <td>111.000000</td>\n",
       "      <td>111.000000</td>\n",
       "    </tr>\n",
       "    <tr>\n",
       "      <th>mean</th>\n",
       "      <td>57.657658</td>\n",
       "      <td>0.657658</td>\n",
       "      <td>391137.360981</td>\n",
       "      <td>3.868215e+06</td>\n",
       "      <td>1565.782014</td>\n",
       "      <td>12673.461908</td>\n",
       "      <td>96.549647</td>\n",
       "      <td>241.682496</td>\n",
       "      <td>98.632162</td>\n",
       "      <td>505.898318</td>\n",
       "      <td>21709.691889</td>\n",
       "      <td>0.559434</td>\n",
       "      <td>0.085827</td>\n",
       "      <td>0.579176</td>\n",
       "    </tr>\n",
       "    <tr>\n",
       "      <th>std</th>\n",
       "      <td>33.169673</td>\n",
       "      <td>0.476645</td>\n",
       "      <td>5926.089304</td>\n",
       "      <td>5.473164e+03</td>\n",
       "      <td>3013.451748</td>\n",
       "      <td>26146.119446</td>\n",
       "      <td>61.096158</td>\n",
       "      <td>478.646847</td>\n",
       "      <td>157.671245</td>\n",
       "      <td>586.542395</td>\n",
       "      <td>51839.919319</td>\n",
       "      <td>0.181496</td>\n",
       "      <td>0.058858</td>\n",
       "      <td>0.116472</td>\n",
       "    </tr>\n",
       "    <tr>\n",
       "      <th>min</th>\n",
       "      <td>1.000000</td>\n",
       "      <td>0.000000</td>\n",
       "      <td>380207.238900</td>\n",
       "      <td>3.858298e+06</td>\n",
       "      <td>157.808411</td>\n",
       "      <td>145.659988</td>\n",
       "      <td>13.846546</td>\n",
       "      <td>33.205957</td>\n",
       "      <td>3.790000</td>\n",
       "      <td>78.021790</td>\n",
       "      <td>317.196433</td>\n",
       "      <td>0.032513</td>\n",
       "      <td>0.003024</td>\n",
       "      <td>0.301969</td>\n",
       "    </tr>\n",
       "    <tr>\n",
       "      <th>25%</th>\n",
       "      <td>29.500000</td>\n",
       "      <td>0.000000</td>\n",
       "      <td>387144.318600</td>\n",
       "      <td>3.864328e+06</td>\n",
       "      <td>576.387205</td>\n",
       "      <td>2241.907830</td>\n",
       "      <td>51.212225</td>\n",
       "      <td>104.363271</td>\n",
       "      <td>20.105000</td>\n",
       "      <td>273.583332</td>\n",
       "      <td>4311.111658</td>\n",
       "      <td>0.439194</td>\n",
       "      <td>0.047695</td>\n",
       "      <td>0.477289</td>\n",
       "    </tr>\n",
       "    <tr>\n",
       "      <th>50%</th>\n",
       "      <td>58.000000</td>\n",
       "      <td>1.000000</td>\n",
       "      <td>391942.656200</td>\n",
       "      <td>3.869034e+06</td>\n",
       "      <td>871.958331</td>\n",
       "      <td>4650.751583</td>\n",
       "      <td>83.309062</td>\n",
       "      <td>139.837405</td>\n",
       "      <td>41.900000</td>\n",
       "      <td>366.098833</td>\n",
       "      <td>8759.753020</td>\n",
       "      <td>0.540934</td>\n",
       "      <td>0.074076</td>\n",
       "      <td>0.575528</td>\n",
       "    </tr>\n",
       "    <tr>\n",
       "      <th>75%</th>\n",
       "      <td>85.500000</td>\n",
       "      <td>1.000000</td>\n",
       "      <td>395707.862750</td>\n",
       "      <td>3.872432e+06</td>\n",
       "      <td>1620.711681</td>\n",
       "      <td>14138.391045</td>\n",
       "      <td>126.711906</td>\n",
       "      <td>209.571405</td>\n",
       "      <td>112.390000</td>\n",
       "      <td>571.670337</td>\n",
       "      <td>21036.654245</td>\n",
       "      <td>0.698171</td>\n",
       "      <td>0.109456</td>\n",
       "      <td>0.668015</td>\n",
       "    </tr>\n",
       "    <tr>\n",
       "      <th>max</th>\n",
       "      <td>114.000000</td>\n",
       "      <td>1.000000</td>\n",
       "      <td>400797.350000</td>\n",
       "      <td>3.877069e+06</td>\n",
       "      <td>30259.207780</td>\n",
       "      <td>220349.238100</td>\n",
       "      <td>344.391763</td>\n",
       "      <td>4267.202497</td>\n",
       "      <td>1000.000000</td>\n",
       "      <td>5617.065085</td>\n",
       "      <td>491720.906400</td>\n",
       "      <td>0.909101</td>\n",
       "      <td>0.323881</td>\n",
       "      <td>0.815257</td>\n",
       "    </tr>\n",
       "  </tbody>\n",
       "</table>\n",
       "</div>"
      ],
      "text/plain": [
       "       Florence Overwash ID  Dorian_binary     Centroid_X    Centroid_Y  \\\n",
       "count            111.000000     111.000000     111.000000  1.110000e+02   \n",
       "mean              57.657658       0.657658  391137.360981  3.868215e+06   \n",
       "std               33.169673       0.476645    5926.089304  5.473164e+03   \n",
       "min                1.000000       0.000000  380207.238900  3.858298e+06   \n",
       "25%               29.500000       0.000000  387144.318600  3.864328e+06   \n",
       "50%               58.000000       1.000000  391942.656200  3.869034e+06   \n",
       "75%               85.500000       1.000000  395707.862750  3.872432e+06   \n",
       "max              114.000000       1.000000  400797.350000  3.877069e+06   \n",
       "\n",
       "       Shape_perimeter_m   Shape_Area_m   MBG_Width   MBG_Length     Throat_m  \\\n",
       "count         111.000000     111.000000  111.000000   111.000000   111.000000   \n",
       "mean         1565.782014   12673.461908   96.549647   241.682496    98.632162   \n",
       "std          3013.451748   26146.119446   61.096158   478.646847   157.671245   \n",
       "min           157.808411     145.659988   13.846546    33.205957     3.790000   \n",
       "25%           576.387205    2241.907830   51.212225   104.363271    20.105000   \n",
       "50%           871.958331    4650.751583   83.309062   139.837405    41.900000   \n",
       "75%          1620.711681   14138.391045  126.711906   209.571405   112.390000   \n",
       "max         30259.207780  220349.238100  344.391763  4267.202497  1000.000000   \n",
       "\n",
       "       Convex Hull_perimeter_m  Convex_Hull_Area_m2    w_over_l          R1  \\\n",
       "count               111.000000           111.000000  111.000000  111.000000   \n",
       "mean                505.898318         21709.691889    0.559434    0.085827   \n",
       "std                 586.542395         51839.919319    0.181496    0.058858   \n",
       "min                  78.021790           317.196433    0.032513    0.003024   \n",
       "25%                 273.583332          4311.111658    0.439194    0.047695   \n",
       "50%                 366.098833          8759.753020    0.540934    0.074076   \n",
       "75%                 571.670337         21036.654245    0.698171    0.109456   \n",
       "max                5617.065085        491720.906400    0.909101    0.323881   \n",
       "\n",
       "               R2  \n",
       "count  111.000000  \n",
       "mean     0.579176  \n",
       "std      0.116472  \n",
       "min      0.301969  \n",
       "25%      0.477289  \n",
       "50%      0.575528  \n",
       "75%      0.668015  \n",
       "max      0.815257  "
      ]
     },
     "execution_count": 5,
     "metadata": {},
     "output_type": "execute_result"
    }
   ],
   "source": [
    "dbf = pd.read_csv('C:/crs/proj/2019_DorianOBX/Dorian_paper_analyses/Washover_Washout_NCB_Statistics_Florence.csv',skiprows=2,header=0)\n",
    "dbf['w_over_l']=dbf['MBG_Width']/dbf['MBG_Length']\n",
    "#dbf['a_over_p2']=dbf['Shape_Area_m']/dbf['Shape_perimeter_m']**2\n",
    "dbf['R1']=4*np.pi*dbf['Shape_Area_m']/dbf['Shape_perimeter_m']**2\n",
    "dbf['R2']=dbf['Shape_Area_m']/dbf['Convex_Hull_Area_m2']\n",
    "dbfs=dbf.describe()\n",
    "dbfs"
   ]
  },
  {
   "cell_type": "markdown",
   "id": "d21cac62",
   "metadata": {},
   "source": [
    "#### Need to include this total area statistic, and also calculate these areas as fraction/percentage of island platform"
   ]
  },
  {
   "cell_type": "code",
   "execution_count": 6,
   "id": "68234b4a",
   "metadata": {},
   "outputs": [
    {
     "name": "stdout",
     "output_type": "stream",
     "text": [
      "Total area of Florence overwash: 1406754 m^2:\n",
      "Total area of Dorian outwash   : 1108651 m^2:\n",
      "AF/AD:  1.2688879271156113\n"
     ]
    }
   ],
   "source": [
    "AF = np.sum(dbf['Shape_Area_m'].values)\n",
    "AD = np.sum(dbd['Shape_Area'].values)\n",
    "print('Total area of Florence overwash: {:.0f} m^2:'.format( AF ))\n",
    "print('Total area of Dorian outwash   : {:.0f} m^2:'.format( AD ))\n",
    "print('AF/AD: ',AF/AD)"
   ]
  },
  {
   "cell_type": "code",
   "execution_count": 7,
   "id": "29e49880",
   "metadata": {},
   "outputs": [],
   "source": [
    "#### Load Lazarus overwash data"
   ]
  },
  {
   "cell_type": "code",
   "execution_count": 8,
   "id": "735316b1",
   "metadata": {},
   "outputs": [
    {
     "data": {
      "text/html": [
       "<div>\n",
       "<style scoped>\n",
       "    .dataframe tbody tr th:only-of-type {\n",
       "        vertical-align: middle;\n",
       "    }\n",
       "\n",
       "    .dataframe tbody tr th {\n",
       "        vertical-align: top;\n",
       "    }\n",
       "\n",
       "    .dataframe thead th {\n",
       "        text-align: right;\n",
       "    }\n",
       "</style>\n",
       "<table border=\"1\" class=\"dataframe\">\n",
       "  <thead>\n",
       "    <tr style=\"text-align: right;\">\n",
       "      <th></th>\n",
       "      <th>Florence Overwash ID</th>\n",
       "      <th>Dorian_binary</th>\n",
       "      <th>Centroid_X</th>\n",
       "      <th>Centroid_Y</th>\n",
       "      <th>Shape_perimeter_m</th>\n",
       "      <th>Shape_Area_m</th>\n",
       "      <th>MBG_Width</th>\n",
       "      <th>MBG_Length</th>\n",
       "      <th>Throat_m</th>\n",
       "      <th>Convex Hull_perimeter_m</th>\n",
       "      <th>Convex_Hull_Area_m2</th>\n",
       "      <th>w_over_l</th>\n",
       "      <th>R1</th>\n",
       "      <th>R2</th>\n",
       "    </tr>\n",
       "  </thead>\n",
       "  <tbody>\n",
       "    <tr>\n",
       "      <th>count</th>\n",
       "      <td>111.000000</td>\n",
       "      <td>111.000000</td>\n",
       "      <td>111.000000</td>\n",
       "      <td>1.110000e+02</td>\n",
       "      <td>111.000000</td>\n",
       "      <td>111.000000</td>\n",
       "      <td>111.000000</td>\n",
       "      <td>111.000000</td>\n",
       "      <td>111.000000</td>\n",
       "      <td>111.000000</td>\n",
       "      <td>111.000000</td>\n",
       "      <td>111.000000</td>\n",
       "      <td>111.000000</td>\n",
       "      <td>111.000000</td>\n",
       "    </tr>\n",
       "    <tr>\n",
       "      <th>mean</th>\n",
       "      <td>57.657658</td>\n",
       "      <td>0.657658</td>\n",
       "      <td>391137.360981</td>\n",
       "      <td>3.868215e+06</td>\n",
       "      <td>1565.782014</td>\n",
       "      <td>12673.461908</td>\n",
       "      <td>96.549647</td>\n",
       "      <td>241.682496</td>\n",
       "      <td>98.632162</td>\n",
       "      <td>505.898318</td>\n",
       "      <td>21709.691889</td>\n",
       "      <td>0.559434</td>\n",
       "      <td>0.085827</td>\n",
       "      <td>0.579176</td>\n",
       "    </tr>\n",
       "    <tr>\n",
       "      <th>std</th>\n",
       "      <td>33.169673</td>\n",
       "      <td>0.476645</td>\n",
       "      <td>5926.089304</td>\n",
       "      <td>5.473164e+03</td>\n",
       "      <td>3013.451748</td>\n",
       "      <td>26146.119446</td>\n",
       "      <td>61.096158</td>\n",
       "      <td>478.646847</td>\n",
       "      <td>157.671245</td>\n",
       "      <td>586.542395</td>\n",
       "      <td>51839.919319</td>\n",
       "      <td>0.181496</td>\n",
       "      <td>0.058858</td>\n",
       "      <td>0.116472</td>\n",
       "    </tr>\n",
       "    <tr>\n",
       "      <th>min</th>\n",
       "      <td>1.000000</td>\n",
       "      <td>0.000000</td>\n",
       "      <td>380207.238900</td>\n",
       "      <td>3.858298e+06</td>\n",
       "      <td>157.808411</td>\n",
       "      <td>145.659988</td>\n",
       "      <td>13.846546</td>\n",
       "      <td>33.205957</td>\n",
       "      <td>3.790000</td>\n",
       "      <td>78.021790</td>\n",
       "      <td>317.196433</td>\n",
       "      <td>0.032513</td>\n",
       "      <td>0.003024</td>\n",
       "      <td>0.301969</td>\n",
       "    </tr>\n",
       "    <tr>\n",
       "      <th>25%</th>\n",
       "      <td>29.500000</td>\n",
       "      <td>0.000000</td>\n",
       "      <td>387144.318600</td>\n",
       "      <td>3.864328e+06</td>\n",
       "      <td>576.387205</td>\n",
       "      <td>2241.907830</td>\n",
       "      <td>51.212225</td>\n",
       "      <td>104.363271</td>\n",
       "      <td>20.105000</td>\n",
       "      <td>273.583332</td>\n",
       "      <td>4311.111658</td>\n",
       "      <td>0.439194</td>\n",
       "      <td>0.047695</td>\n",
       "      <td>0.477289</td>\n",
       "    </tr>\n",
       "    <tr>\n",
       "      <th>50%</th>\n",
       "      <td>58.000000</td>\n",
       "      <td>1.000000</td>\n",
       "      <td>391942.656200</td>\n",
       "      <td>3.869034e+06</td>\n",
       "      <td>871.958331</td>\n",
       "      <td>4650.751583</td>\n",
       "      <td>83.309062</td>\n",
       "      <td>139.837405</td>\n",
       "      <td>41.900000</td>\n",
       "      <td>366.098833</td>\n",
       "      <td>8759.753020</td>\n",
       "      <td>0.540934</td>\n",
       "      <td>0.074076</td>\n",
       "      <td>0.575528</td>\n",
       "    </tr>\n",
       "    <tr>\n",
       "      <th>75%</th>\n",
       "      <td>85.500000</td>\n",
       "      <td>1.000000</td>\n",
       "      <td>395707.862750</td>\n",
       "      <td>3.872432e+06</td>\n",
       "      <td>1620.711681</td>\n",
       "      <td>14138.391045</td>\n",
       "      <td>126.711906</td>\n",
       "      <td>209.571405</td>\n",
       "      <td>112.390000</td>\n",
       "      <td>571.670337</td>\n",
       "      <td>21036.654245</td>\n",
       "      <td>0.698171</td>\n",
       "      <td>0.109456</td>\n",
       "      <td>0.668015</td>\n",
       "    </tr>\n",
       "    <tr>\n",
       "      <th>max</th>\n",
       "      <td>114.000000</td>\n",
       "      <td>1.000000</td>\n",
       "      <td>400797.350000</td>\n",
       "      <td>3.877069e+06</td>\n",
       "      <td>30259.207780</td>\n",
       "      <td>220349.238100</td>\n",
       "      <td>344.391763</td>\n",
       "      <td>4267.202497</td>\n",
       "      <td>1000.000000</td>\n",
       "      <td>5617.065085</td>\n",
       "      <td>491720.906400</td>\n",
       "      <td>0.909101</td>\n",
       "      <td>0.323881</td>\n",
       "      <td>0.815257</td>\n",
       "    </tr>\n",
       "  </tbody>\n",
       "</table>\n",
       "</div>"
      ],
      "text/plain": [
       "       Florence Overwash ID  Dorian_binary     Centroid_X    Centroid_Y  \\\n",
       "count            111.000000     111.000000     111.000000  1.110000e+02   \n",
       "mean              57.657658       0.657658  391137.360981  3.868215e+06   \n",
       "std               33.169673       0.476645    5926.089304  5.473164e+03   \n",
       "min                1.000000       0.000000  380207.238900  3.858298e+06   \n",
       "25%               29.500000       0.000000  387144.318600  3.864328e+06   \n",
       "50%               58.000000       1.000000  391942.656200  3.869034e+06   \n",
       "75%               85.500000       1.000000  395707.862750  3.872432e+06   \n",
       "max              114.000000       1.000000  400797.350000  3.877069e+06   \n",
       "\n",
       "       Shape_perimeter_m   Shape_Area_m   MBG_Width   MBG_Length     Throat_m  \\\n",
       "count         111.000000     111.000000  111.000000   111.000000   111.000000   \n",
       "mean         1565.782014   12673.461908   96.549647   241.682496    98.632162   \n",
       "std          3013.451748   26146.119446   61.096158   478.646847   157.671245   \n",
       "min           157.808411     145.659988   13.846546    33.205957     3.790000   \n",
       "25%           576.387205    2241.907830   51.212225   104.363271    20.105000   \n",
       "50%           871.958331    4650.751583   83.309062   139.837405    41.900000   \n",
       "75%          1620.711681   14138.391045  126.711906   209.571405   112.390000   \n",
       "max         30259.207780  220349.238100  344.391763  4267.202497  1000.000000   \n",
       "\n",
       "       Convex Hull_perimeter_m  Convex_Hull_Area_m2    w_over_l          R1  \\\n",
       "count               111.000000           111.000000  111.000000  111.000000   \n",
       "mean                505.898318         21709.691889    0.559434    0.085827   \n",
       "std                 586.542395         51839.919319    0.181496    0.058858   \n",
       "min                  78.021790           317.196433    0.032513    0.003024   \n",
       "25%                 273.583332          4311.111658    0.439194    0.047695   \n",
       "50%                 366.098833          8759.753020    0.540934    0.074076   \n",
       "75%                 571.670337         21036.654245    0.698171    0.109456   \n",
       "max                5617.065085        491720.906400    0.909101    0.323881   \n",
       "\n",
       "               R2  \n",
       "count  111.000000  \n",
       "mean     0.579176  \n",
       "std      0.116472  \n",
       "min      0.301969  \n",
       "25%      0.477289  \n",
       "50%      0.575528  \n",
       "75%      0.668015  \n",
       "max      0.815257  "
      ]
     },
     "execution_count": 8,
     "metadata": {},
     "output_type": "execute_result"
    }
   ],
   "source": [
    "fn='Lazarus_Supp.csv'\n",
    "dbl = pd.read_csv('C:/crs/proj/2019_DorianOBX/Dorian_paper_analyses/'+fn,header=0)\n",
    "dbls=dbf.describe()\n",
    "dbls"
   ]
  },
  {
   "cell_type": "markdown",
   "id": "ffccbe1f",
   "metadata": {},
   "source": [
    "#### Fit lines to data and plot"
   ]
  },
  {
   "cell_type": "code",
   "execution_count": 9,
   "id": "927a9a0e",
   "metadata": {},
   "outputs": [
    {
     "data": {
      "image/png": "[encoded data removed]",
      "text/plain": [
       "<Figure size 432x288 with 1 Axes>"
      ]
     },
     "metadata": {
      "needs_background": "light"
     },
     "output_type": "display_data"
    }
   ],
   "source": [
    "title='Length v. Area'\n",
    "figname = 'log10_length_v_area.svg'\n",
    "xf = np.log10(dbf['Shape_Area_m'])\n",
    "yf = np.log10(dbf['MBG_Length'])\n",
    "xd = np.log10(dbd['Shape_Area'])\n",
    "yd = np.log10(dbd['Length_m'])\n",
    "xl = np.log10(dbl['CB_05_area'])\n",
    "yl = np.log10(dbl['CB_05_length'])\n",
    "# get rid of NaNs in Lazarus data\n",
    "xl = xl[~np.isnan(yl)]\n",
    "yl = yl[~np.isnan(yl)]\n",
    "\n",
    "\n",
    "gradientl, interceptl, r_valuel, p_valuel, std_errl = stats.linregress(xl,yl)\n",
    "mn=np.min(xl)\n",
    "mx=np.max(xl)\n",
    "x1l=np.linspace(mn,mx,10)\n",
    "y1l=gradientl*x1l+interceptl\n",
    "\n",
    "\n",
    "gradientf, interceptf, r_valuef, p_valuef, std_errf = stats.linregress(xf,yf)\n",
    "mn=np.min(xf)\n",
    "mx=np.max(xf)\n",
    "x1f=np.linspace(mn,mx,10)\n",
    "y1f=gradientf*x1f+interceptf\n",
    "\n",
    "gradientd, interceptd, r_valued, p_valued, std_errd = stats.linregress(xd,yd)\n",
    "mn=np.min(xd)\n",
    "mx=np.max(xd)\n",
    "x1d=np.linspace(mn,mx,10)\n",
    "y1d=gradientd*x1d+interceptd\n",
    "\n",
    "ts = 'Overwash\\nN={:.0f}\\n$r^2$={:.2f}\\nslope={:.2f}'.format( len(xf),r_valuef,gradientf)\n",
    "ts2 = 'Outwash\\nN={:.0f}\\n$r^2$={:.2f}\\nslope={:.2f}'.format( len(xd),r_valued,gradientd)\n",
    "ts3 = 'Lazarus\\nN={:.0f}\\n$r^2$={:.2f}\\nslope={:.2f}'.format( len(xl),r_valuel,gradientl)\n",
    "\n",
    "fig, ax = plt.subplots(ncols=1)\n",
    "ax.plot(x1l,y1l,'--',c='gray')\n",
    "ax.plot(x1d,y1d,'--',c='tab:orange')\n",
    "ax.plot(x1f,y1f,'--',c='tab:blue')\n",
    "\n",
    "plt.text(x=.05, y=.7, s=ts, fontsize=10, c='tab:blue',transform=ax.transAxes)\n",
    "plt.text(x=.05, y=.4, s=ts2, fontsize=10, c='tab:orange',transform=ax.transAxes)\n",
    "plt.text(x=.75, y=.15, s=ts3, fontsize=10, c='gray',transform=ax.transAxes)\n",
    "\n",
    "ax.plot(xl,yl,'o',c='gray',label='Lazarus')\n",
    "ax.plot(xd,yd,'o',c='tab:orange',label='Outwash')\n",
    "ax.plot(xf,yf,'o',c='tab:blue',label='Overwash')\n",
    "plt.title(title)\n",
    "#ax.legend()\n",
    "plt.xlabel('log$_{10}$[Area (m)]')\n",
    "plt.ylabel('log$_{10}$[Length (m)]')\n",
    "plt.savefig(outdir+figname,dpi=200)"
   ]
  },
  {
   "cell_type": "markdown",
   "id": "21c1c9c0",
   "metadata": {},
   "source": [
    "#### Use a different Ordinary Least Squares (OLS) package that returns more statistics to evalulate"
   ]
  },
  {
   "cell_type": "code",
   "execution_count": 10,
   "id": "2e7745c9",
   "metadata": {},
   "outputs": [
    {
     "name": "stdout",
     "output_type": "stream",
     "text": [
      "Results with no intercept\"\n",
      "                                 OLS Regression Results                                \n",
      "=======================================================================================\n",
      "Dep. Variable:             MBG_Length   R-squared (uncentered):                   0.994\n",
      "Model:                            OLS   Adj. R-squared (uncentered):              0.993\n",
      "Method:                 Least Squares   F-statistic:                          1.685e+04\n",
      "Date:                Thu, 20 Jan 2022   Prob (F-statistic):                   3.45e-122\n",
      "Time:                        17:06:18   Log-Likelihood:                          34.070\n",
      "No. Observations:                 111   AIC:                                     -66.14\n",
      "Df Residuals:                     110   BIC:                                     -63.43\n",
      "Df Model:                           1                                                  \n",
      "Covariance Type:            nonrobust                                                  \n",
      "================================================================================\n",
      "                   coef    std err          t      P>|t|      [0.025      0.975]\n",
      "--------------------------------------------------------------------------------\n",
      "Shape_Area_m     0.5884      0.005    129.813      0.000       0.579       0.597\n",
      "==============================================================================\n",
      "Omnibus:                      106.080   Durbin-Watson:                   1.849\n",
      "Prob(Omnibus):                  0.000   Jarque-Bera (JB):             1510.881\n",
      "Skew:                           3.119   Prob(JB):                         0.00\n",
      "Kurtosis:                      19.963   Cond. No.                         1.00\n",
      "==============================================================================\n",
      "\n",
      "Notes:\n",
      "[1] R² is computed without centering (uncentered) since the model does not contain a constant.\n",
      "[2] Standard Errors assume that the covariance matrix of the errors is correctly specified.\n",
      "Results with intercept:\n",
      "                            OLS Regression Results                            \n",
      "==============================================================================\n",
      "Dep. Variable:             MBG_Length   R-squared:                       0.749\n",
      "Model:                            OLS   Adj. R-squared:                  0.747\n",
      "Method:                 Least Squares   F-statistic:                     325.8\n",
      "Date:                Thu, 20 Jan 2022   Prob (F-statistic):           1.57e-34\n",
      "Time:                        17:06:18   Log-Likelihood:                 41.399\n",
      "No. Observations:                 111   AIC:                            -78.80\n",
      "Df Residuals:                     109   BIC:                            -73.38\n",
      "Df Model:                           1                                         \n",
      "Covariance Type:            nonrobust                                         \n",
      "================================================================================\n",
      "                   coef    std err          t      P>|t|      [0.025      0.975]\n",
      "--------------------------------------------------------------------------------\n",
      "const            0.3942      0.101      3.923      0.000       0.195       0.593\n",
      "Shape_Area_m     0.4845      0.027     18.051      0.000       0.431       0.538\n",
      "==============================================================================\n",
      "Omnibus:                      138.870   Durbin-Watson:                   1.946\n",
      "Prob(Omnibus):                  0.000   Jarque-Bera (JB):             3667.697\n",
      "Skew:                           4.420   Prob(JB):                         0.00\n",
      "Kurtosis:                      29.737   Cond. No.                         25.2\n",
      "==============================================================================\n",
      "\n",
      "Notes:\n",
      "[1] Standard Errors assume that the covariance matrix of the errors is correctly specified.\n"
     ]
    }
   ],
   "source": [
    "# Florence overwash\n",
    "X = xf\n",
    "Y = yf\n",
    "print('Results with no intercept\"')\n",
    "model = sm.OLS(Y,X)\n",
    "results = model.fit()\n",
    "print(results.summary())\n",
    "# next line required to produce a model with an intercept\n",
    "print('Results with intercept:')\n",
    "X = sm.add_constant(X)\n",
    "model = sm.OLS(Y,X)\n",
    "results = model.fit()\n",
    "print(results.summary())"
   ]
  },
  {
   "cell_type": "code",
   "execution_count": 11,
   "id": "de41d88a",
   "metadata": {},
   "outputs": [
    {
     "name": "stdout",
     "output_type": "stream",
     "text": [
      "                            OLS Regression Results                            \n",
      "==============================================================================\n",
      "Dep. Variable:               Length_m   R-squared:                       0.953\n",
      "Model:                            OLS   Adj. R-squared:                  0.952\n",
      "Method:                 Least Squares   F-statistic:                     1627.\n",
      "Date:                Thu, 20 Jan 2022   Prob (F-statistic):           2.19e-55\n",
      "Time:                        17:06:18   Log-Likelihood:                 94.070\n",
      "No. Observations:                  83   AIC:                            -184.1\n",
      "Df Residuals:                      81   BIC:                            -179.3\n",
      "Df Model:                           1                                         \n",
      "Covariance Type:            nonrobust                                         \n",
      "==============================================================================\n",
      "                 coef    std err          t      P>|t|      [0.025      0.975]\n",
      "------------------------------------------------------------------------------\n",
      "const          0.4368      0.043     10.198      0.000       0.352       0.522\n",
      "Shape_Area     0.4606      0.011     40.330      0.000       0.438       0.483\n",
      "==============================================================================\n",
      "Omnibus:                        2.004   Durbin-Watson:                   1.673\n",
      "Prob(Omnibus):                  0.367   Jarque-Bera (JB):                1.992\n",
      "Skew:                           0.357   Prob(JB):                        0.369\n",
      "Kurtosis:                       2.744   Cond. No.                         19.8\n",
      "==============================================================================\n",
      "\n",
      "Notes:\n",
      "[1] Standard Errors assume that the covariance matrix of the errors is correctly specified.\n"
     ]
    }
   ],
   "source": [
    "# Dorian outwash\n",
    "X = xd\n",
    "Y = yd\n",
    "X = sm.add_constant(X)\n",
    "model = sm.OLS(Y,X)\n",
    "results = model.fit()\n",
    "print(results.summary())"
   ]
  },
  {
   "cell_type": "code",
   "execution_count": 12,
   "id": "199a97a2",
   "metadata": {},
   "outputs": [
    {
     "name": "stdout",
     "output_type": "stream",
     "text": [
      "                            OLS Regression Results                            \n",
      "==============================================================================\n",
      "Dep. Variable:           CB_05_length   R-squared:                       0.739\n",
      "Model:                            OLS   Adj. R-squared:                  0.735\n",
      "Method:                 Least Squares   F-statistic:                     178.8\n",
      "Date:                Thu, 20 Jan 2022   Prob (F-statistic):           4.63e-20\n",
      "Time:                        17:06:18   Log-Likelihood:                 68.577\n",
      "No. Observations:                  65   AIC:                            -133.2\n",
      "Df Residuals:                      63   BIC:                            -128.8\n",
      "Df Model:                           1                                         \n",
      "Covariance Type:            nonrobust                                         \n",
      "==============================================================================\n",
      "                 coef    std err          t      P>|t|      [0.025      0.975]\n",
      "------------------------------------------------------------------------------\n",
      "const          0.5289      0.118      4.467      0.000       0.292       0.765\n",
      "CB_05_area     0.4165      0.031     13.371      0.000       0.354       0.479\n",
      "==============================================================================\n",
      "Omnibus:                        5.349   Durbin-Watson:                   1.585\n",
      "Prob(Omnibus):                  0.069   Jarque-Bera (JB):                4.416\n",
      "Skew:                          -0.563   Prob(JB):                        0.110\n",
      "Kurtosis:                       3.600   Cond. No.                         45.3\n",
      "==============================================================================\n",
      "\n",
      "Notes:\n",
      "[1] Standard Errors assume that the covariance matrix of the errors is correctly specified.\n"
     ]
    }
   ],
   "source": [
    "# Lazurus overwash\n",
    "X = xl\n",
    "Y = yl\n",
    "X = sm.add_constant(X)\n",
    "model = sm.OLS(Y,X)\n",
    "results = model.fit()\n",
    "print(results.summary())"
   ]
  },
  {
   "cell_type": "code",
   "execution_count": 13,
   "id": "b09afdfd",
   "metadata": {},
   "outputs": [
    {
     "name": "stdout",
     "output_type": "stream",
     "text": [
      "                            OLS Regression Results                            \n",
      "==============================================================================\n",
      "Dep. Variable:                      y   R-squared:                       0.840\n",
      "Model:                            OLS   Adj. R-squared:                  0.839\n",
      "Method:                 Least Squares   F-statistic:                     1006.\n",
      "Date:                Thu, 20 Jan 2022   Prob (F-statistic):           2.85e-78\n",
      "Time:                        17:06:18   Log-Likelihood:                 108.90\n",
      "No. Observations:                 194   AIC:                            -213.8\n",
      "Df Residuals:                     192   BIC:                            -207.3\n",
      "Df Model:                           1                                         \n",
      "Covariance Type:            nonrobust                                         \n",
      "==============================================================================\n",
      "                 coef    std err          t      P>|t|      [0.025      0.975]\n",
      "------------------------------------------------------------------------------\n",
      "const          0.4210      0.056      7.552      0.000       0.311       0.531\n",
      "x1             0.4720      0.015     31.721      0.000       0.443       0.501\n",
      "==============================================================================\n",
      "Omnibus:                      233.602   Durbin-Watson:                   1.876\n",
      "Prob(Omnibus):                  0.000   Jarque-Bera (JB):            11611.713\n",
      "Skew:                           4.846   Prob(JB):                         0.00\n",
      "Kurtosis:                      39.641   Cond. No.                         22.4\n",
      "==============================================================================\n",
      "\n",
      "Notes:\n",
      "[1] Standard Errors assume that the covariance matrix of the errors is correctly specified.\n"
     ]
    }
   ],
   "source": [
    "# Both Dorian and Florence fit together\n",
    "X = np.concatenate((xf,xd))\n",
    "\n",
    "Y = np.concatenate((yf,yd))\n",
    "X = sm.add_constant(X)\n",
    "model = sm.OLS(Y,X)\n",
    "results = model.fit()\n",
    "print(results.summary())"
   ]
  },
  {
   "cell_type": "code",
   "execution_count": 14,
   "id": "28ff50a4",
   "metadata": {},
   "outputs": [
    {
     "name": "stdout",
     "output_type": "stream",
     "text": [
      "                            OLS Regression Results                            \n",
      "==============================================================================\n",
      "Dep. Variable:                      y   R-squared:                       0.813\n",
      "Model:                            OLS   Adj. R-squared:                  0.812\n",
      "Method:                 Least Squares   F-statistic:                     1116.\n",
      "Date:                Thu, 20 Jan 2022   Prob (F-statistic):           1.75e-95\n",
      "Time:                        17:06:18   Log-Likelihood:                 152.28\n",
      "No. Observations:                 259   AIC:                            -300.6\n",
      "Df Residuals:                     257   BIC:                            -293.4\n",
      "Df Model:                           1                                         \n",
      "Covariance Type:            nonrobust                                         \n",
      "==============================================================================\n",
      "                 coef    std err          t      P>|t|      [0.025      0.975]\n",
      "------------------------------------------------------------------------------\n",
      "const          0.4308      0.052      8.275      0.000       0.328       0.533\n",
      "x1             0.4624      0.014     33.400      0.000       0.435       0.490\n",
      "==============================================================================\n",
      "Omnibus:                      273.510   Durbin-Watson:                   1.644\n",
      "Prob(Omnibus):                  0.000   Jarque-Bera (JB):            13364.087\n",
      "Skew:                           4.202   Prob(JB):                         0.00\n",
      "Kurtosis:                      37.172   Cond. No.                         25.0\n",
      "==============================================================================\n",
      "\n",
      "Notes:\n",
      "[1] Standard Errors assume that the covariance matrix of the errors is correctly specified.\n"
     ]
    }
   ],
   "source": [
    "# Both Dorian and Florence and Eli's data fit together\n",
    "X = np.concatenate((xf,xd,xl))\n",
    "\n",
    "Y = np.concatenate((yf,yd,yl))\n",
    "X = sm.add_constant(X)\n",
    "model = sm.OLS(Y,X)\n",
    "results = model.fit()\n",
    "print(results.summary())"
   ]
  },
  {
   "cell_type": "markdown",
   "id": "d4bdb004",
   "metadata": {},
   "source": [
    "#### Thoughts on the fits\n",
    "* Since the std err for the slopes and intercepts encompass all of the values, there is no significant diff between these fits. I think we can say that, but it would be nice to be able to mention some arcane (to me) statistical test.\n",
    "* Same goes when you fit all together. "
   ]
  },
  {
   "cell_type": "code",
   "execution_count": 15,
   "id": "0188d2d4",
   "metadata": {},
   "outputs": [
    {
     "name": "stdout",
     "output_type": "stream",
     "text": [
      "Null hypothesis that distributions are equal can be rejected if p is small.\n",
      "p = 0.636\n"
     ]
    },
    {
     "data": {
      "image/png": "[encoded data removed]",
      "text/plain": [
       "<Figure size 432x288 with 1 Axes>"
      ]
     },
     "metadata": {
      "needs_background": "light"
     },
     "output_type": "display_data"
    },
    {
     "data": {
      "image/png": "[encoded data removed]",
      "text/plain": [
       "<Figure size 432x288 with 1 Axes>"
      ]
     },
     "metadata": {
      "needs_background": "light"
     },
     "output_type": "display_data"
    }
   ],
   "source": [
    "colname = 'Shape_Area_m'\n",
    "colname2 = 'Shape_Area'\n",
    "title='Shape Area'\n",
    "figname = 'shape_area.svg'\n",
    "\n",
    "data = np.log10(dbf[colname].values)\n",
    "data2 = np.log10(dbd[colname2].values)\n",
    "\n",
    "u, p = stats.mannwhitneyu(data, data2)\n",
    "print('Null hypothesis that distributions are equal can be rejected if p is small.')\n",
    "print('p = {:.3f}'.format(p))\n",
    "\n",
    "fig, ax1 = plt.subplots(ncols=1)\n",
    "bins = np.arange(1.5,5.6,.2)\n",
    "_ = ax1.hist(data, bins=bins, histtype='stepfilled', alpha=0.4)\n",
    "_ = ax1.hist(data2, bins=bins, histtype='stepfilled', alpha=0.4)\n",
    "\n",
    "plt.title(title)\n",
    "ts = \"Overwash N: {:.0f}\\nMean: {:.0f}\\nStd: {:.0f}\\nMin: {:.0f}\\n25%: {:.0f}\\nMedian: {:.0f}\\n75%: {:.0f}\\nMax: {:.0f}\".format(\\\n",
    "    dbfs[colname]['count'],dbfs[colname]['mean'],dbfs[colname]['std'],\\\n",
    "    dbfs[colname]['min'],dbfs[colname]['25%'],dbfs[colname]['50%'],dbfs[colname]['75%'],dbfs[colname]['max'])\n",
    "ts2 = \"Outwash N: {:.0f}\\nMean: {:.0f}\\nStd: {:.0f}\\nMin: {:.0f}\\n25%: {:.0f}\\nMedian: {:.0f}\\n75%: {:.0f}\\nMax: {:.0f}\".format(\\\n",
    "    dbds[colname2]['count'],dbds[colname2]['mean'],dbds[colname2]['std'],\\\n",
    "    dbds[colname2]['min'],dbds[colname2]['25%'],dbds[colname2]['50%'],dbds[colname2]['75%'],dbds[colname2]['max'])\n",
    "ax1.text(x=.1, y=.55, s=ts, fontsize=10, c='tab:blue',transform=ax1.transAxes)\n",
    "ax1.text(x=.75, y=.55, s=ts2, fontsize=10, c='tab:orange',transform=ax1.transAxes)\n",
    "\n",
    "plt.ylabel('Number')\n",
    "plt.xlabel('log$_{10}$[Area (m$^2$)]')\n",
    "plt.savefig(outdir+'hist_'+figname,dpi=200)\n",
    "\n",
    "boxfix, ax = plt.subplots(1,1,sharey=True)\n",
    "bp=ax.boxplot((data,data2),notch=True)\n",
    "plt.setp(bp['boxes'][0], color='tab:blue')\n",
    "plt.setp(bp['medians'][0], color='tab:blue')\n",
    "\n",
    "plt.setp(bp['boxes'][1], color='tab:orange')\n",
    "plt.setp(bp['medians'][1], color='tab:orange')\n",
    "\n",
    "ax.set_xticklabels(('Overwash','Outwash'))\n",
    "ax.set_ylabel('log$_{10}$[Area (m$^2$)]')\n",
    "plt.title(title)\n",
    "plt.savefig(outdir+'box_'+figname,dpi=200)"
   ]
  },
  {
   "cell_type": "code",
   "execution_count": 16,
   "id": "a82faad5",
   "metadata": {},
   "outputs": [
    {
     "name": "stdout",
     "output_type": "stream",
     "text": [
      "[1.5 1.7 1.9 2.1 2.3 2.5 2.7 2.9 3.1 3.3 3.5 3.7 3.9 4.1 4.3 4.5 4.7 4.9\n",
      " 5.1 5.3 5.5]\n",
      "[3.16227766e+01 5.01187234e+01 7.94328235e+01 1.25892541e+02\n",
      " 1.99526231e+02 3.16227766e+02 5.01187234e+02 7.94328235e+02\n",
      " 1.25892541e+03 1.99526231e+03 3.16227766e+03 5.01187234e+03\n",
      " 7.94328235e+03 1.25892541e+04 1.99526231e+04 3.16227766e+04\n",
      " 5.01187234e+04 7.94328235e+04 1.25892541e+05 1.99526231e+05\n",
      " 3.16227766e+05]\n",
      "10000.0\n"
     ]
    }
   ],
   "source": [
    "print(bins)\n",
    "print(10**bins)\n",
    "print(10**4.0)"
   ]
  },
  {
   "cell_type": "code",
   "execution_count": 17,
   "id": "066ad74b",
   "metadata": {},
   "outputs": [
    {
     "name": "stdout",
     "output_type": "stream",
     "text": [
      "Null hypothesis that distributions are equal can be rejected if p is small.\n",
      "p = 0.561\n"
     ]
    },
    {
     "data": {
      "image/png": "[encoded data removed]",
      "text/plain": [
       "<Figure size 432x288 with 1 Axes>"
      ]
     },
     "metadata": {
      "needs_background": "light"
     },
     "output_type": "display_data"
    },
    {
     "data": {
      "image/png": "[encoded data removed]",
      "text/plain": [
       "<Figure size 432x288 with 1 Axes>"
      ]
     },
     "metadata": {
      "needs_background": "light"
     },
     "output_type": "display_data"
    }
   ],
   "source": [
    "# post Florence\n",
    "colname = 'Convex_Hull_Area_m2'\n",
    "# post Dorian\n",
    "colname2 = 'Convex_Hull_Area'\n",
    "title='Convex Hull Area'\n",
    "figname = 'convex_hull_area.svg'\n",
    "data = np.log10(dbf[colname].values)\n",
    "data2 = np.log10(dbd[colname2].values)\n",
    "\n",
    "u, p = stats.mannwhitneyu(data, data2)\n",
    "print('Null hypothesis that distributions are equal can be rejected if p is small.')\n",
    "print('p = {:.3f}'.format(p))\n",
    "\n",
    "fig, ax1 = plt.subplots(ncols=1)\n",
    "bins = np.arange(1.5,5.6,.2)\n",
    "_ = ax1.hist(data, bins=bins, histtype='stepfilled', alpha=0.4)\n",
    "_ = ax1.hist(data2, bins=bins, histtype='stepfilled', alpha=0.4)\n",
    "\n",
    "ts = \"Overwash N: {:.0f}\\nMean: {:.0f}\\nStd: {:.0f}\\nMin: {:.0f}\\n25%: {:.0f}\\nMedian: {:.0f}\\n75%: {:.0f}\\nMax: {:.0f}\".format(\\\n",
    "    dbfs[colname]['count'],dbfs[colname]['mean'],dbfs[colname]['std'],\\\n",
    "    dbfs[colname]['min'],dbfs[colname]['25%'],dbfs[colname]['50%'],dbfs[colname]['75%'],dbfs[colname]['max'])\n",
    "ts2 = \"Outwash N: {:.0f}\\nMean: {:.0f}\\nStd: {:.0f}\\nMin: {:.0f}\\n25%: {:.0f}\\nMedian: {:.0f}\\n75%: {:.0f}\\nMax: {:.0f}\".format(\\\n",
    "    dbds[colname2]['count'],dbds[colname2]['mean'],dbds[colname2]['std'],\\\n",
    "    dbds[colname2]['min'],dbds[colname2]['25%'],dbds[colname2]['50%'],dbds[colname2]['75%'],dbds[colname2]['max'])\n",
    "ax1.text(x=.1, y=.55, s=ts, fontsize=10, c='tab:blue',transform=ax1.transAxes)\n",
    "ax1.text(x=.75, y=.55, s=ts2, fontsize=10, c='tab:orange',transform=ax1.transAxes)\n",
    "plt.title(title)\n",
    "plt.ylabel('Number')\n",
    "plt.xlabel('log$_{10}$[Area (m$^2$)]')\n",
    "plt.savefig(outdir+'hist_'+figname,dpi=200)\n",
    "\n",
    "boxfix, ax = plt.subplots(1,1,sharey=True)\n",
    "bp=ax.boxplot((data,data2),notch=True)\n",
    "plt.setp(bp['boxes'][0], color='tab:blue')\n",
    "plt.setp(bp['medians'][0], color='tab:blue')\n",
    "\n",
    "plt.setp(bp['boxes'][1], color='tab:orange')\n",
    "plt.setp(bp['medians'][1], color='tab:orange')\n",
    "\n",
    "ax.set_xticklabels(('Overwash','Outwash'))\n",
    "ax.set_ylabel('log$_{10}$[Area (m$^2$)]')\n",
    "plt.title(title)\n",
    "plt.savefig(outdir+'box_'+figname,dpi=200)"
   ]
  },
  {
   "cell_type": "code",
   "execution_count": 18,
   "id": "07084b89",
   "metadata": {},
   "outputs": [
    {
     "name": "stdout",
     "output_type": "stream",
     "text": [
      "Null hypothesis that distributions are equal can be rejected if p is small.\n",
      "p = 0.047\n"
     ]
    },
    {
     "data": {
      "image/png": "[encoded data removed]",
      "text/plain": [
       "<Figure size 432x288 with 1 Axes>"
      ]
     },
     "metadata": {
      "needs_background": "light"
     },
     "output_type": "display_data"
    },
    {
     "data": {
      "image/png": "[encoded data removed]",
      "text/plain": [
       "<Figure size 432x288 with 1 Axes>"
      ]
     },
     "metadata": {
      "needs_background": "light"
     },
     "output_type": "display_data"
    }
   ],
   "source": [
    "\n",
    "title='$R_1$ = 4*$\\pi$ Area / Perimeter$^2$'\n",
    "figname = 'area_over_perimeter2.svg'\n",
    "colnamef = 'R1'\n",
    "colnamed = 'R1'\n",
    "dataf = np.log10(dbf[colnamef].values)\n",
    "datad = np.log10(dbd[colnamed].values)\n",
    "\n",
    "u, p = stats.mannwhitneyu(dataf, datad)\n",
    "print('Null hypothesis that distributions are equal can be rejected if p is small.')\n",
    "print('p = {:.3f}'.format(p))\n",
    "\n",
    "fig, ax1 = plt.subplots(ncols=1)\n",
    "bins = np.arange(-2.5,-.5,.125)\n",
    "_ = ax1.hist(dataf, bins=bins, histtype='stepfilled', alpha=0.4)\n",
    "_ = ax1.hist(datad, bins=bins, histtype='stepfilled', alpha=0.4)\n",
    "\n",
    "ts = \"Overwash N: {:.0f}\\nMean: {:.3f}\\nStd: {:.3f}\\nMin: {:.3f}\\n25%: {:.3f}\\nMedian: {:.3f}\\n75%: {:.3f}\\nMax: {:.3f}\".format(\\\n",
    "    dbfs[colnamef]['count'],dbfs[colnamef]['mean'],dbfs[colnamef]['std'],\\\n",
    "    dbfs[colnamef]['min'],dbfs[colnamef]['25%'],dbfs[colnamef]['50%'],dbfs[colnamef]['75%'],dbfs[colnamef]['max'])\n",
    "ts2 = \"Outwash N: {:.0f}\\nMean: {:.3f}\\nStd: {:.3f}\\nMin: {:.3f}\\n25%: {:.3f}\\nMedian: {:.3f}\\n75%: {:.3f}\\nMax: {:.3f}\".format(\\\n",
    "    dbds[colnamed]['count'],dbds[colnamed]['mean'],dbds[colnamed]['std'],\n",
    "    dbds[colnamed]['min'],dbds[colnamed]['25%'],dbds[colnamed]['50%'],dbds[colnamed]['75%'],dbds[colnamed]['max'])\n",
    "ax1.text(x=.1, y=.55, s=ts, fontsize=10, c='tab:blue',transform=ax1.transAxes)\n",
    "ax1.text(x=.75, y=.55, s=ts2, fontsize=10, c='tab:orange',transform=ax1.transAxes)\n",
    "plt.title(title)\n",
    "plt.xlim((-2.25,-.4))\n",
    "plt.ylabel('Number')\n",
    "plt.xlabel('log$_{10}$[4$\\pi$Area / Perimeter$^2$]')\n",
    "plt.savefig(outdir+'hist_'+figname,dpi=200)\n",
    "\n",
    "boxfix, ax = plt.subplots(1,1,sharey=True)\n",
    "bp=ax.boxplot((data,data2),notch=True)\n",
    "plt.setp(bp['boxes'][0], color='tab:blue')\n",
    "plt.setp(bp['medians'][0], color='tab:blue')\n",
    "\n",
    "plt.setp(bp['boxes'][1], color='tab:orange')\n",
    "plt.setp(bp['medians'][1], color='tab:orange')\n",
    "\n",
    "ax.set_xticklabels(('Overwash','Outwash'))\n",
    "ax.set_ylabel('log$_{10}$[4$\\pi$Area / Perimeter$^2$]')\n",
    "plt.title(title)\n",
    "plt.savefig(outdir+'box_'+figname,dpi=200)"
   ]
  },
  {
   "cell_type": "code",
   "execution_count": 19,
   "id": "c071e9af",
   "metadata": {},
   "outputs": [
    {
     "name": "stdout",
     "output_type": "stream",
     "text": [
      "Null hypothesis that distributions are equal can be rejected if p is small.\n",
      "p = 0.198\n"
     ]
    },
    {
     "data": {
      "image/png": "[encoded data removed]",
      "text/plain": [
       "<Figure size 432x288 with 1 Axes>"
      ]
     },
     "metadata": {
      "needs_background": "light"
     },
     "output_type": "display_data"
    },
    {
     "data": {
      "image/png": "[encoded data removed]",
      "text/plain": [
       "<Figure size 432x288 with 1 Axes>"
      ]
     },
     "metadata": {
      "needs_background": "light"
     },
     "output_type": "display_data"
    }
   ],
   "source": [
    "title='$R_2$ =  Area / Convex Hull Area'\n",
    "figname = 'R2_area_over_convex_hull_area.svg'\n",
    "colnamef = 'R2'\n",
    "colnamed = 'R2'\n",
    "dataf = np.log10(dbf[colnamef].values)\n",
    "datad = np.log10(dbd[colnamed].values)\n",
    "\n",
    "u, p = stats.mannwhitneyu(dataf, datad)\n",
    "print('Null hypothesis that distributions are equal can be rejected if p is small.')\n",
    "print('p = {:.3f}'.format(p))\n",
    "\n",
    "fig, ax1 = plt.subplots(ncols=1)\n",
    "bins = np.arange(-.56,-.04,.02)\n",
    "_ = ax1.hist(dataf, bins=bins, histtype='stepfilled', alpha=0.4)\n",
    "_ = ax1.hist(datad, bins=bins, histtype='stepfilled', alpha=0.4)\n",
    "\n",
    "ts = \"Overwash N: {:.0f}\\nMean: {:.3f}\\nStd: {:.3f}\\nMin: {:.3f}\\n25%: {:.3f}\\nMedian: {:.3f}\\n75%: {:.3f}\\nMax: {:.3f}\".format(\\\n",
    "    dbfs[colnamef]['count'],dbfs[colnamef]['mean'],dbfs[colnamef]['std'],\\\n",
    "    dbfs[colnamef]['min'],dbfs[colnamef]['25%'],dbfs[colnamef]['50%'],dbfs[colnamef]['75%'],dbfs[colnamef]['max'])\n",
    "ts2 = \"Outwash N: {:.0f}\\nMean: {:.3f}\\nStd: {:.3f}\\nMin: {:.3f}\\n25%: {:.3f}\\nMedian: {:.3f}\\n75%: {:.3f}\\nMax: {:.3f}\".format(\\\n",
    "    dbds[colnamed]['count'],dbds[colnamed]['mean'],dbds[colnamed]['std'],\n",
    "    dbds[colnamed]['min'],dbds[colnamed]['25%'],dbds[colnamed]['50%'],dbds[colnamed]['75%'],dbds[colnamed]['max'])\n",
    "ax1.text(x=.1, y=.55, s=ts, fontsize=10, c='tab:blue',transform=ax1.transAxes)\n",
    "ax1.text(x=.75, y=.55, s=ts2, fontsize=10, c='tab:orange',transform=ax1.transAxes)\n",
    "plt.title(title)\n",
    "plt.xlim((-.6,0))\n",
    "plt.ylabel('Number')\n",
    "plt.xlabel('log$_{10}$[Area/Convex Hull Area]')\n",
    "plt.savefig(outdir+'hist_'+figname,dpi=200)\n",
    "\n",
    "boxfix, ax = plt.subplots(1,1,sharey=True)\n",
    "bp=ax.boxplot((data,data2),notch=True)\n",
    "plt.setp(bp['boxes'][0], color='tab:blue')\n",
    "plt.setp(bp['medians'][0], color='tab:blue')\n",
    "\n",
    "plt.setp(bp['boxes'][1], color='tab:orange')\n",
    "plt.setp(bp['medians'][1], color='tab:orange')\n",
    "\n",
    "ax.set_xticklabels(('Overwash','Outwash'))\n",
    "ax.set_ylabel('log$_{10}$[Area/Convex Hull Area]')\n",
    "plt.title(title)\n",
    "plt.savefig(outdir+'box_'+figname,dpi=200)"
   ]
  },
  {
   "cell_type": "markdown",
   "id": "8e77c010",
   "metadata": {},
   "source": [
    "#### Are R1 and R2 correlated? Not really"
   ]
  },
  {
   "cell_type": "code",
   "execution_count": 20,
   "id": "b4a7b6e5",
   "metadata": {},
   "outputs": [
    {
     "data": {
      "image/png": "[encoded data removed]",
      "text/plain": [
       "<Figure size 432x288 with 1 Axes>"
      ]
     },
     "metadata": {
      "needs_background": "light"
     },
     "output_type": "display_data"
    }
   ],
   "source": [
    "plt.plot(dbf['R1'],dbf['R2'],'o',label='Overwash')\n",
    "plt.plot(dbd['R1'],dbd['R2'],'o',label='Outwash')\n",
    "plt.ylabel('$R_2$ = log$_{10}$[Area/Convex Hull Area]')\n",
    "plt.xlabel('$R_1$ = log$_{10}$[4$\\pi$Area / Perimeter$^2$]')\n",
    "_=plt.legend()\n",
    "plt.savefig(outdir+'R1_R2_scatter.svg',dpi=200)"
   ]
  },
  {
   "cell_type": "code",
   "execution_count": 21,
   "id": "18896928",
   "metadata": {},
   "outputs": [
    {
     "data": {
      "text/plain": [
       "<matplotlib.legend.Legend at 0x1fdc1aaceb0>"
      ]
     },
     "execution_count": 21,
     "metadata": {},
     "output_type": "execute_result"
    },
    {
     "data": {
      "image/png": "[encoded data removed]",
      "text/plain": [
       "<Figure size 864x216 with 1 Axes>"
      ]
     },
     "metadata": {
      "needs_background": "light"
     },
     "output_type": "display_data"
    }
   ],
   "source": [
    "tapering = dbd.loc[dbd['Type'] == 1]['Shape_Area'].values\n",
    "lobate = dbd.loc[dbd['Type'] == 2]['Shape_Area'].values\n",
    "apron = dbd.loc[dbd['Type'] == 3]['Shape_Area'].values\n",
    "lagoonal = dbd.loc[dbd['Type'] == 4]['Shape_Area'].values\n",
    "barrier = dbd.loc[dbd['Type'] == 5]['Shape_Area'].values\n",
    "\n",
    "x1,y1 = UTM2Island(dbd.loc[dbd['Type'] == 1]['CENTROID_X'].values, dbd.loc[dbd['Type'] == 1]['CENTROID_Y'].values )\n",
    "x2,y2 = UTM2Island(dbd.loc[dbd['Type'] == 2]['CENTROID_X'].values, dbd.loc[dbd['Type'] == 2]['CENTROID_Y'].values )\n",
    "x3,y3 = UTM2Island(dbd.loc[dbd['Type'] == 3]['CENTROID_X'].values, dbd.loc[dbd['Type'] == 3]['CENTROID_Y'].values )\n",
    "x4,y4 = UTM2Island(dbd.loc[dbd['Type'] == 4]['CENTROID_X'].values, dbd.loc[dbd['Type'] == 4]['CENTROID_Y'].values )\n",
    "x5,y5 = UTM2Island(dbd.loc[dbd['Type'] == 5]['CENTROID_X'].values, dbd.loc[dbd['Type'] == 5]['CENTROID_Y'].values )\n",
    "\n",
    "cols=['#7fc97f','#beaed4','#fdc086','#ffff99','#386cb0']\n",
    "\n",
    "# scale by area\n",
    "ascaled = lambda a: 6.*np.sqrt(a)/(np.min(np.sqrt(a)))\n",
    "\n",
    "plt.figure(figsize=(12,3))\n",
    "plt.scatter(x1,y1,s=ascaled(tapering),c=cols[0],label='Tapering')\n",
    "plt.scatter(x2,y2,s=ascaled(lobate),c=cols[1],label='Lobate')\n",
    "plt.scatter(x3,y3,s=ascaled(apron),c=cols[2],label='Apron')\n",
    "plt.scatter(x4,y4,s=ascaled(lagoonal),c=cols[3],label='Lagoonal')\n",
    "plt.scatter(x5,y5,s=ascaled(barrier),c=cols[4],label='Barrier')\n",
    "plt.legend()"
   ]
  },
  {
   "cell_type": "code",
   "execution_count": 26,
   "id": "cb31f73a",
   "metadata": {
    "scrolled": true
   },
   "outputs": [
    {
     "name": "stdout",
     "output_type": "stream",
     "text": [
      "         N  median\n",
      "  tapering: 37  0.106\n",
      "  lobate:  33 0.043\n",
      "  apron:   10 0.035\n",
      "Null hypothesis that lobate and tapering distributions are equal can be rejected if p is small.\n",
      "p = 0.000033\n",
      "Null hypothesis that tapering and apron distributions are equal can be rejected if p is small.\n",
      "p = 0.000156\n"
     ]
    },
    {
     "data": {
      "image/png": "[encoded data removed]",
      "text/plain": [
       "<Figure size 432x288 with 1 Axes>"
      ]
     },
     "metadata": {
      "needs_background": "light"
     },
     "output_type": "display_data"
    },
    {
     "data": {
      "image/png": "[encoded data removed]",
      "text/plain": [
       "<Figure size 432x288 with 1 Axes>"
      ]
     },
     "metadata": {
      "needs_background": "light"
     },
     "output_type": "display_data"
    }
   ],
   "source": [
    "title='$R_1$ = 4*$\\pi$ Area / Perimeter$^2$ by Type'\n",
    "figname = 'R1_area_over_perimeter2_by_type.svg'\n",
    "# tapering = np.log10(dbd.loc[dbd['Type'] == 1]['R1'].values)\n",
    "# lobate = np.log10(dbd.loc[dbd['Type'] == 2]['R1'].values)\n",
    "# apron = np.log10(dbd.loc[dbd['Type'] == 3]['R1'].values)\n",
    "# lagoonal = np.log10(dbd.loc[dbd['Type'] == 4]['R1'].values)\n",
    "# barrier = np.log10(dbd.loc[dbd['Type'] == 5]['R1'].values)\n",
    "tapering = (dbd.loc[dbd['Type'] == 1]['R1'].values)\n",
    "lobate = (dbd.loc[dbd['Type'] == 2]['R1'].values)\n",
    "apron = (dbd.loc[dbd['Type'] == 3]['R1'].values)\n",
    "lagoonal = (dbd.loc[dbd['Type'] == 4]['R1'].values)\n",
    "barrier = (dbd.loc[dbd['Type'] == 5]['R1'].values)\n",
    "\n",
    "print('         N  median\\n  tapering: {}  {:.3f}\\n  lobate:  {} {:.3f}\\n  apron:   {} {:.3f}'.format(\\\n",
    "    len(tapering),np.median(tapering),\\\n",
    "    len(lobate),np.median(lobate),\\\n",
    "    len(apron),np.median(apron)                               ))\n",
    "\n",
    "u, p = stats.mannwhitneyu(lobate, tapering)\n",
    "print('Null hypothesis that lobate and tapering distributions are equal can be rejected if p is small.')\n",
    "print('p = {:f}'.format(p))\n",
    "u, p = stats.mannwhitneyu(tapering, apron)\n",
    "print('Null hypothesis that tapering and apron distributions are equal can be rejected if p is small.')\n",
    "print('p = {:f}'.format(p))\n",
    "\n",
    "fig, ax1 = plt.subplots(ncols=1)\n",
    "\n",
    "#bins = 15\n",
    "bins = np.arange(0.,.46,.02)\n",
    "_ = ax1.hist(tapering, bins=bins, histtype='stepfilled', linewidth=3, alpha=0.4)\n",
    "_ = ax1.hist(lobate, bins=bins, histtype='stepfilled', linewidth=3, alpha=0.4)\n",
    "_ = ax1.hist(apron, bins=bins, histtype='stepfilled', linewidth=3, alpha=0.4)\n",
    "\n",
    "plt.title(title)\n",
    "#plt.xlim((-.6,0))\n",
    "plt.ylabel('Number')\n",
    "#plt.xlabel('log$_{10}$[4$\\pi$Area / Perimeter$^2$]')\n",
    "plt.xlabel('4$\\pi$Area / Perimeter$^2$')\n",
    "\n",
    "plt.savefig(outdir+'hist_'+figname,dpi=200)\n",
    "\n",
    "boxfix, ax = plt.subplots(1,1,sharey=True)\n",
    "bp=ax.boxplot((tapering,lobate,apron),notch=True)\n",
    "plt.setp(bp['boxes'][0], color='tab:blue')\n",
    "plt.setp(bp['medians'][0], color='tab:blue')\n",
    "\n",
    "plt.setp(bp['boxes'][1], color='tab:orange')\n",
    "plt.setp(bp['medians'][1], color='tab:orange')\n",
    "\n",
    "plt.setp(bp['boxes'][2], color='tab:green')\n",
    "plt.setp(bp['medians'][2], color='tab:green')\n",
    "\n",
    "ax.set_xticklabels(('Tapering','Lobate','Apron'))\n",
    "ax.set_ylabel('4$\\pi$Area / Perimeter$^2$')\n",
    "plt.title(title)\n",
    "plt.savefig(outdir+'box_'+figname,dpi=200)"
   ]
  },
  {
   "cell_type": "code",
   "execution_count": 23,
   "id": "355313cb",
   "metadata": {},
   "outputs": [
    {
     "name": "stdout",
     "output_type": "stream",
     "text": [
      "Null hypothesis that lobate and tapering distributions are equal can be rejected if p is small.\n",
      "p = 0.001\n"
     ]
    },
    {
     "data": {
      "image/png": "[encoded data removed]",
      "text/plain": [
       "<Figure size 432x288 with 1 Axes>"
      ]
     },
     "metadata": {
      "needs_background": "light"
     },
     "output_type": "display_data"
    },
    {
     "data": {
      "image/png": "[encoded data removed]",
      "text/plain": [
       "<Figure size 432x288 with 1 Axes>"
      ]
     },
     "metadata": {
      "needs_background": "light"
     },
     "output_type": "display_data"
    }
   ],
   "source": [
    "title='$R_2$ =  Area / Convex Hull Area by Type'\n",
    "figname = 'R2_area_over_convex_hull_area_by_type.svg'\n",
    "# tapering = np.log10(dbd.loc[dbd['Type'] == 1]['R2'].values)\n",
    "# lobate = np.log10(dbd.loc[dbd['Type'] == 2]['R2'].values)\n",
    "# apron = np.log10(dbd.loc[dbd['Type'] == 3]['R2'].values)\n",
    "# lagoonal = np.log10(dbd.loc[dbd['Type'] == 4]['R2'].values)\n",
    "# barrier = np.log10(dbd.loc[dbd['Type'] == 5]['R2'].values)\n",
    "\n",
    "tapering = (dbd.loc[dbd['Type'] == 1]['R2'].values)\n",
    "lobate = (dbd.loc[dbd['Type'] == 2]['R2'].values)\n",
    "apron = (dbd.loc[dbd['Type'] == 3]['R2'].values)\n",
    "lagoonal = (dbd.loc[dbd['Type'] == 4]['R2'].values)\n",
    "barrier = (dbd.loc[dbd['Type'] == 5]['R2'].values)\n",
    "\n",
    "u, p = stats.mannwhitneyu(lobate, tapering)\n",
    "print('Null hypothesis that lobate and tapering distributions are equal can be rejected if p is small.')\n",
    "print('p = {:.3f}'.format(p))\n",
    "\n",
    "fig, ax1 = plt.subplots(ncols=1)\n",
    "\n",
    "bins = 15\n",
    "_ = ax1.hist(tapering, bins=bins, histtype='stepfilled', linewidth=3, alpha=0.4)\n",
    "_ = ax1.hist(lobate, bins=bins, histtype='stepfilled', linewidth=3, alpha=0.4)\n",
    "_ = ax1.hist(apron, bins=bins, histtype='stepfilled', linewidth=3, alpha=0.4)\n",
    "\n",
    "plt.title(title)\n",
    "#plt.xlim((-.6,0))\n",
    "plt.ylabel('Number')\n",
    "plt.xlabel('Area/Convex Hull Area []')\n",
    "plt.savefig(outdir+'hist_'+figname,dpi=200)\n",
    "\n",
    "boxfix, ax = plt.subplots(1,1,sharey=True)\n",
    "bp=ax.boxplot((tapering,lobate,apron),notch=True)\n",
    "plt.setp(bp['boxes'][0], color='tab:blue')\n",
    "plt.setp(bp['medians'][0], color='tab:blue')\n",
    "\n",
    "plt.setp(bp['boxes'][1], color='tab:orange')\n",
    "plt.setp(bp['medians'][1], color='tab:orange')\n",
    "\n",
    "plt.setp(bp['boxes'][2], color='tab:green')\n",
    "plt.setp(bp['medians'][2], color='tab:green')\n",
    "\n",
    "ax.set_xticklabels(('Tapering','Lobate','Apron'))\n",
    "ax.set_ylabel('Area/Convex Hull Area [ ]')\n",
    "plt.title(title)\n",
    "plt.savefig(outdir+'box_'+figname,dpi=200)"
   ]
  },
  {
   "cell_type": "markdown",
   "id": "a9c4624e",
   "metadata": {},
   "source": [
    "#### I don't understand these metrics."
   ]
  },
  {
   "cell_type": "code",
   "execution_count": 24,
   "id": "a2c15674",
   "metadata": {},
   "outputs": [
    {
     "name": "stdout",
     "output_type": "stream",
     "text": [
      "0.746679810018114\n",
      "0.7740510189649935\n"
     ]
    },
    {
     "data": {
      "image/png": "[encoded data removed]",
      "text/plain": [
       "<Figure size 432x288 with 1 Axes>"
      ]
     },
     "metadata": {
      "needs_background": "light"
     },
     "output_type": "display_data"
    }
   ],
   "source": [
    "h = np.random.random_sample(1000)\n",
    "l = 1/h\n",
    "#l = np.random.random_sample(1000)\n",
    "bins = 20\n",
    "\n",
    "#rectangles\n",
    "A = h*l\n",
    "Ps2 = (2*h+2*l)**2\n",
    "R1s = A/Ps2\n",
    "plt.hist(((4*np.pi*R1s)), bins=bins, histtype='stepfilled', linewidth=3, alpha=0.4, label='rectangles')\n",
    "\n",
    "#triangles\n",
    "a = np.random.random_sample(1000)\n",
    "b = np.random.random_sample(1000)\n",
    "c = np.sqrt(a**2+b**2)\n",
    "Pt = a+b+c\n",
    "Pt2 = Pt**2\n",
    "s = Pt/2\n",
    "At = np.sqrt(s*(s-a)*(s-b)*(s-c))\n",
    "R1t = At/Pt2\n",
    "_ = plt.hist(((4*np.pi*R1t)), bins=bins, histtype='stepfilled', linewidth=3, alpha=0.4, label='triangles')\n",
    "_ = plt.legend()\n",
    "_ = plt.title('R$_1$ = 4$\\pi$Area / Perimeter$^2$')\n",
    "\n",
    "# half circles\n",
    "r = 1\n",
    "Ac = 0.5*np.pi*r**2\n",
    "Pc = np.pi*r+2*r\n",
    "Pc2 = Pc**2\n",
    "R1c = Ac/Pc2\n",
    "print(4*np.pi*R1c)\n",
    "\n",
    "# quarter circle\n",
    "Ac = 0.25*np.pi*r**2\n",
    "Pc = 0.25*2.*np.pi*r+2*r\n",
    "Pc2 = Pc**2\n",
    "R1c = Ac/Pc2\n",
    "print(4*np.pi*R1c)\n"
   ]
  },
  {
   "cell_type": "code",
   "execution_count": 25,
   "id": "6dbf4a02",
   "metadata": {},
   "outputs": [
    {
     "name": "stdout",
     "output_type": "stream",
     "text": [
      "0.7853981633974483\n"
     ]
    },
    {
     "data": {
      "image/png": "[encoded data removed]",
      "text/plain": [
       "<Figure size 432x288 with 1 Axes>"
      ]
     },
     "metadata": {
      "needs_background": "light"
     },
     "output_type": "display_data"
    }
   ],
   "source": [
    "def r1circle(f):\n",
    "    r=1\n",
    "    Ac = f*np.pi*r**2\n",
    "    Pc = f*2.*np.pi*r+2*r\n",
    "    Pc2 = Pc**2\n",
    "    R1c = Ac/Pc2\n",
    "    return R1c\n",
    "    \n",
    "f = np.arange(.1,.9,.05)\n",
    "plt.plot(f,4*np.pi*r1circle(f))\n",
    "f = 1./np.pi\n",
    "plt.plot(f,4*np.pi*r1circle(f),'ok')\n",
    "print(4*np.pi*r1circle(f))\n",
    "plt.title('R1 for fractions of a circular area')\n",
    "_ = plt.ylabel('R$_1$ = 4$\\pi$Area / Perimeter$^2$')\n",
    "_ = plt.xlabel('Fraction of complete circle')"
   ]
  }
 ],
 "metadata": {
  "kernelspec": {
   "display_name": "Python 3 (ipykernel)",
   "language": "python",
   "name": "python3"
  },
  "language_info": {
   "codemirror_mode": {
    "name": "ipython",
    "version": 3
   },
   "file_extension": ".py",
   "mimetype": "text/x-python",
   "name": "python",
   "nbconvert_exporter": "python",
   "pygments_lexer": "ipython3",
   "version": "3.9.7"
  }
 },
 "nbformat": 4,
 "nbformat_minor": 5
}
