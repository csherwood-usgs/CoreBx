{
 "cells": [
  {
   "cell_type": "markdown",
   "id": "fdcbb231",
   "metadata": {},
   "source": [
    "## calc_beach_slopes - Analyze beach slopes"
   ]
  },
  {
   "cell_type": "code",
   "execution_count": 1,
   "id": "5a4132cb",
   "metadata": {},
   "outputs": [
    {
     "name": "stdout",
     "output_type": "stream",
     "text": [
      "{'name': 'ncorebx_small', 'e0': 383520.0, 'n0': 3860830.0, 'xlen': 25000.0, 'ylen': 1200.0, 'dxdy': 1.0, 'theta': 42.0}\n"
     ]
    }
   ],
   "source": [
    "import numpy as np\n",
    "import matplotlib.pyplot as plt\n",
    "import matplotlib.cm as cm\n",
    "from datetime import datetime\n",
    "import xarray as xr\n",
    "import pandas as pd\n",
    "\n",
    "import netCDF4 as netcdf\n",
    "\n",
    "from CoreBx_funcs import *\n",
    "%matplotlib inline\n",
    "\n",
    "import warnings\n",
    "warnings.filterwarnings('ignore')\n",
    "\n",
    "# These commands choose fonts that are editable in svg format\n",
    "plt.rcParams['pdf.fonttype'] = 42\n",
    "plt.rcParams['ps.fonttype'] = 42\n",
    "\n",
    "# colors\n",
    "dblue = '#1f77b4'\n",
    "red3 = ['#fee0d2','#fc9272','#de2d26']\n",
    "# oranges from ColorBrewer https://colorbrewer2.org/#type=sequential&scheme=PuBu&n=5\n",
    "cols=['#feedde','#fdbe85','#fd8d3c','#e6550d','#a63603']\n",
    "blue5=['#f1eef6','#bdc9e1','#bdc9e1','#2b8cbe','#045a8d']\n",
    "green5=['#edf8e9','#bae4b3','#74c476','#31a354','#006d2c']\n",
    "purple5 = ['#f2f0f7','#cbc9e2','#9e9ac8','#756bb1','#54278f']\n",
    "\n",
    "# Dates for DEMs\n",
    "dates = ([\\\n",
    "         \"2019-08-30\",\\\n",
    "         \"2019-09-12\",\\\n",
    "         \"2019-10-11\",\\\n",
    "         \"2019-11-26\",\\\n",
    "         \"2020-02-09\",\\\n",
    "         \"2020-04-09\",\\\n",
    "         \"2020-08-05\",\\\n",
    "         \"2020-08-09\",\\\n",
    "         \"2020-09-28\",\\\n",
    "         \"2021-05-30\"])\n",
    "\n",
    "dem_path ='C:/crs/proj/2019_DorianOBX/Dorian_paper_analyses/rotated_dems/'\n",
    "\n",
    "# these offsets are the mean anomaly relative to the 10-map mean per Analyze_rotated_stable_points_refac\n",
    "# Todo\n",
    "# offset = np.array([0.00168195,  0.02229009, -0.02397204, -0.01150765, -0.07320715, -0.02726184,\n",
    "#  -0.03547332, -0.02953579, -0.02719979,  0.00756222])\n",
    "\n",
    "MHHW = 0.4 #elevation of MHHW per VDATUM\n",
    "\n",
    "# Read in a dict that defines the rotated \"island\" coordinate system\n",
    "r = yaml2dict('small_island_box.yml')\n",
    "print(r)"
   ]
  },
  {
   "cell_type": "code",
   "execution_count": 2,
   "id": "2386600a",
   "metadata": {},
   "outputs": [
    {
     "name": "stdout",
     "output_type": "stream",
     "text": [
      "[ 0.00168195  0.02229009 -0.02397204 -0.01150765 -0.07320715 -0.02726184\n",
      " -0.03547332 -0.02953579 -0.02719979  0.00756222]\n"
     ]
    }
   ],
   "source": [
    "# load in map offsets\n",
    "with open('offsets.yml') as f:\n",
    "    offset = yaml.safe_load(f)\n",
    "offset = np.array(offset)\n",
    "print(offset)"
   ]
  },
  {
   "cell_type": "code",
   "execution_count": 3,
   "id": "2ed910b0",
   "metadata": {},
   "outputs": [
    {
     "name": "stdout",
     "output_type": "stream",
     "text": [
      "nmaps, ncross, nalong:  10 1200 25000\n"
     ]
    }
   ],
   "source": [
    "# read in the multi-map .nc file\n",
    "fn = r['name']+'_clipped.nc'\n",
    "dsa = xr.open_dataset(dem_path+fn)\n",
    "dsaa = np.squeeze(dsa.to_array())\n",
    "nmaps,ncross,nalong=np.shape(dsaa)\n",
    "print('nmaps, ncross, nalong: ',nmaps,ncross,nalong)\n",
    "\n",
    "# Correct for uniform offsets\n",
    "for i in range(0, nmaps):\n",
    "    dsaa[i,:,:] = dsaa[i,:,:] - offset[i] "
   ]
  },
  {
   "cell_type": "code",
   "execution_count": 4,
   "id": "2c03e7a1",
   "metadata": {},
   "outputs": [
    {
     "name": "stdout",
     "output_type": "stream",
     "text": [
      "all nans in beach_slope\n",
      "all nans in beach_slope\n",
      "all nans in beach_slope\n",
      "all nans in beach_slope\n",
      "all nans in beach_slope\n",
      "all nans in beach_slope\n",
      "all nans in beach_slope\n",
      "all nans in beach_slope\n",
      "all nans in beach_slope\n",
      "all nans in beach_slope\n",
      "all nans in beach_slope\n",
      "all nans in beach_slope\n",
      "all nans in beach_slope\n",
      "all nans in beach_slope\n",
      "all nans in beach_slope\n",
      "all nans in beach_slope\n",
      "all nans in beach_slope\n",
      "all nans in beach_slope\n",
      "all nans in beach_slope\n",
      "all nans in beach_slope\n",
      "all nans in beach_slope\n",
      "all nans in beach_slope\n"
     ]
    }
   ],
   "source": [
    "# call beach_slope from CoreBx_funcs\n",
    "slopes = np.nan*np.ones((nalong,4))\n",
    "zinit = slopes.copy()\n",
    "\n",
    "dist = np.array(dsaa['Cross-shore'])\n",
    "for nmap in range(4):\n",
    "    for i in range(nalong):\n",
    "        prof = np.array(dsaa[nmap,:,i])\n",
    "        zinit[i,nmap], slopes[i,nmap] = beach_slope(dist, prof)"
   ]
  },
  {
   "cell_type": "code",
   "execution_count": 5,
   "id": "7b5db304",
   "metadata": {},
   "outputs": [
    {
     "data": {
      "text/plain": [
       "['2019-08-30',\n",
       " '2019-09-12',\n",
       " '2019-10-11',\n",
       " '2019-11-26',\n",
       " '2020-02-09',\n",
       " '2020-04-09',\n",
       " '2020-08-05',\n",
       " '2020-08-09',\n",
       " '2020-09-28',\n",
       " '2021-05-30']"
      ]
     },
     "execution_count": 5,
     "metadata": {},
     "output_type": "execute_result"
    }
   ],
   "source": [
    "dates"
   ]
  },
  {
   "cell_type": "code",
   "execution_count": 6,
   "id": "73ce7fc0",
   "metadata": {},
   "outputs": [
    {
     "data": {
      "text/html": [
       "<div>\n",
       "<style scoped>\n",
       "    .dataframe tbody tr th:only-of-type {\n",
       "        vertical-align: middle;\n",
       "    }\n",
       "\n",
       "    .dataframe tbody tr th {\n",
       "        vertical-align: top;\n",
       "    }\n",
       "\n",
       "    .dataframe thead th {\n",
       "        text-align: right;\n",
       "    }\n",
       "</style>\n",
       "<table border=\"1\" class=\"dataframe\">\n",
       "  <thead>\n",
       "    <tr style=\"text-align: right;\">\n",
       "      <th></th>\n",
       "      <th>30-Aug z</th>\n",
       "      <th>12-Sep z</th>\n",
       "      <th>11-Oct z</th>\n",
       "      <th>26-Nov z</th>\n",
       "      <th>30-Aug s</th>\n",
       "      <th>12-Sep s</th>\n",
       "      <th>11-Oct s</th>\n",
       "      <th>26-Nov s</th>\n",
       "    </tr>\n",
       "  </thead>\n",
       "  <tbody>\n",
       "    <tr>\n",
       "      <th>count</th>\n",
       "      <td>25000.000000</td>\n",
       "      <td>25000.000000</td>\n",
       "      <td>24978.000000</td>\n",
       "      <td>25000.000000</td>\n",
       "      <td>25000.000000</td>\n",
       "      <td>25000.000000</td>\n",
       "      <td>24978.000000</td>\n",
       "      <td>25000.000000</td>\n",
       "    </tr>\n",
       "    <tr>\n",
       "      <th>mean</th>\n",
       "      <td>0.111167</td>\n",
       "      <td>0.031855</td>\n",
       "      <td>0.661733</td>\n",
       "      <td>-0.168187</td>\n",
       "      <td>0.090244</td>\n",
       "      <td>0.056590</td>\n",
       "      <td>0.053909</td>\n",
       "      <td>0.032674</td>\n",
       "    </tr>\n",
       "    <tr>\n",
       "      <th>std</th>\n",
       "      <td>0.320357</td>\n",
       "      <td>0.423817</td>\n",
       "      <td>0.395195</td>\n",
       "      <td>0.411887</td>\n",
       "      <td>0.029834</td>\n",
       "      <td>0.052082</td>\n",
       "      <td>0.060877</td>\n",
       "      <td>0.034633</td>\n",
       "    </tr>\n",
       "    <tr>\n",
       "      <th>min</th>\n",
       "      <td>-0.849316</td>\n",
       "      <td>-1.759476</td>\n",
       "      <td>-3.475480</td>\n",
       "      <td>-4.048737</td>\n",
       "      <td>-0.203127</td>\n",
       "      <td>-1.880782</td>\n",
       "      <td>-4.558677</td>\n",
       "      <td>-1.457008</td>\n",
       "    </tr>\n",
       "    <tr>\n",
       "      <th>25%</th>\n",
       "      <td>-0.141852</td>\n",
       "      <td>-0.319994</td>\n",
       "      <td>0.396142</td>\n",
       "      <td>-0.469074</td>\n",
       "      <td>0.075043</td>\n",
       "      <td>0.017766</td>\n",
       "      <td>0.027607</td>\n",
       "      <td>0.012720</td>\n",
       "    </tr>\n",
       "    <tr>\n",
       "      <th>50%</th>\n",
       "      <td>0.071424</td>\n",
       "      <td>-0.041290</td>\n",
       "      <td>0.601168</td>\n",
       "      <td>-0.258956</td>\n",
       "      <td>0.094004</td>\n",
       "      <td>0.059167</td>\n",
       "      <td>0.057020</td>\n",
       "      <td>0.029274</td>\n",
       "    </tr>\n",
       "    <tr>\n",
       "      <th>75%</th>\n",
       "      <td>0.371352</td>\n",
       "      <td>0.407161</td>\n",
       "      <td>0.888166</td>\n",
       "      <td>0.088137</td>\n",
       "      <td>0.109930</td>\n",
       "      <td>0.094315</td>\n",
       "      <td>0.084311</td>\n",
       "      <td>0.050937</td>\n",
       "    </tr>\n",
       "    <tr>\n",
       "      <th>max</th>\n",
       "      <td>1.532997</td>\n",
       "      <td>6.137696</td>\n",
       "      <td>9.805344</td>\n",
       "      <td>5.552327</td>\n",
       "      <td>0.265066</td>\n",
       "      <td>0.661824</td>\n",
       "      <td>1.540330</td>\n",
       "      <td>0.212865</td>\n",
       "    </tr>\n",
       "  </tbody>\n",
       "</table>\n",
       "</div>"
      ],
      "text/plain": [
       "           30-Aug z      12-Sep z      11-Oct z      26-Nov z      30-Aug s  \\\n",
       "count  25000.000000  25000.000000  24978.000000  25000.000000  25000.000000   \n",
       "mean       0.111167      0.031855      0.661733     -0.168187      0.090244   \n",
       "std        0.320357      0.423817      0.395195      0.411887      0.029834   \n",
       "min       -0.849316     -1.759476     -3.475480     -4.048737     -0.203127   \n",
       "25%       -0.141852     -0.319994      0.396142     -0.469074      0.075043   \n",
       "50%        0.071424     -0.041290      0.601168     -0.258956      0.094004   \n",
       "75%        0.371352      0.407161      0.888166      0.088137      0.109930   \n",
       "max        1.532997      6.137696      9.805344      5.552327      0.265066   \n",
       "\n",
       "           12-Sep s      11-Oct s      26-Nov s  \n",
       "count  25000.000000  24978.000000  25000.000000  \n",
       "mean       0.056590      0.053909      0.032674  \n",
       "std        0.052082      0.060877      0.034633  \n",
       "min       -1.880782     -4.558677     -1.457008  \n",
       "25%        0.017766      0.027607      0.012720  \n",
       "50%        0.059167      0.057020      0.029274  \n",
       "75%        0.094315      0.084311      0.050937  \n",
       "max        0.661824      1.540330      0.212865  "
      ]
     },
     "execution_count": 6,
     "metadata": {},
     "output_type": "execute_result"
    }
   ],
   "source": [
    "df = pd.DataFrame({\"30-Aug z\":zinit[:,0], \"12-Sep z\":zinit[:,1], \"11-Oct z\": zinit[:,2], \"26-Nov z\": zinit[:,3],\n",
    "                   \"30-Aug s\":slopes[:,0], \"12-Sep s\":slopes[:,1], \"11-Oct s\": slopes[:,2], \"26-Nov s\": slopes[:,3]})\n",
    "#df = df.dropna() # There are 22 profiles missing in October\n",
    "df.describe()"
   ]
  },
  {
   "cell_type": "code",
   "execution_count": 7,
   "id": "11248af9",
   "metadata": {},
   "outputs": [
    {
     "name": "stdout",
     "output_type": "stream",
     "text": [
      "NaNs before:  22\n",
      "NaNs after:  0\n",
      "\n",
      "Median map-edge elevations:  [ 0.07142431 -0.04128965  0.60175347 -0.25895639]\n"
     ]
    },
    {
     "data": {
      "image/png": "[encoded data removed]",
      "text/plain": [
       "<Figure size 432x288 with 1 Axes>"
      ]
     },
     "metadata": {
      "needs_background": "light"
     },
     "output_type": "display_data"
    }
   ],
   "source": [
    "# zinit is an array, [25000,4]. There are some NaNs in the third column.\n",
    "print('NaNs before: ',np.nansum(np.isnan(zinit[:,2])))\n",
    "# Not very many, so filling them with mean values\n",
    "zinit[np.where(np.isnan(zinit[:,2])),2]=np.nanmean(zinit[:,2])\n",
    "# Now they are gone\n",
    "print('NaNs after: ',np.nansum(np.isnan(zinit[:,2])))\n",
    "print('\\nMedian map-edge elevations: ',np.median(zinit,0))\n",
    "\n",
    "fig,ax = plt.subplots(1,1)\n",
    "ax.plot([0,5],[0,0],'--',c='gray')\n",
    "_ = ax.boxplot(zinit[:,0:4],notch=True)\n",
    "_ = ax.set_xticklabels(dates[0:4],rotation=45,ha='right')\n",
    "ax.set_ylim((-2,2))\n",
    "ax.set_ylabel('Elevation (m NAVD88)')\n",
    "ax.set_title('Elevations of Seaward Edge of Maps')\n",
    "plt.tight_layout()\n",
    "fig.savefig('map_edge_elevations.svg')"
   ]
  },
  {
   "cell_type": "code",
   "execution_count": 8,
   "id": "d0260fbb",
   "metadata": {},
   "outputs": [
    {
     "name": "stdout",
     "output_type": "stream",
     "text": [
      "NaNs before:  22\n",
      "NaNs after:  0\n",
      "\n",
      "Median slopes for each map:  [0.09400404 0.05916668 0.05694951 0.02927372]\n"
     ]
    },
    {
     "data": {
      "image/png": "[encoded data removed]",
      "text/plain": [
       "<Figure size 432x288 with 1 Axes>"
      ]
     },
     "metadata": {
      "needs_background": "light"
     },
     "output_type": "display_data"
    }
   ],
   "source": [
    "# zinit is an array, [25000,4]. There are some NaNs in the third column.\n",
    "print('NaNs before: ',np.nansum(np.isnan(slopes[:,2])))\n",
    "# Not very many, so filling them with mean values\n",
    "slopes[np.where(np.isnan(slopes[:,2])),2]=np.nanmean(slopes[:,2])\n",
    "# Now they are gone\n",
    "print('NaNs after: ',np.nansum(np.isnan(slopes[:,2])))\n",
    "print('\\nMedian slopes for each map: ',np.median(slopes,0))\n",
    "\n",
    "fig,ax = plt.subplots(1,1)\n",
    "ax.plot([0,5],[0,0],'--',c='gray')\n",
    "_ = ax.boxplot(slopes[:,0:4],notch=True)\n",
    "_ = ax.set_xticklabels(dates[0:4],rotation=45,ha='right')\n",
    "ax.set_ylim((-.1,.4))\n",
    "ax.set_ylabel('Slope (m/m)')\n",
    "ax.set_title('Slope at Seaward Edge of Maps')\n",
    "plt.tight_layout()\n",
    "fig.savefig('map_edge_slope.svg')"
   ]
  },
  {
   "cell_type": "code",
   "execution_count": 9,
   "id": "83aa15f1",
   "metadata": {},
   "outputs": [
    {
     "data": {
      "text/plain": [
       "(-1.5, 1.5)"
      ]
     },
     "execution_count": 9,
     "metadata": {},
     "output_type": "execute_result"
    },
    {
     "data": {
      "image/png": "[encoded data removed]",
      "text/plain": [
       "<Figure size 432x288 with 1 Axes>"
      ]
     },
     "metadata": {
      "needs_background": "light"
     },
     "output_type": "display_data"
    }
   ],
   "source": [
    "plt.plot(zinit[:,0],'.')\n",
    "plt.plot(zinit[:,1],'.')\n",
    "plt.ylim([-1.5, 1.5])"
   ]
  }
 ],
 "metadata": {
  "kernelspec": {
   "display_name": "Python 3 (ipykernel)",
   "language": "python",
   "name": "python3"
  },
  "language_info": {
   "codemirror_mode": {
    "name": "ipython",
    "version": 3
   },
   "file_extension": ".py",
   "mimetype": "text/x-python",
   "name": "python",
   "nbconvert_exporter": "python",
   "pygments_lexer": "ipython3",
   "version": "3.9.7"
  }
 },
 "nbformat": 4,
 "nbformat_minor": 5
}
