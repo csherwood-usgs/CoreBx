{
 "cells": [
  {
   "cell_type": "code",
   "execution_count": 13,
   "metadata": {},
   "outputs": [],
   "source": [
    "\n",
    "import numpy as np\n",
    "import matplotlib.pyplot as plt\n",
    "from matplotlib import cm\n",
    "import xarray as xr\n",
    "from scipy import interpolate, signal\n",
    "import netCDF4 as nc\n",
    "from CoreBx_funcs import *\n",
    "import pickle\n",
    "\n",
    "%matplotlib inline\n",
    "\n",
    "vegmap= cm.get_cmap('YlGn')\n",
    "vegmap.set_bad(color='darkgray')\n",
    "\n",
    "# This is the colormap made in SurferClr2Cmap.ipynb from NorthCore_ElevationShader_v2.clr\n",
    "fp = open('cmap_ncb.pkl', 'rb')\n",
    "cmap_ncb = pickle.load(fp)\n",
    "fp.close()\n",
    "\n",
    "tcmap=cmap_ncb\n",
    "tcmap.set_bad(color='darkgray')"
   ]
  },
  {
   "cell_type": "code",
   "execution_count": 9,
   "metadata": {},
   "outputs": [
    {
     "name": "stdout",
     "output_type": "stream",
     "text": [
      "(6, 1685, 1627)\n"
     ]
    }
   ],
   "source": [
    "fdir = \"C:/crs/proj/2021_hi_res_grid/\"\n",
    "fnames = (\"2019-08-30_1m_DEM_4d_hr.tif\",\n",
    "          \"2019-09-12-13_1m_DEM_4d_hr.tif\",\n",
    "          \"2019-10-11_1m_DEM_4d_hr.tif\",\n",
    "          \"2019_NCMP_gnd_50_1m_hr.tif\",\n",
    "          \"2019_NCMP_1st95_1m_hr.tif\",\n",
    "          \"2019_NCMP_Veg_1st95_minus_gnd_50_1m_hr.tif\",\n",
    ")\n",
    "mnames = (\"Sep SfM\",\n",
    "          \"Oct SfM\",\n",
    "          \"Nov SfM\",\n",
    "          \"Nov Lidar Gnd50\",\n",
    "          \"Nov Lidar First95\",\n",
    "          \"Nov Lidar Diff\")\n",
    "\n",
    "fnnc = 'C:/crs/proj/2019_DorianOBX/NCEI_gridded_bathy/morehead_city_13_navd88_2011.nc'\n",
    "# ds = nc.Dataset(fnnc)\n",
    "# print(ds)\n",
    "\n",
    "# dimension array for elevations\n",
    "z = np.nan*np.ones((6, 1685, 1627))\n",
    "print(np.shape(z))"
   ]
  },
  {
   "cell_type": "code",
   "execution_count": null,
   "metadata": {},
   "outputs": [],
   "source": [
    "dslist=[]\n",
    "for i, fn in enumerate(fnames):\n",
    "    iswarned = False\n",
    "    fp = fdir+fn\n",
    "    print(i, fp)\n",
    "\n",
    "    # open the tif with XArray as a DataArray\n",
    "    da = xr.open_rasterio(fp)\n",
    "\n",
    "    print( np.shape(np.flipud(da['y'].values)), np.shape(da['x'].values), np.shape( np.flipud(da.values)) )\n",
    "    x = da['x'].values\n",
    "    y = np.flipud(da['y'].values)\n",
    "\n",
    "    # Not sure how da.values got a singleton dimension, but squeeze gets rid of it.\n",
    "    # However, make sure to squeeze before flipping\n",
    "    z[i,:,:] = np.flipud(np.squeeze(da.values))\n",
    "  "
   ]
  },
  {
   "cell_type": "code",
   "execution_count": 19,
   "metadata": {},
   "outputs": [
    {
     "ename": "IndexError",
     "evalue": "index 6 is out of bounds for axis 0 with size 6",
     "output_type": "error",
     "traceback": [
      "\u001b[1;31m---------------------------------------------------------------------------\u001b[0m",
      "\u001b[1;31mIndexError\u001b[0m                                Traceback (most recent call last)",
      "\u001b[1;32m<ipython-input-19-2d5c59a6484f>\u001b[0m in \u001b[0;36m<module>\u001b[1;34m\u001b[0m\n\u001b[0;32m      1\u001b[0m \u001b[0mibadz\u001b[0m \u001b[1;33m=\u001b[0m \u001b[0mnp\u001b[0m\u001b[1;33m.\u001b[0m\u001b[0margwhere\u001b[0m\u001b[1;33m(\u001b[0m\u001b[0mz\u001b[0m\u001b[1;33m<=\u001b[0m\u001b[1;33m-\u001b[0m\u001b[1;36m32767.\u001b[0m\u001b[1;33m)\u001b[0m\u001b[1;33m\u001b[0m\u001b[1;33m\u001b[0m\u001b[0m\n\u001b[1;32m----> 2\u001b[1;33m \u001b[0mz\u001b[0m\u001b[1;33m[\u001b[0m\u001b[0mibadz\u001b[0m\u001b[1;33m]\u001b[0m \u001b[1;33m=\u001b[0m \u001b[0mnp\u001b[0m\u001b[1;33m.\u001b[0m\u001b[0mnan\u001b[0m\u001b[1;33m\u001b[0m\u001b[1;33m\u001b[0m\u001b[0m\n\u001b[0m",
      "\u001b[1;31mIndexError\u001b[0m: index 6 is out of bounds for axis 0 with size 6"
     ]
    }
   ],
   "source": [
    "  \n",
    "ibadz = np.argwhere(z<=-32767.)\n",
    "z[ibadz] = np.nan"
   ]
  },
  {
   "cell_type": "code",
   "execution_count": 3,
   "metadata": {},
   "outputs": [
    {
     "name": "stdout",
     "output_type": "stream",
     "text": [
      "35.251794780555564 -75.52623029166666\n",
      "35.25179478055556 -75.52623029166666\n"
     ]
    },
    {
     "name": "stderr",
     "output_type": "stream",
     "text": [
      "C:\\Users\\csherwood\\AppData\\Local\\Continuum\\miniconda3\\envs\\CRS\\lib\\site-packages\\pyproj\\crs.py:77: FutureWarning: '+init=<authority>:<code>' syntax is deprecated. '<authority>:<code>' is the preferred initialization method.\n",
      "  return _prepare_from_string(\" \".join(pjargs))\n",
      "C:\\Users\\csherwood\\AppData\\Local\\Continuum\\miniconda3\\envs\\CRS\\lib\\site-packages\\pyproj\\crs.py:77: FutureWarning: '+init=<authority>:<code>' syntax is deprecated. '<authority>:<code>' is the preferred initialization method.\n",
      "  return _prepare_from_string(\" \".join(pjargs))\n"
     ]
    }
   ],
   "source": [
    "# test UTM2LatLon\n",
    "# Coordinates of test point CHL2 (benchmark near the Cape Hatteras light)\n",
    "# NAD 83(2011) POSITION- 35 15 06.46121(N) 075 31 34.42905(W)   ADJUSTED \n",
    "# UTM  18      - 3,901,093.616   452,127.951   MT  0.99962824   -0 18 13.4\n",
    "\n",
    "latbm = 35.+15./60.+6.46121/3600.\n",
    "lonbm = -(75.+31/60.+34.42905/3600.)\n",
    "\n",
    "lont, latt = UTM2LatLon(452127.9512561703, 3901093.6160874437 )\n",
    "print(latt, lont)\n",
    "print(latbm,lonbm)"
   ]
  },
  {
   "cell_type": "code",
   "execution_count": 6,
   "metadata": {},
   "outputs": [
    {
     "name": "stderr",
     "output_type": "stream",
     "text": [
      "C:\\Users\\csherwood\\AppData\\Local\\Continuum\\miniconda3\\envs\\CRS\\lib\\site-packages\\pyproj\\crs.py:77: FutureWarning: '+init=<authority>:<code>' syntax is deprecated. '<authority>:<code>' is the preferred initialization method.\n",
      "  return _prepare_from_string(\" \".join(pjargs))\n",
      "C:\\Users\\csherwood\\AppData\\Local\\Continuum\\miniconda3\\envs\\CRS\\lib\\site-packages\\pyproj\\crs.py:77: FutureWarning: '+init=<authority>:<code>' syntax is deprecated. '<authority>:<code>' is the preferred initialization method.\n",
      "  return _prepare_from_string(\" \".join(pjargs))\n"
     ]
    }
   ],
   "source": [
    "easting, northing = np.meshgrid(x,y)\n",
    "xisl, yisl = UTM2Island(easting,northing)\n",
    "lon, lat = UTM2LatLon(easting, northing)"
   ]
  },
  {
   "cell_type": "code",
   "execution_count": 17,
   "metadata": {},
   "outputs": [
    {
     "name": "stdout",
     "output_type": "stream",
     "text": [
      "x: (1627,) \n",
      " [394084.42627824 394085.42627824 394086.42627824 ... 395708.42627824\n",
      " 395709.42627824 395710.42627824]\n",
      "y: (1685,) \n",
      " [3871151.97458986 3871152.97458986 3871153.97458986 ... 3872833.97458986\n",
      " 3872834.97458986 3872835.97458986]\n"
     ]
    },
    {
     "data": {
      "text/plain": [
       "<matplotlib.colorbar.Colorbar at 0x23805f792c8>"
      ]
     },
     "execution_count": 17,
     "metadata": {},
     "output_type": "execute_result"
    },
    {
     "data": {
      "image/png": "[encoded data removed]",
      "text/plain": [
       "<Figure size 432x288 with 2 Axes>"
      ]
     },
     "metadata": {
      "needs_background": "light"
     },
     "output_type": "display_data"
    }
   ],
   "source": [
    "print('x:',np.shape(x),'\\n',x)\n",
    "print('y:',np.shape(y),'\\n',y)\n",
    "mapnum=3\n",
    "plt.pcolormesh(xisl,yisl,z[mapnum,:,:],cmap=tcmap,vmin=-1,vmax=6)\n",
    "plt.title(mnames[mapnum])\n",
    "plt.colorbar()"
   ]
  },
  {
   "cell_type": "code",
   "execution_count": 18,
   "metadata": {},
   "outputs": [
    {
     "name": "stdout",
     "output_type": "stream",
     "text": [
      "[[-32767. -32767. -32767. ... -32767. -32767. -32767.]\n",
      " [-32767. -32767. -32767. ... -32767. -32767. -32767.]\n",
      " [-32767. -32767. -32767. ... -32767. -32767. -32767.]\n",
      " ...\n",
      " [-32767. -32767. -32767. ... -32767. -32767. -32767.]\n",
      " [-32767. -32767. -32767. ... -32767. -32767. -32767.]\n",
      " [-32767. -32767. -32767. ... -32767. -32767. -32767.]]\n"
     ]
    }
   ],
   "source": [
    "print(z[3,:,:])"
   ]
  }
 ],
 "metadata": {
  "kernelspec": {
   "display_name": "Python 3",
   "language": "python",
   "name": "python3"
  },
  "language_info": {
   "codemirror_mode": {
    "name": "ipython",
    "version": 3
   },
   "file_extension": ".py",
   "mimetype": "text/x-python",
   "name": "python",
   "nbconvert_exporter": "python",
   "pygments_lexer": "ipython3",
   "version": "3.7.6"
  }
 },
 "nbformat": 4,
 "nbformat_minor": 4
}
