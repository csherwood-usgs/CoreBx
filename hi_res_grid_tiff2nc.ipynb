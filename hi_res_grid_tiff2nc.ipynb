{
 "cells": [
  {
   "cell_type": "markdown",
   "metadata": {},
   "source": [
    "### hi_res_grid_tiff2nc\n",
    "Script to read in `.tif` files exported from Global Mapper and write `.nc` files\n",
    "\n",
    "The input `.tif` files were exported in UTM Zone 18N, NAVD88 coordinates for a specific bounding box\n",
    "outlining a high-resolution region that CRS and CAH chose on June 4, 2021. The GM project is\n",
    "`..\\proj\\2019_DorianOBX\\High_res_grid.gmw`.  \n",
    "\n",
    "Coordinates for the elevation matrices were converted to island coordinates and lat/lon using routines in `CoreBx_funcs`.\n",
    "\n",
    "This version writes *raw* data, with no bias corrections, smoothing, or hole filling."
   ]
  },
  {
   "cell_type": "code",
   "execution_count": 1,
   "metadata": {},
   "outputs": [],
   "source": [
    "import numpy as np\n",
    "import matplotlib.pyplot as plt\n",
    "from matplotlib import cm\n",
    "import xarray as xr\n",
    "from scipy import interpolate, signal\n",
    "import netCDF4 as nc\n",
    "from CoreBx_funcs import *\n",
    "import pickle\n",
    "\n",
    "%matplotlib inline\n",
    "\n",
    "vegmap= cm.get_cmap('YlGn')\n",
    "vegmap.set_bad(color='darkgray')\n",
    "\n",
    "# This is the colormap made in SurferClr2Cmap.ipynb from NorthCore_ElevationShader_v2.clr\n",
    "fp = open('cmap_ncb.pkl', 'rb')\n",
    "cmap_ncb = pickle.load(fp)\n",
    "fp.close()\n",
    "\n",
    "tcmap=cmap_ncb\n",
    "tcmap.set_bad(color='darkgray')"
   ]
  },
  {
   "cell_type": "code",
   "execution_count": 2,
   "metadata": {},
   "outputs": [
    {
     "name": "stdout",
     "output_type": "stream",
     "text": [
      "(7, 1685, 1627)\n"
     ]
    }
   ],
   "source": [
    "fdir = \"C:/crs/proj/2021_hi_res_grid/\"\n",
    "fnames = (\"2019-08-30_1m_DEM_4d_hr.tif\",\n",
    "          \"2019-09-12-13_1m_DEM_4d_hr.tif\",\n",
    "          \"2019-10-11_1m_DEM_4d_hr.tif\",\n",
    "          \"2019-11-26_1m_DEM_4d_hr.tif\",\n",
    "          \"2019_NCMP_gnd_50_1m_hr.tif\",\n",
    "          \"2019_NCMP_1st95_1m_hr.tif\",\n",
    "          \"2019_NCMP_Veg_1st95_minus_gnd_50_1m_hr.tif\",\n",
    ")\n",
    "mnames = (\"Aug SfM\",\n",
    "          \"Sep SfM\",\n",
    "          \"Oct SfM\",\n",
    "          \"Nov SfM\",\n",
    "          \"Nov Lidar Gnd50\",\n",
    "          \"Nov Lidar First95\",\n",
    "          \"Nov Lidar Diff\")\n",
    "\n",
    "fnnc = 'C:/crs/proj/2019_DorianOBX/NCEI_gridded_bathy/morehead_city_13_navd88_2011.nc'\n",
    "# ds = nc.Dataset(fnnc)\n",
    "# print(ds)\n",
    "\n",
    "# dimension array for elevations\n",
    "z = np.nan*np.ones((7, 1685, 1627))\n",
    "print(np.shape(z))"
   ]
  },
  {
   "cell_type": "code",
   "execution_count": 3,
   "metadata": {},
   "outputs": [
    {
     "name": "stdout",
     "output_type": "stream",
     "text": [
      "0 C:/crs/proj/2021_hi_res_grid/2019-08-30_1m_DEM_4d_hr.tif\n",
      "(1685,) (1627,) (1, 1685, 1627)\n",
      "1 C:/crs/proj/2021_hi_res_grid/2019-09-12-13_1m_DEM_4d_hr.tif\n",
      "(1685,) (1627,) (1, 1685, 1627)\n",
      "2 C:/crs/proj/2021_hi_res_grid/2019-10-11_1m_DEM_4d_hr.tif\n",
      "(1685,) (1627,) (1, 1685, 1627)\n",
      "3 C:/crs/proj/2021_hi_res_grid/2019-11-26_1m_DEM_4d_hr.tif\n",
      "(1685,) (1627,) (1, 1685, 1627)\n",
      "4 C:/crs/proj/2021_hi_res_grid/2019_NCMP_gnd_50_1m_hr.tif\n",
      "(1685,) (1627,) (1, 1685, 1627)\n",
      "5 C:/crs/proj/2021_hi_res_grid/2019_NCMP_1st95_1m_hr.tif\n",
      "(1685,) (1627,) (1, 1685, 1627)\n",
      "6 C:/crs/proj/2021_hi_res_grid/2019_NCMP_Veg_1st95_minus_gnd_50_1m_hr.tif\n",
      "(1685,) (1627,) (1, 1685, 1627)\n"
     ]
    }
   ],
   "source": [
    "dslist=[]\n",
    "for i, fn in enumerate(fnames):\n",
    "    iswarned = False\n",
    "    fp = fdir+fn\n",
    "    print(i, fp)\n",
    "\n",
    "    # open the tif with XArray as a DataArray\n",
    "    da = xr.open_rasterio(fp)\n",
    "\n",
    "    print( np.shape(np.flipud(da['y'].values)), np.shape(da['x'].values), np.shape( np.flipud(da.values)) )\n",
    "    x = da['x'].values\n",
    "    y = np.flipud(da['y'].values)\n",
    "\n",
    "    # Not sure how da.values got a singleton dimension, but squeeze gets rid of it.\n",
    "    # However, make sure to squeeze before flipping\n",
    "    z[i,:,:] = np.flipud(np.squeeze(da.values))\n",
    "  "
   ]
  },
  {
   "cell_type": "code",
   "execution_count": 4,
   "metadata": {},
   "outputs": [],
   "source": [
    "# Nans come through as -32767 \n",
    "ibadz = np.where(z<=-32767.)\n",
    "z[ibadz] = np.nan"
   ]
  },
  {
   "cell_type": "code",
   "execution_count": 5,
   "metadata": {},
   "outputs": [
    {
     "name": "stdout",
     "output_type": "stream",
     "text": [
      "35.251794780555564 -75.52623029166666\n",
      "35.25179478055556 -75.52623029166666\n"
     ]
    },
    {
     "name": "stderr",
     "output_type": "stream",
     "text": [
      "C:\\Users\\csherwood\\AppData\\Local\\Continuum\\miniconda3\\envs\\CRS\\lib\\site-packages\\pyproj\\crs.py:77: FutureWarning: '+init=<authority>:<code>' syntax is deprecated. '<authority>:<code>' is the preferred initialization method.\n",
      "  return _prepare_from_string(\" \".join(pjargs))\n",
      "C:\\Users\\csherwood\\AppData\\Local\\Continuum\\miniconda3\\envs\\CRS\\lib\\site-packages\\pyproj\\crs.py:77: FutureWarning: '+init=<authority>:<code>' syntax is deprecated. '<authority>:<code>' is the preferred initialization method.\n",
      "  return _prepare_from_string(\" \".join(pjargs))\n"
     ]
    }
   ],
   "source": [
    "# test UTM2LatLon\n",
    "# Coordinates of test point CHL2 (benchmark near the Cape Hatteras light)\n",
    "# NAD 83(2011) POSITION- 35 15 06.46121(N) 075 31 34.42905(W)   ADJUSTED \n",
    "# UTM  18      - 3,901,093.616   452,127.951   MT  0.99962824   -0 18 13.4\n",
    "\n",
    "latbm = 35.+15./60.+6.46121/3600.\n",
    "lonbm = -(75.+31/60.+34.42905/3600.)\n",
    "# The extra decimals in the next line come from the reverse transformation\n",
    "lont, latt = UTM2LatLon(452127.9512561703, 3901093.6160874437 )\n",
    "print(latt, lont)\n",
    "print(latbm,lonbm)"
   ]
  },
  {
   "cell_type": "code",
   "execution_count": 6,
   "metadata": {},
   "outputs": [
    {
     "name": "stderr",
     "output_type": "stream",
     "text": [
      "C:\\Users\\csherwood\\AppData\\Local\\Continuum\\miniconda3\\envs\\CRS\\lib\\site-packages\\pyproj\\crs.py:77: FutureWarning: '+init=<authority>:<code>' syntax is deprecated. '<authority>:<code>' is the preferred initialization method.\n",
      "  return _prepare_from_string(\" \".join(pjargs))\n",
      "C:\\Users\\csherwood\\AppData\\Local\\Continuum\\miniconda3\\envs\\CRS\\lib\\site-packages\\pyproj\\crs.py:77: FutureWarning: '+init=<authority>:<code>' syntax is deprecated. '<authority>:<code>' is the preferred initialization method.\n",
      "  return _prepare_from_string(\" \".join(pjargs))\n"
     ]
    }
   ],
   "source": [
    "east, north = np.meshgrid(x,y)\n",
    "xisl, yisl = UTM2Island(east,north)\n",
    "lond, latd = UTM2LatLon(east, north)"
   ]
  },
  {
   "cell_type": "code",
   "execution_count": 7,
   "metadata": {},
   "outputs": [
    {
     "name": "stdout",
     "output_type": "stream",
     "text": [
      "x: (1627,) \n",
      " [394084.42627824 394085.42627824 394086.42627824 ... 395708.42627824\n",
      " 395709.42627824 395710.42627824]\n",
      "y: (1685,) \n",
      " [3871151.97458986 3871152.97458986 3871153.97458986 ... 3872833.97458986\n",
      " 3872834.97458986 3872835.97458986]\n"
     ]
    },
    {
     "data": {
      "text/plain": [
       "<matplotlib.colorbar.Colorbar at 0x23451fe7388>"
      ]
     },
     "execution_count": 7,
     "metadata": {},
     "output_type": "execute_result"
    },
    {
     "data": {
      "image/png": "[encoded data removed]",
      "text/plain": [
       "<Figure size 432x288 with 2 Axes>"
      ]
     },
     "metadata": {
      "needs_background": "light"
     },
     "output_type": "display_data"
    }
   ],
   "source": [
    "print('x:',np.shape(x),'\\n',x)\n",
    "print('y:',np.shape(y),'\\n',y)\n",
    "mapnum=0\n",
    "plt.pcolormesh(xisl,yisl,z[mapnum,:,:],cmap=tcmap,vmin=-1,vmax=6)\n",
    "plt.title(mnames[mapnum])\n",
    "plt.colorbar()"
   ]
  },
  {
   "cell_type": "code",
   "execution_count": 8,
   "metadata": {},
   "outputs": [],
   "source": [
    "fno = 'C:/crs/proj/2019_DorianOBX/WayneWright_flights/CoreBx/NCBx_hi_res_raw.nc'\n",
    "dso = nc.Dataset(fno, 'w', format='NETCDF4')\n",
    "\n",
    "#time = dso.createDimension('time', None)\n",
    "xi_rho = dso.createDimension('xi_rho', 1685)\n",
    "eta_rho = dso.createDimension('eta_rho', 1627)\n",
    "\n",
    "xi = dso.createVariable('xi', np.float32, (('eta_rho','xi_rho')))\n",
    "yi = dso.createVariable('yi', np.float32, (('eta_rho','xi_rho')))\n",
    "xi.units = 'm'\n",
    "xi.long_name = 'Along-island coordinate'\n",
    "yi.units = 'm'\n",
    "yi.long_name = 'Cross-island coordinate'\n",
    "\n",
    "xi[:,:]=xisl.T\n",
    "yi[:,:] = yisl.T\n",
    "\n",
    "lon = dso.createVariable('lon', 'f4', ('eta_rho','xi_rho'))\n",
    "lat = dso.createVariable('lat', 'f4', ('eta_rho','xi_rho'))\n",
    "lon.units = 'degrees N'\n",
    "lat.units = 'degrees E'\n",
    "lon.crs = 'epsg:4326'\n",
    "lat.crs = 'epsg:4326'\n",
    "\n",
    "lon[:,:] = lond.T\n",
    "lat[:,:] = latd.T\n",
    "\n",
    "easting = dso.createVariable('easting', 'f4', ('eta_rho','xi_rho'))\n",
    "northing = dso.createVariable('northing', 'f4', ('eta_rho','xi_rho'))\n",
    "easting.units = 'm UTM18N'\n",
    "northing.units = 'm UTM18N'\n",
    "easting.crs = 'epsg:26918'\n",
    "northing.crs = 'epsg:26918'\n",
    "\n",
    "easting[:,:] = east.T\n",
    "northing[:,:] = north.T\n",
    "\n",
    "zAug = dso.createVariable('zAug', 'f4', (('eta_rho','xi_rho')))\n",
    "zAug.units = 'm NAVD88'\n",
    "zAug.long_name = '2019-08-30_1m_DEM_4d_hr'\n",
    "zAug[:,:] = z[0,:,:].T\n",
    "\n",
    "zSep = dso.createVariable('zSep', 'f4', (('eta_rho','xi_rho')))\n",
    "zSep.units = 'm NAVD88'\n",
    "zSep.long_name = '2019-09-12-13_1m_DEM_4d_hr'\n",
    "zSep[:,:] = z[1,:,:].T\n",
    "\n",
    "zOct = dso.createVariable('zOct', 'f4', (('eta_rho','xi_rho')))\n",
    "zOct.units = 'm NAVD88'\n",
    "zOct.long_name = '2019-10-11_1m_DEM_4d_hr'\n",
    "zOct[:,:] = z[2,:,:].T\n",
    "\n",
    "zNov = dso.createVariable('zNov', 'f4', (('eta_rho','xi_rho')))\n",
    "zNov.units = 'm NAVD88'\n",
    "zNov.long_name = '2019-11-26_1m_DEM_4d_hr'\n",
    "zNov[:,:] = z[3,:,:].T\n",
    "\n",
    "zOctLidarGnd = dso.createVariable('zOctLidarGnd', 'f4', (('eta_rho','xi_rho')))\n",
    "zOctLidarGnd.units = 'm NAVD88'\n",
    "zOctLidarGnd.long_name = '2019_NCMP_gnd_50_1m_hr'\n",
    "zOctLidarGnd[:,:] = z[4,:,:].T\n",
    "\n",
    "zOctLidarFirst = dso.createVariable('zOctLidarFirst', 'f4', (('eta_rho','xi_rho')))\n",
    "zOctLidarFirst.units = 'm NAVD88'\n",
    "zOctLidarFirst.long_name = '2019_NCMP_1st95_1m_hr'\n",
    "zOctLidarFirst[:,:] = z[5,:,:].T\n",
    "\n",
    "zOctLidarVeg = dso.createVariable('zOctLidarVeg', 'f4', (('eta_rho','xi_rho')))\n",
    "zOctLidarVeg.units = 'm NAVD88'\n",
    "zOctLidarVeg.long_name = '2019_NCMP_Veg_1st95_minus_gnd_50_1m_hr'\n",
    "zOctLidarVeg[:,:] = z[6,:,:].T\n",
    "\n",
    "dso.close()"
   ]
  },
  {
   "cell_type": "code",
   "execution_count": null,
   "metadata": {},
   "outputs": [],
   "source": []
  }
 ],
 "metadata": {
  "kernelspec": {
   "display_name": "Python 3",
   "language": "python",
   "name": "python3"
  },
  "language_info": {
   "codemirror_mode": {
    "name": "ipython",
    "version": 3
   },
   "file_extension": ".py",
   "mimetype": "text/x-python",
   "name": "python",
   "nbconvert_exporter": "python",
   "pygments_lexer": "ipython3",
   "version": "3.7.6"
  }
 },
 "nbformat": 4,
 "nbformat_minor": 4
}
