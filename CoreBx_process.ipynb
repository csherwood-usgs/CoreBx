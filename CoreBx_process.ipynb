{
 "cells": [
  {
   "cell_type": "markdown",
   "metadata": {},
   "source": [
    "### CoreBx process\n",
    "Read the rotated, interpolated DSMs for the entire island and do volume calcs.\n",
    "\n",
    "July 6, 2022\n",
    "\n",
    "#### Input:\n",
    "- .nc files creaded by `CoreBx_island`\n",
    "- `offset.yml` file created by analyzing the stable points\n",
    "- `cmap_ncb.pkl` - colormap created by SurferClr2Cmap\n",
    "- `small_island_box.yml` - coordinates used to rotate to island coordsd\n"
   ]
  },
  {
   "cell_type": "code",
   "execution_count": 39,
   "metadata": {},
   "outputs": [
    {
     "name": "stdout",
     "output_type": "stream",
     "text": [
      "Working on  IGSAGIEGLTCHS10\n"
     ]
    },
    {
     "data": {
      "image/png": "[encoded data removed]",
      "text/html": [
       "<div style=\"vertical-align: middle;\"><strong>seismic</strong> </div><div class=\"cmap\"><img alt=\"seismic colormap\" title=\"seismic\" style=\"border: 1px solid #555;\" src=\"data:image/png;base64,iVBORw0KGgoAAAANSUhEUgAAAgAAAABACAYAAABsv8+/AAAAFnRFWHRUaXRsZQBzZWlzbWljIGNvbG9ybWFwjjQu/QAAABx0RVh0RGVzY3JpcHRpb24Ac2Vpc21pYyBjb2xvcm1hcCkan4QAAAAwdEVYdEF1dGhvcgBNYXRwbG90bGliIHYzLjUuMCwgaHR0cHM6Ly9tYXRwbG90bGliLm9yZ1I8XsEAAAAydEVYdFNvZnR3YXJlAE1hdHBsb3RsaWIgdjMuNS4wLCBodHRwczovL21hdHBsb3RsaWIub3JnfJrB5gAAAWxJREFUeJzt1jtyg0AQQMFBn9v5/pcRyA7AgaocKLIlv+5kYHcJKALeMvPxOTMzc57HeZqf1537T+eWZb+/XI7dY/t6nYf1Z6fn3+v509z3i3V9jXm77XPb/mb/Vd77l+6Pr29G5/ffAgAIEQAAECQAACBIAABAkAAAgCABAABBAgAAggQAAAQJAAAIEgAAECQAACBIAABAkAAAgCABAABBAgAAggQAAAQJAAAIEgAAECQAACBIAABAkAAAgCABAABBAgAAggQAAAQJAAAIEgAAECQAACBIAABAkAAAgCABAABBAgAAggQAAAQJAAAIEgAAECQAACBIAABAkAAAgCABAABBAgAAggQAAAQJAAAIEgAAECQAACBIAABAkAAAgCABAABBAgAAggQAAAQJAAAIEgAAECQAACBIAABAkAAAgCABAABBAgAAggQAAAQJAAAIEgAAECQAACBIAABAkAAAgCABAABBAgAAgr4Ax93A/nYAaTAAAAAASUVORK5CYII=\"></div><div style=\"vertical-align: middle; max-width: 514px; display: flex; justify-content: space-between;\"><div style=\"float: left;\"><div title=\"#00004cff\" style=\"display: inline-block; width: 1em; height: 1em; margin: 0; vertical-align: middle; border: 1px solid #555; background-color: #00004cff;\"></div> under</div><div style=\"margin: 0 auto; display: inline-block;\">bad <div title=\"#a9a9a9ff\" style=\"display: inline-block; width: 1em; height: 1em; margin: 0; vertical-align: middle; border: 1px solid #555; background-color: #a9a9a9ff;\"></div></div><div style=\"float: right;\">over <div title=\"#800000ff\" style=\"display: inline-block; width: 1em; height: 1em; margin: 0; vertical-align: middle; border: 1px solid #555; background-color: #800000ff;\"></div></div>"
      ],
      "text/plain": [
       "<matplotlib.colors.LinearSegmentedColormap at 0x203a4da4c70>"
      ]
     },
     "execution_count": 39,
     "metadata": {},
     "output_type": "execute_result"
    }
   ],
   "source": [
    "import numpy as np\n",
    "import os\n",
    "import matplotlib.pyplot as plt\n",
    "import matplotlib.cm as cm\n",
    "from datetime import datetime\n",
    "import xarray as xr\n",
    "import pandas as pd\n",
    "import pickle\n",
    "import netCDF4 as netcdf\n",
    "from scipy import interpolate, signal\n",
    "from astropy.convolution import Gaussian2DKernel\n",
    "from astropy.convolution import convolve as astropy_convolve\n",
    "from scipy.signal import convolve as scipy_convolve\n",
    "from CoreBx_funcs import *\n",
    "%matplotlib inline\n",
    "\n",
    "import warnings\n",
    "warnings.filterwarnings('ignore')\n",
    "\n",
    "drv, computername = which_computer()\n",
    "print('Working on ',computername)\n",
    "\n",
    "# These commands choose fonts that are editable in svg format\n",
    "plt.rcParams['pdf.fonttype'] = 42\n",
    "plt.rcParams['ps.fonttype'] = 42\n",
    "\n",
    "# colors\n",
    "dblue = '#1f77b4'\n",
    "red3 = ['#fee0d2','#fc9272','#de2d26']\n",
    "# oranges from ColorBrewer https://colorbrewer2.org/#type=sequential&scheme=PuBu&n=5\n",
    "cols=['#feedde','#fdbe85','#fd8d3c','#e6550d','#a63603']\n",
    "blue5=['#f1eef6','#bdc9e1','#bdc9e1','#2b8cbe','#045a8d']\n",
    "green5=['#edf8e9','#bae4b3','#74c476','#31a354','#006d2c']\n",
    "purple5 = ['#f2f0f7','#cbc9e2','#9e9ac8','#756bb1','#54278f']\n",
    "\n",
    "# This is the colormap made in SurferClr2Cmap.ipynb from NorthCore_ElevationShader_v2.clr\n",
    "fp = open('cmap_ncb.pkl', 'rb')\n",
    "cmap_ncb = pickle.load(fp)\n",
    "fp.close()\n",
    "\n",
    "# This makes NaN gray\n",
    "tcmap=cmap_ncb\n",
    "tcmap.set_bad(color='darkgray')\n",
    "\n",
    "# This is the difference color map\n",
    "dcmap = cm.seismic.copy()\n",
    "dcmap.set_bad(color='darkgray')\n",
    "dcmap"
   ]
  },
  {
   "cell_type": "code",
   "execution_count": 40,
   "metadata": {},
   "outputs": [
    {
     "name": "stdout",
     "output_type": "stream",
     "text": [
      "[ 0.00168195  0.02229009 -0.02397204 -0.01150765 -0.07320715 -0.02726184\n",
      " -0.03547332 -0.02953579 -0.02719979  0.00756222]\n"
     ]
    }
   ],
   "source": [
    "# load in map offsets\n",
    "with open('offsets.yml') as f:\n",
    "    offset = yaml.safe_load(f)\n",
    "offset = np.array(offset)\n",
    "print(offset)"
   ]
  },
  {
   "cell_type": "code",
   "execution_count": 41,
   "metadata": {},
   "outputs": [
    {
     "name": "stdout",
     "output_type": "stream",
     "text": [
      "{'name': 'ncorebx_small', 'e0': 383520.0, 'n0': 3860830.0, 'xlen': 25000.0, 'ylen': 1200.0, 'dxdy': 1.0, 'theta': 42.0}\n"
     ]
    }
   ],
   "source": [
    "# Dates for DEMs\n",
    "dates = ([\\\n",
    "         \"2019-08-30\",\\\n",
    "         \"2019-09-12\",\\\n",
    "         \"2019-10-11\",\\\n",
    "         \"2019-11-26\"])\n",
    "\n",
    "nc_path = drv+'crs/proj/2019_DorianOBX/Dorian_paper_analyses/rotated_dems/'\n",
    "\n",
    "# # these offsets are the mean anomaly relative to the 10-map mean per Analyze_rotated_stable_points_refac\n",
    "# offset = np.array([0.00168195,  0.02229009, -0.02397204, -0.01150765, -0.07320715, -0.02726184,\n",
    "#  -0.03547332, -0.02953579, -0.02719979,  0.00756222])\n",
    "\n",
    "MHHW = 0.4 #elevation of MHHW per VDATUM\n",
    "\n",
    "# Read in a dict that defines the rotated \"island\" coordinate system\n",
    "#  name\n",
    "#  e0 - UTM Easting of origin [m]\n",
    "#  n0 - UTM Northing of origin [m]\n",
    "#  xlen - Length of alongshore axis [m]\n",
    "#  ylen - Length of cross-shore axis [m]\n",
    "#  dxdy - grid size (must be isotropic right now) [m]\n",
    "#  theta - rotation CCW from x-axis [deg]\n",
    "#  xs_end - number of grid cells to approximate limit of overwash terrace\n",
    "#  d_end - number of grid cells to \n",
    "r = yaml2dict('small_island_box.yml')\n",
    "print(r)\n",
    "\n",
    "# initialize maps arrays fo\n",
    "nmaps = len(dates)\n",
    "vsum = np.zeros((nmaps))\n",
    "vsumall = np.zeros((nmaps))\n",
    "vchange = np.zeros((nmaps-1))\n",
    "vchangeall = np.zeros((nmaps-1))\n",
    "\n",
    "statsfn = \"process_stats_{}.txt\".format(r['name'])\n",
    "sfile = open(statsfn, \"w\")\n",
    "\n",
    "print(\"\",file=sfile)\n",
    "print('Region: ',r['name'],file=sfile)"
   ]
  },
  {
   "cell_type": "markdown",
   "metadata": {},
   "source": [
    "### Read in the re-clipped maps to analyze for shoreline and dune crest"
   ]
  },
  {
   "cell_type": "code",
   "execution_count": 42,
   "metadata": {},
   "outputs": [
    {
     "name": "stdout",
     "output_type": "stream",
     "text": [
      "nmaps, ncross, nalong:  4 1200 25000\n"
     ]
    }
   ],
   "source": [
    "# read in the multi-map reclipped .nc file\n",
    "fn = r['name']+'_reclip.nc'\n",
    "dsa = xr.open_dataset(nc_path+fn)\n",
    "dsaa = np.squeeze(dsa.to_array())\n",
    "nmaps,ncross,nalong=np.shape(dsaa)\n",
    "print('nmaps, ncross, nalong: ',nmaps,ncross,nalong)\n",
    "\n",
    "xdist = dsaa['Alongshore'].to_numpy()\n",
    "ydist = dsaa['Cross-shore'].to_numpy()\n",
    "\n",
    "# Correct for uniform offsets\n",
    "for i in range(0, nmaps):\n",
    "    dsaa[i,:,:] = dsaa[i,:,:] - offset[i] "
   ]
  },
  {
   "cell_type": "markdown",
   "metadata": {},
   "source": [
    "#### Declare arrays for along-island points\n",
    "* ydist - alongshore location of each transect (1D array)\n",
    "* isy - cross-shore shoreline position (2D)\n",
    "* idy - cross-shore dune crest postion\n",
    "* dshore\n",
    "* ddune - \n",
    "* zdune - "
   ]
  },
  {
   "cell_type": "code",
   "execution_count": 43,
   "metadata": {},
   "outputs": [],
   "source": [
    "ydist = np.arange(0.,ncross)\n",
    "isy = np.zeros((nalong, nmaps)) #shoreline location\n",
    "i4y = np.zeros((nalong, nmaps))#shoreline using 0.4 m\n",
    "idy = np.zeros((nalong, nmaps))\n",
    "dshore = np.zeros((nalong, nmaps))\n",
    "zshore = np.zeros((nalong, nmaps))\n",
    "zshore4 = np.zeros((nalong, nmaps))\n",
    "ddune = np.zeros((nalong, nmaps))\n",
    "zdune = np.zeros((nalong, nmaps))\n",
    "bp = np.zeros((nalong, nmaps))\n",
    "bp4 = np.zeros((nalong, nmaps))\n",
    "bpb = np.zeros((nalong, nmaps))"
   ]
  },
  {
   "cell_type": "markdown",
   "metadata": {},
   "source": [
    "### Find first valid point (shoreline, kind of): isy"
   ]
  },
  {
   "cell_type": "code",
   "execution_count": 44,
   "metadata": {},
   "outputs": [
    {
     "name": "stdout",
     "output_type": "stream",
     "text": [
      "Map 0\n",
      "Map 1\n",
      "Map 2\n",
      "24976 all nans in find_island_points\n",
      "24976 all nans in find_first_above\n",
      "24977 all nans in find_island_points\n",
      "24977 all nans in find_first_above\n",
      "24978 all nans in find_island_points\n",
      "24978 all nans in find_first_above\n",
      "24979 all nans in find_island_points\n",
      "24979 all nans in find_first_above\n",
      "24980 all nans in find_island_points\n",
      "24980 all nans in find_first_above\n",
      "24981 all nans in find_island_points\n",
      "24981 all nans in find_first_above\n",
      "24982 all nans in find_island_points\n",
      "24982 all nans in find_first_above\n",
      "24983 all nans in find_island_points\n",
      "24983 all nans in find_first_above\n",
      "24984 all nans in find_island_points\n",
      "24984 all nans in find_first_above\n",
      "24985 all nans in find_island_points\n",
      "24985 all nans in find_first_above\n",
      "24986 all nans in find_island_points\n",
      "24986 all nans in find_first_above\n",
      "24987 all nans in find_island_points\n",
      "24987 all nans in find_first_above\n",
      "24988 all nans in find_island_points\n",
      "24988 all nans in find_first_above\n",
      "24989 all nans in find_island_points\n",
      "24989 all nans in find_first_above\n",
      "24990 all nans in find_island_points\n",
      "24990 all nans in find_first_above\n",
      "24991 all nans in find_island_points\n",
      "24991 all nans in find_first_above\n",
      "24992 all nans in find_island_points\n",
      "24992 all nans in find_first_above\n",
      "24993 all nans in find_island_points\n",
      "24993 all nans in find_first_above\n",
      "24994 all nans in find_island_points\n",
      "24994 all nans in find_first_above\n",
      "24995 all nans in find_island_points\n",
      "24995 all nans in find_first_above\n",
      "24996 all nans in find_island_points\n",
      "24996 all nans in find_first_above\n",
      "24997 all nans in find_island_points\n",
      "24997 all nans in find_first_above\n",
      "24998 all nans in find_island_points\n",
      "24998 all nans in find_first_above\n",
      "24999 all nans in find_island_points\n",
      "24999 all nans in find_first_above\n",
      "Map 3\n",
      "Done.\n"
     ]
    },
    {
     "data": {
      "text/plain": [
       "<Figure size 432x288 with 0 Axes>"
      ]
     },
     "metadata": {},
     "output_type": "display_data"
    }
   ],
   "source": [
    "%run -i CoreBx_funcs\n",
    "for j in range(nmaps):\n",
    "    print('Map',j)\n",
    "    for i in range(nalong):\n",
    "        prof = np.squeeze(np.array((dsaa[j,:,i])))\n",
    "        isy[i,j], zshore[i,j], bp[i,j] = find_first_valid(ydist, prof, i)\n",
    "        i4y[i,j], zshore4[i,j], bp4[i,j] = find_first_above(ydist, prof, i)\n",
    "\n",
    "print('Done.')"
   ]
  },
  {
   "cell_type": "code",
   "execution_count": 45,
   "metadata": {},
   "outputs": [
    {
     "name": "stdout",
     "output_type": "stream",
     "text": [
      "(25000, 4)\n",
      "[ 0.10728721  0.11267002  0.6448062  -0.14234834]\n",
      "[0.48814312 0.48166686 0.70129674 0.46515808]\n",
      "[-0.84931612 -1.16391575 -2.96463656 -3.2415278 ]\n"
     ]
    }
   ],
   "source": [
    "print(np.shape(isy))\n",
    "print(np.nanmean(zshore,0))\n",
    "print(np.nanmean(zshore4,0))\n",
    "print(np.nanmin(zshore,0))"
   ]
  },
  {
   "cell_type": "code",
   "execution_count": 46,
   "metadata": {},
   "outputs": [],
   "source": [
    "# export shoreline locations to csv\n",
    "csv_dir = drv+'crs/proj/2019_DorianOBX/Best_files/csv/'\n",
    "Aug_shorex, Aug_shorey = island2UTM(xdist, isy[:,0], r['e0'], r['n0'], r['theta'])\n",
    "pd.DataFrame((np.vstack((Aug_shorex, Aug_shorey)).T).round(decimals=2)).to_csv(csv_dir+'Aug_shoreline.csv',header=None, index=None)\n",
    "\n",
    "Sep_shorex, Sep_shorey = island2UTM(xdist, isy[:,1], r['e0'], r['n0'], r['theta'])\n",
    "pd.DataFrame((np.vstack((Sep_shorex, Sep_shorey)).T).round(decimals=2)).to_csv(csv_dir+'Sep_shoreline.csv',header=None, index=None)\n",
    "\n",
    "Oct_shorex, Oct_shorey = island2UTM(xdist, isy[:,2], r['e0'], r['n0'], r['theta'])\n",
    "pd.DataFrame((np.vstack((Oct_shorex, Oct_shorey)).T).round(decimals=2)).to_csv(csv_dir+'Oct_shoreline.csv',header=None, index=None)\n",
    "\n",
    "Nov_shorex, Nov_shorey = island2UTM(xdist, isy[:,3], r['e0'], r['n0'], r['theta'])\n",
    "pd.DataFrame((np.vstack((Nov_shorex, Nov_shorey)).T).round(decimals=2)).to_csv(csv_dir+'Nov_shoreline.csv',header=None, index=None)"
   ]
  },
  {
   "cell_type": "markdown",
   "metadata": {},
   "source": [
    "### Smooth the maps with a 5-point Gaussian kernal that will fill in NaNs\n",
    "The boundary='fill' and fill_value=np.nan arguments prevent the default behavior of putting zeros where kernel touches boundaries.  \n",
    "\n",
    "New 3d array: *dsaas*"
   ]
  },
  {
   "cell_type": "code",
   "execution_count": 47,
   "metadata": {},
   "outputs": [
    {
     "name": "stdout",
     "output_type": "stream",
     "text": [
      "Size of kernel:  (5, 5)\n",
      "CPU times: total: 12 s\n",
      "Wall time: 12 s\n"
     ]
    }
   ],
   "source": [
    "%%time\n",
    "ismooth = True\n",
    "dsaas = dsaa.copy()\n",
    "if ismooth:\n",
    "    kernel = Gaussian2DKernel(x_stddev=.5)\n",
    "    print('Size of kernel: ', kernel.shape)\n",
    "    \n",
    "    for i in range(0, nmaps):\n",
    "        dsaas[i,:,:] = astropy_convolve(dsaa[i,:,:], kernel, boundary='fill', fill_value=np.nan)"
   ]
  },
  {
   "cell_type": "markdown",
   "metadata": {},
   "source": [
    "### Read in the digitized profile of dune crest profile; covert to island coords"
   ]
  },
  {
   "cell_type": "code",
   "execution_count": 48,
   "metadata": {},
   "outputs": [
    {
     "data": {
      "text/plain": [
       "[<matplotlib.lines.Line2D at 0x203df9bba00>]"
      ]
     },
     "execution_count": 48,
     "metadata": {},
     "output_type": "execute_result"
    },
    {
     "data": {
      "image/png": "[encoded data removed]",
      "text/plain": [
       "<Figure size 432x288 with 1 Axes>"
      ]
     },
     "metadata": {
      "needs_background": "light"
     },
     "output_type": "display_data"
    }
   ],
   "source": [
    "df=pd.read_csv(drv+\"\\\\crs\\\\proj\\\\2019_DorianOBX\\\\WayneWright_flights\\\\CoreBx\\\\dune_line_2.csv\",header = None)\n",
    "\n",
    "xUTM=df.loc[:,0].values\n",
    "yUTM=df.loc[:,1].values\n",
    "\n",
    "xdune,ydune=UTM2Island(xUTM, yUTM, eoff=r['e0'], noff=r['n0'], rot=r['theta'])\n",
    "# y = np.arange(0,nalong+1.)\n",
    "f = interpolate.interp1d(xdune,ydune,bounds_error=False,fill_value=np.nan)\n",
    "ydunei = f(xdist)\n",
    "\n",
    "plt.plot(ydunei)"
   ]
  },
  {
   "cell_type": "markdown",
   "metadata": {},
   "source": [
    "### Find dune crest and back of island platform using smoothed arrays: idy, zdune"
   ]
  },
  {
   "cell_type": "code",
   "execution_count": 49,
   "metadata": {},
   "outputs": [
    {
     "name": "stdout",
     "output_type": "stream",
     "text": [
      "Map 0\n",
      "412 452 432 434\n",
      "Map 1\n",
      "412 452 432 434\n",
      "Map 2\n",
      "412 452 432 434\n",
      "24978 all nans in find_dune\n",
      "24979 all nans in find_dune\n",
      "24980 all nans in find_dune\n",
      "24981 all nans in find_dune\n",
      "24982 all nans in find_dune\n",
      "24983 all nans in find_dune\n",
      "24984 all nans in find_dune\n",
      "24985 all nans in find_dune\n",
      "24986 all nans in find_dune\n",
      "24987 all nans in find_dune\n",
      "24988 all nans in find_dune\n",
      "24989 all nans in find_dune\n",
      "24990 all nans in find_dune\n",
      "24991 all nans in find_dune\n",
      "24992 all nans in find_dune\n",
      "24993 all nans in find_dune\n",
      "24994 all nans in find_dune\n",
      "24995 all nans in find_dune\n",
      "24996 all nans in find_dune\n",
      "24997 all nans in find_dune\n",
      "24998 all nans in find_dune\n",
      "24999 all nans in find_dune\n",
      "Map 3\n",
      "412 452 432 434\n",
      "Done.\n"
     ]
    },
    {
     "data": {
      "image/png": "[encoded data removed]",
      "text/plain": [
       "<Figure size 432x288 with 1 Axes>"
      ]
     },
     "metadata": {
      "needs_background": "light"
     },
     "output_type": "display_data"
    }
   ],
   "source": [
    "%run -i CoreBx_funcs\n",
    "for j in range(nmaps):\n",
    "    print('Map',j)\n",
    "    for i in range(nalong):\n",
    "        prof = np.squeeze(np.array((dsaas[j,:,i])))\n",
    "        idy[i,j], zdune[i,j] = find_dune(ydist, prof, isy[i,0], ydunei[i], i)\n",
    "print('Done.')"
   ]
  },
  {
   "cell_type": "code",
   "execution_count": 50,
   "metadata": {},
   "outputs": [
    {
     "name": "stdout",
     "output_type": "stream",
     "text": [
      "Mean dune crest elevation:  [4.03052567 3.77570439 3.76167863 3.76076206]\n",
      "Std. dune crest elevation:  [1.33880068 1.65842876 3.56833142 1.63310464]\n"
     ]
    }
   ],
   "source": [
    "print('Mean dune crest elevation: ',np.nanmean(zdune,0))\n",
    "print('Std. dune crest elevation: ',np.nanstd(zdune,0))"
   ]
  },
  {
   "cell_type": "markdown",
   "metadata": {},
   "source": [
    "#### Rotate these to UTM and export to .csv"
   ]
  },
  {
   "cell_type": "code",
   "execution_count": 51,
   "metadata": {},
   "outputs": [],
   "source": [
    "# export these locations to csv\n",
    "csv_dir = drv+'crs/proj/2019_DorianOBX/Best_files/csv/'\n",
    "    \n",
    "Aug_dunex, Aug_duney = island2UTM(xdist, idy[:,0], r['e0'], r['n0'], r['theta'])\n",
    "pd.DataFrame((np.vstack((Aug_dunex, Aug_duney, zdune[:,0])).T).round(decimals=2)).to_csv(csv_dir+'Aug_dune.csv',header=None, index=None)\n",
    "Sep_dunex, Sep_duney = island2UTM(xdist, idy[:,1], r['e0'], r['n0'], r['theta'])\n",
    "pd.DataFrame((np.vstack((Sep_dunex, Sep_duney, zdune[:,1])).T).round(decimals=2)).to_csv(csv_dir+'Sep_dune.csv',header=None, index=None)\n",
    "Oct_dunex, Oct_duney = island2UTM(xdist, idy[:,2], r['e0'], r['n0'], r['theta'])\n",
    "pd.DataFrame((np.vstack((Oct_dunex, Oct_duney, zdune[:,2])).T).round(decimals=2)).to_csv(csv_dir+'Oct_dune.csv',header=None, index=None)\n",
    "Nov_dunex, Nov_duney = island2UTM(xdist, idy[:,3], r['e0'], r['n0'], r['theta'])\n",
    "pd.DataFrame((np.vstack((Nov_dunex, Nov_duney, zdune[:,3])).T).round(decimals=2)).to_csv(csv_dir+'Nov_dune.csv',header=None, index=None)"
   ]
  },
  {
   "cell_type": "markdown",
   "metadata": {},
   "source": [
    "### Read in the digitized profile for the back side at the ~1.25-m contour interval\n",
    "(this looks more like the 0.75-m contour when plotted against that contour derived from lidar ground points."
   ]
  },
  {
   "cell_type": "code",
   "execution_count": 52,
   "metadata": {},
   "outputs": [
    {
     "name": "stdout",
     "output_type": "stream",
     "text": [
      "Stat summary of island width (iswide)\n",
      "  n, nnan, nvalid:  25000 0 25000\n",
      "  mean, std, min, max   : 260.892 77.296 0.000 492.284\n",
      "  d5, d25, d50, d75, d95: 130.494 213.562 262.624 313.341 377.522\n"
     ]
    },
    {
     "data": {
      "text/plain": [
       "Text(0, 0.5, 'Cross-shore distance (m)')"
      ]
     },
     "execution_count": 52,
     "metadata": {},
     "output_type": "execute_result"
    },
    {
     "data": {
      "image/png": "[encoded data removed]",
      "text/plain": [
       "<Figure size 360x216 with 1 Axes>"
      ]
     },
     "metadata": {
      "needs_background": "light"
     },
     "output_type": "display_data"
    },
    {
     "data": {
      "image/png": "[encoded data removed]",
      "text/plain": [
       "<Figure size 360x216 with 1 Axes>"
      ]
     },
     "metadata": {
      "needs_background": "light"
     },
     "output_type": "display_data"
    }
   ],
   "source": [
    "#TODO - get a copy of this on the workstation\n",
    "# dfb=pd.read_csv(drv+\"crs/proj/2019_DorianOBX/WayneWright_flights/CoreBx/back_125_2.csv\",header = None)\n",
    "\n",
    "dfb=pd.read_csv(drv+\"crs/proj/2019_DorianOBX/WayneWright_flights/CoreBx/back_125.csv\",header = None)\n",
    "xUTMb=dfb.loc[:,0].values\n",
    "yUTMb=dfb.loc[:,1].values\n",
    "\n",
    "# rotate to alongshore/cross-shore coordinates\n",
    "xback,yback=UTM2Island(xUTMb, yUTMb, eoff=r['e0'], noff=r['n0'], rot=r['theta'])\n",
    "\n",
    "# interpolate\n",
    "fb = interpolate.interp1d(xback,yback,bounds_error=False,fill_value=np.nan)\n",
    "ybacki = fb(xdist)\n",
    "\n",
    "# ensure back >= dune\n",
    "ybacki[ybacki<ydunei]=ydunei[ybacki<ydunei]\n",
    "iswide = ybacki-ydunei\n",
    "\n",
    "print(\"Stat summary of island width (iswide)\")\n",
    "stat_summary(iswide,iprint=True)\n",
    "\n",
    "fig = plt.figure(figsize=(5,3))\n",
    "plt.plot(xdist,ydunei,'.',label=\"Interp.\")\n",
    "plt.plot(xdune,ydune,'.',label='Digitized')\n",
    "plt.plot(xdist,ybacki,'.',label=\"Interp.\")\n",
    "plt.plot(xback,yback,'.',label='Digitized')\n",
    "plt.legend()\n",
    "plt.xlabel('Alongshore Distance (m)')\n",
    "plt.ylabel('Cross-shore distance (m)')\n",
    "\n",
    "fig = plt.figure(figsize=(5,3))\n",
    "plt.plot(xdist,iswide,'-')\n",
    "plt.xlabel('Alongshore Distance (m)')\n",
    "plt.ylabel('Cross-shore distance (m)')"
   ]
  },
  {
   "cell_type": "markdown",
   "metadata": {},
   "source": [
    "### Copy smoothed, trimmed maps to arrays: Augs, Seps, Octs, Novs"
   ]
  },
  {
   "cell_type": "code",
   "execution_count": 53,
   "metadata": {},
   "outputs": [],
   "source": [
    "Augs = np.squeeze(np.array(dsaas[0,:,:]))\n",
    "Seps = np.squeeze(np.array(dsaas[1,:,:]))\n",
    "Octs = np.squeeze(np.array(dsaas[2,:,:]))\n",
    "Novs = np.squeeze(np.array(dsaas[3,:,:]))"
   ]
  },
  {
   "cell_type": "markdown",
   "metadata": {},
   "source": [
    "### Fill NaNs landward of Aug dune crest in Oct and Nov with Sep values"
   ]
  },
  {
   "cell_type": "code",
   "execution_count": 54,
   "metadata": {},
   "outputs": [],
   "source": [
    "Octsf = Octs.copy()\n",
    "for i in range(nalong):\n",
    "    iidy = int(idy[i,0])\n",
    "    tmp_prof = Octs[:,i]\n",
    "    ireplace = np.argwhere(np.isnan(tmp_prof))\n",
    "    tmp_prof[ireplace] = Seps[ireplace,i]\n",
    "    Octsf[iidy:,i]=tmp_prof[iidy:] \n",
    "    \n",
    "Novsf = Novs.copy()\n",
    "for i in range(nalong):\n",
    "    iidy = int(idy[i,0])\n",
    "    tmp_prof = Novs[:,i]\n",
    "    ireplace = np.argwhere(np.isnan(tmp_prof))\n",
    "    tmp_prof[ireplace] = Seps[ireplace,i]\n",
    "    Novsf[iidy:,i]=tmp_prof[iidy:]"
   ]
  },
  {
   "cell_type": "markdown",
   "metadata": {},
   "source": [
    "### Reassemble the best maps into 3D array for convenience"
   ]
  },
  {
   "cell_type": "code",
   "execution_count": 55,
   "metadata": {},
   "outputs": [
    {
     "name": "stdout",
     "output_type": "stream",
     "text": [
      "Shape of maps: (4, 1200, 25000)\n"
     ]
    }
   ],
   "source": [
    "maps = np.stack((Augs, Seps, Octsf, Novsf),0)\n",
    "print('Shape of maps:', maps.shape )"
   ]
  },
  {
   "cell_type": "markdown",
   "metadata": {},
   "source": [
    "### Replace NaNs in platform with zeros"
   ]
  },
  {
   "cell_type": "code",
   "execution_count": 56,
   "metadata": {},
   "outputs": [
    {
     "name": "stdout",
     "output_type": "stream",
     "text": [
      "[835 836 837 838 839 840 841 842 843 844 845 846 847 848]\n",
      "[837 838 839 840 841 842 843 844 845 846 847 848 849 850 851]\n",
      "[837 838 839 840 841 842 843 844 845 846 847 848 849 850 851]\n",
      "[837 838 839 840]\n"
     ]
    },
    {
     "data": {
      "image/png": "[encoded data removed]",
      "text/plain": [
       "<Figure size 432x288 with 1 Axes>"
      ]
     },
     "metadata": {
      "needs_background": "light"
     },
     "output_type": "display_data"
    }
   ],
   "source": [
    "maps_fill0 = maps.copy()\n",
    "for j in range(nmaps):\n",
    "    for i in range(nalong):\n",
    "        # cross-island indices of dune crest, island back\n",
    "        idune = int(idy[i,0])     # dune crest stays at August value\n",
    "        iyback = int(ybacki[i])   # yback is constant\n",
    "        \n",
    "        # calculate volume above zero\n",
    "        tmp_prof = maps_fill0[j,:,i]\n",
    "        ireplace = np.argwhere(np.isnan(tmp_prof))\n",
    "        ireplace = ireplace[ np.where( ireplace >= idune) ]\n",
    "        ireplace = ireplace[ np.where( ireplace <= iyback)]\n",
    "        tmp_prof[ireplace] = 0.\n",
    "        if i == 12000:\n",
    "            print(ireplace)\n",
    "            plt.plot(tmp_prof)\n",
    "        maps_fill0[j,:,i]=tmp_prof"
   ]
  },
  {
   "cell_type": "markdown",
   "metadata": {},
   "source": [
    "### Calculate volumes"
   ]
  },
  {
   "cell_type": "code",
   "execution_count": 57,
   "metadata": {},
   "outputs": [
    {
     "data": {
      "image/png": "[encoded data removed]",
      "text/plain": [
       "<Figure size 432x288 with 1 Axes>"
      ]
     },
     "metadata": {
      "needs_background": "light"
     },
     "output_type": "display_data"
    }
   ],
   "source": [
    "# arrays for saving results\n",
    "all_vol   = np.zeros((nalong, nmaps))\n",
    "beach_vol = np.zeros((nalong, nmaps))\n",
    "plat_vol  = np.zeros((nalong, nmaps))\n",
    "all_volNaN   = np.zeros((nalong, nmaps))\n",
    "beach_volNaN = np.zeros((nalong, nmaps))\n",
    "plat_volNaN  = np.zeros((nalong, nmaps))\n",
    "beach_width  = np.zeros((nalong, nmaps))\n",
    "platform_width = np.zeros((nalong, nmaps))\n",
    "island_width = np.zeros((nalong, nmaps))\n",
    "\n",
    "for j in range(nmaps):\n",
    "    for i in range(nalong):\n",
    "        # cross-island indices of shore, dune crest, island back\n",
    "        ishore = int(i4y[i,j])    # shoreline adjusts with each map\n",
    "        idune = int(idy[i,0])     # dune crest stays at August value\n",
    "        iyback = int(ybacki[i])   # yback is constant\n",
    "\n",
    "        # calculate widths\n",
    "        beach_width[i,j] = idune - ishore\n",
    "        platform_width[i,j] = iyback - idune\n",
    "        \n",
    "        # calculate volume above zero\n",
    "        tmp_prof = maps_fill0[j,:,i]\n",
    "        tmp_prof[np.where(tmp_prof < 0.)] = 0.\n",
    "        if i == 12000:\n",
    "            plt.plot(tmp_prof)\n",
    "        all_vol[i,j] = np.nansum(tmp_prof)\n",
    "        beach_vol[i,j] = np.nansum(tmp_prof[ishore:idune])\n",
    "        plat_vol[i,j]  = np.nansum(tmp_prof[idune:iyback])      "
   ]
  },
  {
   "cell_type": "markdown",
   "metadata": {},
   "source": [
    "### Make 3D difference map array"
   ]
  },
  {
   "cell_type": "code",
   "execution_count": 58,
   "metadata": {},
   "outputs": [
    {
     "name": "stdout",
     "output_type": "stream",
     "text": [
      "Shape of dmaps: (3, 1200, 25000)\n"
     ]
    }
   ],
   "source": [
    "dmaps = np.diff(maps_fill0, n=1, axis=0)\n",
    "print('Shape of dmaps:', dmaps.shape )"
   ]
  },
  {
   "cell_type": "markdown",
   "metadata": {},
   "source": [
    "### Calculate differences for profile segments  \n",
    "In these calculations, areas with NaN on one map are not differenced."
   ]
  },
  {
   "cell_type": "code",
   "execution_count": 59,
   "metadata": {},
   "outputs": [],
   "source": [
    "# arrays for saving results\n",
    "all_diff   = np.zeros((nalong, nmaps-1))\n",
    "beach_diff = np.zeros((nalong, nmaps-1))\n",
    "plat_diff  = np.zeros((nalong, nmaps-1))\n",
    "\n",
    "for j in range(nmaps-1):\n",
    "    for i in range(nalong):\n",
    "        iisy = int(isy[i,0])\n",
    "        iidy = int(idy[i,0])\n",
    "        iyback = int(ybacki[i])\n",
    "        tmp_prof = dmaps[j,:,i]\n",
    "        all_diff[i,j] = np.nansum(tmp_prof)\n",
    "        beach_diff[i,j] = np.nansum(tmp_prof[iisy:iidy])\n",
    "        plat_diff[i,j]  = np.nansum(tmp_prof[iidy:iyback])"
   ]
  },
  {
   "cell_type": "code",
   "execution_count": 60,
   "metadata": {},
   "outputs": [
    {
     "name": "stdout",
     "output_type": "stream",
     "text": [
      "Date       Plat vol Beach vol Tot vol   P. area  B. area    P. Frac  T. Frac  Elev.\n",
      "2019-08-30 12520760 4065502   16586262  6513375  2281114     1.000   1.000    1.89\n",
      "2019-09-12 10957930 2506670   13464599  6513375  1385911     0.875   0.812    1.70\n",
      "2019-10-11 10815227 2719926   13535153  6513375  1602150     0.864   0.816    1.67\n",
      "2019-11-26 11268495 2728924   13997419  6513375  1853772     0.900   0.844    1.67\n"
     ]
    }
   ],
   "source": [
    "vp_tot = np.nansum(plat_vol,0)\n",
    "vb_tot = np.nansum(beach_vol,0)\n",
    "va_tot = np.nansum(plat_vol+beach_vol,0)\n",
    "ap_tot = np.nansum(platform_width,0)\n",
    "ab_tot = np.nansum(beach_width,0)\n",
    "aa_tot = np.nansum(beach_width+platform_width,0)\n",
    "print('Date       Plat vol Beach vol Tot vol   P. area  B. area    P. Frac  T. Frac  Elev.')\n",
    "for i, d in enumerate(dates):\n",
    "    print('{} {:.0f} {:.0f}   {:.0f}  {:.0f}  {:.0f}     {:.3f}   {:.3f}    {:.2f}'.\n",
    "          format(dates[i],vp_tot[i],vb_tot[i],va_tot[i],ap_tot[i],ab_tot[i],vp_tot[i]/vp_tot[0],va_tot[i]/va_tot[0],va_tot[i]/aa_tot[i]))"
   ]
  },
  {
   "cell_type": "code",
   "execution_count": 62,
   "metadata": {},
   "outputs": [
    {
     "data": {
      "text/plain": [
       "(25000, 4)"
      ]
     },
     "execution_count": 62,
     "metadata": {},
     "output_type": "execute_result"
    }
   ],
   "source": [
    "plat_vol.shape"
   ]
  },
  {
   "cell_type": "code",
   "execution_count": 63,
   "metadata": {},
   "outputs": [
    {
     "data": {
      "text/plain": [
       "<matplotlib.legend.Legend at 0x203dfa109d0>"
      ]
     },
     "execution_count": 63,
     "metadata": {},
     "output_type": "execute_result"
    },
    {
     "data": {
      "image/png": "[encoded data removed]",
      "text/plain": [
       "<Figure size 432x288 with 1 Axes>"
      ]
     },
     "metadata": {
      "needs_background": "light"
     },
     "output_type": "display_data"
    }
   ],
   "source": [
    "plt.plot(plat_vol[:,1]-plat_vol[:,0],'.',label='vol')\n",
    "plt.plot(plat_diff[:,0],label='change')\n",
    "plt.legend()"
   ]
  },
  {
   "cell_type": "code",
   "execution_count": 64,
   "metadata": {},
   "outputs": [
    {
     "data": {
      "text/plain": [
       "[<matplotlib.lines.Line2D at 0x20478920ac0>]"
      ]
     },
     "execution_count": 64,
     "metadata": {},
     "output_type": "execute_result"
    },
    {
     "data": {
      "image/png": "[encoded data removed]",
      "text/plain": [
       "<Figure size 432x288 with 1 Axes>"
      ]
     },
     "metadata": {
      "needs_background": "light"
     },
     "output_type": "display_data"
    }
   ],
   "source": [
    "plt.plot(plat_vol[:,2]-plat_vol[:,1],'.')\n",
    "plt.plot(plat_diff[:,1])"
   ]
  },
  {
   "cell_type": "code",
   "execution_count": 43,
   "metadata": {},
   "outputs": [
    {
     "name": "stdout",
     "output_type": "stream",
     "text": [
      "xse: 1200\n"
     ]
    },
    {
     "data": {
      "text/latex": [
       "$\\Delta$ Vol. = 0 m$^3$; 0.0 m$^3$/m"
      ],
      "text/plain": [
       "<IPython.core.display.Latex object>"
      ]
     },
     "metadata": {},
     "output_type": "display_data"
    },
    {
     "name": "stdout",
     "output_type": "stream",
     "text": [
      "yticks: [ 200  400  600  800 1000]\n",
      "xticks: [18000 18200 18400 18600 18800 19000]\n",
      "(1000, 1000)\n",
      "250.0 250 280.0\n",
      "500.0 500 268.0\n",
      "750.0 750 320.0\n"
     ]
    },
    {
     "data": {
      "image/png": "[encoded data removed]",
      "text/plain": [
       "<Figure size 1080x288 with 3 Axes>"
      ]
     },
     "metadata": {
      "needs_background": "light"
     },
     "output_type": "display_data"
    }
   ],
   "source": [
    "# This is a test map + profile figure that can be relocated\n",
    "from IPython.display import display, Latex\n",
    "figdir = drv+'/crs/proj/2019_DorianOBX/Dorian_paper_analyses/figs/'\n",
    "\n",
    "map0 = Octs\n",
    "map1 = Octsf\n",
    "mapd = map1-map0\n",
    "imap = 1\n",
    "\n",
    "yss = 18000     # alongshore start\n",
    "dyy = 1000      # alongshore extent\n",
    "yse = yss + dyy # alongshore end\n",
    "\n",
    "xss = 200       # cross-shore start\n",
    "dxx = 1000      # cross-shore extent\n",
    "xse = xss+dxx   # cross-shore end\n",
    "print('xse:',xse)\n",
    "\n",
    "#label0 = dates[imap]\n",
    "#label1 = dates[imap+1]\n",
    "label0 = 'Octs'\n",
    "label1 = 'Octsf'\n",
    "label2 =  label1+'_minus_'+label0\n",
    "figname = label2\n",
    "\n",
    "dvol = np.nansum(mapd[xss:xse,yss:yse])\n",
    "dvm = dvol/(dyy)\n",
    "ts = '$\\Delta$ Vol. = {:.0f} m$^3$; {:.1f} m$^3$/m'.format(dvol, dvm)\n",
    "display(Latex(ts))\n",
    "yticks = np.arange(xss,xse,200)\n",
    "print('yticks:',yticks)\n",
    "xticks = np.arange(yss,yse+1,200)\n",
    "print('xticks:',xticks)\n",
    "\n",
    "print(map0[xss:xse,yss:yse].shape)\n",
    "fix, axes = plt.subplots(1,3,figsize=(15,4),sharey='row')\n",
    "axes[0].pcolormesh(map0[xss:xse,yss:yse],vmin=-2,vmax=6,cmap=cmap_ncb)\n",
    "axes[1].pcolormesh(map1[xss:xse,yss:yse],vmin=-2,vmax=6,cmap=cmap_ncb)\n",
    "axes[2].pcolormesh(mapd[xss:xse,yss:yse],vmin=-2,vmax=2,cmap=dcmap)\n",
    "for i in range(0,3):\n",
    "    yvals = np.ones(2)*(i+1)*int(dyy/4)\n",
    "    xvals = np.array((0.,dxx))\n",
    "\n",
    "    dcrest_along = yvals[0]\n",
    "    dcrest_cross = idy[yss+(i+1)*int(dyy/4), imap]-xss\n",
    "    print(dcrest_along, (i+1)*int(dyy/4), dcrest_cross)\n",
    "    axes[0].plot(yvals,xvals,'--',c='gray')\n",
    "    axes[0].plot(dcrest_along,dcrest_cross,'ok')\n",
    "    axes[1].plot(yvals,xvals,'--',c='gray')\n",
    "    axes[1].plot(dcrest_along,dcrest_cross,'ok')\n",
    "    axes[2].plot(yvals,xvals,'--',c='gray')\n",
    "    axes[2].plot(dcrest_along,dcrest_cross,'ok')\n",
    "    axes[i].set_xticklabels(xticks)\n",
    "   \n",
    "axes[0].text(.05,.92,'a) '+label0,transform=axes[0].transAxes)\n",
    "axes[1].text(.05,.92,'b) '+label1,transform=axes[1].transAxes)\n",
    "axes[2].text(.05,.92,'c) '+label2,transform=axes[2].transAxes)\n",
    "axes[2].text(.05,.85, ts,transform=axes[2].transAxes)\n",
    "axes[0].set_yticks(yticks)\n",
    "axes[0].set_ylabel('Cross-shore Distance (m)')\n",
    "axes[1].set_xlabel('Alongshore Distance (m)')\n",
    "\n",
    "plt.savefig(figdir+'map_'+figname+'.jpg',dpi=200)"
   ]
  },
  {
   "cell_type": "code",
   "execution_count": 21,
   "metadata": {},
   "outputs": [
    {
     "name": "stdout",
     "output_type": "stream",
     "text": [
      "idx, idy 19250 [512. 514. 490. 492.]\n",
      "idx, idy 19500 [506. 521. 485. 485.]\n",
      "idx, idy 19750 [509. 490. 493. 493.]\n"
     ]
    },
    {
     "data": {
      "image/png": "[encoded data removed]",
      "text/plain": [
       "<Figure size 1080x288 with 3 Axes>"
      ]
     },
     "metadata": {
      "needs_background": "light"
     },
     "output_type": "display_data"
    }
   ],
   "source": [
    "fig, axes = plt.subplots(3,1,figsize=(15,4),sharex=True)\n",
    "for i, ax in enumerate(axes):\n",
    "    idx = yss+(i+1)*int(dyy/4) # index into transect\n",
    "    print('idx, idy',idx, idy[idx,:])\n",
    "    ax.plot(idy[idx,imap],zdune[idx,imap],'o',c=blue5[3])\n",
    "    ax.plot(idy[idx,imap],zdune[idx,imap],'o',c=purple5[4])\n",
    "\n",
    "    ax.plot(ydist[xss:xse],np.squeeze(map0[xss:xse,idx]),c=blue5[3],label=label0)\n",
    "    ax.plot(ydist[xss:xse],np.squeeze(map1[xss:xse,idx]),c=purple5[4],label=label1)\n",
    "\n",
    "axes[0].legend(loc='upper right')\n",
    "axes[0].set_xlim(xmin=xss, xmax=xse)\n",
    "ttext = 'Cross-shore Profiles, map{}, Alongshore {:0d}'.format(imap,yss)\n",
    "axes[0].set_title(ttext)\n",
    "axes[-1].set_xlabel('Cross-shore Distance (m)')\n",
    "axes[1].set_ylabel('Elevation (m NAVD88')\n",
    "plt.savefig(figdir+'prof_'+figname+'.png',dpi=200)"
   ]
  },
  {
   "cell_type": "code",
   "execution_count": null,
   "metadata": {},
   "outputs": [],
   "source": [
    "#TODO - Do all months, maybe add other variables\n",
    "# put these results in a .csv file via Pandas\n",
    "for i, mnth in enumerate(['Aug_','Sep_','Oct_','Nov_']):\n",
    "    exec( mnth+\"pmetrics = pd.DataFrame({'y':y.T,'Vol':v[i,:],'Volp':vp[i,:],'Cx':cxcy[i,:,0],'Cy':cxcy[i,:,1],\\\n",
    "        'zmax':zmax[i,:], 'dmax':dmax[i,:], 'zcrest':zcrest[i,:], 'dcrest':dcrest[i,:], 'zcrest0':zcrest0[i,:],\\\n",
    "        'dtoe':dtoe[i,:],'iwidth':width_island[i,:],'pwidth': width_platform[i,:]})\" )\n",
    "    exec(mnth+\"pmetrics.to_csv('\"+mnth+\"_pmetrics.csv',index=False,na_rep='-999.999',float_format='%.3f')\")"
   ]
  },
  {
   "cell_type": "markdown",
   "metadata": {},
   "source": [
    "### Volume Calc Uncertainty"
   ]
  },
  {
   "cell_type": "code",
   "execution_count": 65,
   "metadata": {},
   "outputs": [
    {
     "name": "stdout",
     "output_type": "stream",
     "text": [
      "sigma_rmsd: 0.28284271247461906\n"
     ]
    }
   ],
   "source": [
    "# print statement have been commented out...better output formats in pandas output\n",
    "# for platform volumes\n",
    "sigma_rs = np.ones_like(vp_tot)*np.nan\n",
    "sigma_sc = sigma_rs.copy()\n",
    "# for beach volumes\n",
    "sigma_rsb = sigma_rs.copy()\n",
    "sigma_scb = sigma_rs.copy()\n",
    "sigma_rmsd = np.sqrt(2.*0.2**2)\n",
    "print('sigma_rmsd:',sigma_rmsd)\n",
    "\n",
    "L2 = 1. # 1-m grid\n",
    "for imap in range((nmaps)):\n",
    "\n",
    "    # Uncorrelated random error\n",
    "    an = ap_tot[imap] # approximate area\n",
    "    bn = ab_tot[imap]\n",
    "    #print('areas:', an, bn)\n",
    "    sigma_rs[imap] = sigma_rmsd/np.sqrt(an)\n",
    "    sigma_rsb[imap] = sigma_rmsd/np.sqrt(bn)\n",
    "\n",
    "    # Spatially correlated data (max values)\n",
    "    sill = np.sqrt(0.03)\n",
    "    sigma_sill = np.sqrt(sill)\n",
    "    rng = 360.\n",
    "    sigma_sc[imap] = (sigma_sill/np.sqrt(an)) * np.sqrt((np.pi*rng**2)/(5.*L2))\n",
    "    sigma_scb[imap] = (sigma_sill/np.sqrt(bn)) * np.sqrt((np.pi*rng**2)/(5.*L2))\n",
    "\n",
    "    Asc = np.pi*rng**2/(5.*an*L2)\n",
    "    Ascb = np.pi*rng**2/(5.*bn*L2)\n",
    "\n",
    "    #print('Asc: ',Asc, Ascb)\n",
    "    \n",
    "# Systematic error\n",
    "sigma_sys = 0.07\n",
    "\n",
    "# total error\n",
    "sigma_tot = np.sqrt( sigma_rs**2. + sigma_sc**2. + sigma_sys**2.)\n",
    "sigma_totb = np.sqrt( sigma_rsb**2. + sigma_scb**2. + sigma_sys**2.)\n",
    "\n",
    "for i in range(nmaps-1):\n",
    "    # calculate stats for platform and beach widths\n",
    "    ss=stat_summary(platform_width[i,:],iprint=False)\n",
    "    ssb=stat_summary(beach_width[i,:],iprint=False)\n",
    "#     print('Platform and beach median widths: {:.3f}, {:.3f}'.format(ss['d50'],ssb['d50']))\n",
    "#     print('sigma_rs:           {:.6f}, {:.6f}'.format(sigma_rs[i], sigma_rsb[i]))\n",
    "#     print('sigma_sc:           {:.6f}, {:.6f}'.format(sigma_sc[i], sigma_scb[i]))\n",
    "#     print('sigma_tot:          {:.6f}, {:.6f}'.format(sigma_tot[i], sigma_totb[i]))\n",
    "\n",
    "# print('ap_tot: ',ap_tot)\n",
    "# print('vp_tot: ',vp_tot)\n",
    "# print('avg. elevation: ',vp_tot/ap_tot)\n",
    "vdiff = np.diff(vp_tot,1,0)\n",
    "# print('diff(vp_tot):',vdiff)\n",
    "# print('diff as fraction of initial volume: ',vdiff/vp_tot[0])\n",
    "# print('diff per meter',vdiff/36650.)\n",
    "err = ap_tot*sigma_tot\n",
    "errb = ab_tot*sigma_totb\n",
    "\n",
    "# print('err volumes',err,errb)\n",
    "# print('err as frac of volume initial volume: ',err/vp_tot[0])\n",
    "# print('err as frac of volume change:',np.mean(err)/vdiff)\n",
    "# print('avg. elevation change: ',vdiff/np.mean(ap_tot))"
   ]
  },
  {
   "cell_type": "markdown",
   "metadata": {},
   "source": [
    "### Put results in a Pandas dataframe"
   ]
  },
  {
   "cell_type": "code",
   "execution_count": 66,
   "metadata": {},
   "outputs": [
    {
     "data": {
      "text/html": [
       "<div>\n",
       "<style scoped>\n",
       "    .dataframe tbody tr th:only-of-type {\n",
       "        vertical-align: middle;\n",
       "    }\n",
       "\n",
       "    .dataframe tbody tr th {\n",
       "        vertical-align: top;\n",
       "    }\n",
       "\n",
       "    .dataframe thead th {\n",
       "        text-align: right;\n",
       "    }\n",
       "</style>\n",
       "<table border=\"1\" class=\"dataframe\">\n",
       "  <thead>\n",
       "    <tr style=\"text-align: right;\">\n",
       "      <th></th>\n",
       "      <th>Date</th>\n",
       "      <th>Platform Vol. (Mm3)</th>\n",
       "      <th>Beach Vol. (Mm3)</th>\n",
       "      <th>Total Vol. (Mm3)</th>\n",
       "      <th>Platform Area (Mm2)</th>\n",
       "      <th>Beach Area (Mm2)</th>\n",
       "      <th>Total Area (Mm2)</th>\n",
       "      <th>Frac. Plat. Vol.</th>\n",
       "      <th>Frac. Beach. Vol.</th>\n",
       "      <th>Frac. Tot. Vol.</th>\n",
       "      <th>Frac. Err. Plat. Vol.</th>\n",
       "      <th>Frac. Err. Beach Vol.</th>\n",
       "      <th>Frac. Err. Tot. Vol.</th>\n",
       "    </tr>\n",
       "  </thead>\n",
       "  <tbody>\n",
       "    <tr>\n",
       "      <th>0</th>\n",
       "      <td>2019-08-30</td>\n",
       "      <td>12.52</td>\n",
       "      <td>4.07</td>\n",
       "      <td>16.59</td>\n",
       "      <td>6.51</td>\n",
       "      <td>2.28</td>\n",
       "      <td>8.79</td>\n",
       "      <td>1.00</td>\n",
       "      <td>1.00</td>\n",
       "      <td>1.00</td>\n",
       "      <td>0.04</td>\n",
       "      <td>0.06</td>\n",
       "      <td>0.05</td>\n",
       "    </tr>\n",
       "    <tr>\n",
       "      <th>1</th>\n",
       "      <td>2019-09-12</td>\n",
       "      <td>10.96</td>\n",
       "      <td>2.51</td>\n",
       "      <td>13.46</td>\n",
       "      <td>6.51</td>\n",
       "      <td>1.39</td>\n",
       "      <td>7.90</td>\n",
       "      <td>0.88</td>\n",
       "      <td>0.62</td>\n",
       "      <td>0.81</td>\n",
       "      <td>0.05</td>\n",
       "      <td>0.07</td>\n",
       "      <td>0.05</td>\n",
       "    </tr>\n",
       "    <tr>\n",
       "      <th>2</th>\n",
       "      <td>2019-10-11</td>\n",
       "      <td>10.82</td>\n",
       "      <td>2.72</td>\n",
       "      <td>13.54</td>\n",
       "      <td>6.51</td>\n",
       "      <td>1.60</td>\n",
       "      <td>8.12</td>\n",
       "      <td>0.86</td>\n",
       "      <td>0.67</td>\n",
       "      <td>0.82</td>\n",
       "      <td>0.05</td>\n",
       "      <td>0.07</td>\n",
       "      <td>0.05</td>\n",
       "    </tr>\n",
       "    <tr>\n",
       "      <th>3</th>\n",
       "      <td>2019-11-26</td>\n",
       "      <td>11.27</td>\n",
       "      <td>2.73</td>\n",
       "      <td>14.00</td>\n",
       "      <td>6.51</td>\n",
       "      <td>1.85</td>\n",
       "      <td>8.37</td>\n",
       "      <td>0.90</td>\n",
       "      <td>0.67</td>\n",
       "      <td>0.84</td>\n",
       "      <td>0.05</td>\n",
       "      <td>0.08</td>\n",
       "      <td>0.05</td>\n",
       "    </tr>\n",
       "  </tbody>\n",
       "</table>\n",
       "</div>"
      ],
      "text/plain": [
       "         Date  Platform Vol. (Mm3)  Beach Vol. (Mm3)  Total Vol. (Mm3)  \\\n",
       "0  2019-08-30                12.52              4.07             16.59   \n",
       "1  2019-09-12                10.96              2.51             13.46   \n",
       "2  2019-10-11                10.82              2.72             13.54   \n",
       "3  2019-11-26                11.27              2.73             14.00   \n",
       "\n",
       "   Platform Area (Mm2)  Beach Area (Mm2)  Total Area (Mm2)  Frac. Plat. Vol.  \\\n",
       "0                 6.51              2.28              8.79              1.00   \n",
       "1                 6.51              1.39              7.90              0.88   \n",
       "2                 6.51              1.60              8.12              0.86   \n",
       "3                 6.51              1.85              8.37              0.90   \n",
       "\n",
       "   Frac. Beach. Vol.  Frac. Tot. Vol.  Frac. Err. Plat. Vol.  \\\n",
       "0               1.00             1.00                   0.04   \n",
       "1               0.62             0.81                   0.05   \n",
       "2               0.67             0.82                   0.05   \n",
       "3               0.67             0.84                   0.05   \n",
       "\n",
       "   Frac. Err. Beach Vol.  Frac. Err. Tot. Vol.  \n",
       "0                   0.06                  0.05  \n",
       "1                   0.07                  0.05  \n",
       "2                   0.07                  0.05  \n",
       "3                   0.08                  0.05  "
      ]
     },
     "execution_count": 66,
     "metadata": {},
     "output_type": "execute_result"
    }
   ],
   "source": [
    "pd.set_option(\"display.precision\", 2)\n",
    "df = pd.DataFrame({'Date':dates,\n",
    "                   'Platform Vol. (Mm3)':vp_tot/1e6,\n",
    "                   'Beach Vol. (Mm3)': vb_tot/1e6,\n",
    "                   'Total Vol. (Mm3)': (vb_tot+vp_tot)/1e6,\n",
    "                   'Platform Area (Mm2)':ap_tot/1e6,\n",
    "                   'Beach Area (Mm2)':ab_tot/1e6,\n",
    "                   'Total Area (Mm2)':(ap_tot+ab_tot)/1e6,\n",
    "                   'Frac. Plat. Vol.':vp_tot/vp_tot[0],\n",
    "                   'Frac. Beach. Vol.':vb_tot/vb_tot[0],\n",
    "                   'Frac. Tot. Vol.':(vb_tot+vp_tot)/(vb_tot[0]+vp_tot[0]),\n",
    "                   'Frac. Err. Plat. Vol.':err/vp_tot,\n",
    "                   'Frac. Err. Beach Vol.':errb/vb_tot,\n",
    "                   'Frac. Err. Tot. Vol.':(err+errb)/(vp_tot+vb_tot)\n",
    "                  })\n",
    "df"
   ]
  },
  {
   "cell_type": "code",
   "execution_count": 67,
   "metadata": {},
   "outputs": [
    {
     "data": {
      "text/html": [
       "<div>\n",
       "<style scoped>\n",
       "    .dataframe tbody tr th:only-of-type {\n",
       "        vertical-align: middle;\n",
       "    }\n",
       "\n",
       "    .dataframe tbody tr th {\n",
       "        vertical-align: top;\n",
       "    }\n",
       "\n",
       "    .dataframe thead th {\n",
       "        text-align: right;\n",
       "    }\n",
       "</style>\n",
       "<table border=\"1\" class=\"dataframe\">\n",
       "  <thead>\n",
       "    <tr style=\"text-align: right;\">\n",
       "      <th></th>\n",
       "      <th>Platform Vol. (Mm3)</th>\n",
       "      <th>Beach Vol. (Mm3)</th>\n",
       "      <th>Total Vol. (Mm3)</th>\n",
       "      <th>Platform Area (Mm2)</th>\n",
       "      <th>Beach Area (Mm2)</th>\n",
       "      <th>Total Area (Mm2)</th>\n",
       "      <th>Frac. Plat. Vol.</th>\n",
       "      <th>Frac. Beach. Vol.</th>\n",
       "      <th>Frac. Tot. Vol.</th>\n",
       "      <th>Frac. Err. Plat. Vol.</th>\n",
       "      <th>Frac. Err. Beach Vol.</th>\n",
       "      <th>Frac. Err. Tot. Vol.</th>\n",
       "    </tr>\n",
       "  </thead>\n",
       "  <tbody>\n",
       "    <tr>\n",
       "      <th>count</th>\n",
       "      <td>4.00</td>\n",
       "      <td>4.00</td>\n",
       "      <td>4.00</td>\n",
       "      <td>4.00</td>\n",
       "      <td>4.00</td>\n",
       "      <td>4.00</td>\n",
       "      <td>4.00</td>\n",
       "      <td>4.00</td>\n",
       "      <td>4.00</td>\n",
       "      <td>4.00e+00</td>\n",
       "      <td>4.00e+00</td>\n",
       "      <td>4.00e+00</td>\n",
       "    </tr>\n",
       "    <tr>\n",
       "      <th>mean</th>\n",
       "      <td>11.39</td>\n",
       "      <td>3.01</td>\n",
       "      <td>14.40</td>\n",
       "      <td>6.51</td>\n",
       "      <td>1.78</td>\n",
       "      <td>8.29</td>\n",
       "      <td>0.91</td>\n",
       "      <td>0.74</td>\n",
       "      <td>0.87</td>\n",
       "      <td>4.82e-02</td>\n",
       "      <td>6.80e-02</td>\n",
       "      <td>5.23e-02</td>\n",
       "    </tr>\n",
       "    <tr>\n",
       "      <th>std</th>\n",
       "      <td>0.78</td>\n",
       "      <td>0.71</td>\n",
       "      <td>1.48</td>\n",
       "      <td>0.00</td>\n",
       "      <td>0.38</td>\n",
       "      <td>0.38</td>\n",
       "      <td>0.06</td>\n",
       "      <td>0.18</td>\n",
       "      <td>0.09</td>\n",
       "      <td>3.12e-03</td>\n",
       "      <td>6.93e-03</td>\n",
       "      <td>3.21e-03</td>\n",
       "    </tr>\n",
       "    <tr>\n",
       "      <th>min</th>\n",
       "      <td>10.82</td>\n",
       "      <td>2.51</td>\n",
       "      <td>13.46</td>\n",
       "      <td>6.51</td>\n",
       "      <td>1.39</td>\n",
       "      <td>7.90</td>\n",
       "      <td>0.86</td>\n",
       "      <td>0.62</td>\n",
       "      <td>0.81</td>\n",
       "      <td>4.37e-02</td>\n",
       "      <td>5.91e-02</td>\n",
       "      <td>4.75e-02</td>\n",
       "    </tr>\n",
       "    <tr>\n",
       "      <th>25%</th>\n",
       "      <td>10.92</td>\n",
       "      <td>2.67</td>\n",
       "      <td>13.52</td>\n",
       "      <td>6.51</td>\n",
       "      <td>1.55</td>\n",
       "      <td>8.06</td>\n",
       "      <td>0.87</td>\n",
       "      <td>0.66</td>\n",
       "      <td>0.81</td>\n",
       "      <td>4.74e-02</td>\n",
       "      <td>6.57e-02</td>\n",
       "      <td>5.18e-02</td>\n",
       "    </tr>\n",
       "    <tr>\n",
       "      <th>50%</th>\n",
       "      <td>11.11</td>\n",
       "      <td>2.72</td>\n",
       "      <td>13.77</td>\n",
       "      <td>6.51</td>\n",
       "      <td>1.73</td>\n",
       "      <td>8.24</td>\n",
       "      <td>0.89</td>\n",
       "      <td>0.67</td>\n",
       "      <td>0.83</td>\n",
       "      <td>4.93e-02</td>\n",
       "      <td>6.84e-02</td>\n",
       "      <td>5.36e-02</td>\n",
       "    </tr>\n",
       "    <tr>\n",
       "      <th>75%</th>\n",
       "      <td>11.58</td>\n",
       "      <td>3.06</td>\n",
       "      <td>14.64</td>\n",
       "      <td>6.51</td>\n",
       "      <td>1.96</td>\n",
       "      <td>8.47</td>\n",
       "      <td>0.92</td>\n",
       "      <td>0.75</td>\n",
       "      <td>0.88</td>\n",
       "      <td>5.01e-02</td>\n",
       "      <td>7.07e-02</td>\n",
       "      <td>5.40e-02</td>\n",
       "    </tr>\n",
       "    <tr>\n",
       "      <th>max</th>\n",
       "      <td>12.52</td>\n",
       "      <td>4.07</td>\n",
       "      <td>16.59</td>\n",
       "      <td>6.51</td>\n",
       "      <td>2.28</td>\n",
       "      <td>8.79</td>\n",
       "      <td>1.00</td>\n",
       "      <td>1.00</td>\n",
       "      <td>1.00</td>\n",
       "      <td>5.06e-02</td>\n",
       "      <td>7.60e-02</td>\n",
       "      <td>5.43e-02</td>\n",
       "    </tr>\n",
       "  </tbody>\n",
       "</table>\n",
       "</div>"
      ],
      "text/plain": [
       "       Platform Vol. (Mm3)  Beach Vol. (Mm3)  Total Vol. (Mm3)  \\\n",
       "count                 4.00              4.00              4.00   \n",
       "mean                 11.39              3.01             14.40   \n",
       "std                   0.78              0.71              1.48   \n",
       "min                  10.82              2.51             13.46   \n",
       "25%                  10.92              2.67             13.52   \n",
       "50%                  11.11              2.72             13.77   \n",
       "75%                  11.58              3.06             14.64   \n",
       "max                  12.52              4.07             16.59   \n",
       "\n",
       "       Platform Area (Mm2)  Beach Area (Mm2)  Total Area (Mm2)  \\\n",
       "count                 4.00              4.00              4.00   \n",
       "mean                  6.51              1.78              8.29   \n",
       "std                   0.00              0.38              0.38   \n",
       "min                   6.51              1.39              7.90   \n",
       "25%                   6.51              1.55              8.06   \n",
       "50%                   6.51              1.73              8.24   \n",
       "75%                   6.51              1.96              8.47   \n",
       "max                   6.51              2.28              8.79   \n",
       "\n",
       "       Frac. Plat. Vol.  Frac. Beach. Vol.  Frac. Tot. Vol.  \\\n",
       "count              4.00               4.00             4.00   \n",
       "mean               0.91               0.74             0.87   \n",
       "std                0.06               0.18             0.09   \n",
       "min                0.86               0.62             0.81   \n",
       "25%                0.87               0.66             0.81   \n",
       "50%                0.89               0.67             0.83   \n",
       "75%                0.92               0.75             0.88   \n",
       "max                1.00               1.00             1.00   \n",
       "\n",
       "       Frac. Err. Plat. Vol.  Frac. Err. Beach Vol.  Frac. Err. Tot. Vol.  \n",
       "count               4.00e+00               4.00e+00              4.00e+00  \n",
       "mean                4.82e-02               6.80e-02              5.23e-02  \n",
       "std                 3.12e-03               6.93e-03              3.21e-03  \n",
       "min                 4.37e-02               5.91e-02              4.75e-02  \n",
       "25%                 4.74e-02               6.57e-02              5.18e-02  \n",
       "50%                 4.93e-02               6.84e-02              5.36e-02  \n",
       "75%                 5.01e-02               7.07e-02              5.40e-02  \n",
       "max                 5.06e-02               7.60e-02              5.43e-02  "
      ]
     },
     "execution_count": 67,
     "metadata": {},
     "output_type": "execute_result"
    }
   ],
   "source": [
    "df_stats = df.describe()\n",
    "df_stats"
   ]
  },
  {
   "cell_type": "code",
   "execution_count": 68,
   "metadata": {},
   "outputs": [
    {
     "name": "stdout",
     "output_type": "stream",
     "text": [
      "Summary in words:\n",
      "\n",
      "Initial island total (beach + platform) volume was 16.6 Mm3, covering an area of 8.8 Mm2, so the mean island elevation was 1.89 m.\n",
      "Uncertainties about the volume measurements range from 5% to 5% with a median value of 5%.\n",
      "\n",
      "Volume changes relative to the initial platform volume of 12.52 Mm3 in 2019-08-30 were -1562831 m3, -142703 m3, and 453269 m3 for surveys on 2019-09-12, 2019-10-11, and 2019-11-26, respectively.\n",
      "These are fractional changes of -0.12, -0.011, and 0.04 of inital platform volume.\n",
      "Uncertainties around these changes are 50%, 543%, and 171%.\n",
      "\n",
      "Volume changes relative to the initial beach volume in 2019-08-30 were -1558832 m3, 213256 m3, and 8998 m3 for surveys on 2019-09-12, 2019-10-11, and 2019-11-26, respectively.\n",
      "These are fractional changes of -0.38, 0.05, and 0.00 of inital beach volume.\n",
      "Uncertainties around these changes are 19%, 119%, and 3107%.\n"
     ]
    }
   ],
   "source": [
    "print(\"Summary in words:\\n\")\n",
    "print('Initial island total (beach + platform) volume was {:.1f} Mm3, covering an area of {:.1f} Mm2, so the mean island elevation was {:.2f} m.'\n",
    "      .format((vp_tot[0]+vb_tot[0])/1e6, (ap_tot[0]+ab_tot[0])/1e6,(vp_tot[0]+vb_tot[0])/(ap_tot[0]+ab_tot[0])))\n",
    "ss=stat_summary((err+errb)/(vp_tot+vb_tot),iprint=False)\n",
    "print('Uncertainties about the volume measurements range from {:.0f}% to {:.0f}% with a median value of {:.0f}%.'\n",
    "     .format(100*ss['min'],100*ss['max'],100*ss['d50']))\n",
    "\n",
    "dvp = np.diff(vp_tot)\n",
    "dvpf = dvp/vp_tot[0]\n",
    "err_pct = np.abs(100*np.sqrt(err[0:-1]**2+err[1:]**2)/dvp)\n",
    "\n",
    "print('\\nVolume changes relative to the initial platform volume of {:.2f} Mm3 in {} were {:.0f} m3, {:.0f} m3, and {:.0f} m3 for surveys on {}, {}, and {}, respectively.'\n",
    "     .format(vp_tot[0]/1e6,dates[0],dvp[0],dvp[1],dvp[2],dates[1],dates[2],dates[3]))\n",
    "print('These are fractional changes of {:.2f}, {:.3f}, and {:.2f} of inital platform volume.'\n",
    "     .format(dvpf[0],dvpf[1],dvpf[2]))\n",
    "print('Uncertainties around these changes are {:.0f}%, {:.0f}%, and {:.0f}%.'\n",
    "      .format(err_pct[0], err_pct[1], err_pct[2]))\n",
    "\n",
    "dvb = np.diff(vb_tot)\n",
    "dvbf = dvb/vb_tot[0]\n",
    "errb_pct = np.abs(100*np.sqrt(errb[0:-1]**2+errb[1:]**2)/dvb)\n",
    "\n",
    "print('\\nVolume changes relative to the initial beach volume in {} were {:.0f} m3, {:.0f} m3, and {:.0f} m3 for surveys on {}, {}, and {}, respectively.'\n",
    "     .format(dates[0],dvb[0],dvb[1],dvb[2],dates[1],dates[2],dates[3]))\n",
    "print('These are fractional changes of {:.2f}, {:.2f}, and {:.2f} of inital beach volume.'\n",
    "     .format(dvbf[0],dvbf[1],dvbf[2]))\n",
    "print('Uncertainties around these changes are {:.0f}%, {:.0f}%, and {:.0f}%.'\n",
    "      .format(errb_pct[0], errb_pct[1], errb_pct[2]))"
   ]
  },
  {
   "cell_type": "markdown",
   "metadata": {},
   "source": [
    "### Plot  volumes through Nov 2019"
   ]
  },
  {
   "cell_type": "code",
   "execution_count": 69,
   "metadata": {},
   "outputs": [
    {
     "data": {
      "image/png": "[encoded data removed]",
      "text/plain": [
       "<Figure size 360x360 with 1 Axes>"
      ]
     },
     "metadata": {
      "needs_background": "light"
     },
     "output_type": "display_data"
    }
   ],
   "source": [
    "# make a datetime array\n",
    "dtl = []\n",
    "for date in dates:\n",
    "    dtl.append(datetime.strptime(date, \"%Y-%m-%d\"))\n",
    "dt = np.array(dtl)\n",
    "\n",
    "fig, ax = plt.subplots(1,1,figsize=(5,5))\n",
    "fig.autofmt_xdate()\n",
    "#plt.plot(dt,vsumall/1e6,label=\"Entire island\")\n",
    "errt = np.sqrt(err**2+errb**2)\n",
    "\n",
    "vol0 = vp_tot[0]+vb_tot[0]*np.ones_like(vp_tot)\n",
    "volp0 = vp_tot[0]*np.ones_like(vp_tot)\n",
    "\n",
    "# # full recovery of total volume\n",
    "# plt.fill_between(dt[0:4], vol0[0:4]/1e6, (vol0[0:4]-.05*vol0[0:4])/1e6, color='lightgray')\n",
    "# plt.plot(dt[0:4], vol0[0:4]/1e6,'--',c=cols[4],linewidth=3)\n",
    "\n",
    "# # full recovery of platform\n",
    "# plt.fill_between(dt[0:4], volp0[0:4]/1e6, (volp0[0:4]-.05*vol0[0:4])/1e6, color='lightgray')\n",
    "# plt.plot(dt[0:4],(volp0[0:4])/1e6,'--',c=cols[3],linewidth=3)\n",
    "\n",
    "# total\n",
    "plt.fill_between(dt[0:4], (vp_tot[0:4]+vb_tot[0:4]+errt[0:4])/1e6, (vp_tot[0:4]+vb_tot[0:4]-errt[0:4])/1e6,color=cols[0] )\n",
    "plt.plot(dt[0:4],(vp_tot[0:4]+vb_tot[0:4])/1e6,label=\"Total volume\",c=cols[4],linewidth=3)\n",
    "plt.plot(dt[0:4],(vp_tot[0:4]+vb_tot[0:4])/1e6,'o',c=cols[4])\n",
    "# platform\n",
    "plt.fill_between(dt[0:4], (vp_tot[0:4]+err[0:4])/1e6, (vp_tot[0:4]-err[0:4])/1e6,color=cols[0] )\n",
    "plt.plot(dt[0:4],(vp_tot[0:4])/1e6,label=\"Platform volume\",c=cols[3],linewidth=3)\n",
    "plt.plot(dt[0:4],(vp_tot[0:4])/1e6,'o',c=cols[4])\n",
    "# beach\n",
    "plt.fill_between(dt[0:4], (vb_tot[0:4]+errb[0:4])[0:4]/1e6, (vb_tot[0:4]-errb[0:4])/1e6,color=cols[0] )\n",
    "plt.plot(dt[0:4],vb_tot[0:4]/1e6,label=\"Beach volume\",c=cols[2],linewidth=3)\n",
    "plt.plot(dt[0:4],(vb_tot)[0:4]/1e6,'o',c=cols[4])\n",
    "\n",
    "plt.ylabel('Million m$^3$')\n",
    "plt.grid()\n",
    "plt.legend()\n",
    "#plt.title('Island Volume')\n",
    "fig_name = 'island_volume_2019.svg'\n",
    "plt.savefig(fig_name,bbox_inches='tight', format='svg')\n",
    "fig_name = 'island_volume_2019.png'\n",
    "plt.savefig(fig_name,bbox_inches='tight', format='png', dpi = 200)"
   ]
  },
  {
   "cell_type": "code",
   "execution_count": 70,
   "metadata": {},
   "outputs": [
    {
     "name": "stdout",
     "output_type": "stream",
     "text": [
      "Shape of alongshore mean elevation:  (25000, 4)\n",
      "Shape of elevation difference:  (24999, 4)\n",
      "d50:  0.000709182808713113 mean 0.00023178019109563325\n",
      "d50:  -0.00029201637851740403 mean -0.0031374101430340848\n",
      "d50:  0.003907284450009915 mean 0.004230661867587394\n"
     ]
    }
   ],
   "source": [
    "# average elevation (alongshore)\n",
    "melev = plat_vol / platform_width\n",
    "print('Shape of alongshore mean elevation: ',np.shape(melev))\n",
    "# average elevation difference\n",
    "melev_diff = np.diff(melev,1,0)\n",
    "print('Shape of elevation difference: ',np.shape(melev_diff))\n",
    "for i in range(nmaps-1):\n",
    "    sstat=stat_summary(melev_diff[i,:],iprint=False)\n",
    "    print('d50: ',sstat['d50'],'mean',sstat['mean'])"
   ]
  },
  {
   "cell_type": "markdown",
   "metadata": {},
   "source": [
    "### Island-wide max. elevation, volume, and average elevation"
   ]
  },
  {
   "cell_type": "code",
   "execution_count": 73,
   "metadata": {},
   "outputs": [
    {
     "name": "stdout",
     "output_type": "stream",
     "text": [
      "Shape of pelev: (25000, 4)\n",
      "August mean elev: 0.70 Std: 0.49 Err: 0.49\n",
      "Sept mean elev: 0.70 Std: 0.48 Err: 0.49\n",
      "Sept minus Aug elev diff: -0.00 Std: -0.00 Err1: 0.11 Err2: 0.70\n"
     ]
    }
   ],
   "source": [
    "# mean profile elevations\n",
    "pelev = (plat_vol+beach_vol) / (platform_width+beach_width)\n",
    "pelev_diff = np.diff(pelev,1,0)\n",
    "print(\"Shape of pelev:\",np.shape(pelev))\n",
    "\n",
    "aug_mean_elev = np.nanmean(pelev[0,:])\n",
    "aug_std_elev = np.nanstd(pelev[0,:])\n",
    "aug_err=np.sqrt(aug_std_elev**2+0.08**2)\n",
    "\n",
    "sep_mean_elev = np.nanmean(pelev[1,:])\n",
    "sep_std_elev = np.nanstd(pelev[1,:])\n",
    "sep_err=np.sqrt(sep_std_elev**2+0.08**2)\n",
    "\n",
    "diff_mean = np.nanmean(pelev_diff[0,:])\n",
    "diff_std = np.nanmean(pelev_diff[0,:])\n",
    "diff_err1 = np.sqrt(diff_std**2 + 0.08**2 + 0.08**2)\n",
    "diff_err2 = np.sqrt(aug_err**2+sep_err**2+ 0.08**2 + 0.08**2)\n",
    "\n",
    "print('August mean elev: {:.2f} Std: {:.2f} Err: {:.2f}'.format(aug_mean_elev,aug_std_elev,aug_err))\n",
    "print('Sept mean elev: {:.2f} Std: {:.2f} Err: {:.2f}'.format(sep_mean_elev,sep_std_elev,sep_err))\n",
    "print('Sept minus Aug elev diff: {:.2f} Std: {:.2f} Err1: {:.2f} Err2: {:.2f}'.format(diff_mean,diff_std,diff_err1,diff_err2))"
   ]
  },
  {
   "cell_type": "code",
   "execution_count": 74,
   "metadata": {},
   "outputs": [
    {
     "ename": "ValueError",
     "evalue": "negative dimensions are not allowed",
     "output_type": "error",
     "traceback": [
      "\u001b[1;31m---------------------------------------------------------------------------\u001b[0m",
      "\u001b[1;31mValueError\u001b[0m                                Traceback (most recent call last)",
      "Input \u001b[1;32mIn [74]\u001b[0m, in \u001b[0;36m<cell line: 4>\u001b[1;34m()\u001b[0m\n\u001b[0;32m      2\u001b[0m pelev0s \u001b[38;5;241m=\u001b[39m running_mean(pelev[\u001b[38;5;241m0\u001b[39m,:],\u001b[38;5;241m501\u001b[39m)\n\u001b[0;32m      3\u001b[0m pelev1s \u001b[38;5;241m=\u001b[39m running_mean(pelev[\u001b[38;5;241m1\u001b[39m,:],\u001b[38;5;241m501\u001b[39m)\n\u001b[1;32m----> 4\u001b[0m pelev1sd \u001b[38;5;241m=\u001b[39m \u001b[43mrunning_stddev\u001b[49m\u001b[43m(\u001b[49m\u001b[43mpelev\u001b[49m\u001b[43m[\u001b[49m\u001b[38;5;241;43m1\u001b[39;49m\u001b[43m,\u001b[49m\u001b[43m:\u001b[49m\u001b[43m]\u001b[49m\u001b[43m,\u001b[49m\u001b[38;5;241;43m501\u001b[39;49m\u001b[43m)\u001b[49m\n\u001b[0;32m      5\u001b[0m pelev_diff1s \u001b[38;5;241m=\u001b[39m running_mean(pelev_diff[\u001b[38;5;241m0\u001b[39m,:],\u001b[38;5;241m501\u001b[39m)\n\u001b[0;32m      7\u001b[0m \u001b[38;5;28mprint\u001b[39m(\u001b[38;5;124m\"\u001b[39m\u001b[38;5;124mStats for max elevations in August zmax[0,:]:\u001b[39m\u001b[38;5;124m\"\u001b[39m)\n",
      "File \u001b[1;32mC:\\crs\\src\\CoreBx\\CoreBx_funcs.py:736\u001b[0m, in \u001b[0;36mrunning_stddev\u001b[1;34m(y, npts)\u001b[0m\n\u001b[0;32m    734\u001b[0m nrows \u001b[38;5;241m=\u001b[39m y\u001b[38;5;241m.\u001b[39msize \u001b[38;5;241m-\u001b[39m npts \u001b[38;5;241m+\u001b[39m \u001b[38;5;241m1\u001b[39m\n\u001b[0;32m    735\u001b[0m n \u001b[38;5;241m=\u001b[39m y\u001b[38;5;241m.\u001b[39mstrides[\u001b[38;5;241m0\u001b[39m]\n\u001b[1;32m--> 736\u001b[0m y2D \u001b[38;5;241m=\u001b[39m \u001b[43mnp\u001b[49m\u001b[38;5;241;43m.\u001b[39;49m\u001b[43mlib\u001b[49m\u001b[38;5;241;43m.\u001b[39;49m\u001b[43mstride_tricks\u001b[49m\u001b[38;5;241;43m.\u001b[39;49m\u001b[43mas_strided\u001b[49m\u001b[43m(\u001b[49m\u001b[43my\u001b[49m\u001b[43m,\u001b[49m\u001b[43m \u001b[49m\u001b[43mshape\u001b[49m\u001b[38;5;241;43m=\u001b[39;49m\u001b[43m(\u001b[49m\u001b[43mnrows\u001b[49m\u001b[43m,\u001b[49m\u001b[43m \u001b[49m\u001b[43mnpts\u001b[49m\u001b[43m)\u001b[49m\u001b[43m,\u001b[49m\u001b[43m \u001b[49m\u001b[43mstrides\u001b[49m\u001b[38;5;241;43m=\u001b[39;49m\u001b[43m(\u001b[49m\u001b[43mn\u001b[49m\u001b[43m,\u001b[49m\u001b[43m \u001b[49m\u001b[43mn\u001b[49m\u001b[43m)\u001b[49m\u001b[43m)\u001b[49m\n\u001b[0;32m    737\u001b[0m nclip \u001b[38;5;241m=\u001b[39m \u001b[38;5;28mint\u001b[39m((npts\u001b[38;5;241m-\u001b[39m\u001b[38;5;241m1\u001b[39m) \u001b[38;5;241m/\u001b[39m \u001b[38;5;241m2\u001b[39m)\n\u001b[0;32m    738\u001b[0m \u001b[38;5;66;03m# print(nclip)\u001b[39;00m\n",
      "File \u001b[1;32m~\\Anaconda3\\envs\\CRS\\lib\\site-packages\\numpy\\lib\\stride_tricks.py:104\u001b[0m, in \u001b[0;36mas_strided\u001b[1;34m(x, shape, strides, subok, writeable)\u001b[0m\n\u001b[0;32m    101\u001b[0m \u001b[38;5;28;01mif\u001b[39;00m strides \u001b[38;5;129;01mis\u001b[39;00m \u001b[38;5;129;01mnot\u001b[39;00m \u001b[38;5;28;01mNone\u001b[39;00m:\n\u001b[0;32m    102\u001b[0m     interface[\u001b[38;5;124m'\u001b[39m\u001b[38;5;124mstrides\u001b[39m\u001b[38;5;124m'\u001b[39m] \u001b[38;5;241m=\u001b[39m \u001b[38;5;28mtuple\u001b[39m(strides)\n\u001b[1;32m--> 104\u001b[0m array \u001b[38;5;241m=\u001b[39m \u001b[43mnp\u001b[49m\u001b[38;5;241;43m.\u001b[39;49m\u001b[43masarray\u001b[49m\u001b[43m(\u001b[49m\u001b[43mDummyArray\u001b[49m\u001b[43m(\u001b[49m\u001b[43minterface\u001b[49m\u001b[43m,\u001b[49m\u001b[43m \u001b[49m\u001b[43mbase\u001b[49m\u001b[38;5;241;43m=\u001b[39;49m\u001b[43mx\u001b[49m\u001b[43m)\u001b[49m\u001b[43m)\u001b[49m\n\u001b[0;32m    105\u001b[0m \u001b[38;5;66;03m# The route via `__interface__` does not preserve structured\u001b[39;00m\n\u001b[0;32m    106\u001b[0m \u001b[38;5;66;03m# dtypes. Since dtype should remain unchanged, we set it explicitly.\u001b[39;00m\n\u001b[0;32m    107\u001b[0m array\u001b[38;5;241m.\u001b[39mdtype \u001b[38;5;241m=\u001b[39m x\u001b[38;5;241m.\u001b[39mdtype\n",
      "\u001b[1;31mValueError\u001b[0m: negative dimensions are not allowed"
     ]
    }
   ],
   "source": [
    "# smooth mean profiles\n",
    "pelev0s = running_mean(pelev[0,:],501)\n",
    "pelev1s = running_mean(pelev[1,:],501)\n",
    "pelev1sd = running_stddev(pelev[1,:],501)\n",
    "pelev_diff1s = running_mean(pelev_diff[0,:],501)\n",
    "\n",
    "print(\"Stats for max elevations in August zmax[0,:]:\")\n",
    "s = stat_summary( zmax[0,:], iprint=True)\n",
    "print(\"Stats for mean elevations in August pelev[0,:]:\")\n",
    "s = stat_summary( pelev[0,:], iprint=True)\n",
    "# Elevation difference uncertainty\n",
    "z_err = np.sqrt( s['std']**2 + .08**2 )\n",
    "print(\"Aug mean elevation = {:.2f} +/- {:.2f} (inluding mapping precision error)\".format(s['mean'], z_err))\n",
    "print(\"Stats for mean elevations in Sep pelev[1,:]:\")\n",
    "s = stat_summary( pelev[1,:], iprint=True)\n",
    "# Elevation difference uncertainty\n",
    "z_err = np.sqrt( s['std']**2 + .08**2 )\n",
    "print(\"Sep mean elevation = {:.2f} +/- {:.2f} (inluding mapping precision error)\".format(s['mean'], z_err))\n",
    "print(\"Stats for mean elevation diffs in Sep minus Aug pelev_diff1s:\")\n",
    "s = stat_summary( pelev_diff1s, iprint=True)\n",
    "# Elevation difference uncertainty\n",
    "dz_err = np.sqrt( s['std']**2 + .08**2 + .08**2)\n",
    "print(\"Mean elevation difference = {:.2f} +/- {:.2f} (inluding mapping precision error)\".format(s['mean'], dz_err))"
   ]
  },
  {
   "cell_type": "code",
   "execution_count": null,
   "metadata": {
    "scrolled": true
   },
   "outputs": [],
   "source": [
    "# island width is wrong in places with no island volume\n",
    "# TODO: maybe fix this in profile calcs?\n",
    "width_platform0=width_platform.copy()\n",
    "width_platform0[vp<=10.]=0.\n",
    "\n",
    "# average volume\n",
    "vpmean = np.zeros_like(vp)\n",
    "vpstd = vpmean.copy()\n",
    "apmean = vpmean.copy()\n",
    "apstd = vpmean.copy()\n",
    "\n",
    "# smooth volumes and widths\n",
    "for i in range(0,4):\n",
    "    vpmean[i,:] = running_nanmean(vp[i,:],501)\n",
    "    vpstd[i,:] = running_stddev(vp[i,:],501)\n",
    "    apmean[i,:] = running_nanmean(width_platform0[i,:],501)\n",
    "    apstd[i,:] = running_stddev(width_platform0[i,:],501)\n",
    "\n",
    "# smooth max elevations in August\n",
    "x = zmax[0,:]\n",
    "xs = running_nanmean(x,501)\n",
    "xstd = running_stddev(x,501)\n",
    "print(np.shape(x),np.shape(xs))\n",
    "\n",
    "#vp_err = np.sqrt( vpstd**2 + (width_platform*np.tile(sigma_tot,[nalong,1]).T)**2 ) \n",
    "\n",
    "plt.figure(figsize=(12,12))\n",
    "ax1=plt.subplot(311)\n",
    "plt.plot(y,np.ones_like(y)*2.5,'--',c='gray')\n",
    "plt.plot(y,xs,'-',linewidth=3,c=red3[2],label='Aug max')\n",
    "ax1.fill_between(y,xs-xstd,xs+xstd,color=red3[0])\n",
    "plt.plot(y,pelev0s,linewidth=3,c=cols[1],label='Aug mean')\n",
    "plt.plot(y,pelev1s,linewidth=3,c=cols[2],label='Sep mean')\n",
    "ax1.fill_between(y,pelev1s-pelev1sd,pelev1s+pelev1sd,color=cols[0])\n",
    "plt.ylim((-2,8))\n",
    "plt.text(0.02, 0.92,'a',horizontalalignment='left',verticalalignment='center',transform = ax1.transAxes, fontweight='bold')\n",
    "plt.legend(loc='lower left')\n",
    "plt.ylabel('Elevation (m NAVD88)')\n",
    "plt.xlim((0,36500))\n",
    "\n",
    "ax2=plt.subplot(312)\n",
    "plt.plot(y,np.ones_like(y)*0.,'--',c='gray')\n",
    "plt.plot(y,vpmean[0,:],linewidth=3,c=cols[2],label='Aug')\n",
    "plt.plot(y,vpmean[1,:],linewidth=3,c=cols[3],label='Sep')\n",
    "ax2.fill_between(y,vpmean[0,:]-vpstd[0,:],vpmean[0,:]+vpstd[0,:],color=cols[0])\n",
    "ax2.fill_between(y,vpmean[1,:]-vpstd[1,:],vpmean[1,:]+vpstd[1,:],color=cols[0])\n",
    "plt.text(0.02, 0.92,'b ',horizontalalignment='left',verticalalignment='center',transform = ax2.transAxes, fontweight='bold')\n",
    "#plt.ylim((-2,8))\n",
    "plt.ylabel('Volume (m$^3$/m)')\n",
    "plt.legend(loc='lower left')\n",
    "plt.xlim((0,36500))\n",
    "#plt.xlabel('Alongshore distance (m)')\n",
    "\n",
    "ax3=plt.subplot(313)\n",
    "plt.plot(y,np.ones_like(y)*0.,'--',c='gray')\n",
    "plt.plot(y,apmean[0,:],linewidth=3,c=cols[2],label='Aug')\n",
    "plt.plot(y,apmean[1,:],linewidth=3,c=cols[3],label='Sep')\n",
    "ax3.fill_between(y,apmean[0,:]-apstd[0,:],apmean[0,:]+apstd[0,:],color=cols[0])\n",
    "ax3.fill_between(y,apmean[1,:]-apstd[1,:],apmean[1,:]+vpstd[1,:],color=cols[0])\n",
    "plt.text(0.02, 0.92,'c ',horizontalalignment='left',verticalalignment='center',transform = ax3.transAxes, fontweight='bold')\n",
    "#plt.ylim((-2,8))\n",
    "plt.ylabel('Platform width (m)')\n",
    "plt.legend(loc='lower left')\n",
    "plt.xlim((0,36500))\n",
    "plt.xlabel('Alongshore distance (m)')\n",
    "\n",
    "fig_name = 'island_crest_vol_area.svg'\n",
    "plt.savefig(fig_name,bbox_inches='tight', format='svg')\n",
    "fig_name = 'island_crest_vol_area.png'\n",
    "plt.savefig(fig_name,bbox_inches='tight', format='png', dpi = 200)"
   ]
  },
  {
   "cell_type": "markdown",
   "metadata": {},
   "source": [
    "### Stats and plots for volume change"
   ]
  },
  {
   "cell_type": "code",
   "execution_count": null,
   "metadata": {},
   "outputs": [],
   "source": [
    "# volume change plots\n",
    "# average volume\n",
    "dvmean = np.diff(vp,axis=0)\n",
    "dvstd = np.nanstd(dvmean,axis=0)\n",
    "dverr = np.sqrt(dvstd**2+0.08**2+0.08**2)\n",
    "\n",
    "dvmeans = running_nanmean(dvmean[0,:],501)\n",
    "dverrs = running_stddev(dverr,501)\n",
    "\n",
    "print(\"Stats for volume change:\")\n",
    "s = stat_summary( dvmean[0,:], iprint=True)\n",
    "print(\"Stats for volume change uncertainty:\")\n",
    "s = stat_summary( dverr, iprint=True)\n",
    "\n",
    "plt.plot(dverrs)\n"
   ]
  },
  {
   "cell_type": "markdown",
   "metadata": {},
   "source": [
    "### Plot of volume and volume change (two panel) `island_volume_change`"
   ]
  },
  {
   "cell_type": "code",
   "execution_count": null,
   "metadata": {},
   "outputs": [],
   "source": [
    "ax1=plt.subplot(211)\n",
    "plt.plot(y,np.ones_like(y)*0.,'--',c='gray')\n",
    "plt.plot(y,vpmean[0,:],linewidth=3,c=cols[2],label='Aug')\n",
    "plt.plot(y,vpmean[1,:],linewidth=3,c=cols[3],label='Sep')\n",
    "ax1.fill_between(y,vpmean[0,:]-vpstd[0,:],vpmean[0,:]+vpstd[0,:],color=cols[0])\n",
    "ax1.fill_between(y,vpmean[1,:]-vpstd[1,:],vpmean[1,:]+vpstd[1,:],color=cols[0])\n",
    "plt.text(0.02, 0.92,'a ',horizontalalignment='left',verticalalignment='center',transform = ax1.transAxes, fontweight='bold')\n",
    "#plt.ylim((-2,8))\n",
    "plt.ylabel('Volume (m$^3$/m)')\n",
    "plt.legend(loc='center left')\n",
    "plt.xlim((0,36500))\n",
    "#plt.xlabel('Alongshore distance (m)')\n",
    "\n",
    "ax2=plt.subplot(212)\n",
    "plt.plot(y,np.ones_like(y)*0.,'--',c='gray')\n",
    "plt.plot(y,dvmeans,linewidth=3,c=cols[2],label='Sep - Aug')\n",
    "#plt.plot(y,apmean[1,:],linewidth=3,c=cols[3],label='Sep')\n",
    "ax2.fill_between(y,dvmeans-dverrs,dvmeans+dverrs,color=cols[0])\n",
    "#ax2.fill_between(y,apmean[1,:]-apstd[1,:],apmean[1,:]+vpstd[1,:],color=cols[0])\n",
    "plt.text(0.02, 0.92,'b ',horizontalalignment='left',verticalalignment='center',transform = ax2.transAxes, fontweight='bold')\n",
    "#plt.ylim((-2,8))\n",
    "plt.ylabel('Volume change (m$^3$/m)')\n",
    "plt.legend(loc='lower left')\n",
    "plt.xlim((0,36500))\n",
    "plt.xlabel('Alongshore distance (m)')\n",
    "\n",
    "fig_name = 'island_vol_change.svg'\n",
    "plt.savefig(fig_name,bbox_inches='tight', format='svg')\n",
    "fig_name = 'island_vol_change.png'\n",
    "plt.savefig(fig_name,bbox_inches='tight', format='png', dpi = 200)"
   ]
  },
  {
   "cell_type": "markdown",
   "metadata": {},
   "source": [
    "### Plot of elevation, volume, volume change (3 panel) - `island_crest_vol_dvol`"
   ]
  },
  {
   "cell_type": "code",
   "execution_count": null,
   "metadata": {},
   "outputs": [],
   "source": [
    "plt.figure(figsize=(12,12))\n",
    "ax1=plt.subplot(311)\n",
    "plt.plot(y,np.ones_like(y)*2.5,'--',c='gray')\n",
    "plt.plot(y,xs,'-',linewidth=3,c=red3[2],label='Aug max')\n",
    "ax1.fill_between(y,xs-xstd,xs+xstd,color=red3[0])\n",
    "plt.plot(y,pelev0s,linewidth=3,c=cols[2],label='Aug mean')\n",
    "plt.plot(y,pelev1s,linewidth=3,c=cols[3],label='Sep mean')\n",
    "ax1.fill_between(y,pelev1s-pelev1sd,pelev1s+pelev1sd,color=cols[0])\n",
    "plt.ylim((-2,8))\n",
    "plt.text(0.02, 0.92,'a',horizontalalignment='left',verticalalignment='center',transform = ax1.transAxes, fontweight='bold')\n",
    "plt.legend(loc='lower left')\n",
    "plt.ylabel('Elevation (m NAVD88)')\n",
    "plt.xlim((0,36500))\n",
    "\n",
    "ax2=plt.subplot(312)\n",
    "plt.plot(y,np.ones_like(y)*0.,'--',c='gray')\n",
    "plt.plot(y,vpmean[0,:],linewidth=3,c=cols[2],label='Aug')\n",
    "plt.plot(y,vpmean[1,:],linewidth=3,c=cols[3],label='Sep')\n",
    "ax2.fill_between(y,vpmean[0,:]-vpstd[0,:],vpmean[0,:]+vpstd[0,:],color=cols[0])\n",
    "ax2.fill_between(y,vpmean[1,:]-vpstd[1,:],vpmean[1,:]+vpstd[1,:],color=cols[0])\n",
    "plt.text(0.02, 0.92,'b ',horizontalalignment='left',verticalalignment='center',transform = ax2.transAxes, fontweight='bold')\n",
    "#plt.ylim((-2,8))\n",
    "plt.ylabel('Volume (m$^3$/m)')\n",
    "plt.legend(loc='lower left')\n",
    "plt.xlim((0,36500))\n",
    "#plt.xlabel('Alongshore distance (m)')\n",
    "\n",
    "ax3=plt.subplot(313)\n",
    "plt.plot(y,np.ones_like(y)*0.,'--',c='gray')\n",
    "plt.plot(y,dvmeans,linewidth=3,c=cols[3],label='Sep minus Aug')\n",
    "ax3.fill_between(y,dvmeans-dverrs,dvmeans+dverrs,color=cols[0])\n",
    "plt.text(0.02, 0.92,'c ',horizontalalignment='left',verticalalignment='center',transform = ax3.transAxes, fontweight='bold')\n",
    "plt.ylabel('Volume change (m$^3$/m)')\n",
    "plt.legend(loc='lower left')\n",
    "plt.xlim((0,36500))\n",
    "plt.xlabel('Alongshore distance (m)')\n",
    "\n",
    "fig_name = 'island_crest_vol_dvol.svg'\n",
    "plt.savefig(fig_name,bbox_inches='tight', format='svg')\n",
    "fig_name = 'island_crest_vol_dvol.png'\n",
    "plt.savefig(fig_name,bbox_inches='tight', format='png', dpi = 200)"
   ]
  },
  {
   "cell_type": "markdown",
   "metadata": {},
   "source": [
    "   ### Plots of volume change v. island elevation - `volume_change_v_elev`"
   ]
  },
  {
   "cell_type": "code",
   "execution_count": null,
   "metadata": {},
   "outputs": [],
   "source": [
    "# pelev = vp / width_platform\n",
    "# dvmean\n",
    "%run -i CoreBx_funcs\n",
    "bin_edges = [.25, .75, 1.25, 1.75, 2.25, 2.75]\n",
    "nbins = len(bin_edges)-1\n",
    "print('nbins=',nbins)\n",
    "pm = np.ones(nbins)*np.nan\n",
    "pstd = pm.copy()\n",
    "dvm = pm.copy()\n",
    "dvstd = pm.copy()\n",
    "for i in range(nbins):\n",
    "    pm[i]=np.nanmean(pelev[0,(pelev[0,:]>=bin_edges[i])&(pelev[0,:]<bin_edges[i+1])])\n",
    "    pstd[i]=np.nanstd(pelev[0,(pelev[0,:]>=bin_edges[i])&(pelev[0,:]<bin_edges[i+1])])\n",
    "    dvm[i]=np.nanmean(dvmean[0,(pelev[0,:]>=bin_edges[i])&(pelev[0,:]<bin_edges[i+1])])\n",
    "    dvstd[i]=np.nanmean(dvmean[0,(pelev[0,:]>=bin_edges[i])&(pelev[0,:]<bin_edges[i+1])])\n",
    "\n",
    "n, slope, intercept, r2, p, stderr = nanlsfit(pelev[0,:],dvmean[0,:])\n",
    "    \n",
    "plt.figure(figsize=(5,5))  \n",
    "plt.plot(pelev[0,:],dvmean[0,:],'.',color='lightgray',zorder=1)\n",
    "plt.plot(pm,intercept+pm*slope,'--',color=cols[3],linewidth=2,zorder=2)\n",
    "plt.errorbar(pm, dvm, xerr=pstd, yerr=dvstd, fmt='ok', ecolor=cols[2], elinewidth=2,zorder=3)\n",
    "plt.xlabel('Mean August elevation (m NAVD88)',fontsize=14)\n",
    "plt.ylabel('Volume change Sep minus Aug (m$^3$/m)',fontsize=14)\n",
    "fig_name = 'volume_change_v_mean_elev.svg'\n",
    "plt.savefig(fig_name,bbox_inches='tight', format='svg')\n",
    "fig_name = 'volume_change_v_mean_elev.png'\n",
    "plt.savefig(fig_name,bbox_inches='tight', format='png', dpi = 200)"
   ]
  },
  {
   "cell_type": "markdown",
   "metadata": {},
   "source": [
    "### Load and plot wrack statistics - `wrack_elev_island`"
   ]
  },
  {
   "cell_type": "code",
   "execution_count": null,
   "metadata": {},
   "outputs": [],
   "source": [
    "# This is the old plot with stair-step bin averages\n",
    "# green5=['#edf8e9','#bae4b3','#74c476','#31a354','#006d2c']\n",
    "# df=pd.read_csv(\"NCB_Wrack_statistics.csv\",header = 0)\n",
    "\n",
    "# wx = df['X_point_avg'].values\n",
    "# wy = df['Y_point_avg'].values\n",
    "# walong, wacross = UTM2Island(wx,wy)"
   ]
  },
  {
   "cell_type": "code",
   "execution_count": null,
   "metadata": {},
   "outputs": [],
   "source": [
    "# read updated wrack statistics from Jin-Si\n",
    "df=pd.read_csv('C:/crs/proj/2019_DorianOBX/WayneWright_flights/CoreBx/NCB_Wrack_line_ebk.csv',header = 0)"
   ]
  },
  {
   "cell_type": "code",
   "execution_count": null,
   "metadata": {},
   "outputs": [],
   "source": [
    "plt.figure(figsize=(12,8))\n",
    "ax1=plt.subplot(211)\n",
    "plt.plot(df['Xisl_500m_avg'],df['Wrack_Elev_500m_avg'].values+df['STD_500m'].values,'--',c='saddlebrown',alpha=.6)\n",
    "plt.plot(df['Xisl_500m_avg'],df['Wrack_Elev_500m_avg'].values-df['STD_500m'].values,'--',c='saddlebrown',alpha=.6)\n",
    "plt.plot(df['Xisl_500m_avg'],df['Wrack_Elev_500m_avg'].values,linewidth=3,c='saddlebrown',label=\"Wrack Elevation\")\n",
    "plt.ylim((0, 3))\n",
    "#plt.text(0.02, 0.92,'a',horizontalalignment='left',verticalalignment='center',transform = ax1.transAxes, fontweight='bold')\n",
    "plt.legend(fontsize=14)\n",
    "plt.ylabel('Elevation (m NAVD88)',fontsize=14)\n",
    "plt.xlim((0,36500))\n",
    "plt.xlabel('Alongshore Distance (m)',fontsize=14)\n",
    "fig_name = 'wrack_elev_island.svg'\n",
    "plt.savefig(fig_name,bbox_inches='tight', format='svg')\n",
    "fig_name = 'wrack_elev_island.png'\n",
    "plt.savefig(fig_name,bbox_inches='tight', format='png', dpi = 200)"
   ]
  },
  {
   "cell_type": "markdown",
   "metadata": {},
   "source": [
    "### Island-wide dune crest elevations - `dune_crest_diff`\n",
    "\n",
    "`zcrest0` is the elevation of the dune crest in August, and the elevations of the same location in subsequent years\n",
    "\n",
    "* Smooth the curves\n",
    "* plot dune crest elevations for Aug, Sep, and Nov\n",
    "* plot dune crest changes\n"
   ]
  },
  {
   "cell_type": "code",
   "execution_count": null,
   "metadata": {},
   "outputs": [],
   "source": [
    "%run -i CoreBx_funcs\n",
    "x0s = running_mean(zcrest0[0,:],501)\n",
    "x1s = running_mean(zcrest0[1,:],501)\n",
    "x2s = running_mean(zcrest0[2,:],501)\n",
    "x3s = running_mean(zcrest0[3,:],501)\n",
    "print('Aug zcrest0')\n",
    "stat_summary(zcrest0[0,:],iprint=True)\n",
    "print('Sep zcrest0')\n",
    "stat_summary(zcrest0[1,:],iprint=True)\n",
    "\n",
    "x0m = running_nanmin(zcrest0[0,:],501)\n",
    "x1m = running_nanmin(zcrest0[1,:],501)\n",
    "x2m = running_nanmin(zcrest0[2,:],501)\n",
    "x3m = running_nanmin(zcrest0[3,:],501)\n",
    "\n",
    "#stat_summary(x1m,iprint=True)\n",
    "\n",
    "plt.figure(figsize=(12,8))\n",
    "ax1=plt.subplot(211)\n",
    "#plt.plot(y,np.ones_like(y)*2.5,'--',c='gray')\n",
    "# plt.plot(y,x0s,'-',linewidth=3,c=cols[1],label=pnames[0])\n",
    "# plt.plot(y,x1s,'-',linewidth=3,c=cols[2],label=pnames[1])\n",
    "# #plt.plot(y,x2s,'-',linewidth=3,c=cols[3],label=pnames[2])\n",
    "# plt.plot(y,x3s,'-',linewidth=3,c=cols[4],label=pnames[3])\n",
    "plt.plot(y,np.ones_like(y)*0.,'--',c='gray')\n",
    "plt.plot(y,zcrest0[1,:],'-',linewidth=3,c=cols[1],label=pnames[1],alpha=.6)\n",
    "plt.plot(y,zcrest0[0,:],'-',linewidth=3,c=cols[3],label=pnames[0])\n",
    "\n",
    "#plt.plot(y,x2s,'-',linewidth=3,c=cols[3],label=pnames[2])\n",
    "#plt.plot(y,zcrest0[3,:],'-',linewidth=3,c=cols[4],label=pnames[3])\n",
    "\n",
    "plt.plot(df['Xisl_500m_avg'],df['Wrack_Elev_500m_avg'].values+df['STD_500m'].values,'--',c='saddlebrown',alpha=.6)\n",
    "plt.plot(df['Xisl_500m_avg'],df['Wrack_Elev_500m_avg'].values-df['STD_500m'].values,'--',c='saddlebrown',alpha=.6)\n",
    "plt.plot(df['Xisl_500m_avg'],df['Wrack_Elev_500m_avg'].values,linewidth=3,c='saddlebrown',label=\"Wrack Elevation\")\n",
    "\n",
    "#plt.text(0.02, 0.92,'a',horizontalalignment='left',verticalalignment='center',transform = ax1.transAxes, fontweight='bold')\n",
    "plt.ylabel('Dune crest (m NAVD88)',fontsize=16)\n",
    "plt.legend()\n",
    "plt.ylim((-2.,8.))\n",
    "plt.xlim((0,36500))\n",
    "\n",
    "xds0 = running_mean( zcrest0[1,:]-zcrest0[0,:], 501)\n",
    "xds1 = running_mean( zcrest0[2,:]-zcrest0[0,:], 501)\n",
    "xds2 = running_mean( zcrest0[3,:]-zcrest0[0,:], 501)\n",
    "\n",
    "ax2=plt.subplot(212)\n",
    "plt.plot(y,np.ones_like(y)*0.,'--',c='gray')\n",
    "\n",
    "plt.plot(y,xds0,'-',linewidth=3,c=blue5[3],label=pnames[1]+' minus '+pnames[0])\n",
    "#plt.plot(y,xds1,'-',linewidth=3,c=blue5[3],label=pnames[2]+' minus '+pnames[0])\n",
    "#plt.plot(y,xds2,'-',linewidth=3,c=blue5[4],label=pnames[3]+' minus '+pnames[0])\n",
    "plt.legend()\n",
    "#plt.text(0.02, 0.92,'b',horizontalalignment='left',verticalalignment='center',transform = ax2.transAxes, fontweight='bold')\n",
    "plt.ylabel('Dune crest change (m)',fontsize=16)\n",
    "plt.xlim((0,36500))\n",
    "plt.xlabel('Alongshore distance (m)',fontsize=16)\n",
    "\n",
    "fig_name = 'dune_crest_diff.svg'\n",
    "plt.savefig(fig_name,bbox_inches='tight', format='svg')\n",
    "fig_name = 'dune_crest_diff.png'\n",
    "plt.savefig(fig_name,bbox_inches='tight', format='png', dpi = 200)"
   ]
  },
  {
   "cell_type": "code",
   "execution_count": null,
   "metadata": {},
   "outputs": [],
   "source": [
    "print('wrack elevations')\n",
    "stat_summary(df['Wrack_Elev_500m_avg'].values,iprint=True)\n",
    "print('zcrest:')\n",
    "stat_summary(zcrest[1,:]-zcrest[0,:],iprint=True)\n",
    "num_bins = 10\n",
    "bins = np.arange(-2.75,.25,.25)\n",
    "print(bins)\n",
    "fig, ax = plt.subplots(figsize=(4,3))\n",
    "\n",
    "#histogram of the data\n",
    "n, bins, patches = ax.hist(xds0, bins)\n",
    "\n",
    "ax.set_xlabel('Sep to Aug Dune Crest Change (m)')\n",
    "ax.set_ylabel('Number')\n",
    "#ax.set_title(r'Dune Crest Change')\n",
    "fig.tight_layout()\n",
    "plt.show()\n",
    "plt.savefig('crest_change_histogram.png',bbox_inches='tight', format='png', dpi = 200,c=blue5[2])"
   ]
  },
  {
   "cell_type": "markdown",
   "metadata": {},
   "source": [
    "### Compare crest heights with volume change - `dune_crest_v_volume_change`"
   ]
  },
  {
   "cell_type": "code",
   "execution_count": null,
   "metadata": {},
   "outputs": [],
   "source": [
    "%run -i CoreBx_funcs\n",
    "bin_edges = [ .5, 1., 1.5, 2, 2.5, 3., 3.5, 4, 4.5, 5, 5.5, 6, 6.5]\n",
    "nbins = len(bin_edges)-1\n",
    "print('nbins=',nbins)\n",
    "zcm = np.ones(nbins)*np.nan\n",
    "zcstd = zcm.copy()\n",
    "dvm = zcm.copy()\n",
    "dvstd = zcm.copy()\n",
    "for i in range(nbins):\n",
    "    zcm[i]=np.nanmean(zcrest0[0,(zcrest[0,:]>=bin_edges[i])&(zcrest[0,:]<bin_edges[i+1])])\n",
    "    zcstd[i]=np.nanstd(zcrest0[0,(zcrest[0,:]>=bin_edges[i])&(zcrest[0,:]<bin_edges[i+1])])\n",
    "    dvm[i]=np.nanmean(dvmean[0,(zcrest[0,:]>=bin_edges[i])&(zcrest[0,:]<bin_edges[i+1])])\n",
    "    dvstd[i]=np.nanmean(dvmean[0,(zcrest[0,:]>=bin_edges[i])&(zcrest[0,:]<bin_edges[i+1])])\n",
    "\n",
    "n, slope, intercept, r2, p, stderr = nanlsfit(zcrest0[0,:],dvmean[0,:])\n",
    "\n",
    "plt.figure(figsize=(5,5)) \n",
    "plt.plot(zcrest0[0,:],dvmean[0,:],'.',color='lightgray',zorder=1)\n",
    "plt.errorbar(zcm, dvm, xerr=zcstd, yerr=dvstd, fmt='ok', ecolor=cols[2], elinewidth=2)\n",
    "plt.plot(zcm,zcm*slope+intercept,'--',c=cols[3])\n",
    "plt.xlabel('August dune crest elevation (m NAVD88)',fontsize=14)\n",
    "plt.ylabel('Volume change Sep minus Aug (m$^3$/m)',fontsize=14)\n",
    "fig_name = 'dune_crest_v_volume_change.svg'\n",
    "plt.savefig(fig_name,bbox_inches='tight', format='svg')\n",
    "fig_name = 'dune_crest_v_volume_change.png'\n",
    "plt.savefig(fig_name,bbox_inches='tight', format='png', dpi = 200)"
   ]
  },
  {
   "cell_type": "code",
   "execution_count": null,
   "metadata": {},
   "outputs": [],
   "source": [
    "# analyze island segments\n",
    "sl = 3000\n",
    "segs = np.arange(0,nalong,sl)\n",
    "sn = 6\n",
    "ss = segs[sn] \n",
    "se = ss+sl\n",
    "print(len(segs))\n",
    "print(\"Segments:\",ss)\n",
    "\n",
    "dtoe_s0 = signal.medfilt(dtoe[0,:], kernel_size=101)\n",
    "dtoe_s1 = signal.medfilt(dtoe[1,:], kernel_size=101)\n",
    "plt.figure(figsize=(12,7))\n",
    "ax1=plt.subplot(211)\n",
    "plt.plot(y[ss:se],dtoe_s0[ss:se],'.',label='Aug')\n",
    "plt.plot(y[ss:se],dtoe_s1[ss:se],'.',label='Sep')\n",
    "plt.plot(y[ss:se],ybacki[ss:se],label='Platform')\n",
    "plt.legend()\n",
    "\n",
    "ax2=plt.subplot(212)\n",
    "dtoe_diff = dtoe_s1[ss:se]-dtoe_s0[ss:se]\n",
    "plt.plot(y[ss:se],dtoe_diff,'.')\n",
    "plt.ylabel('Dune toe movement (m)')\n",
    "\n",
    "# for sn, seg in enumerate(segs):\n",
    "#     ss = seg\n",
    "#     se = ss+sl\n",
    "#     plt.figure(figsize=(12,7))\n",
    "#     ax1=plt.subplot(211)\n",
    "#     plt.plot(y[ss:se],dtoe_s0[ss:se],'.')\n",
    "#     plt.plot(y[ss:se],dtoe_s1[ss:se],'.')\n",
    "#     plt.plot(y[ss:se],dowp[0,ss:se])\n",
    "\n",
    "#     ax2=plt.subplot(212)\n",
    "#     dtoe_diff = dtoe_s0[ss:se]-dtoe_s1[ss:se]\n",
    "#     plt.plot(y[ss:se],dtoe_diff,'.')\n"
   ]
  },
  {
   "cell_type": "code",
   "execution_count": null,
   "metadata": {},
   "outputs": [],
   "source": [
    "# experiment with various smoothers\n",
    "if False:\n",
    "    # smooth first, then difference w/ median filter\n",
    "    zmax_s0 = signal.medfilt(zmax[0,:], kernel_size=11)\n",
    "    zmax_s1 = signal.medfilt(zmap0[1,:], kernel_size=11)\n",
    "    zdiff = zmax_s1-zmax_s0\n",
    "    zdiff[zdiff>=-0.5]=0.\n",
    "    \n",
    "if False:\n",
    "    # difference first, then smooth\n",
    "    zmax_0 = zmax[0,:]\n",
    "    zmax_1 = zmap0[1,:]\n",
    "    zdiff = zmax_1-zmax_0\n",
    "    zdiff[zdiff>=-0.5]=0.\n",
    "    \n",
    "if True:\n",
    "    npts = 5\n",
    "    chdiff = running_nanmean(zcrest0[1,:]-zcrest0[0,:],npts)\n",
    "\n",
    "cthresh=2.5\n",
    "chSep = zcrest0[1,:].copy()\n",
    "chSep[chSep>=cthresh]=cthresh\n",
    "chSep = chSep-cthresh\n",
    "chSep[ ~np.isfinite(chSep)] = 0.\n",
    "plt.plot(y[ss:se],-chSep[ss:se])\n",
    "print(np.sum(np.isfinite(chSep)))\n",
    "#plt.plot(y[ss:se],zmax_s0[ss:se])"
   ]
  },
  {
   "cell_type": "code",
   "execution_count": null,
   "metadata": {},
   "outputs": [],
   "source": [
    "%run -i CoreBx_funcs\n",
    "vthresh=.5 # threshold for minimum channel depth\n",
    "nc, channel_ctr, channel_area, channel_width, channel_max_depth, channel_avg_depth = analyze_channels(y,-chSep,vthresh=vthresh)\n",
    "print('September:')\n",
    "print('Chanel depths:')\n",
    "cz0 = stat_summary(channel_avg_depth,iprint=True)\n",
    "print('Chanel widths:')\n",
    "cw0 = stat_summary(channel_width,iprint=True)\n",
    "print('Channel areas:')\n",
    "ca0 = stat_summary(channel_area,iprint=True)\n",
    "print('Avg depth: N: {} Mean: {:.2f} Min: {:.2f} Max: {:.2f}'.format(cw0['n'],cz0['mean'],cw0['min'],cw0['max']))\n",
    "print('Width: N: {} Mean: {:.2f} Min: {:.2f} Max: {:.2f}'.format(cw0['n'],cw0['mean'],cw0['min'],cw0['max']))\n",
    "print('Area:  N: {} Mean: {:.2f} Min: {:.2f} Max: {:.2f}'.format(cw0['n'],ca0['mean'],ca0['min'],ca0['max']))"
   ]
  },
  {
   "cell_type": "code",
   "execution_count": null,
   "metadata": {},
   "outputs": [],
   "source": [
    "# write to a .csv via Pandas\n",
    "channel_metrics = pd.DataFrame({'Center':channel_ctr,'Area':channel_area,'Width':channel_width,\\\n",
    "                                'Max depth':channel_max_depth,'Avg_depth':channel_avg_depth})\n",
    "channel_metrics.to_csv('channel_metrics.csv',index=False,float_format='%.4f')\n",
    "# stats for those wider than 5 m\n",
    "pd.set_option(\"display.precision\", 1)\n",
    "channel_metrics.loc[channel_metrics['Width']>=5.].describe()\n"
   ]
  },
  {
   "cell_type": "code",
   "execution_count": null,
   "metadata": {},
   "outputs": [],
   "source": [
    "# put these results in a .csv file via Pandas\n",
    "for i, mnth in enumerate(['Aug_','Sep_','Oct_','Nov_']):\n",
    "    exec( mnth+\"pmetrics = pd.DataFrame({'y':y.T,'Vol':v[i,:],'Volp':vp[i,:],'Cx':cxcy[i,:,0],'Cy':cxcy[i,:,1],\\\n",
    "        'zmax':zmax[i,:], 'dmax':dmax[i,:], 'zcrest':zcrest[i,:], 'dcrest':dcrest[i,:], 'zcrest0':zcrest0[i,:],\\\n",
    "        'dtoe':dtoe[i,:],'iwidth':width_island[i,:],'pwidth': width_platform[i,:]})\" )\n",
    "    exec(mnth+\"pmetrics.to_csv('\"+mnth+\"_pmetrics.csv',index=False,na_rep='-999.999',float_format='%.3f')\")"
   ]
  },
  {
   "cell_type": "code",
   "execution_count": null,
   "metadata": {},
   "outputs": [],
   "source": [
    "ia = np.where(channel_area>=5.)\n",
    "print('Number of channels with area >=5:',np.shape(ia))\n",
    "s = np.array(channel_area[ia])\n",
    "col = np.array(channel_avg_depth[ia])\n",
    "\n",
    "plt.figure(figsize=(8,6))\n",
    "ax1=plt.subplot(111)\n",
    "plt.plot(y,np.ones_like(y)*vthresh,'--',c='gray')\n",
    "plt.scatter(channel_ctr[ia],channel_avg_depth[ia],s,np.log10(s),cmap=plt.cm.winter)\n",
    "plt.ylim((3.5,0))\n",
    "plt.ylabel('Channel depth (m)')\n",
    "plt.xlim((0,36500))\n",
    "#plt.text(0.02, 0.92,'a',horizontalalignment='left',verticalalignment='center',transform = ax1.transAxes, fontweight='bold')\n",
    "plt.clim((0,3.5))\n",
    "cbar=plt.colorbar()\n",
    "cbar.ax.set_ylabel('log$_{10}$[Channel area (m$^2$)]')\n",
    "plt.xlim((0,36500))\n",
    "plt.xlabel('Alongshore distance (m)')\n",
    "plt.savefig('channel_depth_bubbles.png',bbox_inches='tight', format='png', dpi = 200)\n",
    "\n",
    "plt.figure(figsize=(8,6))\n",
    "ax1=plt.subplot(211)\n",
    "plt.plot(y,np.ones_like(y)*vthresh,'--',c='gray')\n",
    "plt.plot(channel_ctr[ia],channel_avg_depth[ia],'.',markersize=12,color=blue5[3])\n",
    "plt.ylim((3.5,0))\n",
    "plt.ylabel('Channel depth (m)')\n",
    "plt.xlim((0,36500))\n",
    "plt.text(0.02, 0.92,'a',horizontalalignment='left',verticalalignment='center',transform = ax1.transAxes, fontweight='bold')\n",
    "\n",
    "ax2=plt.subplot(212)\n",
    "plt.plot(channel_ctr[ia],channel_area[ia],'.',markersize=12,color=blue5[3])\n",
    "plt.ylim((0,3600))\n",
    "plt.ylabel('Channel area (m$^{-2}$)')\n",
    "plt.xlim((0,36500))\n",
    "plt.xlabel('Alongshore distance (m)')\n",
    "plt.text(0.02, 0.92,'b',horizontalalignment='left',verticalalignment='center',transform = ax2.transAxes, fontweight='bold')\n"
   ]
  },
  {
   "cell_type": "code",
   "execution_count": null,
   "metadata": {},
   "outputs": [],
   "source": [
    "# remove one weird point - this might be the channel that connects to the back\n",
    "ibad = np.argwhere(channel_avg_depth>=3)\n",
    "print('Removing data point at: ',ibad)\n",
    "print('...where channel_avg_depth = ',channel_avg_depth[ibad])\n",
    "channel_avg_depth[ibad]=channel_avg_depth[ia].mean()\n",
    "channel_area[ibad]=channel_area[ia].mean()\n",
    "channel_width[ibad]=channel_area[ibad]/channel_avg_depth[ibad]"
   ]
  },
  {
   "cell_type": "code",
   "execution_count": null,
   "metadata": {},
   "outputs": [],
   "source": [
    "binw = 1000.\n",
    "bins = np.arange(0.,36001.,binw)\n",
    "print('Bin edges: ',bins)\n",
    "\n",
    "bin_ctr = bins[0:-1]+0.5*binw\n",
    "ychan = channel_ctr[ia]\n",
    "data = channel_avg_depth[ia]\n",
    "digitized = np.digitize(ychan, bins)\n",
    "bin_mean = [data[digitized == i].mean() for i in range(1, len(bins))]\n",
    "bin_std = [data[digitized == i].std() for i in range(1, len(bins))]\n",
    "\n",
    "# hydraulic radius\n",
    "Rh = channel_area/(2.*channel_avg_depth+channel_width)\n",
    "stat_summary(Rh[ia],iprint=True)\n",
    "data= Rh[ia]\n",
    "Rh_mean = [data[digitized == i].mean() for i in range(1, len(bins))]\n",
    "Rh_std = [data[digitized == i].std() for i in range(1, len(bins))]\n",
    "\n",
    "plt.figure(figsize=(12,3))\n",
    "\n",
    "plt.bar(channel_ctr[ia],channel_avg_depth[ia],width=channel_width[ia],color=blue5[3])\n",
    "plt.plot(bin_ctr,bin_mean,'-',color=blue5[4],linewidth=2,label='Mean channel depth')\n",
    "plt.plot(bin_ctr,Rh_mean,'--',color=cols[3],linewidth=2,label='Hydraulic radius')\n",
    "plt.ylim((3.5,0))\n",
    "plt.xlabel('Alongshore distance (m)',fontsize=16)\n",
    "plt.ylabel('Channel depth (m)',fontsize=16)\n",
    "plt.legend()\n",
    "plt.xlim((0,36500))\n",
    "plt.savefig('channel_depth_bars.png',bbox_inches='tight', format='png', dpi = 200)"
   ]
  },
  {
   "cell_type": "code",
   "execution_count": null,
   "metadata": {},
   "outputs": [],
   "source": [
    "print('Channel area (m2):')\n",
    "stat_summary(channel_area[ia],iprint=True)\n",
    "num_bins = 15\n",
    "#bins = np.arange(-2.75,.25,.25)\n",
    "#print(bins)\n",
    "fig, ax = plt.subplots()\n",
    "\n",
    "n, bins, patches = ax.hist(np.log10(channel_area[ia]), num_bins)\n",
    "\n",
    "ax.set_xlabel('log$_{10}$ [ Channel area (m$^{2}$) ]')\n",
    "ax.set_ylabel('Number')\n",
    "#ax.set_title(r'Dune Crest Change')\n",
    "fig.tight_layout()\n",
    "plt.show()\n",
    "plt.savefig('channel_area_histogram.png',bbox_inches='tight', format='png', dpi = 200)"
   ]
  },
  {
   "cell_type": "markdown",
   "metadata": {},
   "source": [
    "### Estimate flow velocity and total discharge\n",
    "\n",
    "https://en.wikipedia.org/wiki/Manning_formula\n",
    "\n",
    "http://www.fsl.orst.edu/geowater/FX3/help/8_Hydraulic_Reference/Mannings_n_Tables.htm"
   ]
  },
  {
   "cell_type": "code",
   "execution_count": null,
   "metadata": {},
   "outputs": [],
   "source": [
    "### Estimate flow velocity using open-channel flow formula\n",
    "ychan = channel_ctr[ia]\n",
    "depth=channel_avg_depth[ia]\n",
    "\n",
    "mann=.025\n",
    "mann_rough = 0.03\n",
    "mann_smooth = 0.02\n",
    "Slope = 1./300.\n",
    "konv=1.\n",
    "rhow = 1027.\n",
    "rhos = 2650.\n",
    "d50 = 0.43e-3 # Ruggerio, S. Core Banks\n",
    "d90 = 1.e-3\n",
    "# print(\"Base case\")\n",
    "\n",
    "# d50 = 0.25e-3 # Ruggerio, S. Core Banks\n",
    "# d90 = 0.34e-3\n",
    "# print(\"Fine Sediment case\")\n",
    "\n",
    "# Slope = 1./400.\n",
    "# print(\"Low slope case\")\n",
    "\n",
    "# Slope = 1./200.\n",
    "# print(\"High slope case\")\n",
    "\n",
    "#mann = 0.02\n",
    "# print(\"Smooth n case\")\n",
    "\n",
    "# mann = 0.03\n",
    "# print(\"Rough n case\")\n",
    "\n",
    "print(\"Mannings n {:.3f}, slope {:.4f}, d50 (mm) {:.3f}, d90 (mm) {}\".\\\n",
    "     format(mann, Slope, d50*1000, d90*1000))\n",
    "s = rhos/rhow\n",
    "nu = 1.36e-6\n",
    "print('s: ',s)\n",
    "g = 9.81\n",
    "Dstar = (g*(s-1)/nu**2)**(1./3.)*d50 # Soulsby eqn 99\n",
    "ws = (nu/d50)*(np.sqrt(10.36**2+1.049*Dstar**3)-10.36) # Soulsby eqn 102\n",
    "wstar = ws/((g*(s-1)/nu**2)**(1./3.))\n",
    "print('Dstar:',Dstar,'ws:',ws,'wstar: ',wstar)\n",
    "\n",
    "theta_cr = (0.3/(1.+1.2*Dstar))+0.055*(1.-np.exp(-0.020*Dstar)) # Soulsby eqn 77\n",
    "tauc = theta_cr*(g*rhow*(s-1)*d50)\n",
    "print('Tauc =',tauc)\n",
    "\n",
    "# fric = 0.04 # Fig. 3.3 in Dyer - not used\n",
    "# Cdf = fric/8.\n",
    "Cdn =   g*mann**2/(depth**(1./3.))\n",
    "\n",
    "print(\"Cdn\")\n",
    "stat_summary(Cdn,iprint=True)\n",
    "Vel   = (konv/mann)*Rh[ia]**(2./3.)*np.sqrt(Slope)\n",
    "Vello = (konv/mann_rough)*Rh[ia]**(2./3.)*np.sqrt(Slope)\n",
    "Velhi = (konv/mann_smooth)*Rh[ia]**(2./3.)*np.sqrt(Slope)\n",
    "\n",
    "Froude = Vel/np.sqrt(g*depth)\n",
    "tau0   = Cdn*rhow*Vel**2.\n",
    "\n",
    "\n",
    "print(\"Froude from Manning\")\n",
    "stat_summary(Froude,iprint=True)\n",
    "print(\"Velocity from Manning\")\n",
    "stat_summary(Vel,iprint=True)\n",
    "print(\"Tau0 from Manning\")\n",
    "stat_summary(tau0,iprint=True)\n",
    "\n",
    "### Estimate bed stress from bottom stress\n",
    "# These give similar, but slightly higher numbers\n",
    "# taub = rhow*g*depth*Slope[1]\n",
    "# Ubar = np.sqrt(taub/(rhow*Cdn))\n",
    "# print('Ubar from slope')\n",
    "# stat_summary(Ubar,iprint=True)\n",
    "# print('Taub from slope')\n",
    "# stat_summary(taub,iprint=True)\n",
    "\n",
    "# Van Rijn (Eqn 133)\n",
    "Ucr = 0.19*d50**0.1*np.log10(4.*depth/d90)\n",
    "if d50>0.5e-3:\n",
    "    Ucr = 8.5*d50**0.6*np.log10(4.*depth/d90)\n",
    "Ubar = Vel\n",
    "curly = (Ubar-Ucr)/np.sqrt((s-1)*g*d50)\n",
    "qbvr = 0.005*Ubar*depth*curly**2.4*(d50/depth)**1.2\n",
    "qsvr = 0.012*Ubar*depth*curly**2.4*(d50/depth)*Dstar**(-.6)\n",
    "\n",
    "Ubar = Vello\n",
    "curly = (Ubar-Ucr)/np.sqrt((s-1)*g*d50)\n",
    "qbvrlo = 0.005*Ubar*depth*curly**2.4*(d50/depth)**1.2\n",
    "qsvrlo = 0.012*Ubar*depth*curly**2.4*(d50/depth)*Dstar**(-.6)\n",
    "\n",
    "Ubar = Velhi\n",
    "curly = (Ubar-Ucr)/np.sqrt((s-1)*g*d50)\n",
    "qbvrhi = 0.005*Ubar*depth*curly**2.4*(d50/depth)**1.2\n",
    "qsvrhi = 0.012*Ubar*depth*curly**2.4*(d50/depth)*Dstar**(-.6)"
   ]
  },
  {
   "cell_type": "markdown",
   "metadata": {},
   "source": [
    "### Write sed transport calcs to a .csv via Pandas"
   ]
  },
  {
   "cell_type": "code",
   "execution_count": null,
   "metadata": {},
   "outputs": [],
   "source": [
    "flow_calcs = pd.DataFrame({'Center [m]':ychan,'Area [m2]':channel_area[ia],'Width [m]':channel_width[ia],\\\n",
    "                                'Max depth [m]':channel_max_depth[ia],'Avg_depth [m]':channel_avg_depth[ia],\\\n",
    "                          'Velocity [m/s]':Vel,'Bedload [m2/s]':qbvr,'Sus load [m2/s]':qsvr,\\\n",
    "                           'Qwater [m3/s]':Vel*channel_area[ia],'SSC [kg/m3]':rhos*qsvr/q})\n",
    "flow_calcs.to_csv('flow_calcs.csv',index=False,float_format='%.4f')"
   ]
  },
  {
   "cell_type": "markdown",
   "metadata": {},
   "source": [
    "### Display statistics for channels with centers between 20,000 and 23,000 m [alongshore coordinate]"
   ]
  },
  {
   "cell_type": "code",
   "execution_count": null,
   "metadata": {},
   "outputs": [],
   "source": [
    "pd.set_option(\"display.precision\", 1)\n",
    "flow_calcs.loc[flow_calcs['Center [m]'].between(20000., 23000)].describe()"
   ]
  },
  {
   "cell_type": "markdown",
   "metadata": {},
   "source": [
    "### Statistics of flow and sediment-transport calcs"
   ]
  },
  {
   "cell_type": "code",
   "execution_count": null,
   "metadata": {},
   "outputs": [],
   "source": [
    "print(\"Bedload:\")\n",
    "stat_summary(qbvr,iprint=True)\n",
    "print(\"Suspended:\")\n",
    "stat_summary(qsvr,iprint=True)\n",
    "print(\"Total:\")\n",
    "stat_summary(qbvr+qsvr,iprint=True)\n",
    "\n",
    "q = Vel*channel_area[ia]\n",
    "print(\"Discharge (m3/s):\")\n",
    "stat_summary(q,iprint=True)\n",
    "\n",
    "ssc = rhos*qsvr/q\n",
    "print(\"SSC (kg/m3):\")\n",
    "stat_summary(ssc,iprint=True)\n",
    "\n",
    "qlo = Vello*channel_area[ia]\n",
    "qhi = Velhi*channel_area[ia]\n",
    "print('Discharge (m3/s): {:.0f} ({:.0f} to {:.0f})'.format(q.sum(), qlo.sum(), qhi.sum()))\n",
    "qt = qbvr+qsvr\n",
    "tot_flux = qt*3600*channel_width[ia]\n",
    "print('Total flux:')\n",
    "stat_summary(tot_flux,iprint=True)\n",
    "print('Total flux over one hour: ',tot_flux.sum(),'Accounting for porosity = 0.35: ',tot_flux.sum()/(1.-0.35))"
   ]
  },
  {
   "cell_type": "code",
   "execution_count": null,
   "metadata": {},
   "outputs": [],
   "source": [
    "binw = 1000.\n",
    "bins = np.arange(0.,36001.,binw)\n",
    "print(bins)\n",
    "bin_ctr = bins[0:-1]+0.5*binw\n",
    "data = Vel\n",
    "digitized = np.digitize(ychan, bins)\n",
    "bin_mean_vel = [data[digitized == i].mean() for i in range(1, len(bins))]\n",
    "bin_std_vel  = [data[digitized == i].std() for i in range(1, len(bins))]\n",
    "bin_std_vel[0]=0.\n",
    "bin_std_vel[1]=0.\n",
    "bin_std_vel =np.array(bin_std_vel)\n",
    "data = Vello\n",
    "bin_mean_vello = [data[digitized == i].mean() for i in range(1, len(bins))]\n",
    "data = Velhi\n",
    "bin_mean_velhi = [data[digitized == i].mean() for i in range(1, len(bins))]\n",
    "\n",
    "print(np.shape(bin_mean), print(np.shape(bin_std)))\n",
    "\n",
    "plt.figure(figsize=(12,6))\n",
    "ax1=plt.subplot(211)\n",
    "# plt.plot(channel_ctr[ia],Vel,'.',markersize=12,color=blue5[3])\n",
    "ax1.errorbar(channel_ctr[ia],Vel,yerr=[Vel-Vello, Velhi-Vel], fmt='o',color=blue5[3],label='Velocity')\n",
    "plt.plot(bin_ctr,bin_mean_vel,'-',color=blue5[4],linewidth=2,label='1-km bin-averaged velocity')\n",
    "ax1.fill_between(bin_ctr, (bin_mean_vello), (bin_mean_velhi),color=blue5[1] )\n",
    "ax1.set_anchor('W')\n",
    "plt.ylim((0, 6))\n",
    "plt.text(0.02, 0.92,'a',horizontalalignment='left',verticalalignment='center',transform = ax1.transAxes, fontweight='bold', fontsize=16)\n",
    "plt.legend()\n",
    "plt.ylabel('Velocity (m/s)',fontsize=16)\n",
    "plt.xlim((0,36500))\n",
    "\n",
    "data = qbvr\n",
    "bin_mean_qb = [data[digitized == i].mean() for i in range(1, len(bins))]\n",
    "bin_std_qb  = [data[digitized == i].std() for i in range(1, len(bins))]\n",
    "bin_std_qb[0]=0.\n",
    "bin_std_qb[1]=0.\n",
    "bin_std_qb =np.array(bin_std_qb)\n",
    "\n",
    "data = qbvrlo\n",
    "bin_mean_qblo = [data[digitized == i].mean() for i in range(1, len(bins))]\n",
    "\n",
    "data = qbvrhi\n",
    "bin_mean_qbhi = [data[digitized == i].mean() for i in range(1, len(bins))]\n",
    "\n",
    "data = qsvr\n",
    "bin_mean_qs = [data[digitized == i].mean() for i in range(1, len(bins))]\n",
    "bin_std_qs  = [data[digitized == i].std() for i in range(1, len(bins))]\n",
    "bin_std_qs[0]=0.\n",
    "bin_std_qs[1]=0.\n",
    "bin_std_qs =np.array(bin_std_qs)\n",
    "\n",
    "data = qsvrhi\n",
    "bin_mean_qshi = [data[digitized == i].mean() for i in range(1, len(bins))]\n",
    "\n",
    "data = qsvrlo\n",
    "bin_mean_qslo = [data[digitized == i].mean() for i in range(1, len(bins))]\n",
    "\n",
    "ax2=plt.subplot(212)\n",
    "ax2.errorbar(channel_ctr[ia], qbvr, yerr=[qbvr-qbvrlo, qbvrhi-qbvr], fmt='o',color=blue5[3],alpha=0.6,label='Bedload')\n",
    "ax2.errorbar(channel_ctr[ia], qsvr, yerr=[qsvr-qsvrlo, qsvrhi-qsvr], fmt='o',color=cols[3],alpha=0.6,label='Suspended')\n",
    "ax2.plot(bin_ctr,bin_mean_qb,'-',color=blue5[2],linewidth=2,label='1-km bin-averaged bedload')\n",
    "ax2.fill_between(bin_ctr, (bin_mean_qblo), (bin_mean_qbhi),color=blue5[2] )\n",
    "ax2.plot(bin_ctr,bin_mean_qs,'-',color=cols[3],linewidth=2,label='1-km bin-averaged sus. load')\n",
    "ax2.fill_between(bin_ctr, (bin_mean_qslo), (bin_mean_qshi),color=cols[0] )\n",
    "ax2.set_anchor('W')\n",
    "\n",
    "plt.legend()\n",
    "#plt.ylim((0, 5))\n",
    "plt.text(0.02, 0.92,'b',horizontalalignment='left',verticalalignment='center',transform = ax2.transAxes, fontweight='bold',fontsize=16)\n",
    "plt.ylabel('Sediment flux (m$^2$/s)',fontsize=16)\n",
    "plt.xlim((0,36500))\n",
    "plt.xlabel('Alongshore distance (m)',fontsize=16)\n",
    "plt.savefig('velocity_sed_transport_island.png',bbox_inches='tight', format='png', dpi = 200)"
   ]
  },
  {
   "cell_type": "code",
   "execution_count": null,
   "metadata": {},
   "outputs": [],
   "source": [
    "%whos"
   ]
  },
  {
   "cell_type": "markdown",
   "metadata": {},
   "source": [
    "### Load Christie's grid and compare channels"
   ]
  },
  {
   "cell_type": "code",
   "execution_count": null,
   "metadata": {},
   "outputs": [],
   "source": [
    "# This grid is Christie's grid converted to island coordinates by Convert_COAWST_to_Island.ipynb\n",
    "import netCDF4 as netcdf\n",
    "fn = 'NCoreBanks_sub6_isl.nc'\n",
    "dsmod = netcdf.Dataset(fn)\n",
    "ymod = dsmod['yi'][:]\n",
    "xmod = dsmod['xi'][:]\n",
    "hmod = dsmod['hi'][:]"
   ]
  },
  {
   "cell_type": "code",
   "execution_count": null,
   "metadata": {},
   "outputs": [],
   "source": [
    "# find dune crest heights\n",
    "hmodmax = np.amax(-hmod,axis=0)\n",
    "ihmodmax = np.argmax(-hmod,axis=0)\n",
    "print(np.shape(hmodmax))\n",
    "print(np.median(ihmodmax))\n",
    "plt.plot(y,zcrest0[0,:],'-',linewidth=3,c=cols[3],label=pnames[0])\n",
    "plt.plot(xmod[75,:],hmodmax)\n",
    "plt.xlim((20000,23250))\n",
    "plt.xlabel('Alongshore Distance (m)')\n",
    "plt.ylabel('Elevation (m)')\n",
    "plt.title('Dune Crest Elevation')"
   ]
  },
  {
   "cell_type": "code",
   "execution_count": null,
   "metadata": {},
   "outputs": [],
   "source": [
    "### Plot and average transport for the section Christie modeled"
   ]
  },
  {
   "cell_type": "code",
   "execution_count": null,
   "metadata": {},
   "outputs": [],
   "source": [
    "binw = 250.\n",
    "bins = np.arange(20000.,23250.,binw)\n",
    "print(bins)\n",
    "bin_ctr = bins[0:-1]+0.5*binw\n",
    "ychan = channel_ctr[ia]\n",
    "data = Vel\n",
    "digitized = np.digitize(ychan, bins)\n",
    "bin_mean_vel = [data[digitized == i].mean() for i in range(1, len(bins))]\n",
    "bin_std_vel  = [data[digitized == i].std() for i in range(1, len(bins))]\n",
    "bin_std_vel[0]=0.\n",
    "bin_std_vel[1]=0.\n",
    "bin_std_vel =np.array(bin_std_vel)\n",
    "data = Vello\n",
    "bin_mean_vello = [data[digitized == i].mean() for i in range(1, len(bins))]\n",
    "data = Velhi\n",
    "bin_mean_velhi = [data[digitized == i].mean() for i in range(1, len(bins))]\n",
    "\n",
    "print(np.shape(bin_mean), print(np.shape(bin_std)))\n",
    "\n",
    "plt.figure(figsize=(12,6))\n",
    "ax1=plt.subplot(211)\n",
    "# plt.plot(channel_ctr[ia],Vel,'.',markersize=12,color=blue5[3])\n",
    "ax1.errorbar(channel_ctr[ia],Vel,yerr=[Vel-Vello, Velhi-Vel], fmt='o',color=blue5[3],label='Velocity')\n",
    "plt.plot(bin_ctr,bin_mean_vel,'-',color=blue5[4],linewidth=2,label='250-m bin-averaged velocity')\n",
    "ax1.fill_between(bin_ctr, (bin_mean_vello), (bin_mean_velhi),color=blue5[1] )\n",
    "ax1.set_anchor('W')\n",
    "plt.ylim((0, 6))\n",
    "plt.text(0.02, 0.92,'a',horizontalalignment='left',verticalalignment='center',transform = ax1.transAxes, fontweight='bold', fontsize=16)\n",
    "plt.legend()\n",
    "plt.ylabel('Velocity (m/s)',fontsize=16)\n",
    "plt.xlim((20000,23250))\n",
    "\n",
    "data = qbvr\n",
    "bin_mean_qb = [data[digitized == i].mean() for i in range(1, len(bins))]\n",
    "bin_std_qb  = [data[digitized == i].std() for i in range(1, len(bins))]\n",
    "bin_std_qb[0]=0.\n",
    "bin_std_qb[1]=0.\n",
    "bin_std_qb =np.array(bin_std_qb)\n",
    "\n",
    "data = qbvrlo\n",
    "bin_mean_qblo = [data[digitized == i].mean() for i in range(1, len(bins))]\n",
    "\n",
    "data = qbvrhi\n",
    "bin_mean_qbhi = [data[digitized == i].mean() for i in range(1, len(bins))]\n",
    "\n",
    "data = qsvr\n",
    "bin_mean_qs = [data[digitized == i].mean() for i in range(1, len(bins))]\n",
    "bin_std_qs  = [data[digitized == i].std() for i in range(1, len(bins))]\n",
    "bin_std_qs[0]=0.\n",
    "bin_std_qs[1]=0.\n",
    "bin_std_qs =np.array(bin_std_qs)\n",
    "\n",
    "data = qsvrhi\n",
    "bin_mean_qshi = [data[digitized == i].mean() for i in range(1, len(bins))]\n",
    "\n",
    "data = qsvrlo\n",
    "bin_mean_qslo = [data[digitized == i].mean() for i in range(1, len(bins))]\n",
    "\n",
    "ax2=plt.subplot(212)\n",
    "ax2.errorbar(channel_ctr[ia], qbvr, yerr=[qbvr-qbvrlo, qbvrhi-qbvr], fmt='o',color=blue5[3],alpha=0.6,label='Bedload')\n",
    "ax2.errorbar(channel_ctr[ia], qsvr, yerr=[qsvr-qsvrlo, qsvrhi-qsvr], fmt='o',color=cols[3],alpha=0.6,label='Suspended')\n",
    "ax2.plot(bin_ctr,bin_mean_qb,'-',color=blue5[2],linewidth=2,label='250-m bin-averaged bedload')\n",
    "ax2.fill_between(bin_ctr, (bin_mean_qblo), (bin_mean_qbhi),color=blue5[2] )\n",
    "ax2.plot(bin_ctr,bin_mean_qs,'-',color=cols[3],linewidth=2,label='250-m bin-averaged sus. load')\n",
    "ax2.fill_between(bin_ctr, (bin_mean_qslo), (bin_mean_qshi),color=cols[0] )\n",
    "ax2.set_anchor('W')\n",
    "\n",
    "plt.legend()\n",
    "#plt.ylim((0, 5))\n",
    "plt.text(0.02, 0.92,'b',horizontalalignment='left',verticalalignment='center',transform = ax2.transAxes, fontweight='bold',fontsize=16)\n",
    "plt.ylabel('Sediment flux (m$^2$/s)',fontsize=16)\n",
    "plt.xlim((20000,23250))\n",
    "plt.xlabel('Alongshore distance (m)',fontsize=16)\n",
    "plt.savefig('velocity_sed_transport_island.png',bbox_inches='tight', format='png', dpi = 200)"
   ]
  },
  {
   "cell_type": "markdown",
   "metadata": {},
   "source": [
    "## Code below has not been refactored...plan is to loop through some short sub-island interval and make legible plots"
   ]
  },
  {
   "cell_type": "code",
   "execution_count": null,
   "metadata": {},
   "outputs": [],
   "source": [
    "plt.figure(figsize=(12,7))\n",
    "ax1=plt.subplot(411)\n",
    "ax1.pcolormesh(dsaa[0,:,:],cmap=tcmap,vmin=0,vmax=6)\n",
    "ax1.plot(y,dmax[0,:],'.r')\n",
    "plt.savefig('dune_crest_testmix.png',bbox_inches='tight', format='png',dpi=200)"
   ]
  },
  {
   "cell_type": "code",
   "execution_count": null,
   "metadata": {},
   "outputs": [],
   "source": [
    "plt.figure(figsize=(12,7))\n",
    "plt.plot(y[ss:se],dmax[0,ss:se],'.')\n",
    "#plt.plot(y[ss:se],dmax[0,ss:se],'.')\n",
    "plt.ylabel('Cross-shore dist. (m)')\n",
    "\n",
    "ax2=plt.subplot(412)\n",
    "plt.plot(y[ss:se],zmax_s0[ss:se],'.')\n",
    "plt.plot(y[ss:se],zmax_s1[ss:se],'.')\n",
    "plt.ylabel('Crest elev. (m)')\n",
    "\n",
    "ax3=plt.subplot(413)\n",
    "plt.plot(y[ss:se],zdiff[ss:se],'-')\n",
    "plt.ylabel('Elev. Change (m)')\n",
    "\n",
    "chana = np.cumsum(-zdiff[ss:se])\n",
    "ax3=plt.subplot(414)\n",
    "plt.plot(y[ss:se],chana)"
   ]
  },
  {
   "cell_type": "code",
   "execution_count": null,
   "metadata": {},
   "outputs": [],
   "source": [
    "plt.boxplot(channel_width)\n",
    "plt.ylim( (0,100) )"
   ]
  },
  {
   "cell_type": "code",
   "execution_count": null,
   "metadata": {},
   "outputs": [],
   "source": [
    "%run -i CoreBx_funcs\n",
    "s = stat_summary(channel_width,iprint=True)"
   ]
  },
  {
   "cell_type": "code",
   "execution_count": null,
   "metadata": {},
   "outputs": [],
   "source": [
    "for sn, seg in enumerate(segs):\n",
    "    ss = seg\n",
    "    se = ss+sl\n",
    "    plt.figure(figsize=(12,7))\n",
    "    ax1=plt.subplot(411)\n",
    "    plt.plot(y[ss:se],dmax[0,ss:se],'.')\n",
    "    #plt.plot(y[ss:se],dmax[0,ss:se],'.')\n",
    "    plt.ylabel('Cross-shore dist. (m)')\n",
    "\n",
    "    ax2=plt.subplot(412)\n",
    "    plt.plot(y[ss:se],zmax_s0[ss:se],'.')\n",
    "    plt.plot(y[ss:se],zmax_s1[ss:se],'.')\n",
    "    plt.ylabel('Crest elev. (m)')\n",
    "\n",
    "    ax3=plt.subplot(413)\n",
    "    plt.plot(y[ss:se],zdiff[ss:se],'-')\n",
    "    plt.ylabel('Elev. Change (m)')\n",
    "\n",
    "    chana = np.cumsum(-zdiff[ss:se])\n",
    "    ax3=plt.subplot(414)\n",
    "    plt.plot(y[ss:se],chana)\n",
    "\n",
    "    try:\n",
    "        print('Seg. {} total channel area m^2/m: {:.2f}'.format(sn, chana[-1]/sl) )\n",
    "    except:\n",
    "        pass\n",
    "\n",
    "    plt.figure(figsize=(12,7))\n",
    "    ax1=plt.subplot(411)\n",
    "    plt.plot(y[ss:se],dmax[0,ss:se],'.')\n",
    "    #plt.plot(y[ss:se],dmax[0,ss:se],'.')\n",
    "    plt.ylabel('Cross-shore dist. (m)')\n",
    "    \n",
    "    ax2=plt.subplot(412)\n",
    "    plt.plot(y[ss:se],zmax_0[ss:se],'.')\n",
    "    plt.plot(y[ss:se],zmax_1[ss:se],'.')\n",
    "    plt.ylabel('Crest elev. (m)')\n",
    "\n",
    "    ax3=plt.subplot(413)\n",
    "    plt.plot(y[ss:se],zdiffu[ss:se],'-')\n",
    "    plt.ylabel('Elev. Change (m)')\n",
    "\n",
    "    chana = np.cumsum(-zdiffu[ss:se])\n",
    "    ax3=plt.subplot(414)\n",
    "    plt.plot(y[ss:se],chana)\n",
    "    plt.ylabel('Cumulative Area (m^2)')"
   ]
  },
  {
   "cell_type": "code",
   "execution_count": null,
   "metadata": {},
   "outputs": [],
   "source": [
    "diffmap = np.squeeze(np.diff(dsaa,axis=0))\n",
    "diffmap_tot = np.squeeze( dsaa[-1,:,:]-dsaa[0,:,:])\n",
    "print(np.shape(diffmap),file=sfile)\n",
    "print(\"Stats for diffmap:\",file=sfile)\n",
    "for i in range(0,nmaps-1):\n",
    "    print(\"\\n2d stats for diffmap {} minus {}\".format(dates[i+1],dates[i]),file=sfile)\n",
    "    map_stats2d(np.squeeze(diffmap[i,:,:]),sfile)\n",
    "print(\"\\nStats for last minus first:\",file=sfile)\n",
    "map_stats2d(diffmap_tot, sfile)\n",
    "\n",
    "\n",
    "title_str = '{0:s}'.format(r['name'].capitalize())  \n",
    "\n",
    "xs_start = 0\n",
    "xs_end = r['xs_end']\n",
    "dxdy = r['dxdy']\n",
    "xs_len = (xs_end-xs_start)\n",
    "print('\\nxs_len = ',xs_len,' cross-shore length: ',ncross*dxdy,file=sfile)\n",
    "\n",
    "# calculate dhi\n",
    "dhi = np.nanmax( dsaa[:,0:r['d_end'],:],axis=1)\n",
    "print(\"Shape of dhi: \",np.shape(dhi),file=sfile)\n",
    "\n",
    "mean_dhi = np.nanmean(dhi,1)\n",
    "std_dhi = np.nanstd(dhi,1)\n",
    "print(\"Mean dhi: \",mean_dhi,file=sfile)\n",
    "print(\"Mean and std of dhi: {} {} (m)\".format(mean_dhi, std_dhi),file=sfile)\n",
    "sfile.close()"
   ]
  },
  {
   "cell_type": "code",
   "execution_count": null,
   "metadata": {},
   "outputs": [],
   "source": [
    "# open the log file in append mode\n",
    "sfile = open(statsfn, \"a+\")\n",
    "# calculate centroid of each transect\n",
    "print('Calculating centroids')\n",
    "\n",
    "# calculate volumes    \n",
    "# volumes for each transect in beach and overwash terrace (nmaps, nalong)\n",
    "v = np.squeeze(np.nansum(dsaa[:,xs_start:xs_end,:]-MHHW,axis=1))\n",
    "\n",
    "# volumes for each transect across entire cell (nmaps, nalong)\n",
    "vall = np.squeeze(np.nansum(dsaa[:,:,:]-MHHW,axis=1))\n",
    "\n",
    "# respective volume differences (nmaps-1, nalong)\n",
    "vdiff = np.squeeze(np.diff(v,axis=0))\n",
    "vdiffall = np.squeeze(np.diff(vall,axis=0))\n",
    "\n",
    "print(\"Shape of v: \",np.shape(v),file=sfile)\n",
    "print(\"Shape of vdiff: \",np.shape(vdiff),file=sfile)\n",
    "\n",
    "# average transect volume for overwash terrace (nmaps)\n",
    "m = np.mean(v,1)\n",
    "# average volume change for overwash terrace (nmaps-1)\n",
    "mean_dv = np.sum(vdiff,1)/(ncross*dxdy)\n",
    "print(\"Average transect volume for ow terrace m: \",m,file=sfile)\n",
    "print(\"Average volume change for ow terrace mean_dv\",mean_dv,file=sfile)\n",
    "\n",
    "# update sum over entire island\n",
    "vsum = vsum+np.nansum(v,1)\n",
    "vsumall = vsumall+np.nansum(vall,1)\n",
    "vchange = vchange+np.sum(vdiff,1)\n",
    "vchangeall = vchangeall+np.sum(vdiffall,1)\n",
    "\n",
    "island_length = island_length+r['xlen']\n",
    "\n",
    "\n",
    "# calculate elevations\n",
    "mean_elev_xs_len = np.nanmean(np.nanmean(dsaa[:,0:r['xs_end'],:],1),1)\n",
    "mean_elev_all = np.nanmean(np.nanmean(dsaa,1),1)\n",
    "print(\"Mean elevation in overwash terrace (m):\",mean_elev_xs_len,file=sfile )\n",
    "print(\"Mean elevation in across entire island (m):\",mean_elev_all,file=sfile )\n",
    "\n",
    "pc = 100*np.nanmean(vdiff)/np.mean(v)\n",
    "pcall = 100*np.nanmean(vdiffall)/np.mean(vall)\n",
    "\n",
    "print(\"Pct volume change in overwash terrace m:\",pc,\"%\",file=sfile)\n",
    "print(\"Pct volume change in across entire island m:\",pcall,\"%\",file=sfile)\n",
    "sfile.close()"
   ]
  },
  {
   "cell_type": "code",
   "execution_count": null,
   "metadata": {},
   "outputs": [],
   "source": [
    "##############################################################################\n",
    "# Elevation plots\n",
    "title_str = '{0:s} Dune Crest Elevation and Barrier Volume'.format(r['name'].capitalize())\n",
    "plt.figure(figsize=(12,7))\n",
    "ax1=plt.subplot(211)\n",
    "plt.plot(dhi[0,:],color='dimgray',linewidth=3,label=dates[0])\n",
    "plt.plot(dhi[1,:],color='tab:red',linewidth=2,label=dates[1])\n",
    "plt.plot(dhi[2,:],color='tab:blue',linewidth=2,label=dates[2])\n",
    "plt.plot(dhi[3,:],color='tab:orange',linewidth=2,label=dates[3])\n",
    "\n",
    "plt.legend(loc='upper right')\n",
    "ax1.xaxis.set_ticklabels([])\n",
    "ax1.set_ylim(0,7.5)\n",
    "plt.ylabel('Dune Crest Elevation (m)')\n",
    "plt.text(0,.85*7.5,\"a) Crest Elevation\")\n",
    "plt.title(title_str)\n",
    "\n",
    "# Volume plot\n",
    "ax2=plt.subplot(212)\n",
    "plt.plot([0, nalong*dxdy],[m[0],m[0]],'--',color='dimgray',linewidth=1)\n",
    "plt.plot([0, nalong*dxdy],[m[1],m[1]],'--',color='tab:red',linewidth=1)\n",
    "plt.plot([0, nalong*dxdy],[m[2],m[2]],'--',color='tab:blue',linewidth=1)\n",
    "plt.plot([0, nalong*dxdy],[m[3],m[3]],'--',color='tab:orange',linewidth=1)\n",
    "lb = []\n",
    "for i in range(0,4):\n",
    "    lb.append(\"{0} {1:4.0f} m$^3$\".format(dates[i],m[i]))\n",
    "plt.plot(v[0,:],label=lb[0],color='dimgray',linewidth=3)\n",
    "plt.plot(v[1,:],label=lb[1],color='tab:red',linewidth=2)\n",
    "plt.plot(v[2,:],label=lb[2],color='tab:blue',linewidth=2)\n",
    "plt.plot(v[3,:],label=lb[3],color='tab:orange',linewidth=2)\n",
    "ax2.set_ylim(0,950)\n",
    "plt.xlabel(r'Alongshore Distance (m)')\n",
    "plt.ylabel(r'Volume (m$^3$/m)')\n",
    "plt.legend(loc='upper right')\n",
    "title_str = 'b) Volumes'\n",
    "\n",
    "plt.text(0,.85*950,title_str)\n",
    "fig_name = \"{}_{}_elevation_volume.svg\".format(r['name'],holes[ihole])\n",
    "plt.savefig(fig_name,bbox_inches='tight', format='svg')\n"
   ]
  },
  {
   "cell_type": "code",
   "execution_count": null,
   "metadata": {},
   "outputs": [],
   "source": [
    "##############################################################################\n",
    "#  Plot map views\n",
    "dcmap=plt.cm.seismic\n",
    "dcmap.set_bad(color='darkgray')\n",
    "# text locations\n",
    "tx = 0.025*r['xlen']\n",
    "ty = 0.9*r['ylen']\n",
    "print(\"tx, ty:\",tx,ty)\n",
    "\n",
    "fig, ax = plt.subplots(ncols=2, nrows=4, figsize=(9,9), constrained_layout=True)\n",
    "ax[0,0].pcolormesh(dsaa[0,:,:],cmap=tcmap,vmin=0,vmax=6)\n",
    "ax[1,0].pcolormesh(dsaa[1,:,:],cmap=tcmap,vmin=0,vmax=6)\n",
    "ax[2,0].pcolormesh(dsaa[2,:,:],cmap=tcmap,vmin=0,vmax=6)\n",
    "ax[3,0].pcolormesh(dsaa[3,:,:],cmap=tcmap,vmin=0,vmax=6)\n",
    "\n",
    "ax[0,0].text(tx, ty,'a) {}'.format(dates[0]),c='lightgray')\n",
    "ax[1,0].text(tx, ty,'b) {}'.format(dates[1]),c='lightgray')\n",
    "ax[2,0].text(tx, ty,'c) {}'.format(dates[2]),c='lightgray')\n",
    "ax[3,0].text(tx, ty,'d) {}'.format(dates[3]),c='lightgray')\n",
    "\n",
    "ax[0,1].text(tx, ty,'e) {} minus {}'.format(dates[1],dates[0]))\n",
    "ax[1,1].text(tx, ty,'f) {} minus {}'.format(dates[2],dates[1]))\n",
    "ax[2,1].text(tx, ty,'g) {} minus {}'.format(dates[3],dates[2]))\n",
    "ax[3,1].text(tx, ty,'h) {} minus {}'.format(dates[3],dates[0]))\n",
    "\n",
    "ax[0,0].set_ylabel('Cross-shore Distance (m)')\n",
    "ax[1,0].set_ylabel('Cross-shore Distance (m)')\n",
    "ax[2,0].set_ylabel('Cross-shore Distance (m)')\n",
    "ax[3,0].set_ylabel('Cross-shore Distance (m)')\n",
    "ax[3,0].set_xlabel('Alongshore Distance (m)')\n",
    "\n",
    "ax[0,1].pcolormesh(diffmap[0,:,:],cmap=dcmap,vmin=-3,vmax=3)\n",
    "ax[0,1].plot((0,nalong),(xs_end,xs_end),'--',c='darkgray')\n",
    "ax[1,1].pcolormesh(diffmap[1,:,:],cmap=dcmap,vmin=-3,vmax=3)\n",
    "ax[1,1].plot((0,nalong),(xs_end,xs_end),'--',c='darkgray')\n",
    "ax[2,1].pcolormesh(diffmap[2,:,:],cmap=dcmap,vmin=-3,vmax=3)\n",
    "ax[2,1].plot((0,nalong),(xs_end,xs_end),'--',c='darkgray')\n",
    "ax[3,1].pcolormesh(diffmap_tot,cmap=dcmap,vmin=-3,vmax=3)\n",
    "ax[3,1].plot((0,nalong),(xs_end,xs_end),'--',c='darkgray')\n",
    "\n",
    "ax[3,1].set_xlabel('Alongshore Distance (m)')\n",
    "\n",
    "ax[0,0].xaxis.set_ticklabels([])\n",
    "ax[1,0].xaxis.set_ticklabels([])\n",
    "ax[2,0].xaxis.set_ticklabels([])\n",
    "ax[0,1].xaxis.set_ticklabels([])\n",
    "ax[1,1].xaxis.set_ticklabels([])\n",
    "ax[2,1].xaxis.set_ticklabels([])\n",
    "ax[0,1].yaxis.set_ticklabels([])\n",
    "ax[1,1].yaxis.set_ticklabels([])\n",
    "ax[2,1].yaxis.set_ticklabels([])\n",
    "ax[3,1].yaxis.set_ticklabels([])\n",
    "\n",
    "title_str = '{0:s} Elevation and Difference Maps'.format(r['name'].capitalize())\n",
    "ax[0,0].set_title(title_str)\n",
    "\n",
    "fig_name = \"{}_{}_maps.png\".format(r['name'],holes[ihole])\n",
    "plt.savefig(fig_name, bbox_inches='tight', dpi = 300)\n",
    "\n",
    "# open the log file in append mode\n",
    "sfile = open(statsfn, \"a+\")\n",
    "print('\\nOverall statistics for hole filling with {}')\n",
    "print('Vsum',vsum,' m3',file=sfile)\n",
    "print('Volume change:',vchange, ' m3',file=sfile)\n",
    "print('Volume change %',100*vchange/vsum[0], file=sfile)\n",
    "print('Vsumall',vsumall,' m3',file=sfile)\n",
    "print('Volume change all:',vchangeall, ' m3',file=sfile)\n",
    "print('Volume change all %',100*vchangeall/vsumall[0],file=sfile)\n",
    "print('Island length:',island_length,' m',file=sfile)\n",
    "print('Mean volume change: ',vchange/island_length,' m3/m',file=sfile)\n",
    "\n",
    "sfile.close()\n",
    "\n",
    "# Plot total volumes\n",
    "dtl = []\n",
    "for date in dates:\n",
    "    dtl.append(datetime.strptime(date, \"%d %b %Y\"))\n",
    "dt = np.array(dtl)\n",
    "\n",
    "fig, ax = plt.subplots(1)\n",
    "fig.autofmt_xdate()\n",
    "plt.plot(dt,vsumall/1e6,label=\"Entire island\")\n",
    "plt.plot(dt,vsum/1e6,label=\"Beach and overwash\")\n",
    "plt.ylabel('Million m$^3$')\n",
    "plt.xticks(dt)\n",
    "plt.grid()\n",
    "plt.legend()\n",
    "plt.title('Island Volume')\n",
    "fig_name = 'island_volume_{}.svg'.format(holes[ihole])\n",
    "plt.savefig(fig_name,bbox_inches='tight', format='svg')"
   ]
  },
  {
   "cell_type": "code",
   "execution_count": null,
   "metadata": {},
   "outputs": [],
   "source": []
  }
 ],
 "metadata": {
  "kernelspec": {
   "display_name": "Python 3 (ipykernel)",
   "language": "python",
   "name": "python3"
  },
  "language_info": {
   "codemirror_mode": {
    "name": "ipython",
    "version": 3
   },
   "file_extension": ".py",
   "mimetype": "text/x-python",
   "name": "python",
   "nbconvert_exporter": "python",
   "pygments_lexer": "ipython3",
   "version": "3.9.7"
  },
  "vscode": {
   "interpreter": {
    "hash": "5ed5042986eca359ffa00aa9596dc65fdd0c03513974f52f425db31bc61e3fb9"
   }
  }
 },
 "nbformat": 4,
 "nbformat_minor": 2
}
