{
 "cells": [
  {
   "cell_type": "markdown",
   "metadata": {},
   "source": [
    "### CoreBx_island - Try to process entire N. Core Banks\n",
    "\n",
    "Interpolate the North Core Banks DEMs onto rotated 1-m grid and save each as a .nc file.\n",
    "\n",
    "New in v2\n",
    "* Now 4D maps, two made made during visit to Santa Cruz and two ftp'd from Andy\n",
    "* Now does the interpolation without the loop\n",
    "\n",
    "TODO: The alongshore/cross-shore names are switched."
   ]
  },
  {
   "cell_type": "code",
   "execution_count": 1,
   "metadata": {},
   "outputs": [
    {
     "name": "stderr",
     "output_type": "stream",
     "text": [
      "C:\\Users\\csherwood\\AppData\\Local\\Continuum\\miniconda3\\envs\\IOOS\\lib\\site-packages\\xarray\\core\\merge.py:17: FutureWarning: The Panel class is removed from pandas. Accessing it from the top-level namespace will also be removed in the next version\n",
      "  PANDAS_TYPES = (pd.Series, pd.DataFrame, pd.Panel)\n"
     ]
    }
   ],
   "source": [
    "import numpy as np\n",
    "import matplotlib.pyplot as plt\n",
    "import xarray as xr\n",
    "# from dask.distributed import LocalCluster\n",
    "from scipy import interpolate, signal\n",
    "%matplotlib inline"
   ]
  },
  {
   "cell_type": "code",
   "execution_count": 2,
   "metadata": {},
   "outputs": [],
   "source": [
    "# define all of the functions by runnng this python file\n",
    "%run -i CoreBx_funcs"
   ]
  },
  {
   "cell_type": "code",
   "execution_count": 3,
   "metadata": {},
   "outputs": [],
   "source": [
    "def make_grid(name=None,e0=None,n0=None,xlen=None,ylen=None,dxdy=None,theta=None):\n",
    "    nx = int((1./dxdy)*xlen)\n",
    "    ny = int((1./dxdy)*ylen)\n",
    "\n",
    "    xcoords = np.linspace(0.5*dxdy,xlen-0.5*dxdy,nx)\n",
    "    ycoords = np.linspace(0.5*dxdy,ylen-0.5*dxdy,ny)\n",
    "\n",
    "    # these will be the coordinates in rotated space\n",
    "    xrot, yrot = np.meshgrid(xcoords, ycoords ,sparse=False, indexing='xy')\n",
    "\n",
    "    print('Shape of xrot, yrot: ',np.shape(xrot),np.shape(yrot))\n",
    "    shp = np.shape(xrot)\n",
    "    xu, yu = box2UTMh(xrot.flatten(), yrot.flatten(), e0, n0, theta)\n",
    "    xu=np.reshape(xu,shp)\n",
    "    yu=np.reshape(yu,shp)\n",
    "    # write the UTM coords of the corners to an ASCII file\n",
    "    corners = np.asarray(  [[xu[0][0],yu[0][0]],\\\n",
    "                           [xu[0][-1],yu[0][-1]],\\\n",
    "                           [xu[-1][-1],yu[-1][-1]],\\\n",
    "                           [xu[-1][0],yu[-1][0]],\\\n",
    "                           [xu[0][0],yu[0][0]]])\n",
    "\n",
    "    print(corners)\n",
    "    fn = name+'.csv'\n",
    "    np.savetxt(fn, corners, delimiter=\",\")\n",
    "    return xu, yu, xrot, yrot, xcoords, ycoords"
   ]
  },
  {
   "cell_type": "code",
   "execution_count": 4,
   "metadata": {},
   "outputs": [],
   "source": [
    "fdir = \"D:/crs/proj/2019_DorianOBX/Santa_Cruz_Products/clipped_dems/\"\n",
    "\n",
    "\n",
    "fnames = (\\\n",
    "          \"2019-08-30_1m_DEM_4D_crop2.tif\",\\\n",
    "          \"2019-09-12-13_1m_DEM_4D_crop.tif\",\\\n",
    "          \"2019-10-11_1m_DEM_4D_crop.tif\",\\\n",
    "          \"2019-11-26_1m_DEM_4D_crop.tif\")\n",
    "\n",
    "titles = ([\\\n",
    "         \"8/30/2020 pre-Dorian\",\\\n",
    "         \"9/12-13/2020 post-Dorian\",\\\n",
    "          \"10/11/2020\",\\\n",
    "          \"11/26 post-Nor'easter\"])\n",
    "\n",
    "nf = len(fnames)\n",
    "\n",
    "# optional median-filter smoothing of original maps\n",
    "smooth = False\n",
    "# kernal size...this should be an odd number >= dxy/0.1\n",
    "ksize = 3"
   ]
  },
  {
   "cell_type": "code",
   "execution_count": 11,
   "metadata": {},
   "outputs": [],
   "source": [
    "# Make an array of dicts, where analysis region is defined by:\n",
    "#  name\n",
    "#  e0 - UTM Easting of origin [m]\n",
    "#  n0 - UTM Northing of origin [m]\n",
    "#  xlen - Length of alongshore axis [m]\n",
    "#  ylen - Length of cross-shore axis [m]\n",
    "#  dxdy - grid size (must be isotropic right now) [m]\n",
    "#  theta - rotation CCW from x-axis [deg]\n",
    "\n",
    "# Region_1 adjusted from v2 so we can do the fast interpolation\n",
    "regions = [{'name':\"ncorebx\",\"e0\": 378500.,\"n0\": 3856350.,\"xlen\": 36000.,\"ylen\": 1100.,\"dxdy\": 1.,\"theta\": 42.}]"
   ]
  },
  {
   "cell_type": "code",
   "execution_count": 13,
   "metadata": {},
   "outputs": [
    {
     "name": "stdout",
     "output_type": "stream",
     "text": [
      "ncorebx\n",
      "Shape of xrot, yrot:  (1100, 36000) (1100, 36000)\n",
      "[[ 378500.03700711 3856350.70613772]\n",
      " [ 405252.50757947 3880438.73883603]\n",
      " [ 404517.13304308 3881255.45499923]\n",
      " [ 377764.66247072 3857167.42230092]\n",
      " [ 378500.03700711 3856350.70613772]]\n",
      "1100 36000\n",
      "0 D:/crs/proj/2019_DorianOBX/Santa_Cruz_Products/clipped_dems/2019-08-30_1m_DEM_4D_crop2.tif\n",
      "(24290,) (27666,) (1, 24290, 27666)\n",
      "(27666,) (24290,) (24290, 27666)\n",
      "1 D:/crs/proj/2019_DorianOBX/Santa_Cruz_Products/clipped_dems/2019-09-12-13_1m_DEM_4D_crop.tif\n",
      "(24035,) (27493,) (1, 24035, 27493)\n",
      "(27493,) (24035,) (24035, 27493)\n",
      "2 D:/crs/proj/2019_DorianOBX/Santa_Cruz_Products/clipped_dems/2019-10-11_1m_DEM_4D_crop.tif\n",
      "(24498,) (27484,) (1, 24498, 27484)\n",
      "(27484,) (24498,) (24498, 27484)\n",
      "3 D:/crs/proj/2019_DorianOBX/Santa_Cruz_Products/clipped_dems/2019-11-26_1m_DEM_4D_crop.tif\n",
      "(24602,) (27658,) (1, 24602, 27658)\n",
      "(27658,) (24602,) (24602, 27658)\n",
      "Wall time: 5h 27min 43s\n"
     ]
    }
   ],
   "source": [
    "%%time\n",
    "for r in regions:\n",
    "    print(r['name'])\n",
    "    xu,yu,xrot,yrot,xcoords,ycoords = make_grid(**r)\n",
    "    ny,nx = np.shape(xu)\n",
    "    print(ny,nx)\n",
    "    dslist=[]\n",
    "    for i in range(nf):\n",
    "        fn = fdir+fnames[i]\n",
    "        print(i, fn)\n",
    "\n",
    "        # open the tif with XArray as a DataArray\n",
    "        da = xr.open_rasterio(fn)\n",
    "\n",
    "        print( np.shape(np.flipud(da['y'].values)), np.shape(da['x'].values), np.shape( np.flipud(da.values)) )\n",
    "        x = da['x'].values\n",
    "        y = np.flipud(da['y'].values)\n",
    "\n",
    "        # Not sure how da.values got a singleton dimension, but squeeze gets rid of it.\n",
    "        # However, make sure to squeeze before flipping\n",
    "        z = np.flipud(np.squeeze(da.values))\n",
    "        print(np.shape(x),np.shape(y),np.shape(z))\n",
    "\n",
    "        if(smooth):\n",
    "            # smooth with 2D running median\n",
    "            zs = signal.medfilt2d(z, kernel_size=ksize)\n",
    "        else:\n",
    "            zs = z\n",
    "\n",
    "        f = interpolate.RegularGridInterpolator( (y, x), zs, method='linear')   \n",
    "\n",
    "        # Array for interpolated elevations\n",
    "        zi=np.NaN*np.ones((ny,nx))\n",
    "        \n",
    "        # this is a slow iteration through all of the points, but allows us to skip ones that are outside\n",
    "        for ij in np.ndindex(zi.shape):\n",
    "            try:\n",
    "                zi[ij]=f((yu[ij],xu[ij]))\n",
    "            except:\n",
    "                zi[ij]=np.NaN\n",
    "\n",
    "        # this is the fast iteration, which only works when all of the source points fall inside the target box\n",
    "#         zi=f((yu,xu))\n",
    "\n",
    "        da = xr.DataArray(zi,dims=['Alongshore','Cross-shore'],coords={'Alongshore': ycoords, 'Cross-shore':xcoords })\n",
    "        da = da.chunk()\n",
    "        dslist.append(da)\n",
    "\n",
    "    dsa = xr.concat(dslist, dim='map')\n",
    "    fn = r['name']+'.nc'\n",
    "    dsa.to_netcdf(fn)"
   ]
  },
  {
   "cell_type": "code",
   "execution_count": null,
   "metadata": {},
   "outputs": [],
   "source": []
  }
 ],
 "metadata": {
  "kernelspec": {
   "display_name": "Python 3",
   "language": "python",
   "name": "python3"
  },
  "language_info": {
   "codemirror_mode": {
    "name": "ipython",
    "version": 3
   },
   "file_extension": ".py",
   "mimetype": "text/x-python",
   "name": "python",
   "nbconvert_exporter": "python",
   "pygments_lexer": "ipython3",
   "version": "3.7.6"
  }
 },
 "nbformat": 4,
 "nbformat_minor": 2
}
