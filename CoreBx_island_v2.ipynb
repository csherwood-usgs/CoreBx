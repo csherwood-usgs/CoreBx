{
 "cells": [
  {
   "cell_type": "markdown",
   "metadata": {},
   "source": [
    "### CoreBx_island - Try to process entire N. Core Banks\n",
    "\n",
    "Interpolate the North Core Banks DEMs onto rotated 1-m grid and save each as a .nc file.\n",
    "\n",
    "New in v2\n",
    "* Now 4D maps, two made made during visit to Santa Cruz and two ftp'd from Andy\n",
    "* Apr. 9 - changed to _v3 for Sep map\n",
    "* Now does the interpolation without the loop\n",
    "* Apr. 21 - moved origin to SE to accomodate curvature in NE end of island. Add 400 m to size of array.\n",
    "* Watch file names, esp. underline (or not) after \"1m_DEM\"\n",
    "\n",
    "TODO: The alongshore/cross-shore names are switched."
   ]
  },
  {
   "cell_type": "code",
   "execution_count": 1,
   "metadata": {},
   "outputs": [],
   "source": [
    "import numpy as np\n",
    "import matplotlib.pyplot as plt\n",
    "import xarray as xr\n",
    "# from dask.distributed import LocalCluster\n",
    "from scipy import interpolate, signal\n",
    "%matplotlib inline"
   ]
  },
  {
   "cell_type": "code",
   "execution_count": 2,
   "metadata": {},
   "outputs": [],
   "source": [
    "# define all of the functions by runnng this python file\n",
    "%run -i CoreBx_funcs"
   ]
  },
  {
   "cell_type": "code",
   "execution_count": 3,
   "metadata": {},
   "outputs": [],
   "source": [
    "def make_grid(name=None,e0=None,n0=None,xlen=None,ylen=None,dxdy=None,theta=None):\n",
    "    nx = int((1./dxdy)*xlen)\n",
    "    ny = int((1./dxdy)*ylen)\n",
    "\n",
    "    xcoords = np.linspace(0.5*dxdy,xlen-0.5*dxdy,nx)\n",
    "    ycoords = np.linspace(0.5*dxdy,ylen-0.5*dxdy,ny)\n",
    "\n",
    "    # these will be the coordinates in rotated space\n",
    "    xrot, yrot = np.meshgrid(xcoords, ycoords ,sparse=False, indexing='xy')\n",
    "\n",
    "    print('Shape of xrot, yrot: ',np.shape(xrot),np.shape(yrot))\n",
    "    shp = np.shape(xrot)\n",
    "    xu, yu = box2UTMh(xrot.flatten(), yrot.flatten(), e0, n0, theta)\n",
    "    xu=np.reshape(xu,shp)\n",
    "    yu=np.reshape(yu,shp)\n",
    "    # write the UTM coords of the corners to an ASCII file\n",
    "    corners = np.asarray(  [[xu[0][0],yu[0][0]],\\\n",
    "                           [xu[0][-1],yu[0][-1]],\\\n",
    "                           [xu[-1][-1],yu[-1][-1]],\\\n",
    "                           [xu[-1][0],yu[-1][0]],\\\n",
    "                           [xu[0][0],yu[0][0]]])\n",
    "\n",
    "    print(corners)\n",
    "    fn = name+'.csv'\n",
    "    np.savetxt(fn, corners, delimiter=\",\")\n",
    "    return xu, yu, xrot, yrot, xcoords, ycoords"
   ]
  },
  {
   "cell_type": "code",
   "execution_count": 4,
   "metadata": {},
   "outputs": [],
   "source": [
    "# April 9, 2020: Replaced   \"2019-09-12-13_1m_DEM_4D_crop.tif\",\\\n",
    "# with _v3 and re-ran on my desktop\n",
    "\n",
    "fdir = \"C:/crs/proj/2019_DorianOBX/Santa_Cruz_Products/clipped_dems/\"\n",
    "#fdir = \"D:/crs/proj/2019_DorianOBX/Santa_Cruz_Products/clipped_dems/\"\n",
    "\n",
    "\n",
    "fnames = (\\\n",
    "          \"2019-08-30_1m_DEM_4D_crop2.tif\",\\\n",
    "          \"2019-09-12-13_1mDEM_4D_v3.tif\",\\\n",
    "          \"2019-10-11_1m_DEM_4D_crop.tif\",\\\n",
    "          \"2019-11-26_1m_DEM_4D_crop.tif\")\n",
    "\n",
    "titles = ([\\\n",
    "         \"8/30/2020 pre-Dorian\",\\\n",
    "         \"9/12-13/2020 post-Dorian\",\\\n",
    "          \"10/11/2020\",\\\n",
    "          \"11/26 post-Nor'easter\"])\n",
    "\n",
    "nf = len(fnames)\n",
    "\n",
    "fill_fnames = ('EBK_201909_YesLidar_Comb_Extent.tif')\n",
    "fill_titles = ('Sep_fill')\n",
    "\n",
    "# optional median-filter smoothing of original maps\n",
    "smooth = False\n",
    "# kernal size...this should be an odd number >= dxy/0.1\n",
    "ksize = 3"
   ]
  },
  {
   "cell_type": "code",
   "execution_count": 5,
   "metadata": {},
   "outputs": [],
   "source": [
    "# Make an array of dicts, where analysis region is defined by:\n",
    "#  name\n",
    "#  e0 - UTM Easting of origin [m]\n",
    "#  n0 - UTM Northing of origin [m]\n",
    "#  xlen - Length of alongshore axis [m]\n",
    "#  ylen - Length of cross-shore axis [m]\n",
    "#  dxdy - grid size (must be isotropic right now) [m]\n",
    "#  theta - rotation CCW from x-axis [deg]\n",
    "\n",
    "r = {'name':\"ncorebx\",\"e0\": 378500.,\"n0\": 3856350.,\"xlen\": 36000.,\"ylen\": 1100.,\"dxdy\": 1.,\"theta\": 42.}"
   ]
  },
  {
   "cell_type": "code",
   "execution_count": 6,
   "metadata": {},
   "outputs": [
    {
     "name": "stdout",
     "output_type": "stream",
     "text": [
      "297.2579301909577 -267.6522425435433\n"
     ]
    }
   ],
   "source": [
    "# move the origin 400 m SE\n",
    "xo,yo = xycoord(400.,42.+90)\n",
    "print(xo,yo)\n",
    "r['e0']=r['e0']+xo\n",
    "r['n0']=r['n0']+yo\n",
    "\n",
    "# add 400 m to ylen\n",
    "r['ylen']=r['ylen']+400."
   ]
  },
  {
   "cell_type": "code",
   "execution_count": 7,
   "metadata": {},
   "outputs": [
    {
     "data": {
      "text/plain": [
       "{'name': 'ncorebx',\n",
       " 'e0': 378797.25793019094,\n",
       " 'n0': 3856082.3477574564,\n",
       " 'xlen': 36000.0,\n",
       " 'ylen': 1500.0,\n",
       " 'dxdy': 1.0,\n",
       " 'theta': 42.0}"
      ]
     },
     "execution_count": 7,
     "metadata": {},
     "output_type": "execute_result"
    }
   ],
   "source": [
    "r"
   ]
  },
  {
   "cell_type": "code",
   "execution_count": 8,
   "metadata": {},
   "outputs": [
    {
     "name": "stdout",
     "output_type": "stream",
     "text": [
      "ncorebx\n",
      "Shape of xrot, yrot:  (1500, 36000) (1500, 36000)\n",
      "[[ 378797.2949373  3856083.05389517]\n",
      " [ 405549.76550966 3880171.08659348]\n",
      " [ 404546.73873073 3881285.06068688]\n",
      " [ 377794.26815837 3857197.02798856]\n",
      " [ 378797.2949373  3856083.05389517]]\n",
      "1500 36000\n"
     ]
    }
   ],
   "source": [
    "print(r['name'])\n",
    "xu,yu,xrot,yrot,xcoords,ycoords = make_grid(**r)\n",
    "ny,nx = np.shape(xu)\n",
    "print(ny,nx)"
   ]
  },
  {
   "cell_type": "code",
   "execution_count": 9,
   "metadata": {},
   "outputs": [
    {
     "name": "stdout",
     "output_type": "stream",
     "text": [
      "C:/crs/proj/2019_DorianOBX/Santa_Cruz_Products/clipped_dems/EBK_201909_YesLidar_Comb_Extent.tif\n",
      "(23957,) (27421,) (1, 23957, 27421)\n",
      "(27421,) (23957,) (23957, 27421)\n",
      "Wall time: 1h 48min 39s\n"
     ]
    }
   ],
   "source": [
    "%%time\n",
    "# Read in the fill map and make netcdf files\n",
    "fn = fdir+fill_fnames\n",
    "print(fn)\n",
    "\n",
    "# open the tif with XArray as a DataArray\n",
    "daf = xr.open_rasterio(fn)\n",
    "\n",
    "print( np.shape(np.flipud(daf['y'].values)), np.shape(daf['x'].values), np.shape( np.flipud(daf.values)) )\n",
    "x = daf['x'].values\n",
    "y = np.flipud(daf['y'].values)\n",
    "\n",
    "# Not sure how da.values got a singleton dimension, but squeeze gets rid of it.\n",
    "# However, make sure to squeeze before flipping\n",
    "z = np.flipud(np.squeeze(daf.values))\n",
    "print(np.shape(x),np.shape(y),np.shape(z))\n",
    "\n",
    "f = interpolate.RegularGridInterpolator( (y, x), z, method='linear')   \n",
    "\n",
    "# Array for interpolated elevations\n",
    "zi=np.NaN*np.ones((ny,nx))\n",
    "\n",
    "# this is a slow iteration through all of the points, but allows us to skip ones that are outside\n",
    "for ij in np.ndindex(zi.shape):\n",
    "    try:\n",
    "        zi[ij]=f((yu[ij],xu[ij]))\n",
    "    except:\n",
    "        zi[ij]=np.NaN\n",
    "\n",
    "# this is the fast technique.\n",
    "# zi=f((yu,xu))\n",
    "\n",
    "da = xr.DataArray(zi,dims=['Alongshore','Cross-shore'],coords={'Alongshore': ycoords, 'Cross-shore':xcoords })\n",
    "da = da.chunk()\n",
    "\n",
    "fno = r['name']+'_Sep_fill_v4.nc'\n",
    "da.to_netcdf(fno)"
   ]
  },
  {
   "cell_type": "code",
   "execution_count": 10,
   "metadata": {},
   "outputs": [
    {
     "name": "stdout",
     "output_type": "stream",
     "text": [
      "0 C:/crs/proj/2019_DorianOBX/Santa_Cruz_Products/clipped_dems/2019-08-30_1m_DEM_4D_crop2.tif\n",
      "(24290,) (27666,) (1, 24290, 27666)\n",
      "(27666,) (24290,) (24290, 27666)\n",
      "1 C:/crs/proj/2019_DorianOBX/Santa_Cruz_Products/clipped_dems/2019-09-12-13_1mDEM_4D_v3.tif\n",
      "(24035,) (27493,) (1, 24035, 27493)\n",
      "(27493,) (24035,) (24035, 27493)\n",
      "2 C:/crs/proj/2019_DorianOBX/Santa_Cruz_Products/clipped_dems/2019-10-11_1m_DEM_4D_crop.tif\n"
     ]
    },
    {
     "ename": "RasterioIOError",
     "evalue": "C:/crs/proj/2019_DorianOBX/Santa_Cruz_Products/clipped_dems/2019-10-11_1m_DEM_4D_crop.tif: No such file or directory",
     "output_type": "error",
     "traceback": [
      "\u001b[1;31m---------------------------------------------------------------------------\u001b[0m",
      "\u001b[1;31mKeyError\u001b[0m                                  Traceback (most recent call last)",
      "\u001b[1;32mC:\\Users\\csherwood\\AppData\\Local\\Continuum\\miniconda3\\envs\\CRS\\lib\\site-packages\\xarray\\backends\\file_manager.py\u001b[0m in \u001b[0;36m_acquire_with_cache_info\u001b[1;34m(self, needs_lock)\u001b[0m\n\u001b[0;32m    197\u001b[0m             \u001b[1;32mtry\u001b[0m\u001b[1;33m:\u001b[0m\u001b[1;33m\u001b[0m\u001b[1;33m\u001b[0m\u001b[0m\n\u001b[1;32m--> 198\u001b[1;33m                 \u001b[0mfile\u001b[0m \u001b[1;33m=\u001b[0m \u001b[0mself\u001b[0m\u001b[1;33m.\u001b[0m\u001b[0m_cache\u001b[0m\u001b[1;33m[\u001b[0m\u001b[0mself\u001b[0m\u001b[1;33m.\u001b[0m\u001b[0m_key\u001b[0m\u001b[1;33m]\u001b[0m\u001b[1;33m\u001b[0m\u001b[1;33m\u001b[0m\u001b[0m\n\u001b[0m\u001b[0;32m    199\u001b[0m             \u001b[1;32mexcept\u001b[0m \u001b[0mKeyError\u001b[0m\u001b[1;33m:\u001b[0m\u001b[1;33m\u001b[0m\u001b[1;33m\u001b[0m\u001b[0m\n",
      "\u001b[1;32mC:\\Users\\csherwood\\AppData\\Local\\Continuum\\miniconda3\\envs\\CRS\\lib\\site-packages\\xarray\\backends\\lru_cache.py\u001b[0m in \u001b[0;36m__getitem__\u001b[1;34m(self, key)\u001b[0m\n\u001b[0;32m     52\u001b[0m         \u001b[1;32mwith\u001b[0m \u001b[0mself\u001b[0m\u001b[1;33m.\u001b[0m\u001b[0m_lock\u001b[0m\u001b[1;33m:\u001b[0m\u001b[1;33m\u001b[0m\u001b[1;33m\u001b[0m\u001b[0m\n\u001b[1;32m---> 53\u001b[1;33m             \u001b[0mvalue\u001b[0m \u001b[1;33m=\u001b[0m \u001b[0mself\u001b[0m\u001b[1;33m.\u001b[0m\u001b[0m_cache\u001b[0m\u001b[1;33m[\u001b[0m\u001b[0mkey\u001b[0m\u001b[1;33m]\u001b[0m\u001b[1;33m\u001b[0m\u001b[1;33m\u001b[0m\u001b[0m\n\u001b[0m\u001b[0;32m     54\u001b[0m             \u001b[0mself\u001b[0m\u001b[1;33m.\u001b[0m\u001b[0m_cache\u001b[0m\u001b[1;33m.\u001b[0m\u001b[0mmove_to_end\u001b[0m\u001b[1;33m(\u001b[0m\u001b[0mkey\u001b[0m\u001b[1;33m)\u001b[0m\u001b[1;33m\u001b[0m\u001b[1;33m\u001b[0m\u001b[0m\n",
      "\u001b[1;31mKeyError\u001b[0m: [<function open at 0x000001F29A4A69D8>, ('C:/crs/proj/2019_DorianOBX/Santa_Cruz_Products/clipped_dems/2019-10-11_1m_DEM_4D_crop.tif',), 'r', ()]",
      "\nDuring handling of the above exception, another exception occurred:\n",
      "\u001b[1;31mCPLE_OpenFailedError\u001b[0m                      Traceback (most recent call last)",
      "\u001b[1;32mrasterio\\_base.pyx\u001b[0m in \u001b[0;36mrasterio._base.DatasetBase.__init__\u001b[1;34m()\u001b[0m\n",
      "\u001b[1;32mrasterio\\_shim.pyx\u001b[0m in \u001b[0;36mrasterio._shim.open_dataset\u001b[1;34m()\u001b[0m\n",
      "\u001b[1;32mrasterio\\_err.pyx\u001b[0m in \u001b[0;36mrasterio._err.exc_wrap_pointer\u001b[1;34m()\u001b[0m\n",
      "\u001b[1;31mCPLE_OpenFailedError\u001b[0m: C:/crs/proj/2019_DorianOBX/Santa_Cruz_Products/clipped_dems/2019-10-11_1m_DEM_4D_crop.tif: No such file or directory",
      "\nDuring handling of the above exception, another exception occurred:\n",
      "\u001b[1;31mRasterioIOError\u001b[0m                           Traceback (most recent call last)",
      "\u001b[1;32mC:\\crs\\proj\\2019_DorianOBX\\WayneWright_flights\\CoreBx\\CoreBx_funcs.py\u001b[0m in \u001b[0;36m<module>\u001b[1;34m\u001b[0m\n",
      "\u001b[1;32mC:\\Users\\csherwood\\AppData\\Local\\Continuum\\miniconda3\\envs\\CRS\\lib\\site-packages\\xarray\\backends\\rasterio_.py\u001b[0m in \u001b[0;36mopen_rasterio\u001b[1;34m(filename, parse_coordinates, chunks, cache, lock)\u001b[0m\n\u001b[0;32m    237\u001b[0m \u001b[1;33m\u001b[0m\u001b[0m\n\u001b[0;32m    238\u001b[0m     \u001b[0mmanager\u001b[0m \u001b[1;33m=\u001b[0m \u001b[0mCachingFileManager\u001b[0m\u001b[1;33m(\u001b[0m\u001b[0mrasterio\u001b[0m\u001b[1;33m.\u001b[0m\u001b[0mopen\u001b[0m\u001b[1;33m,\u001b[0m \u001b[0mfilename\u001b[0m\u001b[1;33m,\u001b[0m \u001b[0mlock\u001b[0m\u001b[1;33m=\u001b[0m\u001b[0mlock\u001b[0m\u001b[1;33m,\u001b[0m \u001b[0mmode\u001b[0m\u001b[1;33m=\u001b[0m\u001b[1;34m\"r\"\u001b[0m\u001b[1;33m)\u001b[0m\u001b[1;33m\u001b[0m\u001b[1;33m\u001b[0m\u001b[0m\n\u001b[1;32m--> 239\u001b[1;33m     \u001b[0mriods\u001b[0m \u001b[1;33m=\u001b[0m \u001b[0mmanager\u001b[0m\u001b[1;33m.\u001b[0m\u001b[0macquire\u001b[0m\u001b[1;33m(\u001b[0m\u001b[1;33m)\u001b[0m\u001b[1;33m\u001b[0m\u001b[1;33m\u001b[0m\u001b[0m\n\u001b[0m\u001b[0;32m    240\u001b[0m     \u001b[1;32mif\u001b[0m \u001b[0mvrt_params\u001b[0m \u001b[1;32mis\u001b[0m \u001b[1;32mnot\u001b[0m \u001b[1;32mNone\u001b[0m\u001b[1;33m:\u001b[0m\u001b[1;33m\u001b[0m\u001b[1;33m\u001b[0m\u001b[0m\n\u001b[0;32m    241\u001b[0m         \u001b[0mriods\u001b[0m \u001b[1;33m=\u001b[0m \u001b[0mWarpedVRT\u001b[0m\u001b[1;33m(\u001b[0m\u001b[0mriods\u001b[0m\u001b[1;33m,\u001b[0m \u001b[1;33m**\u001b[0m\u001b[0mvrt_params\u001b[0m\u001b[1;33m)\u001b[0m\u001b[1;33m\u001b[0m\u001b[1;33m\u001b[0m\u001b[0m\n",
      "\u001b[1;32mC:\\Users\\csherwood\\AppData\\Local\\Continuum\\miniconda3\\envs\\CRS\\lib\\site-packages\\xarray\\backends\\file_manager.py\u001b[0m in \u001b[0;36macquire\u001b[1;34m(self, needs_lock)\u001b[0m\n\u001b[0;32m    178\u001b[0m         \u001b[0mAn\u001b[0m \u001b[0mopen\u001b[0m \u001b[0mfile\u001b[0m \u001b[0mobject\u001b[0m\u001b[1;33m,\u001b[0m \u001b[1;32mas\u001b[0m \u001b[0mreturned\u001b[0m \u001b[0mby\u001b[0m\u001b[0;31m \u001b[0m\u001b[0;31m`\u001b[0m\u001b[0;31m`\u001b[0m\u001b[0mopener\u001b[0m\u001b[1;33m(\u001b[0m\u001b[1;33m*\u001b[0m\u001b[0margs\u001b[0m\u001b[1;33m,\u001b[0m \u001b[1;33m**\u001b[0m\u001b[0mkwargs\u001b[0m\u001b[1;33m)\u001b[0m\u001b[0;31m`\u001b[0m\u001b[0;31m`\u001b[0m\u001b[1;33m.\u001b[0m\u001b[1;33m\u001b[0m\u001b[1;33m\u001b[0m\u001b[0m\n\u001b[0;32m    179\u001b[0m         \"\"\"\n\u001b[1;32m--> 180\u001b[1;33m         \u001b[0mfile\u001b[0m\u001b[1;33m,\u001b[0m \u001b[0m_\u001b[0m \u001b[1;33m=\u001b[0m \u001b[0mself\u001b[0m\u001b[1;33m.\u001b[0m\u001b[0m_acquire_with_cache_info\u001b[0m\u001b[1;33m(\u001b[0m\u001b[0mneeds_lock\u001b[0m\u001b[1;33m)\u001b[0m\u001b[1;33m\u001b[0m\u001b[1;33m\u001b[0m\u001b[0m\n\u001b[0m\u001b[0;32m    181\u001b[0m         \u001b[1;32mreturn\u001b[0m \u001b[0mfile\u001b[0m\u001b[1;33m\u001b[0m\u001b[1;33m\u001b[0m\u001b[0m\n\u001b[0;32m    182\u001b[0m \u001b[1;33m\u001b[0m\u001b[0m\n",
      "\u001b[1;32mC:\\Users\\csherwood\\AppData\\Local\\Continuum\\miniconda3\\envs\\CRS\\lib\\site-packages\\xarray\\backends\\file_manager.py\u001b[0m in \u001b[0;36m_acquire_with_cache_info\u001b[1;34m(self, needs_lock)\u001b[0m\n\u001b[0;32m    202\u001b[0m                     \u001b[0mkwargs\u001b[0m \u001b[1;33m=\u001b[0m \u001b[0mkwargs\u001b[0m\u001b[1;33m.\u001b[0m\u001b[0mcopy\u001b[0m\u001b[1;33m(\u001b[0m\u001b[1;33m)\u001b[0m\u001b[1;33m\u001b[0m\u001b[1;33m\u001b[0m\u001b[0m\n\u001b[0;32m    203\u001b[0m                     \u001b[0mkwargs\u001b[0m\u001b[1;33m[\u001b[0m\u001b[1;34m\"mode\"\u001b[0m\u001b[1;33m]\u001b[0m \u001b[1;33m=\u001b[0m \u001b[0mself\u001b[0m\u001b[1;33m.\u001b[0m\u001b[0m_mode\u001b[0m\u001b[1;33m\u001b[0m\u001b[1;33m\u001b[0m\u001b[0m\n\u001b[1;32m--> 204\u001b[1;33m                 \u001b[0mfile\u001b[0m \u001b[1;33m=\u001b[0m \u001b[0mself\u001b[0m\u001b[1;33m.\u001b[0m\u001b[0m_opener\u001b[0m\u001b[1;33m(\u001b[0m\u001b[1;33m*\u001b[0m\u001b[0mself\u001b[0m\u001b[1;33m.\u001b[0m\u001b[0m_args\u001b[0m\u001b[1;33m,\u001b[0m \u001b[1;33m**\u001b[0m\u001b[0mkwargs\u001b[0m\u001b[1;33m)\u001b[0m\u001b[1;33m\u001b[0m\u001b[1;33m\u001b[0m\u001b[0m\n\u001b[0m\u001b[0;32m    205\u001b[0m                 \u001b[1;32mif\u001b[0m \u001b[0mself\u001b[0m\u001b[1;33m.\u001b[0m\u001b[0m_mode\u001b[0m \u001b[1;33m==\u001b[0m \u001b[1;34m\"w\"\u001b[0m\u001b[1;33m:\u001b[0m\u001b[1;33m\u001b[0m\u001b[1;33m\u001b[0m\u001b[0m\n\u001b[0;32m    206\u001b[0m                     \u001b[1;31m# ensure file doesn't get overriden when opened again\u001b[0m\u001b[1;33m\u001b[0m\u001b[1;33m\u001b[0m\u001b[1;33m\u001b[0m\u001b[0m\n",
      "\u001b[1;32mC:\\Users\\csherwood\\AppData\\Local\\Continuum\\miniconda3\\envs\\CRS\\lib\\site-packages\\rasterio\\env.py\u001b[0m in \u001b[0;36mwrapper\u001b[1;34m(*args, **kwds)\u001b[0m\n\u001b[0;32m    443\u001b[0m \u001b[1;33m\u001b[0m\u001b[0m\n\u001b[0;32m    444\u001b[0m         \u001b[1;32mwith\u001b[0m \u001b[0menv_ctor\u001b[0m\u001b[1;33m(\u001b[0m\u001b[0msession\u001b[0m\u001b[1;33m=\u001b[0m\u001b[0msession\u001b[0m\u001b[1;33m)\u001b[0m\u001b[1;33m:\u001b[0m\u001b[1;33m\u001b[0m\u001b[1;33m\u001b[0m\u001b[0m\n\u001b[1;32m--> 445\u001b[1;33m             \u001b[1;32mreturn\u001b[0m \u001b[0mf\u001b[0m\u001b[1;33m(\u001b[0m\u001b[1;33m*\u001b[0m\u001b[0margs\u001b[0m\u001b[1;33m,\u001b[0m \u001b[1;33m**\u001b[0m\u001b[0mkwds\u001b[0m\u001b[1;33m)\u001b[0m\u001b[1;33m\u001b[0m\u001b[1;33m\u001b[0m\u001b[0m\n\u001b[0m\u001b[0;32m    446\u001b[0m \u001b[1;33m\u001b[0m\u001b[0m\n\u001b[0;32m    447\u001b[0m     \u001b[1;32mreturn\u001b[0m \u001b[0mwrapper\u001b[0m\u001b[1;33m\u001b[0m\u001b[1;33m\u001b[0m\u001b[0m\n",
      "\u001b[1;32mC:\\Users\\csherwood\\AppData\\Local\\Continuum\\miniconda3\\envs\\CRS\\lib\\site-packages\\rasterio\\__init__.py\u001b[0m in \u001b[0;36mopen\u001b[1;34m(fp, mode, driver, width, height, count, crs, transform, dtype, nodata, sharing, **kwargs)\u001b[0m\n\u001b[0;32m    217\u001b[0m         \u001b[1;31m# None.\u001b[0m\u001b[1;33m\u001b[0m\u001b[1;33m\u001b[0m\u001b[1;33m\u001b[0m\u001b[0m\n\u001b[0;32m    218\u001b[0m         \u001b[1;32mif\u001b[0m \u001b[0mmode\u001b[0m \u001b[1;33m==\u001b[0m \u001b[1;34m'r'\u001b[0m\u001b[1;33m:\u001b[0m\u001b[1;33m\u001b[0m\u001b[1;33m\u001b[0m\u001b[0m\n\u001b[1;32m--> 219\u001b[1;33m             \u001b[0ms\u001b[0m \u001b[1;33m=\u001b[0m \u001b[0mDatasetReader\u001b[0m\u001b[1;33m(\u001b[0m\u001b[0mpath\u001b[0m\u001b[1;33m,\u001b[0m \u001b[0mdriver\u001b[0m\u001b[1;33m=\u001b[0m\u001b[0mdriver\u001b[0m\u001b[1;33m,\u001b[0m \u001b[0msharing\u001b[0m\u001b[1;33m=\u001b[0m\u001b[0msharing\u001b[0m\u001b[1;33m,\u001b[0m \u001b[1;33m**\u001b[0m\u001b[0mkwargs\u001b[0m\u001b[1;33m)\u001b[0m\u001b[1;33m\u001b[0m\u001b[1;33m\u001b[0m\u001b[0m\n\u001b[0m\u001b[0;32m    220\u001b[0m         \u001b[1;32melif\u001b[0m \u001b[0mmode\u001b[0m \u001b[1;33m==\u001b[0m \u001b[1;34m'r+'\u001b[0m\u001b[1;33m:\u001b[0m\u001b[1;33m\u001b[0m\u001b[1;33m\u001b[0m\u001b[0m\n\u001b[0;32m    221\u001b[0m             \u001b[0ms\u001b[0m \u001b[1;33m=\u001b[0m \u001b[0mget_writer_for_path\u001b[0m\u001b[1;33m(\u001b[0m\u001b[0mpath\u001b[0m\u001b[1;33m)\u001b[0m\u001b[1;33m(\u001b[0m\u001b[0mpath\u001b[0m\u001b[1;33m,\u001b[0m \u001b[0mmode\u001b[0m\u001b[1;33m,\u001b[0m \u001b[0mdriver\u001b[0m\u001b[1;33m=\u001b[0m\u001b[0mdriver\u001b[0m\u001b[1;33m,\u001b[0m \u001b[0msharing\u001b[0m\u001b[1;33m=\u001b[0m\u001b[0msharing\u001b[0m\u001b[1;33m,\u001b[0m \u001b[1;33m**\u001b[0m\u001b[0mkwargs\u001b[0m\u001b[1;33m)\u001b[0m\u001b[1;33m\u001b[0m\u001b[1;33m\u001b[0m\u001b[0m\n",
      "\u001b[1;32mrasterio\\_base.pyx\u001b[0m in \u001b[0;36mrasterio._base.DatasetBase.__init__\u001b[1;34m()\u001b[0m\n",
      "\u001b[1;31mRasterioIOError\u001b[0m: C:/crs/proj/2019_DorianOBX/Santa_Cruz_Products/clipped_dems/2019-10-11_1m_DEM_4D_crop.tif: No such file or directory"
     ]
    }
   ],
   "source": [
    "%%time\n",
    "dslist=[]\n",
    "for i in range(nf):\n",
    "    fn = fdir+fnames[i]\n",
    "    print(i, fn)\n",
    "\n",
    "    # open the tif with XArray as a DataArray\n",
    "    da = xr.open_rasterio(fn)\n",
    "\n",
    "    print( np.shape(np.flipud(da['y'].values)), np.shape(da['x'].values), np.shape( np.flipud(da.values)) )\n",
    "    x = da['x'].values\n",
    "    y = np.flipud(da['y'].values)\n",
    "\n",
    "    # Not sure how da.values got a singleton dimension, but squeeze gets rid of it.\n",
    "    # However, make sure to squeeze before flipping\n",
    "    z = np.flipud(np.squeeze(da.values))\n",
    "    print(np.shape(x),np.shape(y),np.shape(z))\n",
    "\n",
    "    if(smooth):\n",
    "        # smooth with 2D running median\n",
    "        zs = signal.medfilt2d(z, kernel_size=ksize)\n",
    "    else:\n",
    "        zs = z\n",
    "\n",
    "    f = interpolate.RegularGridInterpolator( (y, x), zs, method='linear')   \n",
    "\n",
    "    # Array for interpolated elevations\n",
    "    zi=np.NaN*np.ones((ny,nx))\n",
    "\n",
    "    # this is a slow iteration through all of the points, but allows us to skip ones that are outside\n",
    "    for ij in np.ndindex(zi.shape):\n",
    "        try:\n",
    "            zi[ij]=f((yu[ij],xu[ij]))\n",
    "        except:\n",
    "            zi[ij]=np.NaN\n",
    "\n",
    "    # this is the fast iteration, which only works when all of the source points fall inside the target box\n",
    "    #   zi=f((yu,xu))\n",
    "\n",
    "    da = xr.DataArray(zi,dims=['Alongshore','Cross-shore'],coords={'Alongshore': ycoords, 'Cross-shore':xcoords })\n",
    "    da = da.chunk()\n",
    "    dslist.append(da)\n",
    "\n",
    "dsa = xr.concat(dslist, dim='map')\n",
    "fn = r['name']+'_v4.nc'\n",
    "dsa.to_netcdf(fn)"
   ]
  },
  {
   "cell_type": "code",
   "execution_count": null,
   "metadata": {},
   "outputs": [],
   "source": []
  }
 ],
 "metadata": {
  "kernelspec": {
   "display_name": "Python 3",
   "language": "python",
   "name": "python3"
  },
  "language_info": {
   "codemirror_mode": {
    "name": "ipython",
    "version": 3
   },
   "file_extension": ".py",
   "mimetype": "text/x-python",
   "name": "python",
   "nbconvert_exporter": "python",
   "pygments_lexer": "ipython3",
   "version": "3.7.3"
  }
 },
 "nbformat": 4,
 "nbformat_minor": 2
}
