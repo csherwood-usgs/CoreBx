{
 "cells": [
  {
   "cell_type": "markdown",
   "metadata": {},
   "source": [
    "### CoreBx_island_stderr_refac - Interpolate the North Core Banks stderr maps onto rotated 1-m grid and save  as a .nc file.\n",
    "\n",
    "This does the same interpolation that CoreBx_island_refac does, but for the std err maps."
   ]
  },
  {
   "cell_type": "code",
   "execution_count": 1,
   "metadata": {},
   "outputs": [],
   "source": [
    "import numpy as np\n",
    "import matplotlib.pyplot as plt\n",
    "import pandas as pd # for read_csv\n",
    "import subprocess\n",
    "\n",
    "import xarray as xr\n",
    "import rioxarray\n",
    "# from dask.distributed import LocalCluster\n",
    "from scipy import interpolate, signal\n",
    "from CoreBx_funcs import * # for \n",
    "%matplotlib inline"
   ]
  },
  {
   "cell_type": "code",
   "execution_count": 2,
   "metadata": {},
   "outputs": [],
   "source": [
    "# source directory for std err maps\n",
    "src_dir = 'C:/crs/proj/2021_FloSupp_Release/clipfest/std_err/'\n",
    "\n",
    "# destination dir for cropped std err maps\n",
    "crop_dir = 'C:/crs/proj/2019_DorianOBX/Dorian_paper_analyses/cropped_std_err/'\n",
    "\n",
    "# destination dir for rotated maps\n",
    "rot_dir = 'C:/crs/proj/2019_DorianOBX/Dorian_paper_analyses/rotated_dems/'"
   ]
  },
  {
   "cell_type": "code",
   "execution_count": 3,
   "metadata": {},
   "outputs": [],
   "source": [
    "# These are the original file names before _crop was appended...that gets added on below\n",
    "src_fnames = (\\\n",
    "#'20181006_Ocracoke_Inlet_to_Ophelia_Inlet_NAD83UTM18_NAVD88_1m_SErr_cog.tif',\\\n",
    "#'20181007_Ocracoke_Inlet_to_Ophelia_Inlet_NAD83UTM18_NAVD88_1m_SErr_cog.tif',\\\n",
    "#'20190830_Ocracoke_Inlet_to_Ophelia_Inlet_NAD83UTM18_NAVD88_1m_SErr_cog.tif',\\\n",
    "'20190830_Ocracoke_Inlet_to_Ophelia_Inlet_Revised_dense_NAD83_UTM18_NAVD88m_1m_SErr_cog.tif',\\\n",
    "#'20190908_Ocracoke_Inlet_to_Ophelia_Inlet_NAD83UTM18_NAVD88_1m_SErr_cog.tif',\\\n",
    "'20190912-13_Ocracoke_Inlet_to_Ophelia_Inlet_NAD83UTM18_NAVD88_1m_SErr_cog.tif',\\\n",
    "'20191011_Ocracoke_Inlet_to_Cape_Lookout_RuPaReX2_FitAddl_4D_165_201910-202005_dense_NAD832011_UTM_18N_NAVD88m_1m_SErr_cog.tif',\\\n",
    "'20191126_Ocracoke_Inlet_to_Cape_Lookout_RuPaReX2_FitAddl_4D_165_201910-202005_dense_NAD832011_UTM_18N_NAVD88m_1m_SErr_cog.tif',\\\n",
    "'20200208-9_Ocracoke_Inlet_to_Cape_Lookout_RuPaReX2_FitAddl_4D_165_201910-202005_dense_NAD832011_UTM_18N_NAVD88m_1m_SErr_cog.tif',\\\n",
    "'20200508-9_Ocracoke_Inlet_to_Cape_Lookout_RuPaReX2_FitAddl_4D_165_201910-202005_dense_NAD832011_UTM_18N_NAVD88m_1m_SErr_cog.tif',\\\n",
    "'20200802_Ocracoke_Inlet_to_Cape_Lookout_RuPaReX2_FitAddl_FloSup_4D_165_202008-202104_dense_NAD832011_UTM_18N_NAVD88m_1m_SErr_cog.tif',\\\n",
    "'20200805-8_Ocracoke_Inlet_to_Cape_Lookout_RuPaReX2_FitAddl_FloSup_4D_165_202008-202104_dense_NAD832011_UTM_18N_NAVD88m_1m_SErr_cog.tif',\\\n",
    "'20200928_Ocracoke_Inlet_to_Cape_Lookout_RuPaReX2_FitAddl_FloSup_4D_165_202008-202104_dense_NAD832011_UTM_18N_NAVD88m_1m_SErr_cog.tif',\\\n",
    "'20210430_Ocracoke_Inlet_to_Cape_Lookout_RuPaReX2_FitAddl_FloSup_4D_165_202008-202104_dense_NAD832011_UTM_18N_NAVD88m_1m_SErr_cog.tif')"
   ]
  },
  {
   "cell_type": "markdown",
   "metadata": {},
   "source": [
    "#### Generate the coordinates for the rotated island coord. system."
   ]
  },
  {
   "cell_type": "code",
   "execution_count": 4,
   "metadata": {},
   "outputs": [
    {
     "name": "stdout",
     "output_type": "stream",
     "text": [
      "{'name': 'ncorebx_refac', 'e0': 378490.0, 'n0': 3855740.0, 'xlen': 36500.0, 'ylen': 1500.0, 'dxdy': 1.0, 'theta': 42.0}\n",
      "make_grid: Shape of xrot, yrot:  (1500, 36500) (1500, 36500)\n",
      "corners x, corners y]\n",
      "[[ 378490.03700711 3855740.70613772]\n",
      " [ 405614.07999221 3880163.30413921]\n",
      " [ 404611.05321328 3881277.2782326 ]\n",
      " [ 377487.01022818 3856854.68023111]\n",
      " [ 378490.03700711 3855740.70613772]]\n",
      "Saving to ncorebx_refac.csv\n",
      "Size of grid: 1500 36500\n"
     ]
    }
   ],
   "source": [
    "# Read in a dict to define the rotated coordinate system\n",
    "r = yaml2dict('island_box.yml')\n",
    "print(r)\n",
    "\n",
    "# Make a grid \n",
    "xu,yu,xrot,yrot,xcoords,ycoords = make_grid(**r)\n",
    "\n",
    "ny,nx = np.shape(xu)\n",
    "print('Size of grid:',ny,nx)"
   ]
  },
  {
   "cell_type": "markdown",
   "metadata": {},
   "source": [
    "#### Read in all of the cropped std err files and interpolate onto rotated island grid"
   ]
  },
  {
   "cell_type": "code",
   "execution_count": 5,
   "metadata": {},
   "outputs": [
    {
     "name": "stdout",
     "output_type": "stream",
     "text": [
      "C:/crs/proj/2019_DorianOBX/Dorian_paper_analyses/cropped_std_err/20190830_Ocracoke_Inlet_to_Ophelia_Inlet_Revised_dense_NAD83_UTM18_NAVD88m_1m_SErr_cog_crop.tif 20190830_Ocracoke_Inlet_to_Ophelia_Inlet_Revised_dense_NAD83_UTM18_NAVD88m_1m_SErr_cog_crop_rot.tif20190830_Ocracoke_Inlet_to_Ophelia_Inlet_Revised_dense_NAD83_UTM18_NAVD88m_1m_SErr_cog_crop.tif\n",
      "(25542,) (28132,) (1, 25542, 28132)\n",
      "(28132,) (25542,) (25542, 28132)\n",
      "C:/crs/proj/2019_DorianOBX/Dorian_paper_analyses/cropped_std_err/20190912-13_Ocracoke_Inlet_to_Ophelia_Inlet_NAD83UTM18_NAVD88_1m_SErr_cog_crop.tif 20190912-13_Ocracoke_Inlet_to_Ophelia_Inlet_NAD83UTM18_NAVD88_1m_SErr_cog_crop_rot.tif20190912-13_Ocracoke_Inlet_to_Ophelia_Inlet_NAD83UTM18_NAVD88_1m_SErr_cog_crop.tif\n",
      "(25542,) (28132,) (1, 25542, 28132)\n",
      "(28132,) (25542,) (25542, 28132)\n",
      "C:/crs/proj/2019_DorianOBX/Dorian_paper_analyses/cropped_std_err/20191011_Ocracoke_Inlet_to_Cape_Lookout_RuPaReX2_FitAddl_4D_165_201910-202005_dense_NAD832011_UTM_18N_NAVD88m_1m_SErr_cog_crop.tif 20191011_Ocracoke_Inlet_to_Cape_Lookout_RuPaReX2_FitAddl_4D_165_201910-202005_dense_NAD832011_UTM_18N_NAVD88m_1m_SErr_cog_crop_rot.tif20191011_Ocracoke_Inlet_to_Cape_Lookout_RuPaReX2_FitAddl_4D_165_201910-202005_dense_NAD832011_UTM_18N_NAVD88m_1m_SErr_cog_crop.tif\n",
      "(25542,) (28132,) (1, 25542, 28132)\n",
      "(28132,) (25542,) (25542, 28132)\n",
      "C:/crs/proj/2019_DorianOBX/Dorian_paper_analyses/cropped_std_err/20191126_Ocracoke_Inlet_to_Cape_Lookout_RuPaReX2_FitAddl_4D_165_201910-202005_dense_NAD832011_UTM_18N_NAVD88m_1m_SErr_cog_crop.tif 20191126_Ocracoke_Inlet_to_Cape_Lookout_RuPaReX2_FitAddl_4D_165_201910-202005_dense_NAD832011_UTM_18N_NAVD88m_1m_SErr_cog_crop_rot.tif20191126_Ocracoke_Inlet_to_Cape_Lookout_RuPaReX2_FitAddl_4D_165_201910-202005_dense_NAD832011_UTM_18N_NAVD88m_1m_SErr_cog_crop.tif\n",
      "(25542,) (28132,) (1, 25542, 28132)\n",
      "(28132,) (25542,) (25542, 28132)\n",
      "C:/crs/proj/2019_DorianOBX/Dorian_paper_analyses/cropped_std_err/20200208-9_Ocracoke_Inlet_to_Cape_Lookout_RuPaReX2_FitAddl_4D_165_201910-202005_dense_NAD832011_UTM_18N_NAVD88m_1m_SErr_cog_crop.tif 20200208-9_Ocracoke_Inlet_to_Cape_Lookout_RuPaReX2_FitAddl_4D_165_201910-202005_dense_NAD832011_UTM_18N_NAVD88m_1m_SErr_cog_crop_rot.tif20200208-9_Ocracoke_Inlet_to_Cape_Lookout_RuPaReX2_FitAddl_4D_165_201910-202005_dense_NAD832011_UTM_18N_NAVD88m_1m_SErr_cog_crop.tif\n",
      "(25542,) (28132,) (1, 25542, 28132)\n",
      "(28132,) (25542,) (25542, 28132)\n",
      "C:/crs/proj/2019_DorianOBX/Dorian_paper_analyses/cropped_std_err/20200508-9_Ocracoke_Inlet_to_Cape_Lookout_RuPaReX2_FitAddl_4D_165_201910-202005_dense_NAD832011_UTM_18N_NAVD88m_1m_SErr_cog_crop.tif 20200508-9_Ocracoke_Inlet_to_Cape_Lookout_RuPaReX2_FitAddl_4D_165_201910-202005_dense_NAD832011_UTM_18N_NAVD88m_1m_SErr_cog_crop_rot.tif20200508-9_Ocracoke_Inlet_to_Cape_Lookout_RuPaReX2_FitAddl_4D_165_201910-202005_dense_NAD832011_UTM_18N_NAVD88m_1m_SErr_cog_crop.tif\n",
      "(25542,) (28132,) (1, 25542, 28132)\n",
      "(28132,) (25542,) (25542, 28132)\n",
      "C:/crs/proj/2019_DorianOBX/Dorian_paper_analyses/cropped_std_err/20200802_Ocracoke_Inlet_to_Cape_Lookout_RuPaReX2_FitAddl_FloSup_4D_165_202008-202104_dense_NAD832011_UTM_18N_NAVD88m_1m_SErr_cog_crop.tif 20200802_Ocracoke_Inlet_to_Cape_Lookout_RuPaReX2_FitAddl_FloSup_4D_165_202008-202104_dense_NAD832011_UTM_18N_NAVD88m_1m_SErr_cog_crop_rot.tif20200802_Ocracoke_Inlet_to_Cape_Lookout_RuPaReX2_FitAddl_FloSup_4D_165_202008-202104_dense_NAD832011_UTM_18N_NAVD88m_1m_SErr_cog_crop.tif\n",
      "(25542,) (28132,) (1, 25542, 28132)\n",
      "(28132,) (25542,) (25542, 28132)\n",
      "C:/crs/proj/2019_DorianOBX/Dorian_paper_analyses/cropped_std_err/20200805-8_Ocracoke_Inlet_to_Cape_Lookout_RuPaReX2_FitAddl_FloSup_4D_165_202008-202104_dense_NAD832011_UTM_18N_NAVD88m_1m_SErr_cog_crop.tif 20200805-8_Ocracoke_Inlet_to_Cape_Lookout_RuPaReX2_FitAddl_FloSup_4D_165_202008-202104_dense_NAD832011_UTM_18N_NAVD88m_1m_SErr_cog_crop_rot.tif20200805-8_Ocracoke_Inlet_to_Cape_Lookout_RuPaReX2_FitAddl_FloSup_4D_165_202008-202104_dense_NAD832011_UTM_18N_NAVD88m_1m_SErr_cog_crop.tif\n",
      "(25542,) (28132,) (1, 25542, 28132)\n",
      "(28132,) (25542,) (25542, 28132)\n",
      "C:/crs/proj/2019_DorianOBX/Dorian_paper_analyses/cropped_std_err/20200928_Ocracoke_Inlet_to_Cape_Lookout_RuPaReX2_FitAddl_FloSup_4D_165_202008-202104_dense_NAD832011_UTM_18N_NAVD88m_1m_SErr_cog_crop.tif 20200928_Ocracoke_Inlet_to_Cape_Lookout_RuPaReX2_FitAddl_FloSup_4D_165_202008-202104_dense_NAD832011_UTM_18N_NAVD88m_1m_SErr_cog_crop_rot.tif20200928_Ocracoke_Inlet_to_Cape_Lookout_RuPaReX2_FitAddl_FloSup_4D_165_202008-202104_dense_NAD832011_UTM_18N_NAVD88m_1m_SErr_cog_crop.tif\n",
      "(25542,) (28132,) (1, 25542, 28132)\n",
      "(28132,) (25542,) (25542, 28132)\n",
      "C:/crs/proj/2019_DorianOBX/Dorian_paper_analyses/cropped_std_err/20210430_Ocracoke_Inlet_to_Cape_Lookout_RuPaReX2_FitAddl_FloSup_4D_165_202008-202104_dense_NAD832011_UTM_18N_NAVD88m_1m_SErr_cog_crop.tif 20210430_Ocracoke_Inlet_to_Cape_Lookout_RuPaReX2_FitAddl_FloSup_4D_165_202008-202104_dense_NAD832011_UTM_18N_NAVD88m_1m_SErr_cog_crop_rot.tif20210430_Ocracoke_Inlet_to_Cape_Lookout_RuPaReX2_FitAddl_FloSup_4D_165_202008-202104_dense_NAD832011_UTM_18N_NAVD88m_1m_SErr_cog_crop.tif\n",
      "(25542,) (28132,) (1, 25542, 28132)\n",
      "(28132,) (25542,) (25542, 28132)\n",
      "Saved to C:/crs/proj/2019_DorianOBX/Dorian_paper_analyses/rotated_dems/ncorebx_refac_stderr.nc\n",
      "Wall time: 5min 1s\n"
     ]
    }
   ],
   "source": [
    "%%time\n",
    "# optional median-filter smoothing of original maps\n",
    "smooth = False\n",
    "# kernal size...this should be an odd number >= dxy/0.1\n",
    "ksize = 3\n",
    "\n",
    "dslist=[]\n",
    "for i, src_file in enumerate(src_fnames):\n",
    "    crop_file = src_file.replace('.tif','_crop.tif')\n",
    "    rot_file = crop_file.replace('.tif','_rot.tif')\n",
    "    crop_path = crop_dir+crop_file\n",
    "    rot_path = rot_file+crop_file\n",
    "    print(crop_path, rot_path)\n",
    "    iswarned = False\n",
    "\n",
    "    # The \"masked\" option puts in NaNs, but takes longer.\n",
    "    da = rioxarray.open_rasterio( crop_path, masked=True )\n",
    "\n",
    "    print( np.shape(np.flipud(da['y'].values)), np.shape(da['x'].values), np.shape( np.flipud(da.values)) )\n",
    "    x = da['x'].values\n",
    "    y = np.flipud(da['y'].values)\n",
    "\n",
    "    # Not sure how da.values got a singleton dimension, but squeeze gets rid of it.\n",
    "    # However, make sure to squeeze before flipping\n",
    "    z = np.flipud(np.squeeze(da.values))\n",
    "    print(np.shape(x),np.shape(y),np.shape(z))\n",
    "\n",
    "    if(smooth):\n",
    "        # smooth with 2D running median\n",
    "        zs = signal.medfilt2d(z, kernel_size=ksize)\n",
    "    else:\n",
    "        zs = z\n",
    "\n",
    "    f = interpolate.RegularGridInterpolator( (y, x), zs, method='nearest')   \n",
    "\n",
    "    # Array for interpolated elevations\n",
    "    zi=np.NaN*np.ones((ny,nx))\n",
    "        \n",
    "    # this is the fast iteration, which only works when all of the source points fall inside the target box\n",
    "    try:\n",
    "        zi=f((yu,xu))\n",
    "\n",
    "    # this is a slow iteration through all of the points, but allows us to skip ones that are outside\n",
    "    except:\n",
    "        if(not iswarned):\n",
    "            print(\"Warning: using slow iteration.\")\n",
    "            iswarned = True\n",
    "\n",
    "        for ij in np.ndindex(zi.shape):\n",
    "            try:\n",
    "                zi[ij]=f((yu[ij],xu[ij]))\n",
    "            except:\n",
    "                zi[ij]=np.NaN\n",
    "\n",
    "    #dar = xr.DataArray(zi,dims=['Alongshore','Cross-shore'],coords={'Alongshore': ycoords, 'Cross-shore':xcoords })\n",
    "    dar = xr.DataArray(zi,dims=['Cross-shore','Alongshore'],coords={'Cross-shore': ycoords, 'Alongshore' :xcoords })\n",
    "\n",
    "    dar = dar.chunk()\n",
    "    dslist.append(dar)\n",
    "\n",
    "dsa = xr.concat(dslist, dim='map')\n",
    "fn = rot_dir+r['name']+'_stderr.nc'\n",
    "dsa.to_netcdf(fn)\n",
    "print('Saved to '+fn)"
   ]
  }
 ],
 "metadata": {
  "kernelspec": {
   "display_name": "Python 3 (ipykernel)",
   "language": "python",
   "name": "python3"
  },
  "language_info": {
   "codemirror_mode": {
    "name": "ipython",
    "version": 3
   },
   "file_extension": ".py",
   "mimetype": "text/x-python",
   "name": "python",
   "nbconvert_exporter": "python",
   "pygments_lexer": "ipython3",
   "version": "3.9.7"
  }
 },
 "nbformat": 4,
 "nbformat_minor": 2
}
