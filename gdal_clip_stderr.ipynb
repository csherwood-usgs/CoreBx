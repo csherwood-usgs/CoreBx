{
 "cells": [
  {
   "cell_type": "code",
   "execution_count": 1,
   "id": "db0858f5",
   "metadata": {},
   "outputs": [
    {
     "name": "stdout",
     "output_type": "stream",
     "text": [
      "Driver: GTiff/GeoTIFF\n",
      "Files: C:/crs/proj/2021_FloSupp_Release/clipfest/std_err/20190830_Ocracoke_Inlet_to_Ophelia_Inlet_NAD83UTM18_NAVD88_1m_SErr_cog.tif\n",
      "Size is 27617, 24245\n",
      "Coordinate System is:\n",
      "PROJCRS[\"NAD83(2011) / UTM zone 18N\",\n",
      "    BASEGEOGCRS[\"NAD83(2011)\",\n",
      "        DATUM[\"NAD83 (National Spatial Reference System 2011)\",\n",
      "            ELLIPSOID[\"GRS 1980\",6378137,298.257222101,\n",
      "                LENGTHUNIT[\"metre\",1]]],\n",
      "        PRIMEM[\"Greenwich\",0,\n",
      "            ANGLEUNIT[\"degree\",0.0174532925199433]],\n",
      "        ID[\"EPSG\",6318]],\n",
      "    CONVERSION[\"UTM zone 18N\",\n",
      "        METHOD[\"Transverse Mercator\",\n",
      "            ID[\"EPSG\",9807]],\n",
      "        PARAMETER[\"Latitude of natural origin\",0,\n",
      "            ANGLEUNIT[\"degree\",0.0174532925199433],\n",
      "            ID[\"EPSG\",8801]],\n",
      "        PARAMETER[\"Longitude of natural origin\",-75,\n",
      "            ANGLEUNIT[\"degree\",0.0174532925199433],\n",
      "            ID[\"EPSG\",8802]],\n",
      "        PARAMETER[\"Scale factor at natural origin\",0.9996,\n",
      "            SCALEUNIT[\"unity\",1],\n",
      "            ID[\"EPSG\",8805]],\n",
      "        PARAMETER[\"False easting\",500000,\n",
      "            LENGTHUNIT[\"metre\",1],\n",
      "            ID[\"EPSG\",8806]],\n",
      "        PARAMETER[\"False northing\",0,\n",
      "            LENGTHUNIT[\"metre\",1],\n",
      "            ID[\"EPSG\",8807]]],\n",
      "    CS[Cartesian,2],\n",
      "        AXIS[\"(E)\",east,\n",
      "            ORDER[1],\n",
      "            LENGTHUNIT[\"metre\",1]],\n",
      "        AXIS[\"(N)\",north,\n",
      "            ORDER[2],\n",
      "            LENGTHUNIT[\"metre\",1]],\n",
      "    USAGE[\n",
      "        SCOPE[\"Engineering survey, topographic mapping.\"],\n",
      "        AREA[\"United States (USA) - between 78°W and 72°W onshore and offshore - Connecticut; Delaware; Maryland; Massachusetts; New Hampshire; New Jersey; New York; North Carolina; Pennsylvania; Virginia; Vermont.\"],\n",
      "        BBOX[28.28,-78,45.03,-72]],\n",
      "    ID[\"EPSG\",6347]]\n",
      "Data axis to CRS axis mapping: 1,2\n",
      "Origin = (377702.000000000000000,3880461.000000000000000)\n",
      "Pixel Size = (1.000000000000000,-1.000000000000000)\n",
      "Metadata:\n",
      "  AREA_OR_POINT=Area\n",
      "Image Structure Metadata:\n",
      "  COMPRESSION=DEFLATE\n",
      "  INTERLEAVE=BAND\n",
      "  LAYOUT=COG\n",
      "  PREDICTOR=3\n",
      "Corner Coordinates:\n",
      "Upper Left  (  377702.000, 3880461.000) ( 76d20'28.16\"W, 35d 3'34.11\"N)\n",
      "Lower Left  (  377702.000, 3856216.000) ( 76d20'15.36\"W, 34d50'27.26\"N)\n",
      "Upper Right (  405319.000, 3880461.000) ( 76d 2'18.06\"W, 35d 3'44.81\"N)\n",
      "Lower Right (  405319.000, 3856216.000) ( 76d 2' 8.15\"W, 34d50'37.87\"N)\n",
      "Center      (  391510.500, 3868338.500) ( 76d11'17.44\"W, 34d57' 6.35\"N)\n",
      "Band 1 Block=256x256 Type=Float32, ColorInterp=Gray\n",
      "  Min=0.000 Max=6.033 \n",
      "  Minimum=0.000, Maximum=6.033, Mean=0.007, StdDev=0.015\n",
      "  NoData Value=3.4028234663852886e+38\n",
      "  Overviews: 13808x12122, 6904x6061, 3452x3030, 1726x1515, 863x757, 431x378, 215x189\n",
      "  Metadata:\n",
      "    STATISTICS_MAXIMUM=6.0330348014832\n",
      "    STATISTICS_MEAN=0.0067403789983751\n",
      "    STATISTICS_MINIMUM=0\n",
      "    STATISTICS_STDDEV=0.014871162268361\n",
      "    STATISTICS_VALID_PERCENT=3.496\n",
      "\n"
     ]
    }
   ],
   "source": [
    "from osgeo import gdal\n",
    "import numpy as np\n",
    "f = 'C:/crs/proj/2021_FloSupp_Release/clipfest/std_err/20190830_Ocracoke_Inlet_to_Ophelia_Inlet_NAD83UTM18_NAVD88_1m_SErr_cog.tif'\n",
    "\n",
    "ds = gdal.Open(f)\n",
    "projection = ds.GetProjectionRef()\n",
    "#print(projection)\n",
    "info =gdal.Info(ds)\n",
    "print(info)"
   ]
  },
  {
   "cell_type": "code",
   "execution_count": 2,
   "id": "01790840",
   "metadata": {},
   "outputs": [
    {
     "name": "stdout",
     "output_type": "stream",
     "text": [
      "[[ 405614.07999221 3880163.30413921]\n",
      " [ 404611.05321328 3881277.2782326 ]\n",
      " [ 377487.01022818 3856854.68023111]\n",
      " [ 378490.03700711 3855740.70613772]]\n",
      "(4, 2)\n",
      "ulx, uly 377485.00, 3881280.00\n",
      "lrx, lry 405617.00, 3855738.00\n",
      "width, height 28132.00, 25542.00\n"
     ]
    }
   ],
   "source": [
    "boxfn = 'ncorebx_refac.csv'\n",
    "import pandas as pd\n",
    "box = pd.read_csv(boxfn).values\n",
    "print(box)\n",
    "print(np.shape(box))\n",
    "ulx = np.floor( box[2,0] )-2.\n",
    "uly = np.ceil( box[1,1] )+2.\n",
    "lrx = np.ceil( box[0,0] )+2.\n",
    "lry = np.floor( box[3,1] )-2.\n",
    "width = lrx-ulx\n",
    "height = uly - lry\n",
    "print('ulx, uly {:.2f}, {:.2f}'.format(ulx,uly))\n",
    "print('lrx, lry {:.2f}, {:.2f}'.format(lrx,lry))\n",
    "print('width, height {:.2f}, {:.2f}'.format(width, height))"
   ]
  },
  {
   "cell_type": "code",
   "execution_count": 5,
   "id": "d71308cd",
   "metadata": {},
   "outputs": [],
   "source": [
    "projwin = [ulx, uly, lrx, lry]\n",
    "transOptions = gdal.TranslateOptions(format=\"GTiff\",projWin=projwin,strict=True)\n",
    "# print(transOptions)\n",
    "dsc = gdal.Translate('clipped.tif',ds,options=transOptions)\n",
    "info = gdal.Info('clipped.tif')\n",
    "print(info)\n",
    "dsc = None"
   ]
  },
  {
   "cell_type": "code",
   "execution_count": null,
   "id": "9ee852ef",
   "metadata": {},
   "outputs": [],
   "source": []
  }
 ],
 "metadata": {
  "kernelspec": {
   "display_name": "Python 3 (ipykernel)",
   "language": "python",
   "name": "python3"
  },
  "language_info": {
   "codemirror_mode": {
    "name": "ipython",
    "version": 3
   },
   "file_extension": ".py",
   "mimetype": "text/x-python",
   "name": "python",
   "nbconvert_exporter": "python",
   "pygments_lexer": "ipython3",
   "version": "3.9.7"
  }
 },
 "nbformat": 4,
 "nbformat_minor": 5
}
