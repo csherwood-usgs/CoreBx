{
 "cells": [
  {
   "cell_type": "code",
   "execution_count": 25,
   "id": "db0858f5",
   "metadata": {},
   "outputs": [
    {
     "name": "stdout",
     "output_type": "stream",
     "text": [
      "PROJCS[\"NAD83(2011) / UTM zone 18N\",GEOGCS[\"NAD83(2011)\",DATUM[\"NAD83_National_Spatial_Reference_System_2011\",SPHEROID[\"GRS 1980\",6378137,298.257222101,AUTHORITY[\"EPSG\",\"7019\"]],AUTHORITY[\"EPSG\",\"1116\"]],PRIMEM[\"Greenwich\",0,AUTHORITY[\"EPSG\",\"8901\"]],UNIT[\"degree\",0.0174532925199433,AUTHORITY[\"EPSG\",\"9122\"]],AUTHORITY[\"EPSG\",\"6318\"]],PROJECTION[\"Transverse_Mercator\"],PARAMETER[\"latitude_of_origin\",0],PARAMETER[\"central_meridian\",-75],PARAMETER[\"scale_factor\",0.9996],PARAMETER[\"false_easting\",500000],PARAMETER[\"false_northing\",0],UNIT[\"metre\",1,AUTHORITY[\"EPSG\",\"9001\"]],AXIS[\"Easting\",EAST],AXIS[\"Northing\",NORTH],AUTHORITY[\"EPSG\",\"6347\"]]\n",
      "(<osgeo.gdal.GDALTranslateOptions; proxy of <Swig Object of type 'GDALTranslateOptions *' at 0x00000239408DE8D0> >, None, None)\n"
     ]
    },
    {
     "data": {
      "text/plain": [
       "<osgeo.gdal.Dataset; proxy of <Swig Object of type 'GDALDatasetShadow *' at 0x0000023940403270> >"
      ]
     },
     "execution_count": 25,
     "metadata": {},
     "output_type": "execute_result"
    }
   ],
   "source": [
    "from osgeo import gdal\n",
    "import numpy as np\n",
    "f = 'C:/crs/proj/2021_FloSupp_Release/clipfest/std_err/20190830_Ocracoke_Inlet_to_Ophelia_Inlet_NAD83UTM18_NAVD88_1m_SErr_cog.tif'\n",
    "\n",
    "ds = gdal.Open(f)\n",
    "projection = ds.GetProjectionRef()\n",
    "print(projection)\n",
    "\n",
    "srcwin = [405610,3881277,1498,36498] # upperlef x,y,width, height\n",
    "transOptions = gdal.TranslateOptions(format=\"GTiff\",srcWin=srcwin)\n",
    "print(transOptions)\n",
    "gdal.Translate('clipped.tif',ds,options=transOptions)"
   ]
  },
  {
   "cell_type": "code",
   "execution_count": 48,
   "id": "01790840",
   "metadata": {},
   "outputs": [
    {
     "name": "stdout",
     "output_type": "stream",
     "text": [
      "[[ 405614.07999221 3880163.30413921]\n",
      " [ 404611.05321328 3881277.2782326 ]\n",
      " [ 377487.01022818 3856854.68023111]\n",
      " [ 378490.03700711 3855740.70613772]]\n",
      "(4, 2)\n",
      "ulx, uly 377485.00, 3881280.00\n",
      "lrx, lry 405617.00, 3855738.00\n",
      "width, height 28132.00, 25542.00\n"
     ]
    }
   ],
   "source": [
    "boxfn = 'ncorebx_refac.csv'\n",
    "import pandas as pd\n",
    "box = pd.read_csv(boxfn).values\n",
    "print(box)\n",
    "print(np.shape(box))\n",
    "ulx = np.floor( box[2,0] )-2.\n",
    "uly = np.ceil( box[1,1] )+2.\n",
    "lrx = np.ceil( box[0,0] )+2.\n",
    "lry = np.floor( box[3,1] )-2.\n",
    "width = lrx-ulx\n",
    "height = uly - lry\n",
    "print('ulx, uly {:.2f}, {:.2f}'.format(ulx,uly))\n",
    "print('lrx, lry {:.2f}, {:.2f}'.format(lrx,lry))\n",
    "print('width, height {:.2f}, {:.2f}'.format(width, height))"
   ]
  },
  {
   "cell_type": "code",
   "execution_count": 49,
   "id": "d71308cd",
   "metadata": {},
   "outputs": [
    {
     "name": "stdout",
     "output_type": "stream",
     "text": [
      "(<osgeo.gdal.GDALTranslateOptions; proxy of <Swig Object of type 'GDALTranslateOptions *' at 0x00000239508E5DB0> >, None, None)\n"
     ]
    },
    {
     "data": {
      "text/plain": [
       "<osgeo.gdal.Dataset; proxy of <Swig Object of type 'GDALDatasetShadow *' at 0x0000023940768DE0> >"
      ]
     },
     "execution_count": 49,
     "metadata": {},
     "output_type": "execute_result"
    }
   ],
   "source": [
    "srcwin = [ulx, uly, width, height] # upperlef x,y,width, height\n",
    "transOptions = gdal.TranslateOptions(format=\"GTiff\",srcWin=srcwin)\n",
    "print(transOptions)\n",
    "gdal.Translate('clipped.tif',ds,options=transOptions)"
   ]
  },
  {
   "cell_type": "code",
   "execution_count": 50,
   "id": "926e3f26",
   "metadata": {},
   "outputs": [
    {
     "name": "stdout",
     "output_type": "stream",
     "text": [
      "Driver: GTiff/GeoTIFF\n",
      "Files: clipped.tif\n",
      "Size is 28132, 25542\n",
      "Coordinate System is:\n",
      "PROJCRS[\"NAD83(2011) / UTM zone 18N\",\n",
      "    BASEGEOGCRS[\"NAD83(2011)\",\n",
      "        DATUM[\"NAD83 (National Spatial Reference System 2011)\",\n",
      "            ELLIPSOID[\"GRS 1980\",6378137,298.257222101,\n",
      "                LENGTHUNIT[\"metre\",1]]],\n",
      "        PRIMEM[\"Greenwich\",0,\n",
      "            ANGLEUNIT[\"degree\",0.0174532925199433]],\n",
      "        ID[\"EPSG\",6318]],\n",
      "    CONVERSION[\"UTM zone 18N\",\n",
      "        METHOD[\"Transverse Mercator\",\n",
      "            ID[\"EPSG\",9807]],\n",
      "        PARAMETER[\"Latitude of natural origin\",0,\n",
      "            ANGLEUNIT[\"degree\",0.0174532925199433],\n",
      "            ID[\"EPSG\",8801]],\n",
      "        PARAMETER[\"Longitude of natural origin\",-75,\n",
      "            ANGLEUNIT[\"degree\",0.0174532925199433],\n",
      "            ID[\"EPSG\",8802]],\n",
      "        PARAMETER[\"Scale factor at natural origin\",0.9996,\n",
      "            SCALEUNIT[\"unity\",1],\n",
      "            ID[\"EPSG\",8805]],\n",
      "        PARAMETER[\"False easting\",500000,\n",
      "            LENGTHUNIT[\"metre\",1],\n",
      "            ID[\"EPSG\",8806]],\n",
      "        PARAMETER[\"False northing\",0,\n",
      "            LENGTHUNIT[\"metre\",1],\n",
      "            ID[\"EPSG\",8807]]],\n",
      "    CS[Cartesian,2],\n",
      "        AXIS[\"(E)\",east,\n",
      "            ORDER[1],\n",
      "            LENGTHUNIT[\"metre\",1]],\n",
      "        AXIS[\"(N)\",north,\n",
      "            ORDER[2],\n",
      "            LENGTHUNIT[\"metre\",1]],\n",
      "    USAGE[\n",
      "        SCOPE[\"Engineering survey, topographic mapping.\"],\n",
      "        AREA[\"United States (USA) - between 78°W and 72°W onshore and offshore - Connecticut; Delaware; Maryland; Massachusetts; New Hampshire; New Jersey; New York; North Carolina; Pennsylvania; Virginia; Vermont.\"],\n",
      "        BBOX[28.28,-78,45.03,-72]],\n",
      "    ID[\"EPSG\",6347]]\n",
      "Data axis to CRS axis mapping: 1,2\n",
      "Origin = (755187.000000000000000,-819.000000000000000)\n",
      "Pixel Size = (1.000000000000000,-1.000000000000000)\n",
      "Metadata:\n",
      "  AREA_OR_POINT=Area\n",
      "Image Structure Metadata:\n",
      "  INTERLEAVE=BAND\n",
      "Corner Coordinates:\n",
      "Upper Left  (  755187.000,    -819.000) ( 72d42'26.33\"W,  0d 0'26.65\"S)\n",
      "Lower Left  (  755187.000,  -26361.000) ( 72d42'26.26\"W,  0d14'17.89\"S)\n",
      "Upper Right (  783319.000,    -819.000) ( 72d27'17.02\"W,  0d 0'26.65\"S)\n",
      "Lower Right (  783319.000,  -26361.000) ( 72d27'16.94\"W,  0d14'17.73\"S)\n",
      "Center      (  769253.000,  -13590.000) ( 72d34'51.63\"W,  0d 7'22.23\"S)\n",
      "Band 1 Block=28132x1 Type=Float32, ColorInterp=Gray\n",
      "  NoData Value=3.4028234663852886e+38\n",
      "\n"
     ]
    }
   ],
   "source": [
    "info =gdal.Info('clipped.tif')\n",
    "print(info)"
   ]
  },
  {
   "cell_type": "code",
   "execution_count": 1,
   "id": "9ee852ef",
   "metadata": {},
   "outputs": [
    {
     "ename": "ValueError",
     "evalue": "Received a NULL pointer.",
     "output_type": "error",
     "traceback": [
      "\u001b[1;31m---------------------------------------------------------------------------\u001b[0m",
      "\u001b[1;31mValueError\u001b[0m                                Traceback (most recent call last)",
      "\u001b[1;32mC:\\Users\\CSHERW~1\\AppData\\Local\\Temp\\3/ipykernel_23800/3397637110.py\u001b[0m in \u001b[0;36m<module>\u001b[1;34m\u001b[0m\n\u001b[0;32m      2\u001b[0m \u001b[1;33m\u001b[0m\u001b[0m\n\u001b[0;32m      3\u001b[0m \u001b[0mds\u001b[0m \u001b[1;33m=\u001b[0m \u001b[0mgdal\u001b[0m\u001b[1;33m.\u001b[0m\u001b[0mOpen\u001b[0m\u001b[1;33m(\u001b[0m\u001b[1;34m'original.tif'\u001b[0m\u001b[1;33m)\u001b[0m\u001b[1;33m\u001b[0m\u001b[1;33m\u001b[0m\u001b[0m\n\u001b[1;32m----> 4\u001b[1;33m \u001b[0mds\u001b[0m \u001b[1;33m=\u001b[0m \u001b[0mgdal\u001b[0m\u001b[1;33m.\u001b[0m\u001b[0mTranslate\u001b[0m\u001b[1;33m(\u001b[0m\u001b[1;34m'new.tif'\u001b[0m\u001b[1;33m,\u001b[0m \u001b[0mds\u001b[0m\u001b[1;33m,\u001b[0m \u001b[0mprojWin\u001b[0m \u001b[1;33m=\u001b[0m \u001b[1;33m[\u001b[0m\u001b[1;33m-\u001b[0m\u001b[1;36m75.3\u001b[0m\u001b[1;33m,\u001b[0m \u001b[1;36m5.5\u001b[0m\u001b[1;33m,\u001b[0m \u001b[1;33m-\u001b[0m\u001b[1;36m73.5\u001b[0m\u001b[1;33m,\u001b[0m \u001b[1;36m3.7\u001b[0m\u001b[1;33m]\u001b[0m\u001b[1;33m)\u001b[0m\u001b[1;33m\u001b[0m\u001b[1;33m\u001b[0m\u001b[0m\n\u001b[0m\u001b[0;32m      5\u001b[0m \u001b[0mds\u001b[0m \u001b[1;33m=\u001b[0m \u001b[1;32mNone\u001b[0m\u001b[1;33m\u001b[0m\u001b[1;33m\u001b[0m\u001b[0m\n",
      "\u001b[1;32m~\\Anaconda3\\envs\\CRS\\lib\\site-packages\\osgeo\\gdal.py\u001b[0m in \u001b[0;36mTranslate\u001b[1;34m(destName, srcDS, **kwargs)\u001b[0m\n\u001b[0;32m    489\u001b[0m         \u001b[0msrcDS\u001b[0m \u001b[1;33m=\u001b[0m \u001b[0mOpen\u001b[0m\u001b[1;33m(\u001b[0m\u001b[0msrcDS\u001b[0m\u001b[1;33m)\u001b[0m\u001b[1;33m\u001b[0m\u001b[1;33m\u001b[0m\u001b[0m\n\u001b[0;32m    490\u001b[0m \u001b[1;33m\u001b[0m\u001b[0m\n\u001b[1;32m--> 491\u001b[1;33m     \u001b[1;32mreturn\u001b[0m \u001b[0mTranslateInternal\u001b[0m\u001b[1;33m(\u001b[0m\u001b[0mdestName\u001b[0m\u001b[1;33m,\u001b[0m \u001b[0msrcDS\u001b[0m\u001b[1;33m,\u001b[0m \u001b[0mopts\u001b[0m\u001b[1;33m,\u001b[0m \u001b[0mcallback\u001b[0m\u001b[1;33m,\u001b[0m \u001b[0mcallback_data\u001b[0m\u001b[1;33m)\u001b[0m\u001b[1;33m\u001b[0m\u001b[1;33m\u001b[0m\u001b[0m\n\u001b[0m\u001b[0;32m    492\u001b[0m \u001b[1;33m\u001b[0m\u001b[0m\n\u001b[0;32m    493\u001b[0m def WarpOptions(options=None, format=None,\n",
      "\u001b[1;32m~\\Anaconda3\\envs\\CRS\\lib\\site-packages\\osgeo\\gdal.py\u001b[0m in \u001b[0;36mTranslateInternal\u001b[1;34m(*args)\u001b[0m\n\u001b[0;32m   4672\u001b[0m \u001b[1;32mdef\u001b[0m \u001b[0mTranslateInternal\u001b[0m\u001b[1;33m(\u001b[0m\u001b[1;33m*\u001b[0m\u001b[0margs\u001b[0m\u001b[1;33m)\u001b[0m\u001b[1;33m:\u001b[0m\u001b[1;33m\u001b[0m\u001b[1;33m\u001b[0m\u001b[0m\n\u001b[0;32m   4673\u001b[0m     \u001b[1;34m\"\"\"TranslateInternal(char const * dest, Dataset dataset, GDALTranslateOptions translateOptions, GDALProgressFunc callback=0, void * callback_data=None) -> Dataset\"\"\"\u001b[0m\u001b[1;33m\u001b[0m\u001b[1;33m\u001b[0m\u001b[0m\n\u001b[1;32m-> 4674\u001b[1;33m     \u001b[1;32mreturn\u001b[0m \u001b[0m_gdal\u001b[0m\u001b[1;33m.\u001b[0m\u001b[0mTranslateInternal\u001b[0m\u001b[1;33m(\u001b[0m\u001b[1;33m*\u001b[0m\u001b[0margs\u001b[0m\u001b[1;33m)\u001b[0m\u001b[1;33m\u001b[0m\u001b[1;33m\u001b[0m\u001b[0m\n\u001b[0m\u001b[0;32m   4675\u001b[0m \u001b[1;32mclass\u001b[0m \u001b[0mGDALWarpAppOptions\u001b[0m\u001b[1;33m(\u001b[0m\u001b[0m_object\u001b[0m\u001b[1;33m)\u001b[0m\u001b[1;33m:\u001b[0m\u001b[1;33m\u001b[0m\u001b[1;33m\u001b[0m\u001b[0m\n\u001b[0;32m   4676\u001b[0m     \u001b[1;34m\"\"\"Proxy of C++ GDALWarpAppOptions class.\"\"\"\u001b[0m\u001b[1;33m\u001b[0m\u001b[1;33m\u001b[0m\u001b[0m\n",
      "\u001b[1;31mValueError\u001b[0m: Received a NULL pointer."
     ]
    }
   ],
   "source": [
    "ds = gdal.Translate('new.tif', ds, projWin = [-75.3, 5.5, -73.5, 3.7])\n",
    "ds = None"
   ]
  }
 ],
 "metadata": {
  "kernelspec": {
   "display_name": "Python 3 (ipykernel)",
   "language": "python",
   "name": "python3"
  },
  "language_info": {
   "codemirror_mode": {
    "name": "ipython",
    "version": 3
   },
   "file_extension": ".py",
   "mimetype": "text/x-python",
   "name": "python",
   "nbconvert_exporter": "python",
   "pygments_lexer": "ipython3",
   "version": "3.9.7"
  }
 },
 "nbformat": 4,
 "nbformat_minor": 5
}
