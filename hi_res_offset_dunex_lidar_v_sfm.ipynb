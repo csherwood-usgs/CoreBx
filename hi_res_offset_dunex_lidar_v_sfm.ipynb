{
 "cells": [
  {
   "cell_type": "code",
   "execution_count": 2,
   "metadata": {},
   "outputs": [],
   "source": [
    "import pandas as pd\n",
    "import numpy as np\n",
    "from scipy.stats import linregress\n",
    "from scipy.signal import savgol_filter\n",
    "import matplotlib.pyplot as plt\n",
    "%matplotlib inline"
   ]
  },
  {
   "cell_type": "code",
   "execution_count": 13,
   "metadata": {},
   "outputs": [
    {
     "name": "stdout",
     "output_type": "stream",
     "text": [
      "mean sfm minus lidar 0.14645173745173745\n",
      "mean canopy minus ground 0.07325868725868727\n",
      "mean sfm minus canopy 0.07267177033492823\n"
     ]
    }
   ],
   "source": [
    "cols=['#feedde','#fdbe85','#fd8d3c','#e6550d','#a63603']\n",
    "\n",
    "\n",
    "fname = fdir = 'C:/crs/proj/2021_hi_res_grid/lidargnd_sfm_profile.csv'\n",
    "\n",
    "# The .csv profile files written by Global Mapper have some weird characters we want to get rid of.\n",
    "# Read in the file\n",
    "with open(fname, 'r') as f :\n",
    "  filedata = f.read()\n",
    "\n",
    "# Replace the target strings\n",
    "filedata = filedata.replace('%', '')\n",
    "# filedata = filedata.replace('-', '') # bad idea...removes minus signs\n",
    "\n",
    "# Write the file out again\n",
    "with open(fname, 'w') as f:\n",
    "  f.write(filedata)\n",
    "\n",
    "# read the profile\n",
    "df=pd.read_csv(fname,header = 0,delimiter=',')\n",
    "\n",
    "# extract a few columns with convenient names\n",
    "dist = df['Distance (Total)'].values\n",
    "zsfm = df['Elevation (2019-10-11_1m_DEM_4D_crop.tif)'].values\n",
    "zlidar = df['Elevation (2019_NCMP_PostDorian_CoBa_UTM18_gnd50_UTM18_1m_DSM_cog.tif)'].values\n",
    "zcanopy = df['Elevation (2019_NCMP_PostDorian_CoBa_UTM18_1st95_UTM18_1m_DSM_cog.tif)'].values\n",
    "zdiff = zsfm-zlidar\n",
    "df['zdiff']=zsfm-zlidar   \n",
    "vdiff = zcanopy-zlidar\n",
    "print(\"mean sfm minus lidar\", np.nanmean(zdiff))\n",
    "print(\"mean canopy minus ground\", np.nanmean(vdiff))\n",
    "print(\"mean sfm minus canopy\", np.nanmean(zsfm-zcanopy))"
   ]
  },
  {
   "cell_type": "code",
   "execution_count": 17,
   "metadata": {},
   "outputs": [
    {
     "name": "stdout",
     "output_type": "stream",
     "text": [
      "mean sfm minus lidar (corrected) 0.00045173745173753314\n",
      "mean canopy minus lidar (corrected) 0.00025868725868724134\n",
      "mean sfm minus canopy (corrected) -0.00032822966507167\n"
     ]
    }
   ],
   "source": [
    "print(\"mean sfm minus lidar (corrected)\", np.nanmean(zsfm-(zlidar+0.146)))\n",
    "print(\"mean canopy minus lidar (corrected)\", np.nanmean((zcanopy-0.073+0.146)-(zlidar+0.146)))\n",
    "print(\"mean sfm minus canopy (corrected)\", np.nanmean(zsfm-(zcanopy-0.073+0.146)))\n"
   ]
  }
 ],
 "metadata": {
  "kernelspec": {
   "display_name": "Python 3",
   "language": "python",
   "name": "python3"
  },
  "language_info": {
   "codemirror_mode": {
    "name": "ipython",
    "version": 3
   },
   "file_extension": ".py",
   "mimetype": "text/x-python",
   "name": "python",
   "nbconvert_exporter": "python",
   "pygments_lexer": "ipython3",
   "version": "3.7.6"
  }
 },
 "nbformat": 4,
 "nbformat_minor": 4
}
