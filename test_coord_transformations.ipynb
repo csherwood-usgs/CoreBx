{
 "cells": [
  {
   "cell_type": "code",
   "execution_count": 10,
   "metadata": {},
   "outputs": [
    {
     "name": "stdout",
     "output_type": "stream",
     "text": [
      "[378500.] [3856350.]\n",
      "[2861682.13027518] [2612560.61322292]\n",
      "[array([0.])] [array([0.])]\n"
     ]
    }
   ],
   "source": [
    "# Test coordinate rotation\n",
    "import numpy as np\n",
    "import matplotlib.pyplot as plt\n",
    "\n",
    "%matplotlib inline\n",
    "# define all of the functions by runnng this python file\n",
    "%run -i CoreBx_funcs\n",
    "\n",
    "# coordinates for the whole-island box.\n",
    "r = {'name':\"ncorebx\",\"e0\": 378500.,\"n0\": 3856350.,\"xlen\": 36000.,\"ylen\": 1100.,\"dxdy\": 1.,\"theta\": 42.}\n",
    "\n",
    "# Convert origin to UTM\n",
    "xu,yu = box2UTMh(0.,0.,r['e0'],r['n0'],r['theta'])\n",
    "print(xu,yu)\n",
    "\n",
    "# reverse the calc\n",
    "# to find the origin (UTM =0,0) in box coordinates, just to the rotation to see where Box = 0,0 falls\n",
    "xb0,yb0 = box2UTMh(xu,yu,0.,0.,-r['theta'])\n",
    "print(xb0,yb0)\n",
    "# then put in negative values for the offset\n",
    "xb,yb = box2UTMh(xu,yu,-xb0,-yb0,-r['theta'])\n",
    "print(xb,yb)"
   ]
  }
 ],
 "metadata": {
  "kernelspec": {
   "display_name": "Python 3",
   "language": "python",
   "name": "python3"
  },
  "language_info": {
   "codemirror_mode": {
    "name": "ipython",
    "version": 3
   },
   "file_extension": ".py",
   "mimetype": "text/x-python",
   "name": "python",
   "nbconvert_exporter": "python",
   "pygments_lexer": "ipython3",
   "version": "3.7.6"
  }
 },
 "nbformat": 4,
 "nbformat_minor": 4
}
